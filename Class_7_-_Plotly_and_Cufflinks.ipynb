{
 "cells": [
  {
   "cell_type": "markdown",
   "metadata": {},
   "source": [
    "Plotly is a library that allows you to create interactive plots that you can use in dashboards or websites (you can save them as html files or static images).\n",
    "\n",
    "## Installation\n",
    "\n",
    "In order for this all to work, you'll need to install plotly and cufflinks to call plots directly off of a pandas dataframe. These libraries are not currently available through **conda** but are available through **pip**. Install the libraries at your command line/terminal using:\n",
    "\n",
    "    pip install plotly\n",
    "    pip install cufflinks\n",
    "\n",
    "** NOTE: Make sure you only have one installation of Python on your computer when you do this, otherwise the installation may not work. **\n",
    "\n",
    "## Imports and Set-up"
   ]
  },
  {
   "cell_type": "code",
   "execution_count": 13,
   "metadata": {},
   "outputs": [],
   "source": [
    "import pandas as pd\n",
    "import numpy as np\n",
    "%matplotlib inline"
   ]
  },
  {
   "cell_type": "code",
   "execution_count": 14,
   "metadata": {},
   "outputs": [
    {
     "name": "stdout",
     "output_type": "stream",
     "text": [
      "5.1.0\n"
     ]
    }
   ],
   "source": [
    "from plotly import __version__\n",
    "from plotly.offline import download_plotlyjs, init_notebook_mode, plot, iplot\n",
    "\n",
    "print(__version__) # requires version >= 1.9.0"
   ]
  },
  {
   "cell_type": "code",
   "execution_count": 15,
   "metadata": {},
   "outputs": [],
   "source": [
    "import cufflinks as cf\n",
    "#used to connect pandas and plotly"
   ]
  },
  {
   "cell_type": "code",
   "execution_count": 16,
   "metadata": {},
   "outputs": [
    {
     "data": {
      "text/html": [
       "        <script type=\"text/javascript\">\n",
       "        window.PlotlyConfig = {MathJaxConfig: 'local'};\n",
       "        if (window.MathJax) {MathJax.Hub.Config({SVG: {font: \"STIX-Web\"}});}\n",
       "        if (typeof require !== 'undefined') {\n",
       "        require.undef(\"plotly\");\n",
       "        requirejs.config({\n",
       "            paths: {\n",
       "                'plotly': ['https://cdn.plot.ly/plotly-2.2.0.min']\n",
       "            }\n",
       "        });\n",
       "        require(['plotly'], function(Plotly) {\n",
       "            window._Plotly = Plotly;\n",
       "        });\n",
       "        }\n",
       "        </script>\n",
       "        "
      ]
     },
     "metadata": {},
     "output_type": "display_data"
    }
   ],
   "source": [
    "# For Notebooks\n",
    "init_notebook_mode(connected=True)"
   ]
  },
  {
   "cell_type": "code",
   "execution_count": 17,
   "metadata": {},
   "outputs": [
    {
     "data": {
      "text/html": [
       "        <script type=\"text/javascript\">\n",
       "        window.PlotlyConfig = {MathJaxConfig: 'local'};\n",
       "        if (window.MathJax) {MathJax.Hub.Config({SVG: {font: \"STIX-Web\"}});}\n",
       "        if (typeof require !== 'undefined') {\n",
       "        require.undef(\"plotly\");\n",
       "        requirejs.config({\n",
       "            paths: {\n",
       "                'plotly': ['https://cdn.plot.ly/plotly-2.2.0.min']\n",
       "            }\n",
       "        });\n",
       "        require(['plotly'], function(Plotly) {\n",
       "            window._Plotly = Plotly;\n",
       "        });\n",
       "        }\n",
       "        </script>\n",
       "        "
      ]
     },
     "metadata": {},
     "output_type": "display_data"
    }
   ],
   "source": [
    "# For offline use\n",
    "cf.go_offline()"
   ]
  },
  {
   "cell_type": "markdown",
   "metadata": {},
   "source": [
    "# FAKE DATA"
   ]
  },
  {
   "cell_type": "code",
   "execution_count": 18,
   "metadata": {},
   "outputs": [],
   "source": [
    "df = pd.DataFrame(np.random.randn(100,4),columns='A B C D'.split())"
   ]
  },
  {
   "cell_type": "code",
   "execution_count": 19,
   "metadata": {},
   "outputs": [
    {
     "data": {
      "text/html": [
       "<div>\n",
       "<style scoped>\n",
       "    .dataframe tbody tr th:only-of-type {\n",
       "        vertical-align: middle;\n",
       "    }\n",
       "\n",
       "    .dataframe tbody tr th {\n",
       "        vertical-align: top;\n",
       "    }\n",
       "\n",
       "    .dataframe thead th {\n",
       "        text-align: right;\n",
       "    }\n",
       "</style>\n",
       "<table border=\"1\" class=\"dataframe\">\n",
       "  <thead>\n",
       "    <tr style=\"text-align: right;\">\n",
       "      <th></th>\n",
       "      <th>A</th>\n",
       "      <th>B</th>\n",
       "      <th>C</th>\n",
       "      <th>D</th>\n",
       "    </tr>\n",
       "  </thead>\n",
       "  <tbody>\n",
       "    <tr>\n",
       "      <td>0</td>\n",
       "      <td>-1.011557</td>\n",
       "      <td>-0.339430</td>\n",
       "      <td>0.283012</td>\n",
       "      <td>0.391768</td>\n",
       "    </tr>\n",
       "    <tr>\n",
       "      <td>1</td>\n",
       "      <td>-1.622719</td>\n",
       "      <td>0.507069</td>\n",
       "      <td>1.232315</td>\n",
       "      <td>0.657367</td>\n",
       "    </tr>\n",
       "    <tr>\n",
       "      <td>2</td>\n",
       "      <td>0.207954</td>\n",
       "      <td>-0.188174</td>\n",
       "      <td>-0.763730</td>\n",
       "      <td>0.601461</td>\n",
       "    </tr>\n",
       "    <tr>\n",
       "      <td>3</td>\n",
       "      <td>0.974588</td>\n",
       "      <td>2.215113</td>\n",
       "      <td>0.865486</td>\n",
       "      <td>-2.059029</td>\n",
       "    </tr>\n",
       "    <tr>\n",
       "      <td>4</td>\n",
       "      <td>0.742283</td>\n",
       "      <td>0.481835</td>\n",
       "      <td>1.173811</td>\n",
       "      <td>-0.519086</td>\n",
       "    </tr>\n",
       "    <tr>\n",
       "      <td>...</td>\n",
       "      <td>...</td>\n",
       "      <td>...</td>\n",
       "      <td>...</td>\n",
       "      <td>...</td>\n",
       "    </tr>\n",
       "    <tr>\n",
       "      <td>95</td>\n",
       "      <td>0.538326</td>\n",
       "      <td>-1.047886</td>\n",
       "      <td>-0.123654</td>\n",
       "      <td>-1.040040</td>\n",
       "    </tr>\n",
       "    <tr>\n",
       "      <td>96</td>\n",
       "      <td>0.060771</td>\n",
       "      <td>-0.135486</td>\n",
       "      <td>-0.639907</td>\n",
       "      <td>0.493309</td>\n",
       "    </tr>\n",
       "    <tr>\n",
       "      <td>97</td>\n",
       "      <td>0.877731</td>\n",
       "      <td>-1.739476</td>\n",
       "      <td>-0.835517</td>\n",
       "      <td>-0.661903</td>\n",
       "    </tr>\n",
       "    <tr>\n",
       "      <td>98</td>\n",
       "      <td>0.632075</td>\n",
       "      <td>-0.226524</td>\n",
       "      <td>0.420062</td>\n",
       "      <td>0.717787</td>\n",
       "    </tr>\n",
       "    <tr>\n",
       "      <td>99</td>\n",
       "      <td>0.555744</td>\n",
       "      <td>-0.233297</td>\n",
       "      <td>0.733001</td>\n",
       "      <td>1.149593</td>\n",
       "    </tr>\n",
       "  </tbody>\n",
       "</table>\n",
       "<p>100 rows × 4 columns</p>\n",
       "</div>"
      ],
      "text/plain": [
       "           A         B         C         D\n",
       "0  -1.011557 -0.339430  0.283012  0.391768\n",
       "1  -1.622719  0.507069  1.232315  0.657367\n",
       "2   0.207954 -0.188174 -0.763730  0.601461\n",
       "3   0.974588  2.215113  0.865486 -2.059029\n",
       "4   0.742283  0.481835  1.173811 -0.519086\n",
       "..       ...       ...       ...       ...\n",
       "95  0.538326 -1.047886 -0.123654 -1.040040\n",
       "96  0.060771 -0.135486 -0.639907  0.493309\n",
       "97  0.877731 -1.739476 -0.835517 -0.661903\n",
       "98  0.632075 -0.226524  0.420062  0.717787\n",
       "99  0.555744 -0.233297  0.733001  1.149593\n",
       "\n",
       "[100 rows x 4 columns]"
      ]
     },
     "execution_count": 19,
     "metadata": {},
     "output_type": "execute_result"
    }
   ],
   "source": [
    "df"
   ]
  },
  {
   "cell_type": "code",
   "execution_count": 20,
   "metadata": {},
   "outputs": [],
   "source": [
    "df2 = pd.DataFrame({'Category':['A','B','C'],'Values':[32,43,50]})"
   ]
  },
  {
   "cell_type": "code",
   "execution_count": 21,
   "metadata": {},
   "outputs": [
    {
     "data": {
      "text/html": [
       "<div>\n",
       "<style scoped>\n",
       "    .dataframe tbody tr th:only-of-type {\n",
       "        vertical-align: middle;\n",
       "    }\n",
       "\n",
       "    .dataframe tbody tr th {\n",
       "        vertical-align: top;\n",
       "    }\n",
       "\n",
       "    .dataframe thead th {\n",
       "        text-align: right;\n",
       "    }\n",
       "</style>\n",
       "<table border=\"1\" class=\"dataframe\">\n",
       "  <thead>\n",
       "    <tr style=\"text-align: right;\">\n",
       "      <th></th>\n",
       "      <th>Category</th>\n",
       "      <th>Values</th>\n",
       "    </tr>\n",
       "  </thead>\n",
       "  <tbody>\n",
       "    <tr>\n",
       "      <td>0</td>\n",
       "      <td>A</td>\n",
       "      <td>32</td>\n",
       "    </tr>\n",
       "    <tr>\n",
       "      <td>1</td>\n",
       "      <td>B</td>\n",
       "      <td>43</td>\n",
       "    </tr>\n",
       "    <tr>\n",
       "      <td>2</td>\n",
       "      <td>C</td>\n",
       "      <td>50</td>\n",
       "    </tr>\n",
       "  </tbody>\n",
       "</table>\n",
       "</div>"
      ],
      "text/plain": [
       "  Category  Values\n",
       "0        A      32\n",
       "1        B      43\n",
       "2        C      50"
      ]
     },
     "execution_count": 21,
     "metadata": {},
     "output_type": "execute_result"
    }
   ],
   "source": [
    "df2"
   ]
  },
  {
   "cell_type": "markdown",
   "metadata": {},
   "source": [
    "## Using Cufflinks and iplot()\n",
    "\n",
    "* scatter\n",
    "* bar\n",
    "* box\n",
    "* spread\n",
    "* ratio\n",
    "* heatmap\n",
    "* surface\n",
    "* histogram\n",
    "* bubble"
   ]
  },
  {
   "cell_type": "code",
   "execution_count": 22,
   "metadata": {},
   "outputs": [
    {
     "data": {
      "application/vnd.plotly.v1+json": {
       "config": {
        "linkText": "Export to plot.ly",
        "plotlyServerURL": "https://plot.ly",
        "showLink": true
       },
       "data": [
        {
         "line": {
          "color": "rgba(255, 153, 51, 1.0)",
          "dash": "solid",
          "shape": "linear",
          "width": 1.3
         },
         "marker": {
          "size": 10,
          "symbol": "circle"
         },
         "mode": "markers",
         "name": "B",
         "text": "",
         "type": "scatter",
         "x": [
          -1.0115573653537022,
          -1.622719359753821,
          0.20795363443469267,
          0.9745876320751745,
          0.7422833564061795,
          -0.042401165799178055,
          0.17936420463101815,
          0.7576195218918347,
          0.21316654313532987,
          0.7679795642191072,
          -1.1302842288613202,
          -0.6510666688619364,
          -1.0616207712153163,
          -2.276408857060216,
          0.977136522653772,
          0.09475578794448508,
          1.0148046396050996,
          0.653601903508092,
          -0.19622542491937423,
          1.4583420822565434,
          2.38750758046521,
          -0.13507427527016228,
          0.010636496487790754,
          0.217146142278281,
          0.9448720578848665,
          -0.11309224370874747,
          -0.446607713381667,
          -0.3101691755545522,
          0.7144567212922127,
          -0.45049345323797213,
          -1.7889825091717626,
          0.11765610418303564,
          -0.5399845392615047,
          -0.8696050435152509,
          1.3926337077795534,
          0.3274167519653984,
          -1.5522163581120358,
          0.9805516132123173,
          1.2705083426074157,
          0.8166345208327359,
          -0.16854293908529142,
          0.5943039416170544,
          -0.3757765772396979,
          -0.009258327313187025,
          0.4243449650195232,
          -0.336825207503548,
          -0.765375070167616,
          -2.647957133478154,
          -0.3482773610274045,
          -0.28852201260671284,
          0.8992227843752005,
          1.3423581780808072,
          -2.048412015323995,
          1.1504199408870357,
          0.2332035840572407,
          2.4154644889108607,
          -0.2369123373919594,
          1.2262351155518958,
          0.9563011391771531,
          0.939180030223467,
          -0.8042832172489962,
          -0.2543816163973542,
          1.641630706662135,
          0.16127046105215087,
          -0.6447744763956,
          1.4935186936004894,
          -1.2134314357335172,
          1.183106758648288,
          -0.39644296768385257,
          0.37776886990359104,
          -0.29427131284723446,
          0.8743389586210287,
          0.031285085227025264,
          -0.06989108976029025,
          -0.9367588048141234,
          0.7228620118845075,
          -1.1902357981579998,
          -0.13268892227501583,
          0.4673485157073865,
          -0.0007244359582720907,
          0.7740076728549605,
          -0.02421422161722922,
          -0.8389691604603161,
          1.0490801914354329,
          0.9431650493540056,
          0.36911446256462815,
          -0.4220865416585798,
          -0.01053129380293419,
          -1.3689476264042595,
          0.7176350379025291,
          0.15386614772325471,
          -0.0838833355039482,
          -1.6728185035292356,
          0.3436325769247125,
          1.1748337873133803,
          0.5383255543531343,
          0.060771061107235826,
          0.877731397595693,
          0.6320745245504362,
          0.5557438627109933
         ],
         "y": [
          -0.3394303690465519,
          0.507068860824688,
          -0.18817414727192086,
          2.2151131319469806,
          0.48183520544880976,
          -0.10169143521661793,
          -1.1544207403244622,
          0.9172413047357265,
          0.12740014033922747,
          -0.24141207948511795,
          -1.1229017255863296,
          1.0432780201125806,
          0.766417649816338,
          -1.4450161970976214,
          1.3018587631799723,
          -0.07008976611170716,
          0.10072170019221652,
          -0.42656837759364874,
          -0.683413019799971,
          -0.9251319127611697,
          0.5133001472440608,
          0.36994749312271047,
          0.41435556599138446,
          -0.4841088719800775,
          0.02299520586798657,
          -1.0171469499992483,
          -0.012981457614264679,
          1.46726879093243,
          -0.9772339071760212,
          0.7689758994576449,
          -0.7894378912379033,
          -0.7986463833738618,
          -0.8197021497664688,
          -0.15449236736085747,
          -0.04619380942765571,
          -0.9924539634893045,
          -0.6224770793124413,
          0.6574177317611314,
          1.0543475284266737,
          1.403342555355355,
          -0.41352526242568305,
          0.29276407463759774,
          -0.5295602532408795,
          -0.4919718680730784,
          0.3584205702386439,
          -0.0990496297343441,
          0.8526314376213465,
          1.0104688146686258,
          1.2792823616186184,
          0.41534678973694716,
          -0.24776952611346453,
          0.47112497161659894,
          -1.5693469456956328,
          -1.8590369122307293,
          0.4240904862515488,
          -0.19858505538706647,
          0.07026510870920506,
          -0.5195746594284134,
          0.3800497297993289,
          -0.6062875895823837,
          1.0079974582433124,
          0.7486415921298065,
          0.8031883806087959,
          1.0642455991993767,
          -0.3908717891420928,
          0.39124704922195036,
          -0.11815506432510858,
          0.5876492614646739,
          0.4041796852380769,
          -1.5089406758911061,
          0.5209254178150052,
          0.9572156427899363,
          1.8236637517718415,
          -1.2137821199889378,
          -0.12727035063999126,
          -1.312982602365597,
          0.36859167964660056,
          -1.8739063384679977,
          0.45143493270016116,
          -0.5808424932868735,
          1.3765256238302206,
          -1.8645760241552203,
          1.6583726577171114,
          0.11402223595595345,
          -0.7280585865266095,
          0.714018505044853,
          1.1457266374772828,
          -0.18823314183821777,
          -1.0602515790075742,
          1.5200400451124947,
          -1.1555871745272577,
          -0.5708443571250097,
          0.08579855517081822,
          -1.3797057640781516,
          1.849366824702005,
          -1.047886371289688,
          -0.13548586469284904,
          -1.7394757107554002,
          -0.22652427414780119,
          -0.23329724559597503
         ]
        }
       ],
       "layout": {
        "legend": {
         "bgcolor": "#F5F6F9",
         "font": {
          "color": "#4D5663"
         }
        },
        "paper_bgcolor": "#F5F6F9",
        "plot_bgcolor": "#F5F6F9",
        "template": {
         "data": {
          "bar": [
           {
            "error_x": {
             "color": "#2a3f5f"
            },
            "error_y": {
             "color": "#2a3f5f"
            },
            "marker": {
             "line": {
              "color": "#E5ECF6",
              "width": 0.5
             },
             "pattern": {
              "fillmode": "overlay",
              "size": 10,
              "solidity": 0.2
             }
            },
            "type": "bar"
           }
          ],
          "barpolar": [
           {
            "marker": {
             "line": {
              "color": "#E5ECF6",
              "width": 0.5
             },
             "pattern": {
              "fillmode": "overlay",
              "size": 10,
              "solidity": 0.2
             }
            },
            "type": "barpolar"
           }
          ],
          "carpet": [
           {
            "aaxis": {
             "endlinecolor": "#2a3f5f",
             "gridcolor": "white",
             "linecolor": "white",
             "minorgridcolor": "white",
             "startlinecolor": "#2a3f5f"
            },
            "baxis": {
             "endlinecolor": "#2a3f5f",
             "gridcolor": "white",
             "linecolor": "white",
             "minorgridcolor": "white",
             "startlinecolor": "#2a3f5f"
            },
            "type": "carpet"
           }
          ],
          "choropleth": [
           {
            "colorbar": {
             "outlinewidth": 0,
             "ticks": ""
            },
            "type": "choropleth"
           }
          ],
          "contour": [
           {
            "colorbar": {
             "outlinewidth": 0,
             "ticks": ""
            },
            "colorscale": [
             [
              0,
              "#0d0887"
             ],
             [
              0.1111111111111111,
              "#46039f"
             ],
             [
              0.2222222222222222,
              "#7201a8"
             ],
             [
              0.3333333333333333,
              "#9c179e"
             ],
             [
              0.4444444444444444,
              "#bd3786"
             ],
             [
              0.5555555555555556,
              "#d8576b"
             ],
             [
              0.6666666666666666,
              "#ed7953"
             ],
             [
              0.7777777777777778,
              "#fb9f3a"
             ],
             [
              0.8888888888888888,
              "#fdca26"
             ],
             [
              1,
              "#f0f921"
             ]
            ],
            "type": "contour"
           }
          ],
          "contourcarpet": [
           {
            "colorbar": {
             "outlinewidth": 0,
             "ticks": ""
            },
            "type": "contourcarpet"
           }
          ],
          "heatmap": [
           {
            "colorbar": {
             "outlinewidth": 0,
             "ticks": ""
            },
            "colorscale": [
             [
              0,
              "#0d0887"
             ],
             [
              0.1111111111111111,
              "#46039f"
             ],
             [
              0.2222222222222222,
              "#7201a8"
             ],
             [
              0.3333333333333333,
              "#9c179e"
             ],
             [
              0.4444444444444444,
              "#bd3786"
             ],
             [
              0.5555555555555556,
              "#d8576b"
             ],
             [
              0.6666666666666666,
              "#ed7953"
             ],
             [
              0.7777777777777778,
              "#fb9f3a"
             ],
             [
              0.8888888888888888,
              "#fdca26"
             ],
             [
              1,
              "#f0f921"
             ]
            ],
            "type": "heatmap"
           }
          ],
          "heatmapgl": [
           {
            "colorbar": {
             "outlinewidth": 0,
             "ticks": ""
            },
            "colorscale": [
             [
              0,
              "#0d0887"
             ],
             [
              0.1111111111111111,
              "#46039f"
             ],
             [
              0.2222222222222222,
              "#7201a8"
             ],
             [
              0.3333333333333333,
              "#9c179e"
             ],
             [
              0.4444444444444444,
              "#bd3786"
             ],
             [
              0.5555555555555556,
              "#d8576b"
             ],
             [
              0.6666666666666666,
              "#ed7953"
             ],
             [
              0.7777777777777778,
              "#fb9f3a"
             ],
             [
              0.8888888888888888,
              "#fdca26"
             ],
             [
              1,
              "#f0f921"
             ]
            ],
            "type": "heatmapgl"
           }
          ],
          "histogram": [
           {
            "marker": {
             "pattern": {
              "fillmode": "overlay",
              "size": 10,
              "solidity": 0.2
             }
            },
            "type": "histogram"
           }
          ],
          "histogram2d": [
           {
            "colorbar": {
             "outlinewidth": 0,
             "ticks": ""
            },
            "colorscale": [
             [
              0,
              "#0d0887"
             ],
             [
              0.1111111111111111,
              "#46039f"
             ],
             [
              0.2222222222222222,
              "#7201a8"
             ],
             [
              0.3333333333333333,
              "#9c179e"
             ],
             [
              0.4444444444444444,
              "#bd3786"
             ],
             [
              0.5555555555555556,
              "#d8576b"
             ],
             [
              0.6666666666666666,
              "#ed7953"
             ],
             [
              0.7777777777777778,
              "#fb9f3a"
             ],
             [
              0.8888888888888888,
              "#fdca26"
             ],
             [
              1,
              "#f0f921"
             ]
            ],
            "type": "histogram2d"
           }
          ],
          "histogram2dcontour": [
           {
            "colorbar": {
             "outlinewidth": 0,
             "ticks": ""
            },
            "colorscale": [
             [
              0,
              "#0d0887"
             ],
             [
              0.1111111111111111,
              "#46039f"
             ],
             [
              0.2222222222222222,
              "#7201a8"
             ],
             [
              0.3333333333333333,
              "#9c179e"
             ],
             [
              0.4444444444444444,
              "#bd3786"
             ],
             [
              0.5555555555555556,
              "#d8576b"
             ],
             [
              0.6666666666666666,
              "#ed7953"
             ],
             [
              0.7777777777777778,
              "#fb9f3a"
             ],
             [
              0.8888888888888888,
              "#fdca26"
             ],
             [
              1,
              "#f0f921"
             ]
            ],
            "type": "histogram2dcontour"
           }
          ],
          "mesh3d": [
           {
            "colorbar": {
             "outlinewidth": 0,
             "ticks": ""
            },
            "type": "mesh3d"
           }
          ],
          "parcoords": [
           {
            "line": {
             "colorbar": {
              "outlinewidth": 0,
              "ticks": ""
             }
            },
            "type": "parcoords"
           }
          ],
          "pie": [
           {
            "automargin": true,
            "type": "pie"
           }
          ],
          "scatter": [
           {
            "marker": {
             "colorbar": {
              "outlinewidth": 0,
              "ticks": ""
             }
            },
            "type": "scatter"
           }
          ],
          "scatter3d": [
           {
            "line": {
             "colorbar": {
              "outlinewidth": 0,
              "ticks": ""
             }
            },
            "marker": {
             "colorbar": {
              "outlinewidth": 0,
              "ticks": ""
             }
            },
            "type": "scatter3d"
           }
          ],
          "scattercarpet": [
           {
            "marker": {
             "colorbar": {
              "outlinewidth": 0,
              "ticks": ""
             }
            },
            "type": "scattercarpet"
           }
          ],
          "scattergeo": [
           {
            "marker": {
             "colorbar": {
              "outlinewidth": 0,
              "ticks": ""
             }
            },
            "type": "scattergeo"
           }
          ],
          "scattergl": [
           {
            "marker": {
             "colorbar": {
              "outlinewidth": 0,
              "ticks": ""
             }
            },
            "type": "scattergl"
           }
          ],
          "scattermapbox": [
           {
            "marker": {
             "colorbar": {
              "outlinewidth": 0,
              "ticks": ""
             }
            },
            "type": "scattermapbox"
           }
          ],
          "scatterpolar": [
           {
            "marker": {
             "colorbar": {
              "outlinewidth": 0,
              "ticks": ""
             }
            },
            "type": "scatterpolar"
           }
          ],
          "scatterpolargl": [
           {
            "marker": {
             "colorbar": {
              "outlinewidth": 0,
              "ticks": ""
             }
            },
            "type": "scatterpolargl"
           }
          ],
          "scatterternary": [
           {
            "marker": {
             "colorbar": {
              "outlinewidth": 0,
              "ticks": ""
             }
            },
            "type": "scatterternary"
           }
          ],
          "surface": [
           {
            "colorbar": {
             "outlinewidth": 0,
             "ticks": ""
            },
            "colorscale": [
             [
              0,
              "#0d0887"
             ],
             [
              0.1111111111111111,
              "#46039f"
             ],
             [
              0.2222222222222222,
              "#7201a8"
             ],
             [
              0.3333333333333333,
              "#9c179e"
             ],
             [
              0.4444444444444444,
              "#bd3786"
             ],
             [
              0.5555555555555556,
              "#d8576b"
             ],
             [
              0.6666666666666666,
              "#ed7953"
             ],
             [
              0.7777777777777778,
              "#fb9f3a"
             ],
             [
              0.8888888888888888,
              "#fdca26"
             ],
             [
              1,
              "#f0f921"
             ]
            ],
            "type": "surface"
           }
          ],
          "table": [
           {
            "cells": {
             "fill": {
              "color": "#EBF0F8"
             },
             "line": {
              "color": "white"
             }
            },
            "header": {
             "fill": {
              "color": "#C8D4E3"
             },
             "line": {
              "color": "white"
             }
            },
            "type": "table"
           }
          ]
         },
         "layout": {
          "annotationdefaults": {
           "arrowcolor": "#2a3f5f",
           "arrowhead": 0,
           "arrowwidth": 1
          },
          "autotypenumbers": "strict",
          "coloraxis": {
           "colorbar": {
            "outlinewidth": 0,
            "ticks": ""
           }
          },
          "colorscale": {
           "diverging": [
            [
             0,
             "#8e0152"
            ],
            [
             0.1,
             "#c51b7d"
            ],
            [
             0.2,
             "#de77ae"
            ],
            [
             0.3,
             "#f1b6da"
            ],
            [
             0.4,
             "#fde0ef"
            ],
            [
             0.5,
             "#f7f7f7"
            ],
            [
             0.6,
             "#e6f5d0"
            ],
            [
             0.7,
             "#b8e186"
            ],
            [
             0.8,
             "#7fbc41"
            ],
            [
             0.9,
             "#4d9221"
            ],
            [
             1,
             "#276419"
            ]
           ],
           "sequential": [
            [
             0,
             "#0d0887"
            ],
            [
             0.1111111111111111,
             "#46039f"
            ],
            [
             0.2222222222222222,
             "#7201a8"
            ],
            [
             0.3333333333333333,
             "#9c179e"
            ],
            [
             0.4444444444444444,
             "#bd3786"
            ],
            [
             0.5555555555555556,
             "#d8576b"
            ],
            [
             0.6666666666666666,
             "#ed7953"
            ],
            [
             0.7777777777777778,
             "#fb9f3a"
            ],
            [
             0.8888888888888888,
             "#fdca26"
            ],
            [
             1,
             "#f0f921"
            ]
           ],
           "sequentialminus": [
            [
             0,
             "#0d0887"
            ],
            [
             0.1111111111111111,
             "#46039f"
            ],
            [
             0.2222222222222222,
             "#7201a8"
            ],
            [
             0.3333333333333333,
             "#9c179e"
            ],
            [
             0.4444444444444444,
             "#bd3786"
            ],
            [
             0.5555555555555556,
             "#d8576b"
            ],
            [
             0.6666666666666666,
             "#ed7953"
            ],
            [
             0.7777777777777778,
             "#fb9f3a"
            ],
            [
             0.8888888888888888,
             "#fdca26"
            ],
            [
             1,
             "#f0f921"
            ]
           ]
          },
          "colorway": [
           "#636efa",
           "#EF553B",
           "#00cc96",
           "#ab63fa",
           "#FFA15A",
           "#19d3f3",
           "#FF6692",
           "#B6E880",
           "#FF97FF",
           "#FECB52"
          ],
          "font": {
           "color": "#2a3f5f"
          },
          "geo": {
           "bgcolor": "white",
           "lakecolor": "white",
           "landcolor": "#E5ECF6",
           "showlakes": true,
           "showland": true,
           "subunitcolor": "white"
          },
          "hoverlabel": {
           "align": "left"
          },
          "hovermode": "closest",
          "mapbox": {
           "style": "light"
          },
          "paper_bgcolor": "white",
          "plot_bgcolor": "#E5ECF6",
          "polar": {
           "angularaxis": {
            "gridcolor": "white",
            "linecolor": "white",
            "ticks": ""
           },
           "bgcolor": "#E5ECF6",
           "radialaxis": {
            "gridcolor": "white",
            "linecolor": "white",
            "ticks": ""
           }
          },
          "scene": {
           "xaxis": {
            "backgroundcolor": "#E5ECF6",
            "gridcolor": "white",
            "gridwidth": 2,
            "linecolor": "white",
            "showbackground": true,
            "ticks": "",
            "zerolinecolor": "white"
           },
           "yaxis": {
            "backgroundcolor": "#E5ECF6",
            "gridcolor": "white",
            "gridwidth": 2,
            "linecolor": "white",
            "showbackground": true,
            "ticks": "",
            "zerolinecolor": "white"
           },
           "zaxis": {
            "backgroundcolor": "#E5ECF6",
            "gridcolor": "white",
            "gridwidth": 2,
            "linecolor": "white",
            "showbackground": true,
            "ticks": "",
            "zerolinecolor": "white"
           }
          },
          "shapedefaults": {
           "line": {
            "color": "#2a3f5f"
           }
          },
          "ternary": {
           "aaxis": {
            "gridcolor": "white",
            "linecolor": "white",
            "ticks": ""
           },
           "baxis": {
            "gridcolor": "white",
            "linecolor": "white",
            "ticks": ""
           },
           "bgcolor": "#E5ECF6",
           "caxis": {
            "gridcolor": "white",
            "linecolor": "white",
            "ticks": ""
           }
          },
          "title": {
           "x": 0.05
          },
          "xaxis": {
           "automargin": true,
           "gridcolor": "white",
           "linecolor": "white",
           "ticks": "",
           "title": {
            "standoff": 15
           },
           "zerolinecolor": "white",
           "zerolinewidth": 2
          },
          "yaxis": {
           "automargin": true,
           "gridcolor": "white",
           "linecolor": "white",
           "ticks": "",
           "title": {
            "standoff": 15
           },
           "zerolinecolor": "white",
           "zerolinewidth": 2
          }
         }
        },
        "title": {
         "font": {
          "color": "#4D5663"
         }
        },
        "xaxis": {
         "gridcolor": "#E1E5ED",
         "showgrid": true,
         "tickfont": {
          "color": "#4D5663"
         },
         "title": {
          "font": {
           "color": "#4D5663"
          },
          "text": ""
         },
         "zerolinecolor": "#E1E5ED"
        },
        "yaxis": {
         "gridcolor": "#E1E5ED",
         "showgrid": true,
         "tickfont": {
          "color": "#4D5663"
         },
         "title": {
          "font": {
           "color": "#4D5663"
          },
          "text": ""
         },
         "zerolinecolor": "#E1E5ED"
        }
       }
      },
      "text/html": [
       "<div>                            <div id=\"6b894974-6b57-4649-900c-d8b36956891b\" class=\"plotly-graph-div\" style=\"height:525px; width:100%;\"></div>            <script type=\"text/javascript\">                require([\"plotly\"], function(Plotly) {                    window.PLOTLYENV=window.PLOTLYENV || {};\n",
       "                    window.PLOTLYENV.BASE_URL='https://plot.ly';                                    if (document.getElementById(\"6b894974-6b57-4649-900c-d8b36956891b\")) {                    Plotly.newPlot(                        \"6b894974-6b57-4649-900c-d8b36956891b\",                        [{\"line\":{\"color\":\"rgba(255, 153, 51, 1.0)\",\"dash\":\"solid\",\"shape\":\"linear\",\"width\":1.3},\"marker\":{\"size\":10,\"symbol\":\"circle\"},\"mode\":\"markers\",\"name\":\"B\",\"text\":\"\",\"type\":\"scatter\",\"x\":[-1.0115573653537022,-1.622719359753821,0.20795363443469267,0.9745876320751745,0.7422833564061795,-0.042401165799178055,0.17936420463101815,0.7576195218918347,0.21316654313532987,0.7679795642191072,-1.1302842288613202,-0.6510666688619364,-1.0616207712153163,-2.276408857060216,0.977136522653772,0.09475578794448508,1.0148046396050996,0.653601903508092,-0.19622542491937423,1.4583420822565434,2.38750758046521,-0.13507427527016228,0.010636496487790754,0.217146142278281,0.9448720578848665,-0.11309224370874747,-0.446607713381667,-0.3101691755545522,0.7144567212922127,-0.45049345323797213,-1.7889825091717626,0.11765610418303564,-0.5399845392615047,-0.8696050435152509,1.3926337077795534,0.3274167519653984,-1.5522163581120358,0.9805516132123173,1.2705083426074157,0.8166345208327359,-0.16854293908529142,0.5943039416170544,-0.3757765772396979,-0.009258327313187025,0.4243449650195232,-0.336825207503548,-0.765375070167616,-2.647957133478154,-0.3482773610274045,-0.28852201260671284,0.8992227843752005,1.3423581780808072,-2.048412015323995,1.1504199408870357,0.2332035840572407,2.4154644889108607,-0.2369123373919594,1.2262351155518958,0.9563011391771531,0.939180030223467,-0.8042832172489962,-0.2543816163973542,1.641630706662135,0.16127046105215087,-0.6447744763956,1.4935186936004894,-1.2134314357335172,1.183106758648288,-0.39644296768385257,0.37776886990359104,-0.29427131284723446,0.8743389586210287,0.031285085227025264,-0.06989108976029025,-0.9367588048141234,0.7228620118845075,-1.1902357981579998,-0.13268892227501583,0.4673485157073865,-0.0007244359582720907,0.7740076728549605,-0.02421422161722922,-0.8389691604603161,1.0490801914354329,0.9431650493540056,0.36911446256462815,-0.4220865416585798,-0.01053129380293419,-1.3689476264042595,0.7176350379025291,0.15386614772325471,-0.0838833355039482,-1.6728185035292356,0.3436325769247125,1.1748337873133803,0.5383255543531343,0.060771061107235826,0.877731397595693,0.6320745245504362,0.5557438627109933],\"y\":[-0.3394303690465519,0.507068860824688,-0.18817414727192086,2.2151131319469806,0.48183520544880976,-0.10169143521661793,-1.1544207403244622,0.9172413047357265,0.12740014033922747,-0.24141207948511795,-1.1229017255863296,1.0432780201125806,0.766417649816338,-1.4450161970976214,1.3018587631799723,-0.07008976611170716,0.10072170019221652,-0.42656837759364874,-0.683413019799971,-0.9251319127611697,0.5133001472440608,0.36994749312271047,0.41435556599138446,-0.4841088719800775,0.02299520586798657,-1.0171469499992483,-0.012981457614264679,1.46726879093243,-0.9772339071760212,0.7689758994576449,-0.7894378912379033,-0.7986463833738618,-0.8197021497664688,-0.15449236736085747,-0.04619380942765571,-0.9924539634893045,-0.6224770793124413,0.6574177317611314,1.0543475284266737,1.403342555355355,-0.41352526242568305,0.29276407463759774,-0.5295602532408795,-0.4919718680730784,0.3584205702386439,-0.0990496297343441,0.8526314376213465,1.0104688146686258,1.2792823616186184,0.41534678973694716,-0.24776952611346453,0.47112497161659894,-1.5693469456956328,-1.8590369122307293,0.4240904862515488,-0.19858505538706647,0.07026510870920506,-0.5195746594284134,0.3800497297993289,-0.6062875895823837,1.0079974582433124,0.7486415921298065,0.8031883806087959,1.0642455991993767,-0.3908717891420928,0.39124704922195036,-0.11815506432510858,0.5876492614646739,0.4041796852380769,-1.5089406758911061,0.5209254178150052,0.9572156427899363,1.8236637517718415,-1.2137821199889378,-0.12727035063999126,-1.312982602365597,0.36859167964660056,-1.8739063384679977,0.45143493270016116,-0.5808424932868735,1.3765256238302206,-1.8645760241552203,1.6583726577171114,0.11402223595595345,-0.7280585865266095,0.714018505044853,1.1457266374772828,-0.18823314183821777,-1.0602515790075742,1.5200400451124947,-1.1555871745272577,-0.5708443571250097,0.08579855517081822,-1.3797057640781516,1.849366824702005,-1.047886371289688,-0.13548586469284904,-1.7394757107554002,-0.22652427414780119,-0.23329724559597503]}],                        {\"legend\":{\"bgcolor\":\"#F5F6F9\",\"font\":{\"color\":\"#4D5663\"}},\"paper_bgcolor\":\"#F5F6F9\",\"plot_bgcolor\":\"#F5F6F9\",\"template\":{\"data\":{\"bar\":[{\"error_x\":{\"color\":\"#2a3f5f\"},\"error_y\":{\"color\":\"#2a3f5f\"},\"marker\":{\"line\":{\"color\":\"#E5ECF6\",\"width\":0.5},\"pattern\":{\"fillmode\":\"overlay\",\"size\":10,\"solidity\":0.2}},\"type\":\"bar\"}],\"barpolar\":[{\"marker\":{\"line\":{\"color\":\"#E5ECF6\",\"width\":0.5},\"pattern\":{\"fillmode\":\"overlay\",\"size\":10,\"solidity\":0.2}},\"type\":\"barpolar\"}],\"carpet\":[{\"aaxis\":{\"endlinecolor\":\"#2a3f5f\",\"gridcolor\":\"white\",\"linecolor\":\"white\",\"minorgridcolor\":\"white\",\"startlinecolor\":\"#2a3f5f\"},\"baxis\":{\"endlinecolor\":\"#2a3f5f\",\"gridcolor\":\"white\",\"linecolor\":\"white\",\"minorgridcolor\":\"white\",\"startlinecolor\":\"#2a3f5f\"},\"type\":\"carpet\"}],\"choropleth\":[{\"colorbar\":{\"outlinewidth\":0,\"ticks\":\"\"},\"type\":\"choropleth\"}],\"contour\":[{\"colorbar\":{\"outlinewidth\":0,\"ticks\":\"\"},\"colorscale\":[[0.0,\"#0d0887\"],[0.1111111111111111,\"#46039f\"],[0.2222222222222222,\"#7201a8\"],[0.3333333333333333,\"#9c179e\"],[0.4444444444444444,\"#bd3786\"],[0.5555555555555556,\"#d8576b\"],[0.6666666666666666,\"#ed7953\"],[0.7777777777777778,\"#fb9f3a\"],[0.8888888888888888,\"#fdca26\"],[1.0,\"#f0f921\"]],\"type\":\"contour\"}],\"contourcarpet\":[{\"colorbar\":{\"outlinewidth\":0,\"ticks\":\"\"},\"type\":\"contourcarpet\"}],\"heatmap\":[{\"colorbar\":{\"outlinewidth\":0,\"ticks\":\"\"},\"colorscale\":[[0.0,\"#0d0887\"],[0.1111111111111111,\"#46039f\"],[0.2222222222222222,\"#7201a8\"],[0.3333333333333333,\"#9c179e\"],[0.4444444444444444,\"#bd3786\"],[0.5555555555555556,\"#d8576b\"],[0.6666666666666666,\"#ed7953\"],[0.7777777777777778,\"#fb9f3a\"],[0.8888888888888888,\"#fdca26\"],[1.0,\"#f0f921\"]],\"type\":\"heatmap\"}],\"heatmapgl\":[{\"colorbar\":{\"outlinewidth\":0,\"ticks\":\"\"},\"colorscale\":[[0.0,\"#0d0887\"],[0.1111111111111111,\"#46039f\"],[0.2222222222222222,\"#7201a8\"],[0.3333333333333333,\"#9c179e\"],[0.4444444444444444,\"#bd3786\"],[0.5555555555555556,\"#d8576b\"],[0.6666666666666666,\"#ed7953\"],[0.7777777777777778,\"#fb9f3a\"],[0.8888888888888888,\"#fdca26\"],[1.0,\"#f0f921\"]],\"type\":\"heatmapgl\"}],\"histogram\":[{\"marker\":{\"pattern\":{\"fillmode\":\"overlay\",\"size\":10,\"solidity\":0.2}},\"type\":\"histogram\"}],\"histogram2d\":[{\"colorbar\":{\"outlinewidth\":0,\"ticks\":\"\"},\"colorscale\":[[0.0,\"#0d0887\"],[0.1111111111111111,\"#46039f\"],[0.2222222222222222,\"#7201a8\"],[0.3333333333333333,\"#9c179e\"],[0.4444444444444444,\"#bd3786\"],[0.5555555555555556,\"#d8576b\"],[0.6666666666666666,\"#ed7953\"],[0.7777777777777778,\"#fb9f3a\"],[0.8888888888888888,\"#fdca26\"],[1.0,\"#f0f921\"]],\"type\":\"histogram2d\"}],\"histogram2dcontour\":[{\"colorbar\":{\"outlinewidth\":0,\"ticks\":\"\"},\"colorscale\":[[0.0,\"#0d0887\"],[0.1111111111111111,\"#46039f\"],[0.2222222222222222,\"#7201a8\"],[0.3333333333333333,\"#9c179e\"],[0.4444444444444444,\"#bd3786\"],[0.5555555555555556,\"#d8576b\"],[0.6666666666666666,\"#ed7953\"],[0.7777777777777778,\"#fb9f3a\"],[0.8888888888888888,\"#fdca26\"],[1.0,\"#f0f921\"]],\"type\":\"histogram2dcontour\"}],\"mesh3d\":[{\"colorbar\":{\"outlinewidth\":0,\"ticks\":\"\"},\"type\":\"mesh3d\"}],\"parcoords\":[{\"line\":{\"colorbar\":{\"outlinewidth\":0,\"ticks\":\"\"}},\"type\":\"parcoords\"}],\"pie\":[{\"automargin\":true,\"type\":\"pie\"}],\"scatter\":[{\"marker\":{\"colorbar\":{\"outlinewidth\":0,\"ticks\":\"\"}},\"type\":\"scatter\"}],\"scatter3d\":[{\"line\":{\"colorbar\":{\"outlinewidth\":0,\"ticks\":\"\"}},\"marker\":{\"colorbar\":{\"outlinewidth\":0,\"ticks\":\"\"}},\"type\":\"scatter3d\"}],\"scattercarpet\":[{\"marker\":{\"colorbar\":{\"outlinewidth\":0,\"ticks\":\"\"}},\"type\":\"scattercarpet\"}],\"scattergeo\":[{\"marker\":{\"colorbar\":{\"outlinewidth\":0,\"ticks\":\"\"}},\"type\":\"scattergeo\"}],\"scattergl\":[{\"marker\":{\"colorbar\":{\"outlinewidth\":0,\"ticks\":\"\"}},\"type\":\"scattergl\"}],\"scattermapbox\":[{\"marker\":{\"colorbar\":{\"outlinewidth\":0,\"ticks\":\"\"}},\"type\":\"scattermapbox\"}],\"scatterpolar\":[{\"marker\":{\"colorbar\":{\"outlinewidth\":0,\"ticks\":\"\"}},\"type\":\"scatterpolar\"}],\"scatterpolargl\":[{\"marker\":{\"colorbar\":{\"outlinewidth\":0,\"ticks\":\"\"}},\"type\":\"scatterpolargl\"}],\"scatterternary\":[{\"marker\":{\"colorbar\":{\"outlinewidth\":0,\"ticks\":\"\"}},\"type\":\"scatterternary\"}],\"surface\":[{\"colorbar\":{\"outlinewidth\":0,\"ticks\":\"\"},\"colorscale\":[[0.0,\"#0d0887\"],[0.1111111111111111,\"#46039f\"],[0.2222222222222222,\"#7201a8\"],[0.3333333333333333,\"#9c179e\"],[0.4444444444444444,\"#bd3786\"],[0.5555555555555556,\"#d8576b\"],[0.6666666666666666,\"#ed7953\"],[0.7777777777777778,\"#fb9f3a\"],[0.8888888888888888,\"#fdca26\"],[1.0,\"#f0f921\"]],\"type\":\"surface\"}],\"table\":[{\"cells\":{\"fill\":{\"color\":\"#EBF0F8\"},\"line\":{\"color\":\"white\"}},\"header\":{\"fill\":{\"color\":\"#C8D4E3\"},\"line\":{\"color\":\"white\"}},\"type\":\"table\"}]},\"layout\":{\"annotationdefaults\":{\"arrowcolor\":\"#2a3f5f\",\"arrowhead\":0,\"arrowwidth\":1},\"autotypenumbers\":\"strict\",\"coloraxis\":{\"colorbar\":{\"outlinewidth\":0,\"ticks\":\"\"}},\"colorscale\":{\"diverging\":[[0,\"#8e0152\"],[0.1,\"#c51b7d\"],[0.2,\"#de77ae\"],[0.3,\"#f1b6da\"],[0.4,\"#fde0ef\"],[0.5,\"#f7f7f7\"],[0.6,\"#e6f5d0\"],[0.7,\"#b8e186\"],[0.8,\"#7fbc41\"],[0.9,\"#4d9221\"],[1,\"#276419\"]],\"sequential\":[[0.0,\"#0d0887\"],[0.1111111111111111,\"#46039f\"],[0.2222222222222222,\"#7201a8\"],[0.3333333333333333,\"#9c179e\"],[0.4444444444444444,\"#bd3786\"],[0.5555555555555556,\"#d8576b\"],[0.6666666666666666,\"#ed7953\"],[0.7777777777777778,\"#fb9f3a\"],[0.8888888888888888,\"#fdca26\"],[1.0,\"#f0f921\"]],\"sequentialminus\":[[0.0,\"#0d0887\"],[0.1111111111111111,\"#46039f\"],[0.2222222222222222,\"#7201a8\"],[0.3333333333333333,\"#9c179e\"],[0.4444444444444444,\"#bd3786\"],[0.5555555555555556,\"#d8576b\"],[0.6666666666666666,\"#ed7953\"],[0.7777777777777778,\"#fb9f3a\"],[0.8888888888888888,\"#fdca26\"],[1.0,\"#f0f921\"]]},\"colorway\":[\"#636efa\",\"#EF553B\",\"#00cc96\",\"#ab63fa\",\"#FFA15A\",\"#19d3f3\",\"#FF6692\",\"#B6E880\",\"#FF97FF\",\"#FECB52\"],\"font\":{\"color\":\"#2a3f5f\"},\"geo\":{\"bgcolor\":\"white\",\"lakecolor\":\"white\",\"landcolor\":\"#E5ECF6\",\"showlakes\":true,\"showland\":true,\"subunitcolor\":\"white\"},\"hoverlabel\":{\"align\":\"left\"},\"hovermode\":\"closest\",\"mapbox\":{\"style\":\"light\"},\"paper_bgcolor\":\"white\",\"plot_bgcolor\":\"#E5ECF6\",\"polar\":{\"angularaxis\":{\"gridcolor\":\"white\",\"linecolor\":\"white\",\"ticks\":\"\"},\"bgcolor\":\"#E5ECF6\",\"radialaxis\":{\"gridcolor\":\"white\",\"linecolor\":\"white\",\"ticks\":\"\"}},\"scene\":{\"xaxis\":{\"backgroundcolor\":\"#E5ECF6\",\"gridcolor\":\"white\",\"gridwidth\":2,\"linecolor\":\"white\",\"showbackground\":true,\"ticks\":\"\",\"zerolinecolor\":\"white\"},\"yaxis\":{\"backgroundcolor\":\"#E5ECF6\",\"gridcolor\":\"white\",\"gridwidth\":2,\"linecolor\":\"white\",\"showbackground\":true,\"ticks\":\"\",\"zerolinecolor\":\"white\"},\"zaxis\":{\"backgroundcolor\":\"#E5ECF6\",\"gridcolor\":\"white\",\"gridwidth\":2,\"linecolor\":\"white\",\"showbackground\":true,\"ticks\":\"\",\"zerolinecolor\":\"white\"}},\"shapedefaults\":{\"line\":{\"color\":\"#2a3f5f\"}},\"ternary\":{\"aaxis\":{\"gridcolor\":\"white\",\"linecolor\":\"white\",\"ticks\":\"\"},\"baxis\":{\"gridcolor\":\"white\",\"linecolor\":\"white\",\"ticks\":\"\"},\"bgcolor\":\"#E5ECF6\",\"caxis\":{\"gridcolor\":\"white\",\"linecolor\":\"white\",\"ticks\":\"\"}},\"title\":{\"x\":0.05},\"xaxis\":{\"automargin\":true,\"gridcolor\":\"white\",\"linecolor\":\"white\",\"ticks\":\"\",\"title\":{\"standoff\":15},\"zerolinecolor\":\"white\",\"zerolinewidth\":2},\"yaxis\":{\"automargin\":true,\"gridcolor\":\"white\",\"linecolor\":\"white\",\"ticks\":\"\",\"title\":{\"standoff\":15},\"zerolinecolor\":\"white\",\"zerolinewidth\":2}}},\"title\":{\"font\":{\"color\":\"#4D5663\"}},\"xaxis\":{\"gridcolor\":\"#E1E5ED\",\"showgrid\":true,\"tickfont\":{\"color\":\"#4D5663\"},\"title\":{\"font\":{\"color\":\"#4D5663\"},\"text\":\"\"},\"zerolinecolor\":\"#E1E5ED\"},\"yaxis\":{\"gridcolor\":\"#E1E5ED\",\"showgrid\":true,\"tickfont\":{\"color\":\"#4D5663\"},\"title\":{\"font\":{\"color\":\"#4D5663\"},\"text\":\"\"},\"zerolinecolor\":\"#E1E5ED\"}},                        {\"showLink\": true, \"linkText\": \"Export to plot.ly\", \"plotlyServerURL\": \"https://plot.ly\", \"responsive\": true}                    ).then(function(){\n",
       "                            \n",
       "var gd = document.getElementById('6b894974-6b57-4649-900c-d8b36956891b');\n",
       "var x = new MutationObserver(function (mutations, observer) {{\n",
       "        var display = window.getComputedStyle(gd).display;\n",
       "        if (!display || display === 'none') {{\n",
       "            console.log([gd, 'removed!']);\n",
       "            Plotly.purge(gd);\n",
       "            observer.disconnect();\n",
       "        }}\n",
       "}});\n",
       "\n",
       "// Listen for the removal of the full notebook cells\n",
       "var notebookContainer = gd.closest('#notebook-container');\n",
       "if (notebookContainer) {{\n",
       "    x.observe(notebookContainer, {childList: true});\n",
       "}}\n",
       "\n",
       "// Listen for the clearing of the current output cell\n",
       "var outputEl = gd.closest('.output');\n",
       "if (outputEl) {{\n",
       "    x.observe(outputEl, {childList: true});\n",
       "}}\n",
       "\n",
       "                        })                };                });            </script>        </div>"
      ]
     },
     "metadata": {},
     "output_type": "display_data"
    }
   ],
   "source": [
    "df.iplot(kind='scatter',x='A',y='B',mode='markers',size=10)"
   ]
  },
  {
   "cell_type": "code",
   "execution_count": 11,
   "metadata": {},
   "outputs": [
    {
     "data": {
      "application/vnd.plotly.v1+json": {
       "config": {
        "linkText": "Export to plot.ly",
        "plotlyServerURL": "https://plot.ly",
        "showLink": true
       },
       "data": [
        {
         "marker": {
          "color": "rgba(255, 153, 51, 0.6)",
          "line": {
           "color": "rgba(255, 153, 51, 1.0)",
           "width": 1
          }
         },
         "name": "Values",
         "orientation": "v",
         "text": "",
         "type": "bar",
         "x": [
          "A",
          "B",
          "C"
         ],
         "y": [
          32,
          43,
          50
         ]
        }
       ],
       "layout": {
        "legend": {
         "bgcolor": "#F5F6F9",
         "font": {
          "color": "#4D5663"
         }
        },
        "paper_bgcolor": "#F5F6F9",
        "plot_bgcolor": "#F5F6F9",
        "template": {
         "data": {
          "bar": [
           {
            "error_x": {
             "color": "#2a3f5f"
            },
            "error_y": {
             "color": "#2a3f5f"
            },
            "marker": {
             "line": {
              "color": "#E5ECF6",
              "width": 0.5
             },
             "pattern": {
              "fillmode": "overlay",
              "size": 10,
              "solidity": 0.2
             }
            },
            "type": "bar"
           }
          ],
          "barpolar": [
           {
            "marker": {
             "line": {
              "color": "#E5ECF6",
              "width": 0.5
             },
             "pattern": {
              "fillmode": "overlay",
              "size": 10,
              "solidity": 0.2
             }
            },
            "type": "barpolar"
           }
          ],
          "carpet": [
           {
            "aaxis": {
             "endlinecolor": "#2a3f5f",
             "gridcolor": "white",
             "linecolor": "white",
             "minorgridcolor": "white",
             "startlinecolor": "#2a3f5f"
            },
            "baxis": {
             "endlinecolor": "#2a3f5f",
             "gridcolor": "white",
             "linecolor": "white",
             "minorgridcolor": "white",
             "startlinecolor": "#2a3f5f"
            },
            "type": "carpet"
           }
          ],
          "choropleth": [
           {
            "colorbar": {
             "outlinewidth": 0,
             "ticks": ""
            },
            "type": "choropleth"
           }
          ],
          "contour": [
           {
            "colorbar": {
             "outlinewidth": 0,
             "ticks": ""
            },
            "colorscale": [
             [
              0,
              "#0d0887"
             ],
             [
              0.1111111111111111,
              "#46039f"
             ],
             [
              0.2222222222222222,
              "#7201a8"
             ],
             [
              0.3333333333333333,
              "#9c179e"
             ],
             [
              0.4444444444444444,
              "#bd3786"
             ],
             [
              0.5555555555555556,
              "#d8576b"
             ],
             [
              0.6666666666666666,
              "#ed7953"
             ],
             [
              0.7777777777777778,
              "#fb9f3a"
             ],
             [
              0.8888888888888888,
              "#fdca26"
             ],
             [
              1,
              "#f0f921"
             ]
            ],
            "type": "contour"
           }
          ],
          "contourcarpet": [
           {
            "colorbar": {
             "outlinewidth": 0,
             "ticks": ""
            },
            "type": "contourcarpet"
           }
          ],
          "heatmap": [
           {
            "colorbar": {
             "outlinewidth": 0,
             "ticks": ""
            },
            "colorscale": [
             [
              0,
              "#0d0887"
             ],
             [
              0.1111111111111111,
              "#46039f"
             ],
             [
              0.2222222222222222,
              "#7201a8"
             ],
             [
              0.3333333333333333,
              "#9c179e"
             ],
             [
              0.4444444444444444,
              "#bd3786"
             ],
             [
              0.5555555555555556,
              "#d8576b"
             ],
             [
              0.6666666666666666,
              "#ed7953"
             ],
             [
              0.7777777777777778,
              "#fb9f3a"
             ],
             [
              0.8888888888888888,
              "#fdca26"
             ],
             [
              1,
              "#f0f921"
             ]
            ],
            "type": "heatmap"
           }
          ],
          "heatmapgl": [
           {
            "colorbar": {
             "outlinewidth": 0,
             "ticks": ""
            },
            "colorscale": [
             [
              0,
              "#0d0887"
             ],
             [
              0.1111111111111111,
              "#46039f"
             ],
             [
              0.2222222222222222,
              "#7201a8"
             ],
             [
              0.3333333333333333,
              "#9c179e"
             ],
             [
              0.4444444444444444,
              "#bd3786"
             ],
             [
              0.5555555555555556,
              "#d8576b"
             ],
             [
              0.6666666666666666,
              "#ed7953"
             ],
             [
              0.7777777777777778,
              "#fb9f3a"
             ],
             [
              0.8888888888888888,
              "#fdca26"
             ],
             [
              1,
              "#f0f921"
             ]
            ],
            "type": "heatmapgl"
           }
          ],
          "histogram": [
           {
            "marker": {
             "pattern": {
              "fillmode": "overlay",
              "size": 10,
              "solidity": 0.2
             }
            },
            "type": "histogram"
           }
          ],
          "histogram2d": [
           {
            "colorbar": {
             "outlinewidth": 0,
             "ticks": ""
            },
            "colorscale": [
             [
              0,
              "#0d0887"
             ],
             [
              0.1111111111111111,
              "#46039f"
             ],
             [
              0.2222222222222222,
              "#7201a8"
             ],
             [
              0.3333333333333333,
              "#9c179e"
             ],
             [
              0.4444444444444444,
              "#bd3786"
             ],
             [
              0.5555555555555556,
              "#d8576b"
             ],
             [
              0.6666666666666666,
              "#ed7953"
             ],
             [
              0.7777777777777778,
              "#fb9f3a"
             ],
             [
              0.8888888888888888,
              "#fdca26"
             ],
             [
              1,
              "#f0f921"
             ]
            ],
            "type": "histogram2d"
           }
          ],
          "histogram2dcontour": [
           {
            "colorbar": {
             "outlinewidth": 0,
             "ticks": ""
            },
            "colorscale": [
             [
              0,
              "#0d0887"
             ],
             [
              0.1111111111111111,
              "#46039f"
             ],
             [
              0.2222222222222222,
              "#7201a8"
             ],
             [
              0.3333333333333333,
              "#9c179e"
             ],
             [
              0.4444444444444444,
              "#bd3786"
             ],
             [
              0.5555555555555556,
              "#d8576b"
             ],
             [
              0.6666666666666666,
              "#ed7953"
             ],
             [
              0.7777777777777778,
              "#fb9f3a"
             ],
             [
              0.8888888888888888,
              "#fdca26"
             ],
             [
              1,
              "#f0f921"
             ]
            ],
            "type": "histogram2dcontour"
           }
          ],
          "mesh3d": [
           {
            "colorbar": {
             "outlinewidth": 0,
             "ticks": ""
            },
            "type": "mesh3d"
           }
          ],
          "parcoords": [
           {
            "line": {
             "colorbar": {
              "outlinewidth": 0,
              "ticks": ""
             }
            },
            "type": "parcoords"
           }
          ],
          "pie": [
           {
            "automargin": true,
            "type": "pie"
           }
          ],
          "scatter": [
           {
            "marker": {
             "colorbar": {
              "outlinewidth": 0,
              "ticks": ""
             }
            },
            "type": "scatter"
           }
          ],
          "scatter3d": [
           {
            "line": {
             "colorbar": {
              "outlinewidth": 0,
              "ticks": ""
             }
            },
            "marker": {
             "colorbar": {
              "outlinewidth": 0,
              "ticks": ""
             }
            },
            "type": "scatter3d"
           }
          ],
          "scattercarpet": [
           {
            "marker": {
             "colorbar": {
              "outlinewidth": 0,
              "ticks": ""
             }
            },
            "type": "scattercarpet"
           }
          ],
          "scattergeo": [
           {
            "marker": {
             "colorbar": {
              "outlinewidth": 0,
              "ticks": ""
             }
            },
            "type": "scattergeo"
           }
          ],
          "scattergl": [
           {
            "marker": {
             "colorbar": {
              "outlinewidth": 0,
              "ticks": ""
             }
            },
            "type": "scattergl"
           }
          ],
          "scattermapbox": [
           {
            "marker": {
             "colorbar": {
              "outlinewidth": 0,
              "ticks": ""
             }
            },
            "type": "scattermapbox"
           }
          ],
          "scatterpolar": [
           {
            "marker": {
             "colorbar": {
              "outlinewidth": 0,
              "ticks": ""
             }
            },
            "type": "scatterpolar"
           }
          ],
          "scatterpolargl": [
           {
            "marker": {
             "colorbar": {
              "outlinewidth": 0,
              "ticks": ""
             }
            },
            "type": "scatterpolargl"
           }
          ],
          "scatterternary": [
           {
            "marker": {
             "colorbar": {
              "outlinewidth": 0,
              "ticks": ""
             }
            },
            "type": "scatterternary"
           }
          ],
          "surface": [
           {
            "colorbar": {
             "outlinewidth": 0,
             "ticks": ""
            },
            "colorscale": [
             [
              0,
              "#0d0887"
             ],
             [
              0.1111111111111111,
              "#46039f"
             ],
             [
              0.2222222222222222,
              "#7201a8"
             ],
             [
              0.3333333333333333,
              "#9c179e"
             ],
             [
              0.4444444444444444,
              "#bd3786"
             ],
             [
              0.5555555555555556,
              "#d8576b"
             ],
             [
              0.6666666666666666,
              "#ed7953"
             ],
             [
              0.7777777777777778,
              "#fb9f3a"
             ],
             [
              0.8888888888888888,
              "#fdca26"
             ],
             [
              1,
              "#f0f921"
             ]
            ],
            "type": "surface"
           }
          ],
          "table": [
           {
            "cells": {
             "fill": {
              "color": "#EBF0F8"
             },
             "line": {
              "color": "white"
             }
            },
            "header": {
             "fill": {
              "color": "#C8D4E3"
             },
             "line": {
              "color": "white"
             }
            },
            "type": "table"
           }
          ]
         },
         "layout": {
          "annotationdefaults": {
           "arrowcolor": "#2a3f5f",
           "arrowhead": 0,
           "arrowwidth": 1
          },
          "autotypenumbers": "strict",
          "coloraxis": {
           "colorbar": {
            "outlinewidth": 0,
            "ticks": ""
           }
          },
          "colorscale": {
           "diverging": [
            [
             0,
             "#8e0152"
            ],
            [
             0.1,
             "#c51b7d"
            ],
            [
             0.2,
             "#de77ae"
            ],
            [
             0.3,
             "#f1b6da"
            ],
            [
             0.4,
             "#fde0ef"
            ],
            [
             0.5,
             "#f7f7f7"
            ],
            [
             0.6,
             "#e6f5d0"
            ],
            [
             0.7,
             "#b8e186"
            ],
            [
             0.8,
             "#7fbc41"
            ],
            [
             0.9,
             "#4d9221"
            ],
            [
             1,
             "#276419"
            ]
           ],
           "sequential": [
            [
             0,
             "#0d0887"
            ],
            [
             0.1111111111111111,
             "#46039f"
            ],
            [
             0.2222222222222222,
             "#7201a8"
            ],
            [
             0.3333333333333333,
             "#9c179e"
            ],
            [
             0.4444444444444444,
             "#bd3786"
            ],
            [
             0.5555555555555556,
             "#d8576b"
            ],
            [
             0.6666666666666666,
             "#ed7953"
            ],
            [
             0.7777777777777778,
             "#fb9f3a"
            ],
            [
             0.8888888888888888,
             "#fdca26"
            ],
            [
             1,
             "#f0f921"
            ]
           ],
           "sequentialminus": [
            [
             0,
             "#0d0887"
            ],
            [
             0.1111111111111111,
             "#46039f"
            ],
            [
             0.2222222222222222,
             "#7201a8"
            ],
            [
             0.3333333333333333,
             "#9c179e"
            ],
            [
             0.4444444444444444,
             "#bd3786"
            ],
            [
             0.5555555555555556,
             "#d8576b"
            ],
            [
             0.6666666666666666,
             "#ed7953"
            ],
            [
             0.7777777777777778,
             "#fb9f3a"
            ],
            [
             0.8888888888888888,
             "#fdca26"
            ],
            [
             1,
             "#f0f921"
            ]
           ]
          },
          "colorway": [
           "#636efa",
           "#EF553B",
           "#00cc96",
           "#ab63fa",
           "#FFA15A",
           "#19d3f3",
           "#FF6692",
           "#B6E880",
           "#FF97FF",
           "#FECB52"
          ],
          "font": {
           "color": "#2a3f5f"
          },
          "geo": {
           "bgcolor": "white",
           "lakecolor": "white",
           "landcolor": "#E5ECF6",
           "showlakes": true,
           "showland": true,
           "subunitcolor": "white"
          },
          "hoverlabel": {
           "align": "left"
          },
          "hovermode": "closest",
          "mapbox": {
           "style": "light"
          },
          "paper_bgcolor": "white",
          "plot_bgcolor": "#E5ECF6",
          "polar": {
           "angularaxis": {
            "gridcolor": "white",
            "linecolor": "white",
            "ticks": ""
           },
           "bgcolor": "#E5ECF6",
           "radialaxis": {
            "gridcolor": "white",
            "linecolor": "white",
            "ticks": ""
           }
          },
          "scene": {
           "xaxis": {
            "backgroundcolor": "#E5ECF6",
            "gridcolor": "white",
            "gridwidth": 2,
            "linecolor": "white",
            "showbackground": true,
            "ticks": "",
            "zerolinecolor": "white"
           },
           "yaxis": {
            "backgroundcolor": "#E5ECF6",
            "gridcolor": "white",
            "gridwidth": 2,
            "linecolor": "white",
            "showbackground": true,
            "ticks": "",
            "zerolinecolor": "white"
           },
           "zaxis": {
            "backgroundcolor": "#E5ECF6",
            "gridcolor": "white",
            "gridwidth": 2,
            "linecolor": "white",
            "showbackground": true,
            "ticks": "",
            "zerolinecolor": "white"
           }
          },
          "shapedefaults": {
           "line": {
            "color": "#2a3f5f"
           }
          },
          "ternary": {
           "aaxis": {
            "gridcolor": "white",
            "linecolor": "white",
            "ticks": ""
           },
           "baxis": {
            "gridcolor": "white",
            "linecolor": "white",
            "ticks": ""
           },
           "bgcolor": "#E5ECF6",
           "caxis": {
            "gridcolor": "white",
            "linecolor": "white",
            "ticks": ""
           }
          },
          "title": {
           "x": 0.05
          },
          "xaxis": {
           "automargin": true,
           "gridcolor": "white",
           "linecolor": "white",
           "ticks": "",
           "title": {
            "standoff": 15
           },
           "zerolinecolor": "white",
           "zerolinewidth": 2
          },
          "yaxis": {
           "automargin": true,
           "gridcolor": "white",
           "linecolor": "white",
           "ticks": "",
           "title": {
            "standoff": 15
           },
           "zerolinecolor": "white",
           "zerolinewidth": 2
          }
         }
        },
        "title": {
         "font": {
          "color": "#4D5663"
         }
        },
        "xaxis": {
         "gridcolor": "#E1E5ED",
         "showgrid": true,
         "tickfont": {
          "color": "#4D5663"
         },
         "title": {
          "font": {
           "color": "#4D5663"
          },
          "text": ""
         },
         "zerolinecolor": "#E1E5ED"
        },
        "yaxis": {
         "gridcolor": "#E1E5ED",
         "showgrid": true,
         "tickfont": {
          "color": "#4D5663"
         },
         "title": {
          "font": {
           "color": "#4D5663"
          },
          "text": ""
         },
         "zerolinecolor": "#E1E5ED"
        }
       }
      },
      "text/html": [
       "<div>                            <div id=\"ccb2835b-b863-4327-af41-3864c9bffdb5\" class=\"plotly-graph-div\" style=\"height:525px; width:100%;\"></div>            <script type=\"text/javascript\">                require([\"plotly\"], function(Plotly) {                    window.PLOTLYENV=window.PLOTLYENV || {};\n",
       "                    window.PLOTLYENV.BASE_URL='https://plot.ly';                                    if (document.getElementById(\"ccb2835b-b863-4327-af41-3864c9bffdb5\")) {                    Plotly.newPlot(                        \"ccb2835b-b863-4327-af41-3864c9bffdb5\",                        [{\"marker\":{\"color\":\"rgba(255, 153, 51, 0.6)\",\"line\":{\"color\":\"rgba(255, 153, 51, 1.0)\",\"width\":1}},\"name\":\"Values\",\"orientation\":\"v\",\"text\":\"\",\"type\":\"bar\",\"x\":[\"A\",\"B\",\"C\"],\"y\":[32,43,50]}],                        {\"legend\":{\"bgcolor\":\"#F5F6F9\",\"font\":{\"color\":\"#4D5663\"}},\"paper_bgcolor\":\"#F5F6F9\",\"plot_bgcolor\":\"#F5F6F9\",\"template\":{\"data\":{\"bar\":[{\"error_x\":{\"color\":\"#2a3f5f\"},\"error_y\":{\"color\":\"#2a3f5f\"},\"marker\":{\"line\":{\"color\":\"#E5ECF6\",\"width\":0.5},\"pattern\":{\"fillmode\":\"overlay\",\"size\":10,\"solidity\":0.2}},\"type\":\"bar\"}],\"barpolar\":[{\"marker\":{\"line\":{\"color\":\"#E5ECF6\",\"width\":0.5},\"pattern\":{\"fillmode\":\"overlay\",\"size\":10,\"solidity\":0.2}},\"type\":\"barpolar\"}],\"carpet\":[{\"aaxis\":{\"endlinecolor\":\"#2a3f5f\",\"gridcolor\":\"white\",\"linecolor\":\"white\",\"minorgridcolor\":\"white\",\"startlinecolor\":\"#2a3f5f\"},\"baxis\":{\"endlinecolor\":\"#2a3f5f\",\"gridcolor\":\"white\",\"linecolor\":\"white\",\"minorgridcolor\":\"white\",\"startlinecolor\":\"#2a3f5f\"},\"type\":\"carpet\"}],\"choropleth\":[{\"colorbar\":{\"outlinewidth\":0,\"ticks\":\"\"},\"type\":\"choropleth\"}],\"contour\":[{\"colorbar\":{\"outlinewidth\":0,\"ticks\":\"\"},\"colorscale\":[[0.0,\"#0d0887\"],[0.1111111111111111,\"#46039f\"],[0.2222222222222222,\"#7201a8\"],[0.3333333333333333,\"#9c179e\"],[0.4444444444444444,\"#bd3786\"],[0.5555555555555556,\"#d8576b\"],[0.6666666666666666,\"#ed7953\"],[0.7777777777777778,\"#fb9f3a\"],[0.8888888888888888,\"#fdca26\"],[1.0,\"#f0f921\"]],\"type\":\"contour\"}],\"contourcarpet\":[{\"colorbar\":{\"outlinewidth\":0,\"ticks\":\"\"},\"type\":\"contourcarpet\"}],\"heatmap\":[{\"colorbar\":{\"outlinewidth\":0,\"ticks\":\"\"},\"colorscale\":[[0.0,\"#0d0887\"],[0.1111111111111111,\"#46039f\"],[0.2222222222222222,\"#7201a8\"],[0.3333333333333333,\"#9c179e\"],[0.4444444444444444,\"#bd3786\"],[0.5555555555555556,\"#d8576b\"],[0.6666666666666666,\"#ed7953\"],[0.7777777777777778,\"#fb9f3a\"],[0.8888888888888888,\"#fdca26\"],[1.0,\"#f0f921\"]],\"type\":\"heatmap\"}],\"heatmapgl\":[{\"colorbar\":{\"outlinewidth\":0,\"ticks\":\"\"},\"colorscale\":[[0.0,\"#0d0887\"],[0.1111111111111111,\"#46039f\"],[0.2222222222222222,\"#7201a8\"],[0.3333333333333333,\"#9c179e\"],[0.4444444444444444,\"#bd3786\"],[0.5555555555555556,\"#d8576b\"],[0.6666666666666666,\"#ed7953\"],[0.7777777777777778,\"#fb9f3a\"],[0.8888888888888888,\"#fdca26\"],[1.0,\"#f0f921\"]],\"type\":\"heatmapgl\"}],\"histogram\":[{\"marker\":{\"pattern\":{\"fillmode\":\"overlay\",\"size\":10,\"solidity\":0.2}},\"type\":\"histogram\"}],\"histogram2d\":[{\"colorbar\":{\"outlinewidth\":0,\"ticks\":\"\"},\"colorscale\":[[0.0,\"#0d0887\"],[0.1111111111111111,\"#46039f\"],[0.2222222222222222,\"#7201a8\"],[0.3333333333333333,\"#9c179e\"],[0.4444444444444444,\"#bd3786\"],[0.5555555555555556,\"#d8576b\"],[0.6666666666666666,\"#ed7953\"],[0.7777777777777778,\"#fb9f3a\"],[0.8888888888888888,\"#fdca26\"],[1.0,\"#f0f921\"]],\"type\":\"histogram2d\"}],\"histogram2dcontour\":[{\"colorbar\":{\"outlinewidth\":0,\"ticks\":\"\"},\"colorscale\":[[0.0,\"#0d0887\"],[0.1111111111111111,\"#46039f\"],[0.2222222222222222,\"#7201a8\"],[0.3333333333333333,\"#9c179e\"],[0.4444444444444444,\"#bd3786\"],[0.5555555555555556,\"#d8576b\"],[0.6666666666666666,\"#ed7953\"],[0.7777777777777778,\"#fb9f3a\"],[0.8888888888888888,\"#fdca26\"],[1.0,\"#f0f921\"]],\"type\":\"histogram2dcontour\"}],\"mesh3d\":[{\"colorbar\":{\"outlinewidth\":0,\"ticks\":\"\"},\"type\":\"mesh3d\"}],\"parcoords\":[{\"line\":{\"colorbar\":{\"outlinewidth\":0,\"ticks\":\"\"}},\"type\":\"parcoords\"}],\"pie\":[{\"automargin\":true,\"type\":\"pie\"}],\"scatter\":[{\"marker\":{\"colorbar\":{\"outlinewidth\":0,\"ticks\":\"\"}},\"type\":\"scatter\"}],\"scatter3d\":[{\"line\":{\"colorbar\":{\"outlinewidth\":0,\"ticks\":\"\"}},\"marker\":{\"colorbar\":{\"outlinewidth\":0,\"ticks\":\"\"}},\"type\":\"scatter3d\"}],\"scattercarpet\":[{\"marker\":{\"colorbar\":{\"outlinewidth\":0,\"ticks\":\"\"}},\"type\":\"scattercarpet\"}],\"scattergeo\":[{\"marker\":{\"colorbar\":{\"outlinewidth\":0,\"ticks\":\"\"}},\"type\":\"scattergeo\"}],\"scattergl\":[{\"marker\":{\"colorbar\":{\"outlinewidth\":0,\"ticks\":\"\"}},\"type\":\"scattergl\"}],\"scattermapbox\":[{\"marker\":{\"colorbar\":{\"outlinewidth\":0,\"ticks\":\"\"}},\"type\":\"scattermapbox\"}],\"scatterpolar\":[{\"marker\":{\"colorbar\":{\"outlinewidth\":0,\"ticks\":\"\"}},\"type\":\"scatterpolar\"}],\"scatterpolargl\":[{\"marker\":{\"colorbar\":{\"outlinewidth\":0,\"ticks\":\"\"}},\"type\":\"scatterpolargl\"}],\"scatterternary\":[{\"marker\":{\"colorbar\":{\"outlinewidth\":0,\"ticks\":\"\"}},\"type\":\"scatterternary\"}],\"surface\":[{\"colorbar\":{\"outlinewidth\":0,\"ticks\":\"\"},\"colorscale\":[[0.0,\"#0d0887\"],[0.1111111111111111,\"#46039f\"],[0.2222222222222222,\"#7201a8\"],[0.3333333333333333,\"#9c179e\"],[0.4444444444444444,\"#bd3786\"],[0.5555555555555556,\"#d8576b\"],[0.6666666666666666,\"#ed7953\"],[0.7777777777777778,\"#fb9f3a\"],[0.8888888888888888,\"#fdca26\"],[1.0,\"#f0f921\"]],\"type\":\"surface\"}],\"table\":[{\"cells\":{\"fill\":{\"color\":\"#EBF0F8\"},\"line\":{\"color\":\"white\"}},\"header\":{\"fill\":{\"color\":\"#C8D4E3\"},\"line\":{\"color\":\"white\"}},\"type\":\"table\"}]},\"layout\":{\"annotationdefaults\":{\"arrowcolor\":\"#2a3f5f\",\"arrowhead\":0,\"arrowwidth\":1},\"autotypenumbers\":\"strict\",\"coloraxis\":{\"colorbar\":{\"outlinewidth\":0,\"ticks\":\"\"}},\"colorscale\":{\"diverging\":[[0,\"#8e0152\"],[0.1,\"#c51b7d\"],[0.2,\"#de77ae\"],[0.3,\"#f1b6da\"],[0.4,\"#fde0ef\"],[0.5,\"#f7f7f7\"],[0.6,\"#e6f5d0\"],[0.7,\"#b8e186\"],[0.8,\"#7fbc41\"],[0.9,\"#4d9221\"],[1,\"#276419\"]],\"sequential\":[[0.0,\"#0d0887\"],[0.1111111111111111,\"#46039f\"],[0.2222222222222222,\"#7201a8\"],[0.3333333333333333,\"#9c179e\"],[0.4444444444444444,\"#bd3786\"],[0.5555555555555556,\"#d8576b\"],[0.6666666666666666,\"#ed7953\"],[0.7777777777777778,\"#fb9f3a\"],[0.8888888888888888,\"#fdca26\"],[1.0,\"#f0f921\"]],\"sequentialminus\":[[0.0,\"#0d0887\"],[0.1111111111111111,\"#46039f\"],[0.2222222222222222,\"#7201a8\"],[0.3333333333333333,\"#9c179e\"],[0.4444444444444444,\"#bd3786\"],[0.5555555555555556,\"#d8576b\"],[0.6666666666666666,\"#ed7953\"],[0.7777777777777778,\"#fb9f3a\"],[0.8888888888888888,\"#fdca26\"],[1.0,\"#f0f921\"]]},\"colorway\":[\"#636efa\",\"#EF553B\",\"#00cc96\",\"#ab63fa\",\"#FFA15A\",\"#19d3f3\",\"#FF6692\",\"#B6E880\",\"#FF97FF\",\"#FECB52\"],\"font\":{\"color\":\"#2a3f5f\"},\"geo\":{\"bgcolor\":\"white\",\"lakecolor\":\"white\",\"landcolor\":\"#E5ECF6\",\"showlakes\":true,\"showland\":true,\"subunitcolor\":\"white\"},\"hoverlabel\":{\"align\":\"left\"},\"hovermode\":\"closest\",\"mapbox\":{\"style\":\"light\"},\"paper_bgcolor\":\"white\",\"plot_bgcolor\":\"#E5ECF6\",\"polar\":{\"angularaxis\":{\"gridcolor\":\"white\",\"linecolor\":\"white\",\"ticks\":\"\"},\"bgcolor\":\"#E5ECF6\",\"radialaxis\":{\"gridcolor\":\"white\",\"linecolor\":\"white\",\"ticks\":\"\"}},\"scene\":{\"xaxis\":{\"backgroundcolor\":\"#E5ECF6\",\"gridcolor\":\"white\",\"gridwidth\":2,\"linecolor\":\"white\",\"showbackground\":true,\"ticks\":\"\",\"zerolinecolor\":\"white\"},\"yaxis\":{\"backgroundcolor\":\"#E5ECF6\",\"gridcolor\":\"white\",\"gridwidth\":2,\"linecolor\":\"white\",\"showbackground\":true,\"ticks\":\"\",\"zerolinecolor\":\"white\"},\"zaxis\":{\"backgroundcolor\":\"#E5ECF6\",\"gridcolor\":\"white\",\"gridwidth\":2,\"linecolor\":\"white\",\"showbackground\":true,\"ticks\":\"\",\"zerolinecolor\":\"white\"}},\"shapedefaults\":{\"line\":{\"color\":\"#2a3f5f\"}},\"ternary\":{\"aaxis\":{\"gridcolor\":\"white\",\"linecolor\":\"white\",\"ticks\":\"\"},\"baxis\":{\"gridcolor\":\"white\",\"linecolor\":\"white\",\"ticks\":\"\"},\"bgcolor\":\"#E5ECF6\",\"caxis\":{\"gridcolor\":\"white\",\"linecolor\":\"white\",\"ticks\":\"\"}},\"title\":{\"x\":0.05},\"xaxis\":{\"automargin\":true,\"gridcolor\":\"white\",\"linecolor\":\"white\",\"ticks\":\"\",\"title\":{\"standoff\":15},\"zerolinecolor\":\"white\",\"zerolinewidth\":2},\"yaxis\":{\"automargin\":true,\"gridcolor\":\"white\",\"linecolor\":\"white\",\"ticks\":\"\",\"title\":{\"standoff\":15},\"zerolinecolor\":\"white\",\"zerolinewidth\":2}}},\"title\":{\"font\":{\"color\":\"#4D5663\"}},\"xaxis\":{\"gridcolor\":\"#E1E5ED\",\"showgrid\":true,\"tickfont\":{\"color\":\"#4D5663\"},\"title\":{\"font\":{\"color\":\"#4D5663\"},\"text\":\"\"},\"zerolinecolor\":\"#E1E5ED\"},\"yaxis\":{\"gridcolor\":\"#E1E5ED\",\"showgrid\":true,\"tickfont\":{\"color\":\"#4D5663\"},\"title\":{\"font\":{\"color\":\"#4D5663\"},\"text\":\"\"},\"zerolinecolor\":\"#E1E5ED\"}},                        {\"showLink\": true, \"linkText\": \"Export to plot.ly\", \"plotlyServerURL\": \"https://plot.ly\", \"responsive\": true}                    ).then(function(){\n",
       "                            \n",
       "var gd = document.getElementById('ccb2835b-b863-4327-af41-3864c9bffdb5');\n",
       "var x = new MutationObserver(function (mutations, observer) {{\n",
       "        var display = window.getComputedStyle(gd).display;\n",
       "        if (!display || display === 'none') {{\n",
       "            console.log([gd, 'removed!']);\n",
       "            Plotly.purge(gd);\n",
       "            observer.disconnect();\n",
       "        }}\n",
       "}});\n",
       "\n",
       "// Listen for the removal of the full notebook cells\n",
       "var notebookContainer = gd.closest('#notebook-container');\n",
       "if (notebookContainer) {{\n",
       "    x.observe(notebookContainer, {childList: true});\n",
       "}}\n",
       "\n",
       "// Listen for the clearing of the current output cell\n",
       "var outputEl = gd.closest('.output');\n",
       "if (outputEl) {{\n",
       "    x.observe(outputEl, {childList: true});\n",
       "}}\n",
       "\n",
       "                        })                };                });            </script>        </div>"
      ]
     },
     "metadata": {},
     "output_type": "display_data"
    }
   ],
   "source": [
    "df2.iplot(kind='bar',x='Category',y='Values')"
   ]
  },
  {
   "cell_type": "code",
   "execution_count": 19,
   "metadata": {},
   "outputs": [
    {
     "data": {
      "application/vnd.plotly.v1+json": {
       "config": {
        "linkText": "Export to plot.ly",
        "plotlyServerURL": "https://plot.ly",
        "showLink": true
       },
       "data": [
        {
         "marker": {
          "color": "rgba(255, 153, 51, 0.6)",
          "line": {
           "color": "rgba(255, 153, 51, 1.0)",
           "width": 1
          }
         },
         "name": "None",
         "orientation": "v",
         "text": "",
         "type": "bar",
         "x": [
          "A",
          "B",
          "C",
          "D"
         ],
         "y": [
          100,
          100,
          100,
          100
         ]
        }
       ],
       "layout": {
        "legend": {
         "bgcolor": "#F5F6F9",
         "font": {
          "color": "#4D5663"
         }
        },
        "paper_bgcolor": "#F5F6F9",
        "plot_bgcolor": "#F5F6F9",
        "template": {
         "data": {
          "bar": [
           {
            "error_x": {
             "color": "#2a3f5f"
            },
            "error_y": {
             "color": "#2a3f5f"
            },
            "marker": {
             "line": {
              "color": "#E5ECF6",
              "width": 0.5
             },
             "pattern": {
              "fillmode": "overlay",
              "size": 10,
              "solidity": 0.2
             }
            },
            "type": "bar"
           }
          ],
          "barpolar": [
           {
            "marker": {
             "line": {
              "color": "#E5ECF6",
              "width": 0.5
             },
             "pattern": {
              "fillmode": "overlay",
              "size": 10,
              "solidity": 0.2
             }
            },
            "type": "barpolar"
           }
          ],
          "carpet": [
           {
            "aaxis": {
             "endlinecolor": "#2a3f5f",
             "gridcolor": "white",
             "linecolor": "white",
             "minorgridcolor": "white",
             "startlinecolor": "#2a3f5f"
            },
            "baxis": {
             "endlinecolor": "#2a3f5f",
             "gridcolor": "white",
             "linecolor": "white",
             "minorgridcolor": "white",
             "startlinecolor": "#2a3f5f"
            },
            "type": "carpet"
           }
          ],
          "choropleth": [
           {
            "colorbar": {
             "outlinewidth": 0,
             "ticks": ""
            },
            "type": "choropleth"
           }
          ],
          "contour": [
           {
            "colorbar": {
             "outlinewidth": 0,
             "ticks": ""
            },
            "colorscale": [
             [
              0,
              "#0d0887"
             ],
             [
              0.1111111111111111,
              "#46039f"
             ],
             [
              0.2222222222222222,
              "#7201a8"
             ],
             [
              0.3333333333333333,
              "#9c179e"
             ],
             [
              0.4444444444444444,
              "#bd3786"
             ],
             [
              0.5555555555555556,
              "#d8576b"
             ],
             [
              0.6666666666666666,
              "#ed7953"
             ],
             [
              0.7777777777777778,
              "#fb9f3a"
             ],
             [
              0.8888888888888888,
              "#fdca26"
             ],
             [
              1,
              "#f0f921"
             ]
            ],
            "type": "contour"
           }
          ],
          "contourcarpet": [
           {
            "colorbar": {
             "outlinewidth": 0,
             "ticks": ""
            },
            "type": "contourcarpet"
           }
          ],
          "heatmap": [
           {
            "colorbar": {
             "outlinewidth": 0,
             "ticks": ""
            },
            "colorscale": [
             [
              0,
              "#0d0887"
             ],
             [
              0.1111111111111111,
              "#46039f"
             ],
             [
              0.2222222222222222,
              "#7201a8"
             ],
             [
              0.3333333333333333,
              "#9c179e"
             ],
             [
              0.4444444444444444,
              "#bd3786"
             ],
             [
              0.5555555555555556,
              "#d8576b"
             ],
             [
              0.6666666666666666,
              "#ed7953"
             ],
             [
              0.7777777777777778,
              "#fb9f3a"
             ],
             [
              0.8888888888888888,
              "#fdca26"
             ],
             [
              1,
              "#f0f921"
             ]
            ],
            "type": "heatmap"
           }
          ],
          "heatmapgl": [
           {
            "colorbar": {
             "outlinewidth": 0,
             "ticks": ""
            },
            "colorscale": [
             [
              0,
              "#0d0887"
             ],
             [
              0.1111111111111111,
              "#46039f"
             ],
             [
              0.2222222222222222,
              "#7201a8"
             ],
             [
              0.3333333333333333,
              "#9c179e"
             ],
             [
              0.4444444444444444,
              "#bd3786"
             ],
             [
              0.5555555555555556,
              "#d8576b"
             ],
             [
              0.6666666666666666,
              "#ed7953"
             ],
             [
              0.7777777777777778,
              "#fb9f3a"
             ],
             [
              0.8888888888888888,
              "#fdca26"
             ],
             [
              1,
              "#f0f921"
             ]
            ],
            "type": "heatmapgl"
           }
          ],
          "histogram": [
           {
            "marker": {
             "pattern": {
              "fillmode": "overlay",
              "size": 10,
              "solidity": 0.2
             }
            },
            "type": "histogram"
           }
          ],
          "histogram2d": [
           {
            "colorbar": {
             "outlinewidth": 0,
             "ticks": ""
            },
            "colorscale": [
             [
              0,
              "#0d0887"
             ],
             [
              0.1111111111111111,
              "#46039f"
             ],
             [
              0.2222222222222222,
              "#7201a8"
             ],
             [
              0.3333333333333333,
              "#9c179e"
             ],
             [
              0.4444444444444444,
              "#bd3786"
             ],
             [
              0.5555555555555556,
              "#d8576b"
             ],
             [
              0.6666666666666666,
              "#ed7953"
             ],
             [
              0.7777777777777778,
              "#fb9f3a"
             ],
             [
              0.8888888888888888,
              "#fdca26"
             ],
             [
              1,
              "#f0f921"
             ]
            ],
            "type": "histogram2d"
           }
          ],
          "histogram2dcontour": [
           {
            "colorbar": {
             "outlinewidth": 0,
             "ticks": ""
            },
            "colorscale": [
             [
              0,
              "#0d0887"
             ],
             [
              0.1111111111111111,
              "#46039f"
             ],
             [
              0.2222222222222222,
              "#7201a8"
             ],
             [
              0.3333333333333333,
              "#9c179e"
             ],
             [
              0.4444444444444444,
              "#bd3786"
             ],
             [
              0.5555555555555556,
              "#d8576b"
             ],
             [
              0.6666666666666666,
              "#ed7953"
             ],
             [
              0.7777777777777778,
              "#fb9f3a"
             ],
             [
              0.8888888888888888,
              "#fdca26"
             ],
             [
              1,
              "#f0f921"
             ]
            ],
            "type": "histogram2dcontour"
           }
          ],
          "mesh3d": [
           {
            "colorbar": {
             "outlinewidth": 0,
             "ticks": ""
            },
            "type": "mesh3d"
           }
          ],
          "parcoords": [
           {
            "line": {
             "colorbar": {
              "outlinewidth": 0,
              "ticks": ""
             }
            },
            "type": "parcoords"
           }
          ],
          "pie": [
           {
            "automargin": true,
            "type": "pie"
           }
          ],
          "scatter": [
           {
            "marker": {
             "colorbar": {
              "outlinewidth": 0,
              "ticks": ""
             }
            },
            "type": "scatter"
           }
          ],
          "scatter3d": [
           {
            "line": {
             "colorbar": {
              "outlinewidth": 0,
              "ticks": ""
             }
            },
            "marker": {
             "colorbar": {
              "outlinewidth": 0,
              "ticks": ""
             }
            },
            "type": "scatter3d"
           }
          ],
          "scattercarpet": [
           {
            "marker": {
             "colorbar": {
              "outlinewidth": 0,
              "ticks": ""
             }
            },
            "type": "scattercarpet"
           }
          ],
          "scattergeo": [
           {
            "marker": {
             "colorbar": {
              "outlinewidth": 0,
              "ticks": ""
             }
            },
            "type": "scattergeo"
           }
          ],
          "scattergl": [
           {
            "marker": {
             "colorbar": {
              "outlinewidth": 0,
              "ticks": ""
             }
            },
            "type": "scattergl"
           }
          ],
          "scattermapbox": [
           {
            "marker": {
             "colorbar": {
              "outlinewidth": 0,
              "ticks": ""
             }
            },
            "type": "scattermapbox"
           }
          ],
          "scatterpolar": [
           {
            "marker": {
             "colorbar": {
              "outlinewidth": 0,
              "ticks": ""
             }
            },
            "type": "scatterpolar"
           }
          ],
          "scatterpolargl": [
           {
            "marker": {
             "colorbar": {
              "outlinewidth": 0,
              "ticks": ""
             }
            },
            "type": "scatterpolargl"
           }
          ],
          "scatterternary": [
           {
            "marker": {
             "colorbar": {
              "outlinewidth": 0,
              "ticks": ""
             }
            },
            "type": "scatterternary"
           }
          ],
          "surface": [
           {
            "colorbar": {
             "outlinewidth": 0,
             "ticks": ""
            },
            "colorscale": [
             [
              0,
              "#0d0887"
             ],
             [
              0.1111111111111111,
              "#46039f"
             ],
             [
              0.2222222222222222,
              "#7201a8"
             ],
             [
              0.3333333333333333,
              "#9c179e"
             ],
             [
              0.4444444444444444,
              "#bd3786"
             ],
             [
              0.5555555555555556,
              "#d8576b"
             ],
             [
              0.6666666666666666,
              "#ed7953"
             ],
             [
              0.7777777777777778,
              "#fb9f3a"
             ],
             [
              0.8888888888888888,
              "#fdca26"
             ],
             [
              1,
              "#f0f921"
             ]
            ],
            "type": "surface"
           }
          ],
          "table": [
           {
            "cells": {
             "fill": {
              "color": "#EBF0F8"
             },
             "line": {
              "color": "white"
             }
            },
            "header": {
             "fill": {
              "color": "#C8D4E3"
             },
             "line": {
              "color": "white"
             }
            },
            "type": "table"
           }
          ]
         },
         "layout": {
          "annotationdefaults": {
           "arrowcolor": "#2a3f5f",
           "arrowhead": 0,
           "arrowwidth": 1
          },
          "autotypenumbers": "strict",
          "coloraxis": {
           "colorbar": {
            "outlinewidth": 0,
            "ticks": ""
           }
          },
          "colorscale": {
           "diverging": [
            [
             0,
             "#8e0152"
            ],
            [
             0.1,
             "#c51b7d"
            ],
            [
             0.2,
             "#de77ae"
            ],
            [
             0.3,
             "#f1b6da"
            ],
            [
             0.4,
             "#fde0ef"
            ],
            [
             0.5,
             "#f7f7f7"
            ],
            [
             0.6,
             "#e6f5d0"
            ],
            [
             0.7,
             "#b8e186"
            ],
            [
             0.8,
             "#7fbc41"
            ],
            [
             0.9,
             "#4d9221"
            ],
            [
             1,
             "#276419"
            ]
           ],
           "sequential": [
            [
             0,
             "#0d0887"
            ],
            [
             0.1111111111111111,
             "#46039f"
            ],
            [
             0.2222222222222222,
             "#7201a8"
            ],
            [
             0.3333333333333333,
             "#9c179e"
            ],
            [
             0.4444444444444444,
             "#bd3786"
            ],
            [
             0.5555555555555556,
             "#d8576b"
            ],
            [
             0.6666666666666666,
             "#ed7953"
            ],
            [
             0.7777777777777778,
             "#fb9f3a"
            ],
            [
             0.8888888888888888,
             "#fdca26"
            ],
            [
             1,
             "#f0f921"
            ]
           ],
           "sequentialminus": [
            [
             0,
             "#0d0887"
            ],
            [
             0.1111111111111111,
             "#46039f"
            ],
            [
             0.2222222222222222,
             "#7201a8"
            ],
            [
             0.3333333333333333,
             "#9c179e"
            ],
            [
             0.4444444444444444,
             "#bd3786"
            ],
            [
             0.5555555555555556,
             "#d8576b"
            ],
            [
             0.6666666666666666,
             "#ed7953"
            ],
            [
             0.7777777777777778,
             "#fb9f3a"
            ],
            [
             0.8888888888888888,
             "#fdca26"
            ],
            [
             1,
             "#f0f921"
            ]
           ]
          },
          "colorway": [
           "#636efa",
           "#EF553B",
           "#00cc96",
           "#ab63fa",
           "#FFA15A",
           "#19d3f3",
           "#FF6692",
           "#B6E880",
           "#FF97FF",
           "#FECB52"
          ],
          "font": {
           "color": "#2a3f5f"
          },
          "geo": {
           "bgcolor": "white",
           "lakecolor": "white",
           "landcolor": "#E5ECF6",
           "showlakes": true,
           "showland": true,
           "subunitcolor": "white"
          },
          "hoverlabel": {
           "align": "left"
          },
          "hovermode": "closest",
          "mapbox": {
           "style": "light"
          },
          "paper_bgcolor": "white",
          "plot_bgcolor": "#E5ECF6",
          "polar": {
           "angularaxis": {
            "gridcolor": "white",
            "linecolor": "white",
            "ticks": ""
           },
           "bgcolor": "#E5ECF6",
           "radialaxis": {
            "gridcolor": "white",
            "linecolor": "white",
            "ticks": ""
           }
          },
          "scene": {
           "xaxis": {
            "backgroundcolor": "#E5ECF6",
            "gridcolor": "white",
            "gridwidth": 2,
            "linecolor": "white",
            "showbackground": true,
            "ticks": "",
            "zerolinecolor": "white"
           },
           "yaxis": {
            "backgroundcolor": "#E5ECF6",
            "gridcolor": "white",
            "gridwidth": 2,
            "linecolor": "white",
            "showbackground": true,
            "ticks": "",
            "zerolinecolor": "white"
           },
           "zaxis": {
            "backgroundcolor": "#E5ECF6",
            "gridcolor": "white",
            "gridwidth": 2,
            "linecolor": "white",
            "showbackground": true,
            "ticks": "",
            "zerolinecolor": "white"
           }
          },
          "shapedefaults": {
           "line": {
            "color": "#2a3f5f"
           }
          },
          "ternary": {
           "aaxis": {
            "gridcolor": "white",
            "linecolor": "white",
            "ticks": ""
           },
           "baxis": {
            "gridcolor": "white",
            "linecolor": "white",
            "ticks": ""
           },
           "bgcolor": "#E5ECF6",
           "caxis": {
            "gridcolor": "white",
            "linecolor": "white",
            "ticks": ""
           }
          },
          "title": {
           "x": 0.05
          },
          "xaxis": {
           "automargin": true,
           "gridcolor": "white",
           "linecolor": "white",
           "ticks": "",
           "title": {
            "standoff": 15
           },
           "zerolinecolor": "white",
           "zerolinewidth": 2
          },
          "yaxis": {
           "automargin": true,
           "gridcolor": "white",
           "linecolor": "white",
           "ticks": "",
           "title": {
            "standoff": 15
           },
           "zerolinecolor": "white",
           "zerolinewidth": 2
          }
         }
        },
        "title": {
         "font": {
          "color": "#4D5663"
         }
        },
        "xaxis": {
         "gridcolor": "#E1E5ED",
         "showgrid": true,
         "tickfont": {
          "color": "#4D5663"
         },
         "title": {
          "font": {
           "color": "#4D5663"
          },
          "text": ""
         },
         "zerolinecolor": "#E1E5ED"
        },
        "yaxis": {
         "gridcolor": "#E1E5ED",
         "showgrid": true,
         "tickfont": {
          "color": "#4D5663"
         },
         "title": {
          "font": {
           "color": "#4D5663"
          },
          "text": ""
         },
         "zerolinecolor": "#E1E5ED"
        }
       }
      },
      "text/html": [
       "<div>                            <div id=\"e468b0bd-4ff1-494f-91b0-151d603a0e17\" class=\"plotly-graph-div\" style=\"height:525px; width:100%;\"></div>            <script type=\"text/javascript\">                require([\"plotly\"], function(Plotly) {                    window.PLOTLYENV=window.PLOTLYENV || {};\n",
       "                    window.PLOTLYENV.BASE_URL='https://plot.ly';                                    if (document.getElementById(\"e468b0bd-4ff1-494f-91b0-151d603a0e17\")) {                    Plotly.newPlot(                        \"e468b0bd-4ff1-494f-91b0-151d603a0e17\",                        [{\"marker\":{\"color\":\"rgba(255, 153, 51, 0.6)\",\"line\":{\"color\":\"rgba(255, 153, 51, 1.0)\",\"width\":1}},\"name\":\"None\",\"orientation\":\"v\",\"text\":\"\",\"type\":\"bar\",\"x\":[\"A\",\"B\",\"C\",\"D\"],\"y\":[100,100,100,100]}],                        {\"legend\":{\"bgcolor\":\"#F5F6F9\",\"font\":{\"color\":\"#4D5663\"}},\"paper_bgcolor\":\"#F5F6F9\",\"plot_bgcolor\":\"#F5F6F9\",\"template\":{\"data\":{\"bar\":[{\"error_x\":{\"color\":\"#2a3f5f\"},\"error_y\":{\"color\":\"#2a3f5f\"},\"marker\":{\"line\":{\"color\":\"#E5ECF6\",\"width\":0.5},\"pattern\":{\"fillmode\":\"overlay\",\"size\":10,\"solidity\":0.2}},\"type\":\"bar\"}],\"barpolar\":[{\"marker\":{\"line\":{\"color\":\"#E5ECF6\",\"width\":0.5},\"pattern\":{\"fillmode\":\"overlay\",\"size\":10,\"solidity\":0.2}},\"type\":\"barpolar\"}],\"carpet\":[{\"aaxis\":{\"endlinecolor\":\"#2a3f5f\",\"gridcolor\":\"white\",\"linecolor\":\"white\",\"minorgridcolor\":\"white\",\"startlinecolor\":\"#2a3f5f\"},\"baxis\":{\"endlinecolor\":\"#2a3f5f\",\"gridcolor\":\"white\",\"linecolor\":\"white\",\"minorgridcolor\":\"white\",\"startlinecolor\":\"#2a3f5f\"},\"type\":\"carpet\"}],\"choropleth\":[{\"colorbar\":{\"outlinewidth\":0,\"ticks\":\"\"},\"type\":\"choropleth\"}],\"contour\":[{\"colorbar\":{\"outlinewidth\":0,\"ticks\":\"\"},\"colorscale\":[[0.0,\"#0d0887\"],[0.1111111111111111,\"#46039f\"],[0.2222222222222222,\"#7201a8\"],[0.3333333333333333,\"#9c179e\"],[0.4444444444444444,\"#bd3786\"],[0.5555555555555556,\"#d8576b\"],[0.6666666666666666,\"#ed7953\"],[0.7777777777777778,\"#fb9f3a\"],[0.8888888888888888,\"#fdca26\"],[1.0,\"#f0f921\"]],\"type\":\"contour\"}],\"contourcarpet\":[{\"colorbar\":{\"outlinewidth\":0,\"ticks\":\"\"},\"type\":\"contourcarpet\"}],\"heatmap\":[{\"colorbar\":{\"outlinewidth\":0,\"ticks\":\"\"},\"colorscale\":[[0.0,\"#0d0887\"],[0.1111111111111111,\"#46039f\"],[0.2222222222222222,\"#7201a8\"],[0.3333333333333333,\"#9c179e\"],[0.4444444444444444,\"#bd3786\"],[0.5555555555555556,\"#d8576b\"],[0.6666666666666666,\"#ed7953\"],[0.7777777777777778,\"#fb9f3a\"],[0.8888888888888888,\"#fdca26\"],[1.0,\"#f0f921\"]],\"type\":\"heatmap\"}],\"heatmapgl\":[{\"colorbar\":{\"outlinewidth\":0,\"ticks\":\"\"},\"colorscale\":[[0.0,\"#0d0887\"],[0.1111111111111111,\"#46039f\"],[0.2222222222222222,\"#7201a8\"],[0.3333333333333333,\"#9c179e\"],[0.4444444444444444,\"#bd3786\"],[0.5555555555555556,\"#d8576b\"],[0.6666666666666666,\"#ed7953\"],[0.7777777777777778,\"#fb9f3a\"],[0.8888888888888888,\"#fdca26\"],[1.0,\"#f0f921\"]],\"type\":\"heatmapgl\"}],\"histogram\":[{\"marker\":{\"pattern\":{\"fillmode\":\"overlay\",\"size\":10,\"solidity\":0.2}},\"type\":\"histogram\"}],\"histogram2d\":[{\"colorbar\":{\"outlinewidth\":0,\"ticks\":\"\"},\"colorscale\":[[0.0,\"#0d0887\"],[0.1111111111111111,\"#46039f\"],[0.2222222222222222,\"#7201a8\"],[0.3333333333333333,\"#9c179e\"],[0.4444444444444444,\"#bd3786\"],[0.5555555555555556,\"#d8576b\"],[0.6666666666666666,\"#ed7953\"],[0.7777777777777778,\"#fb9f3a\"],[0.8888888888888888,\"#fdca26\"],[1.0,\"#f0f921\"]],\"type\":\"histogram2d\"}],\"histogram2dcontour\":[{\"colorbar\":{\"outlinewidth\":0,\"ticks\":\"\"},\"colorscale\":[[0.0,\"#0d0887\"],[0.1111111111111111,\"#46039f\"],[0.2222222222222222,\"#7201a8\"],[0.3333333333333333,\"#9c179e\"],[0.4444444444444444,\"#bd3786\"],[0.5555555555555556,\"#d8576b\"],[0.6666666666666666,\"#ed7953\"],[0.7777777777777778,\"#fb9f3a\"],[0.8888888888888888,\"#fdca26\"],[1.0,\"#f0f921\"]],\"type\":\"histogram2dcontour\"}],\"mesh3d\":[{\"colorbar\":{\"outlinewidth\":0,\"ticks\":\"\"},\"type\":\"mesh3d\"}],\"parcoords\":[{\"line\":{\"colorbar\":{\"outlinewidth\":0,\"ticks\":\"\"}},\"type\":\"parcoords\"}],\"pie\":[{\"automargin\":true,\"type\":\"pie\"}],\"scatter\":[{\"marker\":{\"colorbar\":{\"outlinewidth\":0,\"ticks\":\"\"}},\"type\":\"scatter\"}],\"scatter3d\":[{\"line\":{\"colorbar\":{\"outlinewidth\":0,\"ticks\":\"\"}},\"marker\":{\"colorbar\":{\"outlinewidth\":0,\"ticks\":\"\"}},\"type\":\"scatter3d\"}],\"scattercarpet\":[{\"marker\":{\"colorbar\":{\"outlinewidth\":0,\"ticks\":\"\"}},\"type\":\"scattercarpet\"}],\"scattergeo\":[{\"marker\":{\"colorbar\":{\"outlinewidth\":0,\"ticks\":\"\"}},\"type\":\"scattergeo\"}],\"scattergl\":[{\"marker\":{\"colorbar\":{\"outlinewidth\":0,\"ticks\":\"\"}},\"type\":\"scattergl\"}],\"scattermapbox\":[{\"marker\":{\"colorbar\":{\"outlinewidth\":0,\"ticks\":\"\"}},\"type\":\"scattermapbox\"}],\"scatterpolar\":[{\"marker\":{\"colorbar\":{\"outlinewidth\":0,\"ticks\":\"\"}},\"type\":\"scatterpolar\"}],\"scatterpolargl\":[{\"marker\":{\"colorbar\":{\"outlinewidth\":0,\"ticks\":\"\"}},\"type\":\"scatterpolargl\"}],\"scatterternary\":[{\"marker\":{\"colorbar\":{\"outlinewidth\":0,\"ticks\":\"\"}},\"type\":\"scatterternary\"}],\"surface\":[{\"colorbar\":{\"outlinewidth\":0,\"ticks\":\"\"},\"colorscale\":[[0.0,\"#0d0887\"],[0.1111111111111111,\"#46039f\"],[0.2222222222222222,\"#7201a8\"],[0.3333333333333333,\"#9c179e\"],[0.4444444444444444,\"#bd3786\"],[0.5555555555555556,\"#d8576b\"],[0.6666666666666666,\"#ed7953\"],[0.7777777777777778,\"#fb9f3a\"],[0.8888888888888888,\"#fdca26\"],[1.0,\"#f0f921\"]],\"type\":\"surface\"}],\"table\":[{\"cells\":{\"fill\":{\"color\":\"#EBF0F8\"},\"line\":{\"color\":\"white\"}},\"header\":{\"fill\":{\"color\":\"#C8D4E3\"},\"line\":{\"color\":\"white\"}},\"type\":\"table\"}]},\"layout\":{\"annotationdefaults\":{\"arrowcolor\":\"#2a3f5f\",\"arrowhead\":0,\"arrowwidth\":1},\"autotypenumbers\":\"strict\",\"coloraxis\":{\"colorbar\":{\"outlinewidth\":0,\"ticks\":\"\"}},\"colorscale\":{\"diverging\":[[0,\"#8e0152\"],[0.1,\"#c51b7d\"],[0.2,\"#de77ae\"],[0.3,\"#f1b6da\"],[0.4,\"#fde0ef\"],[0.5,\"#f7f7f7\"],[0.6,\"#e6f5d0\"],[0.7,\"#b8e186\"],[0.8,\"#7fbc41\"],[0.9,\"#4d9221\"],[1,\"#276419\"]],\"sequential\":[[0.0,\"#0d0887\"],[0.1111111111111111,\"#46039f\"],[0.2222222222222222,\"#7201a8\"],[0.3333333333333333,\"#9c179e\"],[0.4444444444444444,\"#bd3786\"],[0.5555555555555556,\"#d8576b\"],[0.6666666666666666,\"#ed7953\"],[0.7777777777777778,\"#fb9f3a\"],[0.8888888888888888,\"#fdca26\"],[1.0,\"#f0f921\"]],\"sequentialminus\":[[0.0,\"#0d0887\"],[0.1111111111111111,\"#46039f\"],[0.2222222222222222,\"#7201a8\"],[0.3333333333333333,\"#9c179e\"],[0.4444444444444444,\"#bd3786\"],[0.5555555555555556,\"#d8576b\"],[0.6666666666666666,\"#ed7953\"],[0.7777777777777778,\"#fb9f3a\"],[0.8888888888888888,\"#fdca26\"],[1.0,\"#f0f921\"]]},\"colorway\":[\"#636efa\",\"#EF553B\",\"#00cc96\",\"#ab63fa\",\"#FFA15A\",\"#19d3f3\",\"#FF6692\",\"#B6E880\",\"#FF97FF\",\"#FECB52\"],\"font\":{\"color\":\"#2a3f5f\"},\"geo\":{\"bgcolor\":\"white\",\"lakecolor\":\"white\",\"landcolor\":\"#E5ECF6\",\"showlakes\":true,\"showland\":true,\"subunitcolor\":\"white\"},\"hoverlabel\":{\"align\":\"left\"},\"hovermode\":\"closest\",\"mapbox\":{\"style\":\"light\"},\"paper_bgcolor\":\"white\",\"plot_bgcolor\":\"#E5ECF6\",\"polar\":{\"angularaxis\":{\"gridcolor\":\"white\",\"linecolor\":\"white\",\"ticks\":\"\"},\"bgcolor\":\"#E5ECF6\",\"radialaxis\":{\"gridcolor\":\"white\",\"linecolor\":\"white\",\"ticks\":\"\"}},\"scene\":{\"xaxis\":{\"backgroundcolor\":\"#E5ECF6\",\"gridcolor\":\"white\",\"gridwidth\":2,\"linecolor\":\"white\",\"showbackground\":true,\"ticks\":\"\",\"zerolinecolor\":\"white\"},\"yaxis\":{\"backgroundcolor\":\"#E5ECF6\",\"gridcolor\":\"white\",\"gridwidth\":2,\"linecolor\":\"white\",\"showbackground\":true,\"ticks\":\"\",\"zerolinecolor\":\"white\"},\"zaxis\":{\"backgroundcolor\":\"#E5ECF6\",\"gridcolor\":\"white\",\"gridwidth\":2,\"linecolor\":\"white\",\"showbackground\":true,\"ticks\":\"\",\"zerolinecolor\":\"white\"}},\"shapedefaults\":{\"line\":{\"color\":\"#2a3f5f\"}},\"ternary\":{\"aaxis\":{\"gridcolor\":\"white\",\"linecolor\":\"white\",\"ticks\":\"\"},\"baxis\":{\"gridcolor\":\"white\",\"linecolor\":\"white\",\"ticks\":\"\"},\"bgcolor\":\"#E5ECF6\",\"caxis\":{\"gridcolor\":\"white\",\"linecolor\":\"white\",\"ticks\":\"\"}},\"title\":{\"x\":0.05},\"xaxis\":{\"automargin\":true,\"gridcolor\":\"white\",\"linecolor\":\"white\",\"ticks\":\"\",\"title\":{\"standoff\":15},\"zerolinecolor\":\"white\",\"zerolinewidth\":2},\"yaxis\":{\"automargin\":true,\"gridcolor\":\"white\",\"linecolor\":\"white\",\"ticks\":\"\",\"title\":{\"standoff\":15},\"zerolinecolor\":\"white\",\"zerolinewidth\":2}}},\"title\":{\"font\":{\"color\":\"#4D5663\"}},\"xaxis\":{\"gridcolor\":\"#E1E5ED\",\"showgrid\":true,\"tickfont\":{\"color\":\"#4D5663\"},\"title\":{\"font\":{\"color\":\"#4D5663\"},\"text\":\"\"},\"zerolinecolor\":\"#E1E5ED\"},\"yaxis\":{\"gridcolor\":\"#E1E5ED\",\"showgrid\":true,\"tickfont\":{\"color\":\"#4D5663\"},\"title\":{\"font\":{\"color\":\"#4D5663\"},\"text\":\"\"},\"zerolinecolor\":\"#E1E5ED\"}},                        {\"showLink\": true, \"linkText\": \"Export to plot.ly\", \"plotlyServerURL\": \"https://plot.ly\", \"responsive\": true}                    ).then(function(){\n",
       "                            \n",
       "var gd = document.getElementById('e468b0bd-4ff1-494f-91b0-151d603a0e17');\n",
       "var x = new MutationObserver(function (mutations, observer) {{\n",
       "        var display = window.getComputedStyle(gd).display;\n",
       "        if (!display || display === 'none') {{\n",
       "            console.log([gd, 'removed!']);\n",
       "            Plotly.purge(gd);\n",
       "            observer.disconnect();\n",
       "        }}\n",
       "}});\n",
       "\n",
       "// Listen for the removal of the full notebook cells\n",
       "var notebookContainer = gd.closest('#notebook-container');\n",
       "if (notebookContainer) {{\n",
       "    x.observe(notebookContainer, {childList: true});\n",
       "}}\n",
       "\n",
       "// Listen for the clearing of the current output cell\n",
       "var outputEl = gd.closest('.output');\n",
       "if (outputEl) {{\n",
       "    x.observe(outputEl, {childList: true});\n",
       "}}\n",
       "\n",
       "                        })                };                });            </script>        </div>"
      ]
     },
     "metadata": {},
     "output_type": "display_data"
    }
   ],
   "source": [
    "df.count().iplot(kind='bar')"
   ]
  },
  {
   "cell_type": "code",
   "execution_count": 20,
   "metadata": {},
   "outputs": [
    {
     "data": {
      "application/vnd.plotly.v1+json": {
       "config": {
        "linkText": "Export to plot.ly",
        "plotlyServerURL": "https://plot.ly",
        "showLink": true
       },
       "data": [
        {
         "colorscale": [
          [
           0,
           "rgb(165,0,38)"
          ],
          [
           0.1,
           "rgb(215,48,39)"
          ],
          [
           0.2,
           "rgb(244,109,67)"
          ],
          [
           0.3,
           "rgb(253,174,97)"
          ],
          [
           0.4,
           "rgb(254,224,144)"
          ],
          [
           0.5,
           "rgb(255,255,191)"
          ],
          [
           0.6,
           "rgb(224,243,248)"
          ],
          [
           0.7,
           "rgb(171,217,233)"
          ],
          [
           0.8,
           "rgb(116,173,209)"
          ],
          [
           0.9,
           "rgb(69,117,180)"
          ],
          [
           1,
           "rgb(49,54,149)"
          ]
         ],
         "type": "surface",
         "x": [
          0,
          1,
          2,
          3,
          4
         ],
         "y": [
          "x",
          "y",
          "z"
         ],
         "z": [
          [
           1,
           2,
           3,
           4,
           5
          ],
          [
           10,
           20,
           30,
           20,
           10
          ],
          [
           5,
           4,
           3,
           2,
           1
          ]
         ]
        }
       ],
       "layout": {
        "legend": {
         "bgcolor": "#F5F6F9",
         "font": {
          "color": "#4D5663"
         }
        },
        "paper_bgcolor": "#F5F6F9",
        "plot_bgcolor": "#F5F6F9",
        "template": {
         "data": {
          "bar": [
           {
            "error_x": {
             "color": "#2a3f5f"
            },
            "error_y": {
             "color": "#2a3f5f"
            },
            "marker": {
             "line": {
              "color": "#E5ECF6",
              "width": 0.5
             },
             "pattern": {
              "fillmode": "overlay",
              "size": 10,
              "solidity": 0.2
             }
            },
            "type": "bar"
           }
          ],
          "barpolar": [
           {
            "marker": {
             "line": {
              "color": "#E5ECF6",
              "width": 0.5
             },
             "pattern": {
              "fillmode": "overlay",
              "size": 10,
              "solidity": 0.2
             }
            },
            "type": "barpolar"
           }
          ],
          "carpet": [
           {
            "aaxis": {
             "endlinecolor": "#2a3f5f",
             "gridcolor": "white",
             "linecolor": "white",
             "minorgridcolor": "white",
             "startlinecolor": "#2a3f5f"
            },
            "baxis": {
             "endlinecolor": "#2a3f5f",
             "gridcolor": "white",
             "linecolor": "white",
             "minorgridcolor": "white",
             "startlinecolor": "#2a3f5f"
            },
            "type": "carpet"
           }
          ],
          "choropleth": [
           {
            "colorbar": {
             "outlinewidth": 0,
             "ticks": ""
            },
            "type": "choropleth"
           }
          ],
          "contour": [
           {
            "colorbar": {
             "outlinewidth": 0,
             "ticks": ""
            },
            "colorscale": [
             [
              0,
              "#0d0887"
             ],
             [
              0.1111111111111111,
              "#46039f"
             ],
             [
              0.2222222222222222,
              "#7201a8"
             ],
             [
              0.3333333333333333,
              "#9c179e"
             ],
             [
              0.4444444444444444,
              "#bd3786"
             ],
             [
              0.5555555555555556,
              "#d8576b"
             ],
             [
              0.6666666666666666,
              "#ed7953"
             ],
             [
              0.7777777777777778,
              "#fb9f3a"
             ],
             [
              0.8888888888888888,
              "#fdca26"
             ],
             [
              1,
              "#f0f921"
             ]
            ],
            "type": "contour"
           }
          ],
          "contourcarpet": [
           {
            "colorbar": {
             "outlinewidth": 0,
             "ticks": ""
            },
            "type": "contourcarpet"
           }
          ],
          "heatmap": [
           {
            "colorbar": {
             "outlinewidth": 0,
             "ticks": ""
            },
            "colorscale": [
             [
              0,
              "#0d0887"
             ],
             [
              0.1111111111111111,
              "#46039f"
             ],
             [
              0.2222222222222222,
              "#7201a8"
             ],
             [
              0.3333333333333333,
              "#9c179e"
             ],
             [
              0.4444444444444444,
              "#bd3786"
             ],
             [
              0.5555555555555556,
              "#d8576b"
             ],
             [
              0.6666666666666666,
              "#ed7953"
             ],
             [
              0.7777777777777778,
              "#fb9f3a"
             ],
             [
              0.8888888888888888,
              "#fdca26"
             ],
             [
              1,
              "#f0f921"
             ]
            ],
            "type": "heatmap"
           }
          ],
          "heatmapgl": [
           {
            "colorbar": {
             "outlinewidth": 0,
             "ticks": ""
            },
            "colorscale": [
             [
              0,
              "#0d0887"
             ],
             [
              0.1111111111111111,
              "#46039f"
             ],
             [
              0.2222222222222222,
              "#7201a8"
             ],
             [
              0.3333333333333333,
              "#9c179e"
             ],
             [
              0.4444444444444444,
              "#bd3786"
             ],
             [
              0.5555555555555556,
              "#d8576b"
             ],
             [
              0.6666666666666666,
              "#ed7953"
             ],
             [
              0.7777777777777778,
              "#fb9f3a"
             ],
             [
              0.8888888888888888,
              "#fdca26"
             ],
             [
              1,
              "#f0f921"
             ]
            ],
            "type": "heatmapgl"
           }
          ],
          "histogram": [
           {
            "marker": {
             "pattern": {
              "fillmode": "overlay",
              "size": 10,
              "solidity": 0.2
             }
            },
            "type": "histogram"
           }
          ],
          "histogram2d": [
           {
            "colorbar": {
             "outlinewidth": 0,
             "ticks": ""
            },
            "colorscale": [
             [
              0,
              "#0d0887"
             ],
             [
              0.1111111111111111,
              "#46039f"
             ],
             [
              0.2222222222222222,
              "#7201a8"
             ],
             [
              0.3333333333333333,
              "#9c179e"
             ],
             [
              0.4444444444444444,
              "#bd3786"
             ],
             [
              0.5555555555555556,
              "#d8576b"
             ],
             [
              0.6666666666666666,
              "#ed7953"
             ],
             [
              0.7777777777777778,
              "#fb9f3a"
             ],
             [
              0.8888888888888888,
              "#fdca26"
             ],
             [
              1,
              "#f0f921"
             ]
            ],
            "type": "histogram2d"
           }
          ],
          "histogram2dcontour": [
           {
            "colorbar": {
             "outlinewidth": 0,
             "ticks": ""
            },
            "colorscale": [
             [
              0,
              "#0d0887"
             ],
             [
              0.1111111111111111,
              "#46039f"
             ],
             [
              0.2222222222222222,
              "#7201a8"
             ],
             [
              0.3333333333333333,
              "#9c179e"
             ],
             [
              0.4444444444444444,
              "#bd3786"
             ],
             [
              0.5555555555555556,
              "#d8576b"
             ],
             [
              0.6666666666666666,
              "#ed7953"
             ],
             [
              0.7777777777777778,
              "#fb9f3a"
             ],
             [
              0.8888888888888888,
              "#fdca26"
             ],
             [
              1,
              "#f0f921"
             ]
            ],
            "type": "histogram2dcontour"
           }
          ],
          "mesh3d": [
           {
            "colorbar": {
             "outlinewidth": 0,
             "ticks": ""
            },
            "type": "mesh3d"
           }
          ],
          "parcoords": [
           {
            "line": {
             "colorbar": {
              "outlinewidth": 0,
              "ticks": ""
             }
            },
            "type": "parcoords"
           }
          ],
          "pie": [
           {
            "automargin": true,
            "type": "pie"
           }
          ],
          "scatter": [
           {
            "marker": {
             "colorbar": {
              "outlinewidth": 0,
              "ticks": ""
             }
            },
            "type": "scatter"
           }
          ],
          "scatter3d": [
           {
            "line": {
             "colorbar": {
              "outlinewidth": 0,
              "ticks": ""
             }
            },
            "marker": {
             "colorbar": {
              "outlinewidth": 0,
              "ticks": ""
             }
            },
            "type": "scatter3d"
           }
          ],
          "scattercarpet": [
           {
            "marker": {
             "colorbar": {
              "outlinewidth": 0,
              "ticks": ""
             }
            },
            "type": "scattercarpet"
           }
          ],
          "scattergeo": [
           {
            "marker": {
             "colorbar": {
              "outlinewidth": 0,
              "ticks": ""
             }
            },
            "type": "scattergeo"
           }
          ],
          "scattergl": [
           {
            "marker": {
             "colorbar": {
              "outlinewidth": 0,
              "ticks": ""
             }
            },
            "type": "scattergl"
           }
          ],
          "scattermapbox": [
           {
            "marker": {
             "colorbar": {
              "outlinewidth": 0,
              "ticks": ""
             }
            },
            "type": "scattermapbox"
           }
          ],
          "scatterpolar": [
           {
            "marker": {
             "colorbar": {
              "outlinewidth": 0,
              "ticks": ""
             }
            },
            "type": "scatterpolar"
           }
          ],
          "scatterpolargl": [
           {
            "marker": {
             "colorbar": {
              "outlinewidth": 0,
              "ticks": ""
             }
            },
            "type": "scatterpolargl"
           }
          ],
          "scatterternary": [
           {
            "marker": {
             "colorbar": {
              "outlinewidth": 0,
              "ticks": ""
             }
            },
            "type": "scatterternary"
           }
          ],
          "surface": [
           {
            "colorbar": {
             "outlinewidth": 0,
             "ticks": ""
            },
            "colorscale": [
             [
              0,
              "#0d0887"
             ],
             [
              0.1111111111111111,
              "#46039f"
             ],
             [
              0.2222222222222222,
              "#7201a8"
             ],
             [
              0.3333333333333333,
              "#9c179e"
             ],
             [
              0.4444444444444444,
              "#bd3786"
             ],
             [
              0.5555555555555556,
              "#d8576b"
             ],
             [
              0.6666666666666666,
              "#ed7953"
             ],
             [
              0.7777777777777778,
              "#fb9f3a"
             ],
             [
              0.8888888888888888,
              "#fdca26"
             ],
             [
              1,
              "#f0f921"
             ]
            ],
            "type": "surface"
           }
          ],
          "table": [
           {
            "cells": {
             "fill": {
              "color": "#EBF0F8"
             },
             "line": {
              "color": "white"
             }
            },
            "header": {
             "fill": {
              "color": "#C8D4E3"
             },
             "line": {
              "color": "white"
             }
            },
            "type": "table"
           }
          ]
         },
         "layout": {
          "annotationdefaults": {
           "arrowcolor": "#2a3f5f",
           "arrowhead": 0,
           "arrowwidth": 1
          },
          "autotypenumbers": "strict",
          "coloraxis": {
           "colorbar": {
            "outlinewidth": 0,
            "ticks": ""
           }
          },
          "colorscale": {
           "diverging": [
            [
             0,
             "#8e0152"
            ],
            [
             0.1,
             "#c51b7d"
            ],
            [
             0.2,
             "#de77ae"
            ],
            [
             0.3,
             "#f1b6da"
            ],
            [
             0.4,
             "#fde0ef"
            ],
            [
             0.5,
             "#f7f7f7"
            ],
            [
             0.6,
             "#e6f5d0"
            ],
            [
             0.7,
             "#b8e186"
            ],
            [
             0.8,
             "#7fbc41"
            ],
            [
             0.9,
             "#4d9221"
            ],
            [
             1,
             "#276419"
            ]
           ],
           "sequential": [
            [
             0,
             "#0d0887"
            ],
            [
             0.1111111111111111,
             "#46039f"
            ],
            [
             0.2222222222222222,
             "#7201a8"
            ],
            [
             0.3333333333333333,
             "#9c179e"
            ],
            [
             0.4444444444444444,
             "#bd3786"
            ],
            [
             0.5555555555555556,
             "#d8576b"
            ],
            [
             0.6666666666666666,
             "#ed7953"
            ],
            [
             0.7777777777777778,
             "#fb9f3a"
            ],
            [
             0.8888888888888888,
             "#fdca26"
            ],
            [
             1,
             "#f0f921"
            ]
           ],
           "sequentialminus": [
            [
             0,
             "#0d0887"
            ],
            [
             0.1111111111111111,
             "#46039f"
            ],
            [
             0.2222222222222222,
             "#7201a8"
            ],
            [
             0.3333333333333333,
             "#9c179e"
            ],
            [
             0.4444444444444444,
             "#bd3786"
            ],
            [
             0.5555555555555556,
             "#d8576b"
            ],
            [
             0.6666666666666666,
             "#ed7953"
            ],
            [
             0.7777777777777778,
             "#fb9f3a"
            ],
            [
             0.8888888888888888,
             "#fdca26"
            ],
            [
             1,
             "#f0f921"
            ]
           ]
          },
          "colorway": [
           "#636efa",
           "#EF553B",
           "#00cc96",
           "#ab63fa",
           "#FFA15A",
           "#19d3f3",
           "#FF6692",
           "#B6E880",
           "#FF97FF",
           "#FECB52"
          ],
          "font": {
           "color": "#2a3f5f"
          },
          "geo": {
           "bgcolor": "white",
           "lakecolor": "white",
           "landcolor": "#E5ECF6",
           "showlakes": true,
           "showland": true,
           "subunitcolor": "white"
          },
          "hoverlabel": {
           "align": "left"
          },
          "hovermode": "closest",
          "mapbox": {
           "style": "light"
          },
          "paper_bgcolor": "white",
          "plot_bgcolor": "#E5ECF6",
          "polar": {
           "angularaxis": {
            "gridcolor": "white",
            "linecolor": "white",
            "ticks": ""
           },
           "bgcolor": "#E5ECF6",
           "radialaxis": {
            "gridcolor": "white",
            "linecolor": "white",
            "ticks": ""
           }
          },
          "scene": {
           "xaxis": {
            "backgroundcolor": "#E5ECF6",
            "gridcolor": "white",
            "gridwidth": 2,
            "linecolor": "white",
            "showbackground": true,
            "ticks": "",
            "zerolinecolor": "white"
           },
           "yaxis": {
            "backgroundcolor": "#E5ECF6",
            "gridcolor": "white",
            "gridwidth": 2,
            "linecolor": "white",
            "showbackground": true,
            "ticks": "",
            "zerolinecolor": "white"
           },
           "zaxis": {
            "backgroundcolor": "#E5ECF6",
            "gridcolor": "white",
            "gridwidth": 2,
            "linecolor": "white",
            "showbackground": true,
            "ticks": "",
            "zerolinecolor": "white"
           }
          },
          "shapedefaults": {
           "line": {
            "color": "#2a3f5f"
           }
          },
          "ternary": {
           "aaxis": {
            "gridcolor": "white",
            "linecolor": "white",
            "ticks": ""
           },
           "baxis": {
            "gridcolor": "white",
            "linecolor": "white",
            "ticks": ""
           },
           "bgcolor": "#E5ECF6",
           "caxis": {
            "gridcolor": "white",
            "linecolor": "white",
            "ticks": ""
           }
          },
          "title": {
           "x": 0.05
          },
          "xaxis": {
           "automargin": true,
           "gridcolor": "white",
           "linecolor": "white",
           "ticks": "",
           "title": {
            "standoff": 15
           },
           "zerolinecolor": "white",
           "zerolinewidth": 2
          },
          "yaxis": {
           "automargin": true,
           "gridcolor": "white",
           "linecolor": "white",
           "ticks": "",
           "title": {
            "standoff": 15
           },
           "zerolinecolor": "white",
           "zerolinewidth": 2
          }
         }
        },
        "title": {
         "font": {
          "color": "#4D5663"
         }
        },
        "xaxis": {
         "gridcolor": "#E1E5ED",
         "showgrid": true,
         "tickfont": {
          "color": "#4D5663"
         },
         "title": {
          "font": {
           "color": "#4D5663"
          },
          "text": ""
         },
         "zerolinecolor": "#E1E5ED"
        },
        "yaxis": {
         "gridcolor": "#E1E5ED",
         "showgrid": true,
         "tickfont": {
          "color": "#4D5663"
         },
         "title": {
          "font": {
           "color": "#4D5663"
          },
          "text": ""
         },
         "zerolinecolor": "#E1E5ED"
        }
       }
      },
      "text/html": [
       "<div>                            <div id=\"f71960c6-5c9e-4583-a56c-97e8d0fd1052\" class=\"plotly-graph-div\" style=\"height:525px; width:100%;\"></div>            <script type=\"text/javascript\">                require([\"plotly\"], function(Plotly) {                    window.PLOTLYENV=window.PLOTLYENV || {};\n",
       "                    window.PLOTLYENV.BASE_URL='https://plot.ly';                                    if (document.getElementById(\"f71960c6-5c9e-4583-a56c-97e8d0fd1052\")) {                    Plotly.newPlot(                        \"f71960c6-5c9e-4583-a56c-97e8d0fd1052\",                        [{\"colorscale\":[[0.0,\"rgb(165,0,38)\"],[0.1,\"rgb(215,48,39)\"],[0.2,\"rgb(244,109,67)\"],[0.3,\"rgb(253,174,97)\"],[0.4,\"rgb(254,224,144)\"],[0.5,\"rgb(255,255,191)\"],[0.6,\"rgb(224,243,248)\"],[0.7,\"rgb(171,217,233)\"],[0.8,\"rgb(116,173,209)\"],[0.9,\"rgb(69,117,180)\"],[1.0,\"rgb(49,54,149)\"]],\"type\":\"surface\",\"x\":[0,1,2,3,4],\"y\":[\"x\",\"y\",\"z\"],\"z\":[[1,2,3,4,5],[10,20,30,20,10],[5,4,3,2,1]]}],                        {\"legend\":{\"bgcolor\":\"#F5F6F9\",\"font\":{\"color\":\"#4D5663\"}},\"paper_bgcolor\":\"#F5F6F9\",\"plot_bgcolor\":\"#F5F6F9\",\"template\":{\"data\":{\"bar\":[{\"error_x\":{\"color\":\"#2a3f5f\"},\"error_y\":{\"color\":\"#2a3f5f\"},\"marker\":{\"line\":{\"color\":\"#E5ECF6\",\"width\":0.5},\"pattern\":{\"fillmode\":\"overlay\",\"size\":10,\"solidity\":0.2}},\"type\":\"bar\"}],\"barpolar\":[{\"marker\":{\"line\":{\"color\":\"#E5ECF6\",\"width\":0.5},\"pattern\":{\"fillmode\":\"overlay\",\"size\":10,\"solidity\":0.2}},\"type\":\"barpolar\"}],\"carpet\":[{\"aaxis\":{\"endlinecolor\":\"#2a3f5f\",\"gridcolor\":\"white\",\"linecolor\":\"white\",\"minorgridcolor\":\"white\",\"startlinecolor\":\"#2a3f5f\"},\"baxis\":{\"endlinecolor\":\"#2a3f5f\",\"gridcolor\":\"white\",\"linecolor\":\"white\",\"minorgridcolor\":\"white\",\"startlinecolor\":\"#2a3f5f\"},\"type\":\"carpet\"}],\"choropleth\":[{\"colorbar\":{\"outlinewidth\":0,\"ticks\":\"\"},\"type\":\"choropleth\"}],\"contour\":[{\"colorbar\":{\"outlinewidth\":0,\"ticks\":\"\"},\"colorscale\":[[0.0,\"#0d0887\"],[0.1111111111111111,\"#46039f\"],[0.2222222222222222,\"#7201a8\"],[0.3333333333333333,\"#9c179e\"],[0.4444444444444444,\"#bd3786\"],[0.5555555555555556,\"#d8576b\"],[0.6666666666666666,\"#ed7953\"],[0.7777777777777778,\"#fb9f3a\"],[0.8888888888888888,\"#fdca26\"],[1.0,\"#f0f921\"]],\"type\":\"contour\"}],\"contourcarpet\":[{\"colorbar\":{\"outlinewidth\":0,\"ticks\":\"\"},\"type\":\"contourcarpet\"}],\"heatmap\":[{\"colorbar\":{\"outlinewidth\":0,\"ticks\":\"\"},\"colorscale\":[[0.0,\"#0d0887\"],[0.1111111111111111,\"#46039f\"],[0.2222222222222222,\"#7201a8\"],[0.3333333333333333,\"#9c179e\"],[0.4444444444444444,\"#bd3786\"],[0.5555555555555556,\"#d8576b\"],[0.6666666666666666,\"#ed7953\"],[0.7777777777777778,\"#fb9f3a\"],[0.8888888888888888,\"#fdca26\"],[1.0,\"#f0f921\"]],\"type\":\"heatmap\"}],\"heatmapgl\":[{\"colorbar\":{\"outlinewidth\":0,\"ticks\":\"\"},\"colorscale\":[[0.0,\"#0d0887\"],[0.1111111111111111,\"#46039f\"],[0.2222222222222222,\"#7201a8\"],[0.3333333333333333,\"#9c179e\"],[0.4444444444444444,\"#bd3786\"],[0.5555555555555556,\"#d8576b\"],[0.6666666666666666,\"#ed7953\"],[0.7777777777777778,\"#fb9f3a\"],[0.8888888888888888,\"#fdca26\"],[1.0,\"#f0f921\"]],\"type\":\"heatmapgl\"}],\"histogram\":[{\"marker\":{\"pattern\":{\"fillmode\":\"overlay\",\"size\":10,\"solidity\":0.2}},\"type\":\"histogram\"}],\"histogram2d\":[{\"colorbar\":{\"outlinewidth\":0,\"ticks\":\"\"},\"colorscale\":[[0.0,\"#0d0887\"],[0.1111111111111111,\"#46039f\"],[0.2222222222222222,\"#7201a8\"],[0.3333333333333333,\"#9c179e\"],[0.4444444444444444,\"#bd3786\"],[0.5555555555555556,\"#d8576b\"],[0.6666666666666666,\"#ed7953\"],[0.7777777777777778,\"#fb9f3a\"],[0.8888888888888888,\"#fdca26\"],[1.0,\"#f0f921\"]],\"type\":\"histogram2d\"}],\"histogram2dcontour\":[{\"colorbar\":{\"outlinewidth\":0,\"ticks\":\"\"},\"colorscale\":[[0.0,\"#0d0887\"],[0.1111111111111111,\"#46039f\"],[0.2222222222222222,\"#7201a8\"],[0.3333333333333333,\"#9c179e\"],[0.4444444444444444,\"#bd3786\"],[0.5555555555555556,\"#d8576b\"],[0.6666666666666666,\"#ed7953\"],[0.7777777777777778,\"#fb9f3a\"],[0.8888888888888888,\"#fdca26\"],[1.0,\"#f0f921\"]],\"type\":\"histogram2dcontour\"}],\"mesh3d\":[{\"colorbar\":{\"outlinewidth\":0,\"ticks\":\"\"},\"type\":\"mesh3d\"}],\"parcoords\":[{\"line\":{\"colorbar\":{\"outlinewidth\":0,\"ticks\":\"\"}},\"type\":\"parcoords\"}],\"pie\":[{\"automargin\":true,\"type\":\"pie\"}],\"scatter\":[{\"marker\":{\"colorbar\":{\"outlinewidth\":0,\"ticks\":\"\"}},\"type\":\"scatter\"}],\"scatter3d\":[{\"line\":{\"colorbar\":{\"outlinewidth\":0,\"ticks\":\"\"}},\"marker\":{\"colorbar\":{\"outlinewidth\":0,\"ticks\":\"\"}},\"type\":\"scatter3d\"}],\"scattercarpet\":[{\"marker\":{\"colorbar\":{\"outlinewidth\":0,\"ticks\":\"\"}},\"type\":\"scattercarpet\"}],\"scattergeo\":[{\"marker\":{\"colorbar\":{\"outlinewidth\":0,\"ticks\":\"\"}},\"type\":\"scattergeo\"}],\"scattergl\":[{\"marker\":{\"colorbar\":{\"outlinewidth\":0,\"ticks\":\"\"}},\"type\":\"scattergl\"}],\"scattermapbox\":[{\"marker\":{\"colorbar\":{\"outlinewidth\":0,\"ticks\":\"\"}},\"type\":\"scattermapbox\"}],\"scatterpolar\":[{\"marker\":{\"colorbar\":{\"outlinewidth\":0,\"ticks\":\"\"}},\"type\":\"scatterpolar\"}],\"scatterpolargl\":[{\"marker\":{\"colorbar\":{\"outlinewidth\":0,\"ticks\":\"\"}},\"type\":\"scatterpolargl\"}],\"scatterternary\":[{\"marker\":{\"colorbar\":{\"outlinewidth\":0,\"ticks\":\"\"}},\"type\":\"scatterternary\"}],\"surface\":[{\"colorbar\":{\"outlinewidth\":0,\"ticks\":\"\"},\"colorscale\":[[0.0,\"#0d0887\"],[0.1111111111111111,\"#46039f\"],[0.2222222222222222,\"#7201a8\"],[0.3333333333333333,\"#9c179e\"],[0.4444444444444444,\"#bd3786\"],[0.5555555555555556,\"#d8576b\"],[0.6666666666666666,\"#ed7953\"],[0.7777777777777778,\"#fb9f3a\"],[0.8888888888888888,\"#fdca26\"],[1.0,\"#f0f921\"]],\"type\":\"surface\"}],\"table\":[{\"cells\":{\"fill\":{\"color\":\"#EBF0F8\"},\"line\":{\"color\":\"white\"}},\"header\":{\"fill\":{\"color\":\"#C8D4E3\"},\"line\":{\"color\":\"white\"}},\"type\":\"table\"}]},\"layout\":{\"annotationdefaults\":{\"arrowcolor\":\"#2a3f5f\",\"arrowhead\":0,\"arrowwidth\":1},\"autotypenumbers\":\"strict\",\"coloraxis\":{\"colorbar\":{\"outlinewidth\":0,\"ticks\":\"\"}},\"colorscale\":{\"diverging\":[[0,\"#8e0152\"],[0.1,\"#c51b7d\"],[0.2,\"#de77ae\"],[0.3,\"#f1b6da\"],[0.4,\"#fde0ef\"],[0.5,\"#f7f7f7\"],[0.6,\"#e6f5d0\"],[0.7,\"#b8e186\"],[0.8,\"#7fbc41\"],[0.9,\"#4d9221\"],[1,\"#276419\"]],\"sequential\":[[0.0,\"#0d0887\"],[0.1111111111111111,\"#46039f\"],[0.2222222222222222,\"#7201a8\"],[0.3333333333333333,\"#9c179e\"],[0.4444444444444444,\"#bd3786\"],[0.5555555555555556,\"#d8576b\"],[0.6666666666666666,\"#ed7953\"],[0.7777777777777778,\"#fb9f3a\"],[0.8888888888888888,\"#fdca26\"],[1.0,\"#f0f921\"]],\"sequentialminus\":[[0.0,\"#0d0887\"],[0.1111111111111111,\"#46039f\"],[0.2222222222222222,\"#7201a8\"],[0.3333333333333333,\"#9c179e\"],[0.4444444444444444,\"#bd3786\"],[0.5555555555555556,\"#d8576b\"],[0.6666666666666666,\"#ed7953\"],[0.7777777777777778,\"#fb9f3a\"],[0.8888888888888888,\"#fdca26\"],[1.0,\"#f0f921\"]]},\"colorway\":[\"#636efa\",\"#EF553B\",\"#00cc96\",\"#ab63fa\",\"#FFA15A\",\"#19d3f3\",\"#FF6692\",\"#B6E880\",\"#FF97FF\",\"#FECB52\"],\"font\":{\"color\":\"#2a3f5f\"},\"geo\":{\"bgcolor\":\"white\",\"lakecolor\":\"white\",\"landcolor\":\"#E5ECF6\",\"showlakes\":true,\"showland\":true,\"subunitcolor\":\"white\"},\"hoverlabel\":{\"align\":\"left\"},\"hovermode\":\"closest\",\"mapbox\":{\"style\":\"light\"},\"paper_bgcolor\":\"white\",\"plot_bgcolor\":\"#E5ECF6\",\"polar\":{\"angularaxis\":{\"gridcolor\":\"white\",\"linecolor\":\"white\",\"ticks\":\"\"},\"bgcolor\":\"#E5ECF6\",\"radialaxis\":{\"gridcolor\":\"white\",\"linecolor\":\"white\",\"ticks\":\"\"}},\"scene\":{\"xaxis\":{\"backgroundcolor\":\"#E5ECF6\",\"gridcolor\":\"white\",\"gridwidth\":2,\"linecolor\":\"white\",\"showbackground\":true,\"ticks\":\"\",\"zerolinecolor\":\"white\"},\"yaxis\":{\"backgroundcolor\":\"#E5ECF6\",\"gridcolor\":\"white\",\"gridwidth\":2,\"linecolor\":\"white\",\"showbackground\":true,\"ticks\":\"\",\"zerolinecolor\":\"white\"},\"zaxis\":{\"backgroundcolor\":\"#E5ECF6\",\"gridcolor\":\"white\",\"gridwidth\":2,\"linecolor\":\"white\",\"showbackground\":true,\"ticks\":\"\",\"zerolinecolor\":\"white\"}},\"shapedefaults\":{\"line\":{\"color\":\"#2a3f5f\"}},\"ternary\":{\"aaxis\":{\"gridcolor\":\"white\",\"linecolor\":\"white\",\"ticks\":\"\"},\"baxis\":{\"gridcolor\":\"white\",\"linecolor\":\"white\",\"ticks\":\"\"},\"bgcolor\":\"#E5ECF6\",\"caxis\":{\"gridcolor\":\"white\",\"linecolor\":\"white\",\"ticks\":\"\"}},\"title\":{\"x\":0.05},\"xaxis\":{\"automargin\":true,\"gridcolor\":\"white\",\"linecolor\":\"white\",\"ticks\":\"\",\"title\":{\"standoff\":15},\"zerolinecolor\":\"white\",\"zerolinewidth\":2},\"yaxis\":{\"automargin\":true,\"gridcolor\":\"white\",\"linecolor\":\"white\",\"ticks\":\"\",\"title\":{\"standoff\":15},\"zerolinecolor\":\"white\",\"zerolinewidth\":2}}},\"title\":{\"font\":{\"color\":\"#4D5663\"}},\"xaxis\":{\"gridcolor\":\"#E1E5ED\",\"showgrid\":true,\"tickfont\":{\"color\":\"#4D5663\"},\"title\":{\"font\":{\"color\":\"#4D5663\"},\"text\":\"\"},\"zerolinecolor\":\"#E1E5ED\"},\"yaxis\":{\"gridcolor\":\"#E1E5ED\",\"showgrid\":true,\"tickfont\":{\"color\":\"#4D5663\"},\"title\":{\"font\":{\"color\":\"#4D5663\"},\"text\":\"\"},\"zerolinecolor\":\"#E1E5ED\"}},                        {\"showLink\": true, \"linkText\": \"Export to plot.ly\", \"plotlyServerURL\": \"https://plot.ly\", \"responsive\": true}                    ).then(function(){\n",
       "                            \n",
       "var gd = document.getElementById('f71960c6-5c9e-4583-a56c-97e8d0fd1052');\n",
       "var x = new MutationObserver(function (mutations, observer) {{\n",
       "        var display = window.getComputedStyle(gd).display;\n",
       "        if (!display || display === 'none') {{\n",
       "            console.log([gd, 'removed!']);\n",
       "            Plotly.purge(gd);\n",
       "            observer.disconnect();\n",
       "        }}\n",
       "}});\n",
       "\n",
       "// Listen for the removal of the full notebook cells\n",
       "var notebookContainer = gd.closest('#notebook-container');\n",
       "if (notebookContainer) {{\n",
       "    x.observe(notebookContainer, {childList: true});\n",
       "}}\n",
       "\n",
       "// Listen for the clearing of the current output cell\n",
       "var outputEl = gd.closest('.output');\n",
       "if (outputEl) {{\n",
       "    x.observe(outputEl, {childList: true});\n",
       "}}\n",
       "\n",
       "                        })                };                });            </script>        </div>"
      ]
     },
     "metadata": {},
     "output_type": "display_data"
    }
   ],
   "source": [
    "df3 = pd.DataFrame({'x':[1,2,3,4,5],'y':[10,20,30,20,10],'z':[5,4,3,2,1]})\n",
    "df3.iplot(kind='surface',colorscale='rdylbu')"
   ]
  },
  {
   "cell_type": "code",
   "execution_count": 21,
   "metadata": {},
   "outputs": [
    {
     "data": {
      "application/vnd.plotly.v1+json": {
       "config": {
        "linkText": "Export to plot.ly",
        "plotlyServerURL": "https://plot.ly",
        "showLink": true
       },
       "data": [
        {
         "histfunc": "count",
         "histnorm": "",
         "marker": {
          "color": "rgba(255, 153, 51, 1.0)",
          "line": {
           "color": "#4D5663",
           "width": 1.3
          }
         },
         "name": "A",
         "nbinsx": 10,
         "opacity": 0.8,
         "orientation": "v",
         "type": "histogram",
         "x": [
          -0.22992109036952604,
          0.05562905069623866,
          -0.6221448672758634,
          -1.2775273439321349,
          -0.6440569697000345,
          1.131706545613154,
          2.3269849129706297,
          -0.17691044485779936,
          -0.08839002936004192,
          0.019653683217731536,
          1.8022443151661145,
          -1.3701181105322455,
          1.3167363415927504,
          -0.8731175518357862,
          0.6630158042323278,
          -0.5939026786404201,
          -1.189565840100905,
          -0.12975458965208841,
          -0.504508358884414,
          0.457016756109502,
          -0.6814308754203008,
          0.7204908243254265,
          0.6821736359713191,
          0.37192801687488486,
          -0.555504810543227,
          0.7262270094658652,
          0.17322865228746825,
          0.6097466551673341,
          -1.5494078829354552,
          -0.5095497197037705,
          -0.9195335291133173,
          0.4175084396723642,
          -0.7741125605769356,
          1.4737973554835775,
          -0.8529729591274079,
          0.25811921887652617,
          0.33089826035966013,
          -0.6982967950296567,
          -0.12516702259257517,
          -1.0106053221572773,
          -0.649725111151501,
          0.02449680903689408,
          0.22859646494045405,
          0.9464170933770124,
          1.873143201110364,
          -0.6091693153755786,
          1.3265487423266915,
          0.3067897333091477,
          -0.5571057571497043,
          1.674449244515288,
          1.3178469595911038,
          -0.49255012966931755,
          -0.44810794334182213,
          -0.7725197627056002,
          1.2166371346851095,
          -1.1024257378148192,
          0.29468522897501254,
          -0.17146120964959644,
          0.3496038242258144,
          0.14809157834582365,
          -0.748077774440983,
          1.45827707078643,
          -0.09928752621004644,
          -0.4839929055643646,
          -0.15565823464625786,
          0.19530235551575784,
          -0.7980140531350256,
          0.13444759987307495,
          0.22118164958443864,
          1.4616957821951844,
          0.6671010315722775,
          0.5225410610499522,
          -0.276788602158649,
          -0.939623962839142,
          -0.6272075142834701,
          0.29046293292020675,
          0.6794206785823442,
          0.23193247197425712,
          1.2643201967925377,
          -0.9496289866829065,
          -1.1309935398469506,
          1.1691453813133879,
          0.30536283584432006,
          -1.86605627682016,
          -0.4581914049254,
          -1.01968113150098,
          -0.3670721304517326,
          0.1647520098516355,
          -1.4880426183796083,
          0.11789527226978264,
          -1.080570988178372,
          -0.5219449142618494,
          -0.8278083220296933,
          2.391449982303617,
          1.3194384354471438,
          -0.47775150946978956,
          0.3657773029540253,
          -0.023257568968075685,
          -0.637773142427531,
          1.3337092109565196
         ],
         "xaxis": "x",
         "yaxis": "y"
        },
        {
         "line": {
          "color": "rgba(128, 128, 128, 1.0)",
          "dash": "solid",
          "shape": "linear",
          "width": 1.3
         },
         "marker": {
          "size": 2,
          "symbol": "circle"
         },
         "mode": "markers",
         "name": "A",
         "text": "",
         "type": "scatter",
         "x": [
          -1.8817698934664846,
          -0.41601507412818295,
          -0.41865515893087574,
          -0.9225350677652552,
          -1.1028031295219891,
          1.1367930199072076,
          1.47559016075696,
          -1.3933192692422862,
          1.643496617781722,
          -2.1977034296545708,
          0.5190358910198498,
          0.5085572547468106,
          0.39924364041183,
          0.4817334229582357,
          1.306887694381889,
          -0.1263873899794544,
          0.12168107592464891,
          0.1767629878223784,
          0.810138746647247,
          -0.5032826285239151,
          1.4228471870753228,
          0.6190272466894131,
          0.345655455076898,
          -0.5745618409104268,
          -0.2574833303309138,
          0.1323920235148288,
          -1.2116801640258033,
          -0.2174540535047162,
          0.35417960185050856,
          -1.075353732212383,
          -0.35950354800210216,
          0.5855780406441056,
          -0.3655935096070619,
          0.26017388595128876,
          1.355530661108527,
          -1.801275506406735,
          -0.9550148234221776,
          1.4187003484549692,
          1.9686975778208906,
          1.1280839220780199,
          0.42220221584518536,
          0.5546010421905413,
          -1.7883367376461996,
          0.044889639270693456,
          1.4756223969392088,
          -0.7219989710723888,
          0.8089588798503246,
          -1.0914627919449182,
          -0.7510755408974256,
          0.8727541308260071,
          -0.30013340596004245,
          -1.869958148168794,
          1.0198755039911107,
          -0.4110694988765867,
          -2.011238984285647,
          -2.712625632213704,
          1.1074631667461983,
          1.3647754659067781,
          0.263076767947983,
          -1.605605758817802,
          0.7486967420437597,
          0.1037340614037904,
          -0.19293491970395546,
          -0.4337513563876914,
          1.0363253191594493,
          1.7791614447603339,
          1.310972744426554,
          0.3009702460925462,
          0.022165851786293156,
          1.1796261885706272,
          1.044097523733219,
          -0.2114030074294949,
          -0.5411097321310678,
          0.1586119176717941,
          -0.8888204126700929,
          1.2660356417103062,
          -1.6395258521894895,
          2.5423114290998083,
          -1.0477633230147863,
          0.3009133939405517,
          0.9868792992622124,
          -1.4842364828593417,
          -0.38501240587723146,
          -1.3254638008288566,
          -0.768897654146365,
          -0.7226556866098427,
          0.6750529039066931,
          1.3061345090077965,
          0.8292823878549053,
          0.3541272981432661,
          -0.21079582581662296,
          -0.7674531621928081,
          -0.9043951097084993,
          0.41158294740326745,
          1.3252892866561277,
          0.2769469888816118,
          0.895972498268627,
          -0.020377624471322832,
          1.6225471051597193,
          -1.5448178817481184
         ],
         "xaxis": "x2",
         "y": [
          -0.22992109036952604,
          0.05562905069623866,
          -0.6221448672758634,
          -1.2775273439321349,
          -0.6440569697000345,
          1.131706545613154,
          2.3269849129706297,
          -0.17691044485779936,
          -0.08839002936004192,
          0.019653683217731536,
          1.8022443151661145,
          -1.3701181105322455,
          1.3167363415927504,
          -0.8731175518357862,
          0.6630158042323278,
          -0.5939026786404201,
          -1.189565840100905,
          -0.12975458965208841,
          -0.504508358884414,
          0.457016756109502,
          -0.6814308754203008,
          0.7204908243254265,
          0.6821736359713191,
          0.37192801687488486,
          -0.555504810543227,
          0.7262270094658652,
          0.17322865228746825,
          0.6097466551673341,
          -1.5494078829354552,
          -0.5095497197037705,
          -0.9195335291133173,
          0.4175084396723642,
          -0.7741125605769356,
          1.4737973554835775,
          -0.8529729591274079,
          0.25811921887652617,
          0.33089826035966013,
          -0.6982967950296567,
          -0.12516702259257517,
          -1.0106053221572773,
          -0.649725111151501,
          0.02449680903689408,
          0.22859646494045405,
          0.9464170933770124,
          1.873143201110364,
          -0.6091693153755786,
          1.3265487423266915,
          0.3067897333091477,
          -0.5571057571497043,
          1.674449244515288,
          1.3178469595911038,
          -0.49255012966931755,
          -0.44810794334182213,
          -0.7725197627056002,
          1.2166371346851095,
          -1.1024257378148192,
          0.29468522897501254,
          -0.17146120964959644,
          0.3496038242258144,
          0.14809157834582365,
          -0.748077774440983,
          1.45827707078643,
          -0.09928752621004644,
          -0.4839929055643646,
          -0.15565823464625786,
          0.19530235551575784,
          -0.7980140531350256,
          0.13444759987307495,
          0.22118164958443864,
          1.4616957821951844,
          0.6671010315722775,
          0.5225410610499522,
          -0.276788602158649,
          -0.939623962839142,
          -0.6272075142834701,
          0.29046293292020675,
          0.6794206785823442,
          0.23193247197425712,
          1.2643201967925377,
          -0.9496289866829065,
          -1.1309935398469506,
          1.1691453813133879,
          0.30536283584432006,
          -1.86605627682016,
          -0.4581914049254,
          -1.01968113150098,
          -0.3670721304517326,
          0.1647520098516355,
          -1.4880426183796083,
          0.11789527226978264,
          -1.080570988178372,
          -0.5219449142618494,
          -0.8278083220296933,
          2.391449982303617,
          1.3194384354471438,
          -0.47775150946978956,
          0.3657773029540253,
          -0.023257568968075685,
          -0.637773142427531,
          1.3337092109565196
         ],
         "yaxis": "y2"
        },
        {
         "line": {
          "color": "rgba(128, 128, 128, 1.0)",
          "dash": "solid",
          "shape": "linear",
          "width": 1.3
         },
         "marker": {
          "size": 2,
          "symbol": "circle"
         },
         "mode": "markers",
         "name": "A",
         "text": "",
         "type": "scatter",
         "x": [
          0.07588965184443273,
          1.6337225242788382,
          -0.5517587666975918,
          0.23693526354967026,
          -0.3161335665694347,
          -0.3945514240734139,
          -0.23115378638688555,
          1.1193633393194438,
          -0.24047201363700618,
          0.3449381376854929,
          -0.2540781539293871,
          -1.8892310002380301,
          -0.7792781704425811,
          0.18373256552969644,
          -0.6414681338889499,
          1.526081503244031,
          0.735424756992496,
          1.1005511744842102,
          0.14400501993141104,
          -1.1419025245269188,
          -1.7062645490303712,
          0.6928125270347335,
          -1.5089853493840657,
          1.8713953412563047,
          0.3826988653737301,
          -0.529968987277912,
          -1.0991229359321544,
          -1.4623762198492154,
          -0.3073534069860917,
          -0.12881051843590713,
          -1.0422820789925573,
          1.2335447410746414,
          0.15125663416392315,
          1.1544875649099604,
          0.8524518660933998,
          0.23885106347644072,
          -1.4017042025645903,
          -0.4921554733761034,
          0.5830770396195847,
          0.4248007952338122,
          -0.3017237617177742,
          0.45254231491654506,
          -1.7014771710192271,
          0.7417740869406251,
          -0.01702157266091685,
          1.5452530109652016,
          0.41681566608319204,
          -1.5846049055227909,
          -1.00614730392024,
          -0.8840057177654506,
          0.573407399486601,
          -0.2996286307969495,
          0.21218017367709877,
          0.2032192362271669,
          -0.1238559530252078,
          -0.9931604223142387,
          -0.03639725850986806,
          -0.29939549646036234,
          -1.1632112371810754,
          -0.42930421003414765,
          -0.9720011050611674,
          1.511327998418596,
          -0.391490224507803,
          -1.0343707966665685,
          1.1614033345336137,
          0.25846172162952147,
          0.2673019161771905,
          0.09922358114518205,
          0.5779188635536173,
          1.7622423470771715,
          0.03621225927739738,
          -1.8781137609391736,
          -1.2414591730228457,
          0.7150763247961918,
          -1.3506088848947662,
          -0.2855259738117049,
          -0.5062330374561972,
          0.03905175100678615,
          1.0175553616380286,
          0.5733915540550347,
          1.3332566320752068,
          -1.805689450426716,
          -1.1699305910850024,
          1.384592202850575,
          0.975012672541676,
          -0.6100760904957481,
          -0.38976207795179446,
          -0.44029567681254084,
          -0.8785626293647731,
          0.5871018052516414,
          1.1311561656997875,
          2.4368295250969494,
          -0.18527263678620495,
          -1.5666750947610815,
          -1.9429639161909467,
          2.7479576016442677,
          -1.7445681757283464,
          2.733475734584614,
          0.5556093324445441,
          -0.47688033302026606
         ],
         "xaxis": "x3",
         "y": [
          -0.22992109036952604,
          0.05562905069623866,
          -0.6221448672758634,
          -1.2775273439321349,
          -0.6440569697000345,
          1.131706545613154,
          2.3269849129706297,
          -0.17691044485779936,
          -0.08839002936004192,
          0.019653683217731536,
          1.8022443151661145,
          -1.3701181105322455,
          1.3167363415927504,
          -0.8731175518357862,
          0.6630158042323278,
          -0.5939026786404201,
          -1.189565840100905,
          -0.12975458965208841,
          -0.504508358884414,
          0.457016756109502,
          -0.6814308754203008,
          0.7204908243254265,
          0.6821736359713191,
          0.37192801687488486,
          -0.555504810543227,
          0.7262270094658652,
          0.17322865228746825,
          0.6097466551673341,
          -1.5494078829354552,
          -0.5095497197037705,
          -0.9195335291133173,
          0.4175084396723642,
          -0.7741125605769356,
          1.4737973554835775,
          -0.8529729591274079,
          0.25811921887652617,
          0.33089826035966013,
          -0.6982967950296567,
          -0.12516702259257517,
          -1.0106053221572773,
          -0.649725111151501,
          0.02449680903689408,
          0.22859646494045405,
          0.9464170933770124,
          1.873143201110364,
          -0.6091693153755786,
          1.3265487423266915,
          0.3067897333091477,
          -0.5571057571497043,
          1.674449244515288,
          1.3178469595911038,
          -0.49255012966931755,
          -0.44810794334182213,
          -0.7725197627056002,
          1.2166371346851095,
          -1.1024257378148192,
          0.29468522897501254,
          -0.17146120964959644,
          0.3496038242258144,
          0.14809157834582365,
          -0.748077774440983,
          1.45827707078643,
          -0.09928752621004644,
          -0.4839929055643646,
          -0.15565823464625786,
          0.19530235551575784,
          -0.7980140531350256,
          0.13444759987307495,
          0.22118164958443864,
          1.4616957821951844,
          0.6671010315722775,
          0.5225410610499522,
          -0.276788602158649,
          -0.939623962839142,
          -0.6272075142834701,
          0.29046293292020675,
          0.6794206785823442,
          0.23193247197425712,
          1.2643201967925377,
          -0.9496289866829065,
          -1.1309935398469506,
          1.1691453813133879,
          0.30536283584432006,
          -1.86605627682016,
          -0.4581914049254,
          -1.01968113150098,
          -0.3670721304517326,
          0.1647520098516355,
          -1.4880426183796083,
          0.11789527226978264,
          -1.080570988178372,
          -0.5219449142618494,
          -0.8278083220296933,
          2.391449982303617,
          1.3194384354471438,
          -0.47775150946978956,
          0.3657773029540253,
          -0.023257568968075685,
          -0.637773142427531,
          1.3337092109565196
         ],
         "yaxis": "y3"
        },
        {
         "line": {
          "color": "rgba(128, 128, 128, 1.0)",
          "dash": "solid",
          "shape": "linear",
          "width": 1.3
         },
         "marker": {
          "size": 2,
          "symbol": "circle"
         },
         "mode": "markers",
         "name": "A",
         "text": "",
         "type": "scatter",
         "x": [
          -2.1345305898504296,
          1.7734448851674718,
          -1.1465118095554963,
          0.11759120989479181,
          0.36328854231497115,
          0.6385180725664439,
          -1.27129752098571,
          -1.8754469967261727,
          -2.4893664098182673,
          1.2209014557406137,
          0.15280552809327072,
          0.11180520225730305,
          -0.4255070576679444,
          0.5468980150588038,
          0.5432922523628259,
          2.2124331968128965,
          1.4179592817727524,
          0.2654601378480211,
          0.8696338302816027,
          -0.1138714382356956,
          -0.9377608794476695,
          -1.99819239067689,
          1.2457087006640792,
          0.49696102581226836,
          -0.07721587235711798,
          0.0014418021044631953,
          -0.16391392716105752,
          0.1906326132827655,
          -0.9668705478585707,
          -0.2832065433295299,
          0.772717237410352,
          -0.2590713335948201,
          -1.2868494163262247,
          -2.6708320600799555,
          -1.0856302573354464,
          -0.7903438761780187,
          0.12947236370807977,
          -0.9100904453086847,
          -0.5602410199442092,
          -0.47307957138351076,
          0.2047906069189072,
          -0.16866825940700347,
          0.5801335516254127,
          -0.7876055191769322,
          -1.549512519833829,
          0.9374402967683155,
          0.6047223040714953,
          -0.7055298191035871,
          -1.2729613599942236,
          -1.1361342466596693,
          0.18744690974233252,
          0.8009214150184927,
          1.7441787881900397,
          -0.5156424351480714,
          0.9748173142560881,
          -0.2467689154939164,
          0.47468930470635745,
          -0.8070531723628719,
          0.6409048093341578,
          0.5895818525001894,
          0.9097007007872293,
          0.7233152525939471,
          0.7258813949795868,
          1.3213400281259144,
          0.1868772991701476,
          1.638668157608344,
          -0.9114112626952258,
          -0.63097113888363,
          -2.38163294251653,
          0.3048485325925647,
          1.5606740764643618,
          2.6757294452788067,
          -0.08442837572203585,
          -0.8217142267722916,
          -0.6951897734329309,
          -0.0049015395418065925,
          -1.1119684498124651,
          -1.3106646431613729,
          1.046955933402326,
          0.05665999257373598,
          1.6597052380760566,
          0.3852891342256938,
          0.6168853653963737,
          1.0506418342148884,
          0.9326393449233574,
          -1.6410964561069383,
          1.3104369164824048,
          -0.7696274478340477,
          0.4611452709617647,
          1.9810227881978804,
          -0.9637071883270888,
          0.46603047812103326,
          -0.3108802949958328,
          0.48410374524818633,
          1.672165674958786,
          -0.038419502698554465,
          0.24327914766825515,
          -0.5081237931251442,
          -0.9964483804653474,
          -0.5204918617224896
         ],
         "xaxis": "x4",
         "y": [
          -0.22992109036952604,
          0.05562905069623866,
          -0.6221448672758634,
          -1.2775273439321349,
          -0.6440569697000345,
          1.131706545613154,
          2.3269849129706297,
          -0.17691044485779936,
          -0.08839002936004192,
          0.019653683217731536,
          1.8022443151661145,
          -1.3701181105322455,
          1.3167363415927504,
          -0.8731175518357862,
          0.6630158042323278,
          -0.5939026786404201,
          -1.189565840100905,
          -0.12975458965208841,
          -0.504508358884414,
          0.457016756109502,
          -0.6814308754203008,
          0.7204908243254265,
          0.6821736359713191,
          0.37192801687488486,
          -0.555504810543227,
          0.7262270094658652,
          0.17322865228746825,
          0.6097466551673341,
          -1.5494078829354552,
          -0.5095497197037705,
          -0.9195335291133173,
          0.4175084396723642,
          -0.7741125605769356,
          1.4737973554835775,
          -0.8529729591274079,
          0.25811921887652617,
          0.33089826035966013,
          -0.6982967950296567,
          -0.12516702259257517,
          -1.0106053221572773,
          -0.649725111151501,
          0.02449680903689408,
          0.22859646494045405,
          0.9464170933770124,
          1.873143201110364,
          -0.6091693153755786,
          1.3265487423266915,
          0.3067897333091477,
          -0.5571057571497043,
          1.674449244515288,
          1.3178469595911038,
          -0.49255012966931755,
          -0.44810794334182213,
          -0.7725197627056002,
          1.2166371346851095,
          -1.1024257378148192,
          0.29468522897501254,
          -0.17146120964959644,
          0.3496038242258144,
          0.14809157834582365,
          -0.748077774440983,
          1.45827707078643,
          -0.09928752621004644,
          -0.4839929055643646,
          -0.15565823464625786,
          0.19530235551575784,
          -0.7980140531350256,
          0.13444759987307495,
          0.22118164958443864,
          1.4616957821951844,
          0.6671010315722775,
          0.5225410610499522,
          -0.276788602158649,
          -0.939623962839142,
          -0.6272075142834701,
          0.29046293292020675,
          0.6794206785823442,
          0.23193247197425712,
          1.2643201967925377,
          -0.9496289866829065,
          -1.1309935398469506,
          1.1691453813133879,
          0.30536283584432006,
          -1.86605627682016,
          -0.4581914049254,
          -1.01968113150098,
          -0.3670721304517326,
          0.1647520098516355,
          -1.4880426183796083,
          0.11789527226978264,
          -1.080570988178372,
          -0.5219449142618494,
          -0.8278083220296933,
          2.391449982303617,
          1.3194384354471438,
          -0.47775150946978956,
          0.3657773029540253,
          -0.023257568968075685,
          -0.637773142427531,
          1.3337092109565196
         ],
         "yaxis": "y4"
        },
        {
         "line": {
          "color": "rgba(128, 128, 128, 1.0)",
          "dash": "solid",
          "shape": "linear",
          "width": 1.3
         },
         "marker": {
          "size": 2,
          "symbol": "circle"
         },
         "mode": "markers",
         "name": "B",
         "text": "",
         "type": "scatter",
         "x": [
          -0.22992109036952604,
          0.05562905069623866,
          -0.6221448672758634,
          -1.2775273439321349,
          -0.6440569697000345,
          1.131706545613154,
          2.3269849129706297,
          -0.17691044485779936,
          -0.08839002936004192,
          0.019653683217731536,
          1.8022443151661145,
          -1.3701181105322455,
          1.3167363415927504,
          -0.8731175518357862,
          0.6630158042323278,
          -0.5939026786404201,
          -1.189565840100905,
          -0.12975458965208841,
          -0.504508358884414,
          0.457016756109502,
          -0.6814308754203008,
          0.7204908243254265,
          0.6821736359713191,
          0.37192801687488486,
          -0.555504810543227,
          0.7262270094658652,
          0.17322865228746825,
          0.6097466551673341,
          -1.5494078829354552,
          -0.5095497197037705,
          -0.9195335291133173,
          0.4175084396723642,
          -0.7741125605769356,
          1.4737973554835775,
          -0.8529729591274079,
          0.25811921887652617,
          0.33089826035966013,
          -0.6982967950296567,
          -0.12516702259257517,
          -1.0106053221572773,
          -0.649725111151501,
          0.02449680903689408,
          0.22859646494045405,
          0.9464170933770124,
          1.873143201110364,
          -0.6091693153755786,
          1.3265487423266915,
          0.3067897333091477,
          -0.5571057571497043,
          1.674449244515288,
          1.3178469595911038,
          -0.49255012966931755,
          -0.44810794334182213,
          -0.7725197627056002,
          1.2166371346851095,
          -1.1024257378148192,
          0.29468522897501254,
          -0.17146120964959644,
          0.3496038242258144,
          0.14809157834582365,
          -0.748077774440983,
          1.45827707078643,
          -0.09928752621004644,
          -0.4839929055643646,
          -0.15565823464625786,
          0.19530235551575784,
          -0.7980140531350256,
          0.13444759987307495,
          0.22118164958443864,
          1.4616957821951844,
          0.6671010315722775,
          0.5225410610499522,
          -0.276788602158649,
          -0.939623962839142,
          -0.6272075142834701,
          0.29046293292020675,
          0.6794206785823442,
          0.23193247197425712,
          1.2643201967925377,
          -0.9496289866829065,
          -1.1309935398469506,
          1.1691453813133879,
          0.30536283584432006,
          -1.86605627682016,
          -0.4581914049254,
          -1.01968113150098,
          -0.3670721304517326,
          0.1647520098516355,
          -1.4880426183796083,
          0.11789527226978264,
          -1.080570988178372,
          -0.5219449142618494,
          -0.8278083220296933,
          2.391449982303617,
          1.3194384354471438,
          -0.47775150946978956,
          0.3657773029540253,
          -0.023257568968075685,
          -0.637773142427531,
          1.3337092109565196
         ],
         "xaxis": "x5",
         "y": [
          -1.8817698934664846,
          -0.41601507412818295,
          -0.41865515893087574,
          -0.9225350677652552,
          -1.1028031295219891,
          1.1367930199072076,
          1.47559016075696,
          -1.3933192692422862,
          1.643496617781722,
          -2.1977034296545708,
          0.5190358910198498,
          0.5085572547468106,
          0.39924364041183,
          0.4817334229582357,
          1.306887694381889,
          -0.1263873899794544,
          0.12168107592464891,
          0.1767629878223784,
          0.810138746647247,
          -0.5032826285239151,
          1.4228471870753228,
          0.6190272466894131,
          0.345655455076898,
          -0.5745618409104268,
          -0.2574833303309138,
          0.1323920235148288,
          -1.2116801640258033,
          -0.2174540535047162,
          0.35417960185050856,
          -1.075353732212383,
          -0.35950354800210216,
          0.5855780406441056,
          -0.3655935096070619,
          0.26017388595128876,
          1.355530661108527,
          -1.801275506406735,
          -0.9550148234221776,
          1.4187003484549692,
          1.9686975778208906,
          1.1280839220780199,
          0.42220221584518536,
          0.5546010421905413,
          -1.7883367376461996,
          0.044889639270693456,
          1.4756223969392088,
          -0.7219989710723888,
          0.8089588798503246,
          -1.0914627919449182,
          -0.7510755408974256,
          0.8727541308260071,
          -0.30013340596004245,
          -1.869958148168794,
          1.0198755039911107,
          -0.4110694988765867,
          -2.011238984285647,
          -2.712625632213704,
          1.1074631667461983,
          1.3647754659067781,
          0.263076767947983,
          -1.605605758817802,
          0.7486967420437597,
          0.1037340614037904,
          -0.19293491970395546,
          -0.4337513563876914,
          1.0363253191594493,
          1.7791614447603339,
          1.310972744426554,
          0.3009702460925462,
          0.022165851786293156,
          1.1796261885706272,
          1.044097523733219,
          -0.2114030074294949,
          -0.5411097321310678,
          0.1586119176717941,
          -0.8888204126700929,
          1.2660356417103062,
          -1.6395258521894895,
          2.5423114290998083,
          -1.0477633230147863,
          0.3009133939405517,
          0.9868792992622124,
          -1.4842364828593417,
          -0.38501240587723146,
          -1.3254638008288566,
          -0.768897654146365,
          -0.7226556866098427,
          0.6750529039066931,
          1.3061345090077965,
          0.8292823878549053,
          0.3541272981432661,
          -0.21079582581662296,
          -0.7674531621928081,
          -0.9043951097084993,
          0.41158294740326745,
          1.3252892866561277,
          0.2769469888816118,
          0.895972498268627,
          -0.020377624471322832,
          1.6225471051597193,
          -1.5448178817481184
         ],
         "yaxis": "y5"
        },
        {
         "histfunc": "count",
         "histnorm": "",
         "marker": {
          "color": "rgba(55, 128, 191, 1.0)",
          "line": {
           "color": "#4D5663",
           "width": 1.3
          }
         },
         "name": "B",
         "nbinsx": 10,
         "opacity": 0.8,
         "orientation": "v",
         "type": "histogram",
         "x": [
          -1.8817698934664846,
          -0.41601507412818295,
          -0.41865515893087574,
          -0.9225350677652552,
          -1.1028031295219891,
          1.1367930199072076,
          1.47559016075696,
          -1.3933192692422862,
          1.643496617781722,
          -2.1977034296545708,
          0.5190358910198498,
          0.5085572547468106,
          0.39924364041183,
          0.4817334229582357,
          1.306887694381889,
          -0.1263873899794544,
          0.12168107592464891,
          0.1767629878223784,
          0.810138746647247,
          -0.5032826285239151,
          1.4228471870753228,
          0.6190272466894131,
          0.345655455076898,
          -0.5745618409104268,
          -0.2574833303309138,
          0.1323920235148288,
          -1.2116801640258033,
          -0.2174540535047162,
          0.35417960185050856,
          -1.075353732212383,
          -0.35950354800210216,
          0.5855780406441056,
          -0.3655935096070619,
          0.26017388595128876,
          1.355530661108527,
          -1.801275506406735,
          -0.9550148234221776,
          1.4187003484549692,
          1.9686975778208906,
          1.1280839220780199,
          0.42220221584518536,
          0.5546010421905413,
          -1.7883367376461996,
          0.044889639270693456,
          1.4756223969392088,
          -0.7219989710723888,
          0.8089588798503246,
          -1.0914627919449182,
          -0.7510755408974256,
          0.8727541308260071,
          -0.30013340596004245,
          -1.869958148168794,
          1.0198755039911107,
          -0.4110694988765867,
          -2.011238984285647,
          -2.712625632213704,
          1.1074631667461983,
          1.3647754659067781,
          0.263076767947983,
          -1.605605758817802,
          0.7486967420437597,
          0.1037340614037904,
          -0.19293491970395546,
          -0.4337513563876914,
          1.0363253191594493,
          1.7791614447603339,
          1.310972744426554,
          0.3009702460925462,
          0.022165851786293156,
          1.1796261885706272,
          1.044097523733219,
          -0.2114030074294949,
          -0.5411097321310678,
          0.1586119176717941,
          -0.8888204126700929,
          1.2660356417103062,
          -1.6395258521894895,
          2.5423114290998083,
          -1.0477633230147863,
          0.3009133939405517,
          0.9868792992622124,
          -1.4842364828593417,
          -0.38501240587723146,
          -1.3254638008288566,
          -0.768897654146365,
          -0.7226556866098427,
          0.6750529039066931,
          1.3061345090077965,
          0.8292823878549053,
          0.3541272981432661,
          -0.21079582581662296,
          -0.7674531621928081,
          -0.9043951097084993,
          0.41158294740326745,
          1.3252892866561277,
          0.2769469888816118,
          0.895972498268627,
          -0.020377624471322832,
          1.6225471051597193,
          -1.5448178817481184
         ],
         "xaxis": "x6",
         "yaxis": "y6"
        },
        {
         "line": {
          "color": "rgba(128, 128, 128, 1.0)",
          "dash": "solid",
          "shape": "linear",
          "width": 1.3
         },
         "marker": {
          "size": 2,
          "symbol": "circle"
         },
         "mode": "markers",
         "name": "B",
         "text": "",
         "type": "scatter",
         "x": [
          0.07588965184443273,
          1.6337225242788382,
          -0.5517587666975918,
          0.23693526354967026,
          -0.3161335665694347,
          -0.3945514240734139,
          -0.23115378638688555,
          1.1193633393194438,
          -0.24047201363700618,
          0.3449381376854929,
          -0.2540781539293871,
          -1.8892310002380301,
          -0.7792781704425811,
          0.18373256552969644,
          -0.6414681338889499,
          1.526081503244031,
          0.735424756992496,
          1.1005511744842102,
          0.14400501993141104,
          -1.1419025245269188,
          -1.7062645490303712,
          0.6928125270347335,
          -1.5089853493840657,
          1.8713953412563047,
          0.3826988653737301,
          -0.529968987277912,
          -1.0991229359321544,
          -1.4623762198492154,
          -0.3073534069860917,
          -0.12881051843590713,
          -1.0422820789925573,
          1.2335447410746414,
          0.15125663416392315,
          1.1544875649099604,
          0.8524518660933998,
          0.23885106347644072,
          -1.4017042025645903,
          -0.4921554733761034,
          0.5830770396195847,
          0.4248007952338122,
          -0.3017237617177742,
          0.45254231491654506,
          -1.7014771710192271,
          0.7417740869406251,
          -0.01702157266091685,
          1.5452530109652016,
          0.41681566608319204,
          -1.5846049055227909,
          -1.00614730392024,
          -0.8840057177654506,
          0.573407399486601,
          -0.2996286307969495,
          0.21218017367709877,
          0.2032192362271669,
          -0.1238559530252078,
          -0.9931604223142387,
          -0.03639725850986806,
          -0.29939549646036234,
          -1.1632112371810754,
          -0.42930421003414765,
          -0.9720011050611674,
          1.511327998418596,
          -0.391490224507803,
          -1.0343707966665685,
          1.1614033345336137,
          0.25846172162952147,
          0.2673019161771905,
          0.09922358114518205,
          0.5779188635536173,
          1.7622423470771715,
          0.03621225927739738,
          -1.8781137609391736,
          -1.2414591730228457,
          0.7150763247961918,
          -1.3506088848947662,
          -0.2855259738117049,
          -0.5062330374561972,
          0.03905175100678615,
          1.0175553616380286,
          0.5733915540550347,
          1.3332566320752068,
          -1.805689450426716,
          -1.1699305910850024,
          1.384592202850575,
          0.975012672541676,
          -0.6100760904957481,
          -0.38976207795179446,
          -0.44029567681254084,
          -0.8785626293647731,
          0.5871018052516414,
          1.1311561656997875,
          2.4368295250969494,
          -0.18527263678620495,
          -1.5666750947610815,
          -1.9429639161909467,
          2.7479576016442677,
          -1.7445681757283464,
          2.733475734584614,
          0.5556093324445441,
          -0.47688033302026606
         ],
         "xaxis": "x7",
         "y": [
          -1.8817698934664846,
          -0.41601507412818295,
          -0.41865515893087574,
          -0.9225350677652552,
          -1.1028031295219891,
          1.1367930199072076,
          1.47559016075696,
          -1.3933192692422862,
          1.643496617781722,
          -2.1977034296545708,
          0.5190358910198498,
          0.5085572547468106,
          0.39924364041183,
          0.4817334229582357,
          1.306887694381889,
          -0.1263873899794544,
          0.12168107592464891,
          0.1767629878223784,
          0.810138746647247,
          -0.5032826285239151,
          1.4228471870753228,
          0.6190272466894131,
          0.345655455076898,
          -0.5745618409104268,
          -0.2574833303309138,
          0.1323920235148288,
          -1.2116801640258033,
          -0.2174540535047162,
          0.35417960185050856,
          -1.075353732212383,
          -0.35950354800210216,
          0.5855780406441056,
          -0.3655935096070619,
          0.26017388595128876,
          1.355530661108527,
          -1.801275506406735,
          -0.9550148234221776,
          1.4187003484549692,
          1.9686975778208906,
          1.1280839220780199,
          0.42220221584518536,
          0.5546010421905413,
          -1.7883367376461996,
          0.044889639270693456,
          1.4756223969392088,
          -0.7219989710723888,
          0.8089588798503246,
          -1.0914627919449182,
          -0.7510755408974256,
          0.8727541308260071,
          -0.30013340596004245,
          -1.869958148168794,
          1.0198755039911107,
          -0.4110694988765867,
          -2.011238984285647,
          -2.712625632213704,
          1.1074631667461983,
          1.3647754659067781,
          0.263076767947983,
          -1.605605758817802,
          0.7486967420437597,
          0.1037340614037904,
          -0.19293491970395546,
          -0.4337513563876914,
          1.0363253191594493,
          1.7791614447603339,
          1.310972744426554,
          0.3009702460925462,
          0.022165851786293156,
          1.1796261885706272,
          1.044097523733219,
          -0.2114030074294949,
          -0.5411097321310678,
          0.1586119176717941,
          -0.8888204126700929,
          1.2660356417103062,
          -1.6395258521894895,
          2.5423114290998083,
          -1.0477633230147863,
          0.3009133939405517,
          0.9868792992622124,
          -1.4842364828593417,
          -0.38501240587723146,
          -1.3254638008288566,
          -0.768897654146365,
          -0.7226556866098427,
          0.6750529039066931,
          1.3061345090077965,
          0.8292823878549053,
          0.3541272981432661,
          -0.21079582581662296,
          -0.7674531621928081,
          -0.9043951097084993,
          0.41158294740326745,
          1.3252892866561277,
          0.2769469888816118,
          0.895972498268627,
          -0.020377624471322832,
          1.6225471051597193,
          -1.5448178817481184
         ],
         "yaxis": "y7"
        },
        {
         "line": {
          "color": "rgba(128, 128, 128, 1.0)",
          "dash": "solid",
          "shape": "linear",
          "width": 1.3
         },
         "marker": {
          "size": 2,
          "symbol": "circle"
         },
         "mode": "markers",
         "name": "B",
         "text": "",
         "type": "scatter",
         "x": [
          -2.1345305898504296,
          1.7734448851674718,
          -1.1465118095554963,
          0.11759120989479181,
          0.36328854231497115,
          0.6385180725664439,
          -1.27129752098571,
          -1.8754469967261727,
          -2.4893664098182673,
          1.2209014557406137,
          0.15280552809327072,
          0.11180520225730305,
          -0.4255070576679444,
          0.5468980150588038,
          0.5432922523628259,
          2.2124331968128965,
          1.4179592817727524,
          0.2654601378480211,
          0.8696338302816027,
          -0.1138714382356956,
          -0.9377608794476695,
          -1.99819239067689,
          1.2457087006640792,
          0.49696102581226836,
          -0.07721587235711798,
          0.0014418021044631953,
          -0.16391392716105752,
          0.1906326132827655,
          -0.9668705478585707,
          -0.2832065433295299,
          0.772717237410352,
          -0.2590713335948201,
          -1.2868494163262247,
          -2.6708320600799555,
          -1.0856302573354464,
          -0.7903438761780187,
          0.12947236370807977,
          -0.9100904453086847,
          -0.5602410199442092,
          -0.47307957138351076,
          0.2047906069189072,
          -0.16866825940700347,
          0.5801335516254127,
          -0.7876055191769322,
          -1.549512519833829,
          0.9374402967683155,
          0.6047223040714953,
          -0.7055298191035871,
          -1.2729613599942236,
          -1.1361342466596693,
          0.18744690974233252,
          0.8009214150184927,
          1.7441787881900397,
          -0.5156424351480714,
          0.9748173142560881,
          -0.2467689154939164,
          0.47468930470635745,
          -0.8070531723628719,
          0.6409048093341578,
          0.5895818525001894,
          0.9097007007872293,
          0.7233152525939471,
          0.7258813949795868,
          1.3213400281259144,
          0.1868772991701476,
          1.638668157608344,
          -0.9114112626952258,
          -0.63097113888363,
          -2.38163294251653,
          0.3048485325925647,
          1.5606740764643618,
          2.6757294452788067,
          -0.08442837572203585,
          -0.8217142267722916,
          -0.6951897734329309,
          -0.0049015395418065925,
          -1.1119684498124651,
          -1.3106646431613729,
          1.046955933402326,
          0.05665999257373598,
          1.6597052380760566,
          0.3852891342256938,
          0.6168853653963737,
          1.0506418342148884,
          0.9326393449233574,
          -1.6410964561069383,
          1.3104369164824048,
          -0.7696274478340477,
          0.4611452709617647,
          1.9810227881978804,
          -0.9637071883270888,
          0.46603047812103326,
          -0.3108802949958328,
          0.48410374524818633,
          1.672165674958786,
          -0.038419502698554465,
          0.24327914766825515,
          -0.5081237931251442,
          -0.9964483804653474,
          -0.5204918617224896
         ],
         "xaxis": "x8",
         "y": [
          -1.8817698934664846,
          -0.41601507412818295,
          -0.41865515893087574,
          -0.9225350677652552,
          -1.1028031295219891,
          1.1367930199072076,
          1.47559016075696,
          -1.3933192692422862,
          1.643496617781722,
          -2.1977034296545708,
          0.5190358910198498,
          0.5085572547468106,
          0.39924364041183,
          0.4817334229582357,
          1.306887694381889,
          -0.1263873899794544,
          0.12168107592464891,
          0.1767629878223784,
          0.810138746647247,
          -0.5032826285239151,
          1.4228471870753228,
          0.6190272466894131,
          0.345655455076898,
          -0.5745618409104268,
          -0.2574833303309138,
          0.1323920235148288,
          -1.2116801640258033,
          -0.2174540535047162,
          0.35417960185050856,
          -1.075353732212383,
          -0.35950354800210216,
          0.5855780406441056,
          -0.3655935096070619,
          0.26017388595128876,
          1.355530661108527,
          -1.801275506406735,
          -0.9550148234221776,
          1.4187003484549692,
          1.9686975778208906,
          1.1280839220780199,
          0.42220221584518536,
          0.5546010421905413,
          -1.7883367376461996,
          0.044889639270693456,
          1.4756223969392088,
          -0.7219989710723888,
          0.8089588798503246,
          -1.0914627919449182,
          -0.7510755408974256,
          0.8727541308260071,
          -0.30013340596004245,
          -1.869958148168794,
          1.0198755039911107,
          -0.4110694988765867,
          -2.011238984285647,
          -2.712625632213704,
          1.1074631667461983,
          1.3647754659067781,
          0.263076767947983,
          -1.605605758817802,
          0.7486967420437597,
          0.1037340614037904,
          -0.19293491970395546,
          -0.4337513563876914,
          1.0363253191594493,
          1.7791614447603339,
          1.310972744426554,
          0.3009702460925462,
          0.022165851786293156,
          1.1796261885706272,
          1.044097523733219,
          -0.2114030074294949,
          -0.5411097321310678,
          0.1586119176717941,
          -0.8888204126700929,
          1.2660356417103062,
          -1.6395258521894895,
          2.5423114290998083,
          -1.0477633230147863,
          0.3009133939405517,
          0.9868792992622124,
          -1.4842364828593417,
          -0.38501240587723146,
          -1.3254638008288566,
          -0.768897654146365,
          -0.7226556866098427,
          0.6750529039066931,
          1.3061345090077965,
          0.8292823878549053,
          0.3541272981432661,
          -0.21079582581662296,
          -0.7674531621928081,
          -0.9043951097084993,
          0.41158294740326745,
          1.3252892866561277,
          0.2769469888816118,
          0.895972498268627,
          -0.020377624471322832,
          1.6225471051597193,
          -1.5448178817481184
         ],
         "yaxis": "y8"
        },
        {
         "line": {
          "color": "rgba(128, 128, 128, 1.0)",
          "dash": "solid",
          "shape": "linear",
          "width": 1.3
         },
         "marker": {
          "size": 2,
          "symbol": "circle"
         },
         "mode": "markers",
         "name": "C",
         "text": "",
         "type": "scatter",
         "x": [
          -0.22992109036952604,
          0.05562905069623866,
          -0.6221448672758634,
          -1.2775273439321349,
          -0.6440569697000345,
          1.131706545613154,
          2.3269849129706297,
          -0.17691044485779936,
          -0.08839002936004192,
          0.019653683217731536,
          1.8022443151661145,
          -1.3701181105322455,
          1.3167363415927504,
          -0.8731175518357862,
          0.6630158042323278,
          -0.5939026786404201,
          -1.189565840100905,
          -0.12975458965208841,
          -0.504508358884414,
          0.457016756109502,
          -0.6814308754203008,
          0.7204908243254265,
          0.6821736359713191,
          0.37192801687488486,
          -0.555504810543227,
          0.7262270094658652,
          0.17322865228746825,
          0.6097466551673341,
          -1.5494078829354552,
          -0.5095497197037705,
          -0.9195335291133173,
          0.4175084396723642,
          -0.7741125605769356,
          1.4737973554835775,
          -0.8529729591274079,
          0.25811921887652617,
          0.33089826035966013,
          -0.6982967950296567,
          -0.12516702259257517,
          -1.0106053221572773,
          -0.649725111151501,
          0.02449680903689408,
          0.22859646494045405,
          0.9464170933770124,
          1.873143201110364,
          -0.6091693153755786,
          1.3265487423266915,
          0.3067897333091477,
          -0.5571057571497043,
          1.674449244515288,
          1.3178469595911038,
          -0.49255012966931755,
          -0.44810794334182213,
          -0.7725197627056002,
          1.2166371346851095,
          -1.1024257378148192,
          0.29468522897501254,
          -0.17146120964959644,
          0.3496038242258144,
          0.14809157834582365,
          -0.748077774440983,
          1.45827707078643,
          -0.09928752621004644,
          -0.4839929055643646,
          -0.15565823464625786,
          0.19530235551575784,
          -0.7980140531350256,
          0.13444759987307495,
          0.22118164958443864,
          1.4616957821951844,
          0.6671010315722775,
          0.5225410610499522,
          -0.276788602158649,
          -0.939623962839142,
          -0.6272075142834701,
          0.29046293292020675,
          0.6794206785823442,
          0.23193247197425712,
          1.2643201967925377,
          -0.9496289866829065,
          -1.1309935398469506,
          1.1691453813133879,
          0.30536283584432006,
          -1.86605627682016,
          -0.4581914049254,
          -1.01968113150098,
          -0.3670721304517326,
          0.1647520098516355,
          -1.4880426183796083,
          0.11789527226978264,
          -1.080570988178372,
          -0.5219449142618494,
          -0.8278083220296933,
          2.391449982303617,
          1.3194384354471438,
          -0.47775150946978956,
          0.3657773029540253,
          -0.023257568968075685,
          -0.637773142427531,
          1.3337092109565196
         ],
         "xaxis": "x9",
         "y": [
          0.07588965184443273,
          1.6337225242788382,
          -0.5517587666975918,
          0.23693526354967026,
          -0.3161335665694347,
          -0.3945514240734139,
          -0.23115378638688555,
          1.1193633393194438,
          -0.24047201363700618,
          0.3449381376854929,
          -0.2540781539293871,
          -1.8892310002380301,
          -0.7792781704425811,
          0.18373256552969644,
          -0.6414681338889499,
          1.526081503244031,
          0.735424756992496,
          1.1005511744842102,
          0.14400501993141104,
          -1.1419025245269188,
          -1.7062645490303712,
          0.6928125270347335,
          -1.5089853493840657,
          1.8713953412563047,
          0.3826988653737301,
          -0.529968987277912,
          -1.0991229359321544,
          -1.4623762198492154,
          -0.3073534069860917,
          -0.12881051843590713,
          -1.0422820789925573,
          1.2335447410746414,
          0.15125663416392315,
          1.1544875649099604,
          0.8524518660933998,
          0.23885106347644072,
          -1.4017042025645903,
          -0.4921554733761034,
          0.5830770396195847,
          0.4248007952338122,
          -0.3017237617177742,
          0.45254231491654506,
          -1.7014771710192271,
          0.7417740869406251,
          -0.01702157266091685,
          1.5452530109652016,
          0.41681566608319204,
          -1.5846049055227909,
          -1.00614730392024,
          -0.8840057177654506,
          0.573407399486601,
          -0.2996286307969495,
          0.21218017367709877,
          0.2032192362271669,
          -0.1238559530252078,
          -0.9931604223142387,
          -0.03639725850986806,
          -0.29939549646036234,
          -1.1632112371810754,
          -0.42930421003414765,
          -0.9720011050611674,
          1.511327998418596,
          -0.391490224507803,
          -1.0343707966665685,
          1.1614033345336137,
          0.25846172162952147,
          0.2673019161771905,
          0.09922358114518205,
          0.5779188635536173,
          1.7622423470771715,
          0.03621225927739738,
          -1.8781137609391736,
          -1.2414591730228457,
          0.7150763247961918,
          -1.3506088848947662,
          -0.2855259738117049,
          -0.5062330374561972,
          0.03905175100678615,
          1.0175553616380286,
          0.5733915540550347,
          1.3332566320752068,
          -1.805689450426716,
          -1.1699305910850024,
          1.384592202850575,
          0.975012672541676,
          -0.6100760904957481,
          -0.38976207795179446,
          -0.44029567681254084,
          -0.8785626293647731,
          0.5871018052516414,
          1.1311561656997875,
          2.4368295250969494,
          -0.18527263678620495,
          -1.5666750947610815,
          -1.9429639161909467,
          2.7479576016442677,
          -1.7445681757283464,
          2.733475734584614,
          0.5556093324445441,
          -0.47688033302026606
         ],
         "yaxis": "y9"
        },
        {
         "line": {
          "color": "rgba(128, 128, 128, 1.0)",
          "dash": "solid",
          "shape": "linear",
          "width": 1.3
         },
         "marker": {
          "size": 2,
          "symbol": "circle"
         },
         "mode": "markers",
         "name": "C",
         "text": "",
         "type": "scatter",
         "x": [
          -1.8817698934664846,
          -0.41601507412818295,
          -0.41865515893087574,
          -0.9225350677652552,
          -1.1028031295219891,
          1.1367930199072076,
          1.47559016075696,
          -1.3933192692422862,
          1.643496617781722,
          -2.1977034296545708,
          0.5190358910198498,
          0.5085572547468106,
          0.39924364041183,
          0.4817334229582357,
          1.306887694381889,
          -0.1263873899794544,
          0.12168107592464891,
          0.1767629878223784,
          0.810138746647247,
          -0.5032826285239151,
          1.4228471870753228,
          0.6190272466894131,
          0.345655455076898,
          -0.5745618409104268,
          -0.2574833303309138,
          0.1323920235148288,
          -1.2116801640258033,
          -0.2174540535047162,
          0.35417960185050856,
          -1.075353732212383,
          -0.35950354800210216,
          0.5855780406441056,
          -0.3655935096070619,
          0.26017388595128876,
          1.355530661108527,
          -1.801275506406735,
          -0.9550148234221776,
          1.4187003484549692,
          1.9686975778208906,
          1.1280839220780199,
          0.42220221584518536,
          0.5546010421905413,
          -1.7883367376461996,
          0.044889639270693456,
          1.4756223969392088,
          -0.7219989710723888,
          0.8089588798503246,
          -1.0914627919449182,
          -0.7510755408974256,
          0.8727541308260071,
          -0.30013340596004245,
          -1.869958148168794,
          1.0198755039911107,
          -0.4110694988765867,
          -2.011238984285647,
          -2.712625632213704,
          1.1074631667461983,
          1.3647754659067781,
          0.263076767947983,
          -1.605605758817802,
          0.7486967420437597,
          0.1037340614037904,
          -0.19293491970395546,
          -0.4337513563876914,
          1.0363253191594493,
          1.7791614447603339,
          1.310972744426554,
          0.3009702460925462,
          0.022165851786293156,
          1.1796261885706272,
          1.044097523733219,
          -0.2114030074294949,
          -0.5411097321310678,
          0.1586119176717941,
          -0.8888204126700929,
          1.2660356417103062,
          -1.6395258521894895,
          2.5423114290998083,
          -1.0477633230147863,
          0.3009133939405517,
          0.9868792992622124,
          -1.4842364828593417,
          -0.38501240587723146,
          -1.3254638008288566,
          -0.768897654146365,
          -0.7226556866098427,
          0.6750529039066931,
          1.3061345090077965,
          0.8292823878549053,
          0.3541272981432661,
          -0.21079582581662296,
          -0.7674531621928081,
          -0.9043951097084993,
          0.41158294740326745,
          1.3252892866561277,
          0.2769469888816118,
          0.895972498268627,
          -0.020377624471322832,
          1.6225471051597193,
          -1.5448178817481184
         ],
         "xaxis": "x10",
         "y": [
          0.07588965184443273,
          1.6337225242788382,
          -0.5517587666975918,
          0.23693526354967026,
          -0.3161335665694347,
          -0.3945514240734139,
          -0.23115378638688555,
          1.1193633393194438,
          -0.24047201363700618,
          0.3449381376854929,
          -0.2540781539293871,
          -1.8892310002380301,
          -0.7792781704425811,
          0.18373256552969644,
          -0.6414681338889499,
          1.526081503244031,
          0.735424756992496,
          1.1005511744842102,
          0.14400501993141104,
          -1.1419025245269188,
          -1.7062645490303712,
          0.6928125270347335,
          -1.5089853493840657,
          1.8713953412563047,
          0.3826988653737301,
          -0.529968987277912,
          -1.0991229359321544,
          -1.4623762198492154,
          -0.3073534069860917,
          -0.12881051843590713,
          -1.0422820789925573,
          1.2335447410746414,
          0.15125663416392315,
          1.1544875649099604,
          0.8524518660933998,
          0.23885106347644072,
          -1.4017042025645903,
          -0.4921554733761034,
          0.5830770396195847,
          0.4248007952338122,
          -0.3017237617177742,
          0.45254231491654506,
          -1.7014771710192271,
          0.7417740869406251,
          -0.01702157266091685,
          1.5452530109652016,
          0.41681566608319204,
          -1.5846049055227909,
          -1.00614730392024,
          -0.8840057177654506,
          0.573407399486601,
          -0.2996286307969495,
          0.21218017367709877,
          0.2032192362271669,
          -0.1238559530252078,
          -0.9931604223142387,
          -0.03639725850986806,
          -0.29939549646036234,
          -1.1632112371810754,
          -0.42930421003414765,
          -0.9720011050611674,
          1.511327998418596,
          -0.391490224507803,
          -1.0343707966665685,
          1.1614033345336137,
          0.25846172162952147,
          0.2673019161771905,
          0.09922358114518205,
          0.5779188635536173,
          1.7622423470771715,
          0.03621225927739738,
          -1.8781137609391736,
          -1.2414591730228457,
          0.7150763247961918,
          -1.3506088848947662,
          -0.2855259738117049,
          -0.5062330374561972,
          0.03905175100678615,
          1.0175553616380286,
          0.5733915540550347,
          1.3332566320752068,
          -1.805689450426716,
          -1.1699305910850024,
          1.384592202850575,
          0.975012672541676,
          -0.6100760904957481,
          -0.38976207795179446,
          -0.44029567681254084,
          -0.8785626293647731,
          0.5871018052516414,
          1.1311561656997875,
          2.4368295250969494,
          -0.18527263678620495,
          -1.5666750947610815,
          -1.9429639161909467,
          2.7479576016442677,
          -1.7445681757283464,
          2.733475734584614,
          0.5556093324445441,
          -0.47688033302026606
         ],
         "yaxis": "y10"
        },
        {
         "histfunc": "count",
         "histnorm": "",
         "marker": {
          "color": "rgba(50, 171, 96, 1.0)",
          "line": {
           "color": "#4D5663",
           "width": 1.3
          }
         },
         "name": "C",
         "nbinsx": 10,
         "opacity": 0.8,
         "orientation": "v",
         "type": "histogram",
         "x": [
          0.07588965184443273,
          1.6337225242788382,
          -0.5517587666975918,
          0.23693526354967026,
          -0.3161335665694347,
          -0.3945514240734139,
          -0.23115378638688555,
          1.1193633393194438,
          -0.24047201363700618,
          0.3449381376854929,
          -0.2540781539293871,
          -1.8892310002380301,
          -0.7792781704425811,
          0.18373256552969644,
          -0.6414681338889499,
          1.526081503244031,
          0.735424756992496,
          1.1005511744842102,
          0.14400501993141104,
          -1.1419025245269188,
          -1.7062645490303712,
          0.6928125270347335,
          -1.5089853493840657,
          1.8713953412563047,
          0.3826988653737301,
          -0.529968987277912,
          -1.0991229359321544,
          -1.4623762198492154,
          -0.3073534069860917,
          -0.12881051843590713,
          -1.0422820789925573,
          1.2335447410746414,
          0.15125663416392315,
          1.1544875649099604,
          0.8524518660933998,
          0.23885106347644072,
          -1.4017042025645903,
          -0.4921554733761034,
          0.5830770396195847,
          0.4248007952338122,
          -0.3017237617177742,
          0.45254231491654506,
          -1.7014771710192271,
          0.7417740869406251,
          -0.01702157266091685,
          1.5452530109652016,
          0.41681566608319204,
          -1.5846049055227909,
          -1.00614730392024,
          -0.8840057177654506,
          0.573407399486601,
          -0.2996286307969495,
          0.21218017367709877,
          0.2032192362271669,
          -0.1238559530252078,
          -0.9931604223142387,
          -0.03639725850986806,
          -0.29939549646036234,
          -1.1632112371810754,
          -0.42930421003414765,
          -0.9720011050611674,
          1.511327998418596,
          -0.391490224507803,
          -1.0343707966665685,
          1.1614033345336137,
          0.25846172162952147,
          0.2673019161771905,
          0.09922358114518205,
          0.5779188635536173,
          1.7622423470771715,
          0.03621225927739738,
          -1.8781137609391736,
          -1.2414591730228457,
          0.7150763247961918,
          -1.3506088848947662,
          -0.2855259738117049,
          -0.5062330374561972,
          0.03905175100678615,
          1.0175553616380286,
          0.5733915540550347,
          1.3332566320752068,
          -1.805689450426716,
          -1.1699305910850024,
          1.384592202850575,
          0.975012672541676,
          -0.6100760904957481,
          -0.38976207795179446,
          -0.44029567681254084,
          -0.8785626293647731,
          0.5871018052516414,
          1.1311561656997875,
          2.4368295250969494,
          -0.18527263678620495,
          -1.5666750947610815,
          -1.9429639161909467,
          2.7479576016442677,
          -1.7445681757283464,
          2.733475734584614,
          0.5556093324445441,
          -0.47688033302026606
         ],
         "xaxis": "x11",
         "yaxis": "y11"
        },
        {
         "line": {
          "color": "rgba(128, 128, 128, 1.0)",
          "dash": "solid",
          "shape": "linear",
          "width": 1.3
         },
         "marker": {
          "size": 2,
          "symbol": "circle"
         },
         "mode": "markers",
         "name": "C",
         "text": "",
         "type": "scatter",
         "x": [
          -2.1345305898504296,
          1.7734448851674718,
          -1.1465118095554963,
          0.11759120989479181,
          0.36328854231497115,
          0.6385180725664439,
          -1.27129752098571,
          -1.8754469967261727,
          -2.4893664098182673,
          1.2209014557406137,
          0.15280552809327072,
          0.11180520225730305,
          -0.4255070576679444,
          0.5468980150588038,
          0.5432922523628259,
          2.2124331968128965,
          1.4179592817727524,
          0.2654601378480211,
          0.8696338302816027,
          -0.1138714382356956,
          -0.9377608794476695,
          -1.99819239067689,
          1.2457087006640792,
          0.49696102581226836,
          -0.07721587235711798,
          0.0014418021044631953,
          -0.16391392716105752,
          0.1906326132827655,
          -0.9668705478585707,
          -0.2832065433295299,
          0.772717237410352,
          -0.2590713335948201,
          -1.2868494163262247,
          -2.6708320600799555,
          -1.0856302573354464,
          -0.7903438761780187,
          0.12947236370807977,
          -0.9100904453086847,
          -0.5602410199442092,
          -0.47307957138351076,
          0.2047906069189072,
          -0.16866825940700347,
          0.5801335516254127,
          -0.7876055191769322,
          -1.549512519833829,
          0.9374402967683155,
          0.6047223040714953,
          -0.7055298191035871,
          -1.2729613599942236,
          -1.1361342466596693,
          0.18744690974233252,
          0.8009214150184927,
          1.7441787881900397,
          -0.5156424351480714,
          0.9748173142560881,
          -0.2467689154939164,
          0.47468930470635745,
          -0.8070531723628719,
          0.6409048093341578,
          0.5895818525001894,
          0.9097007007872293,
          0.7233152525939471,
          0.7258813949795868,
          1.3213400281259144,
          0.1868772991701476,
          1.638668157608344,
          -0.9114112626952258,
          -0.63097113888363,
          -2.38163294251653,
          0.3048485325925647,
          1.5606740764643618,
          2.6757294452788067,
          -0.08442837572203585,
          -0.8217142267722916,
          -0.6951897734329309,
          -0.0049015395418065925,
          -1.1119684498124651,
          -1.3106646431613729,
          1.046955933402326,
          0.05665999257373598,
          1.6597052380760566,
          0.3852891342256938,
          0.6168853653963737,
          1.0506418342148884,
          0.9326393449233574,
          -1.6410964561069383,
          1.3104369164824048,
          -0.7696274478340477,
          0.4611452709617647,
          1.9810227881978804,
          -0.9637071883270888,
          0.46603047812103326,
          -0.3108802949958328,
          0.48410374524818633,
          1.672165674958786,
          -0.038419502698554465,
          0.24327914766825515,
          -0.5081237931251442,
          -0.9964483804653474,
          -0.5204918617224896
         ],
         "xaxis": "x12",
         "y": [
          0.07588965184443273,
          1.6337225242788382,
          -0.5517587666975918,
          0.23693526354967026,
          -0.3161335665694347,
          -0.3945514240734139,
          -0.23115378638688555,
          1.1193633393194438,
          -0.24047201363700618,
          0.3449381376854929,
          -0.2540781539293871,
          -1.8892310002380301,
          -0.7792781704425811,
          0.18373256552969644,
          -0.6414681338889499,
          1.526081503244031,
          0.735424756992496,
          1.1005511744842102,
          0.14400501993141104,
          -1.1419025245269188,
          -1.7062645490303712,
          0.6928125270347335,
          -1.5089853493840657,
          1.8713953412563047,
          0.3826988653737301,
          -0.529968987277912,
          -1.0991229359321544,
          -1.4623762198492154,
          -0.3073534069860917,
          -0.12881051843590713,
          -1.0422820789925573,
          1.2335447410746414,
          0.15125663416392315,
          1.1544875649099604,
          0.8524518660933998,
          0.23885106347644072,
          -1.4017042025645903,
          -0.4921554733761034,
          0.5830770396195847,
          0.4248007952338122,
          -0.3017237617177742,
          0.45254231491654506,
          -1.7014771710192271,
          0.7417740869406251,
          -0.01702157266091685,
          1.5452530109652016,
          0.41681566608319204,
          -1.5846049055227909,
          -1.00614730392024,
          -0.8840057177654506,
          0.573407399486601,
          -0.2996286307969495,
          0.21218017367709877,
          0.2032192362271669,
          -0.1238559530252078,
          -0.9931604223142387,
          -0.03639725850986806,
          -0.29939549646036234,
          -1.1632112371810754,
          -0.42930421003414765,
          -0.9720011050611674,
          1.511327998418596,
          -0.391490224507803,
          -1.0343707966665685,
          1.1614033345336137,
          0.25846172162952147,
          0.2673019161771905,
          0.09922358114518205,
          0.5779188635536173,
          1.7622423470771715,
          0.03621225927739738,
          -1.8781137609391736,
          -1.2414591730228457,
          0.7150763247961918,
          -1.3506088848947662,
          -0.2855259738117049,
          -0.5062330374561972,
          0.03905175100678615,
          1.0175553616380286,
          0.5733915540550347,
          1.3332566320752068,
          -1.805689450426716,
          -1.1699305910850024,
          1.384592202850575,
          0.975012672541676,
          -0.6100760904957481,
          -0.38976207795179446,
          -0.44029567681254084,
          -0.8785626293647731,
          0.5871018052516414,
          1.1311561656997875,
          2.4368295250969494,
          -0.18527263678620495,
          -1.5666750947610815,
          -1.9429639161909467,
          2.7479576016442677,
          -1.7445681757283464,
          2.733475734584614,
          0.5556093324445441,
          -0.47688033302026606
         ],
         "yaxis": "y12"
        },
        {
         "line": {
          "color": "rgba(128, 128, 128, 1.0)",
          "dash": "solid",
          "shape": "linear",
          "width": 1.3
         },
         "marker": {
          "size": 2,
          "symbol": "circle"
         },
         "mode": "markers",
         "name": "D",
         "text": "",
         "type": "scatter",
         "x": [
          -0.22992109036952604,
          0.05562905069623866,
          -0.6221448672758634,
          -1.2775273439321349,
          -0.6440569697000345,
          1.131706545613154,
          2.3269849129706297,
          -0.17691044485779936,
          -0.08839002936004192,
          0.019653683217731536,
          1.8022443151661145,
          -1.3701181105322455,
          1.3167363415927504,
          -0.8731175518357862,
          0.6630158042323278,
          -0.5939026786404201,
          -1.189565840100905,
          -0.12975458965208841,
          -0.504508358884414,
          0.457016756109502,
          -0.6814308754203008,
          0.7204908243254265,
          0.6821736359713191,
          0.37192801687488486,
          -0.555504810543227,
          0.7262270094658652,
          0.17322865228746825,
          0.6097466551673341,
          -1.5494078829354552,
          -0.5095497197037705,
          -0.9195335291133173,
          0.4175084396723642,
          -0.7741125605769356,
          1.4737973554835775,
          -0.8529729591274079,
          0.25811921887652617,
          0.33089826035966013,
          -0.6982967950296567,
          -0.12516702259257517,
          -1.0106053221572773,
          -0.649725111151501,
          0.02449680903689408,
          0.22859646494045405,
          0.9464170933770124,
          1.873143201110364,
          -0.6091693153755786,
          1.3265487423266915,
          0.3067897333091477,
          -0.5571057571497043,
          1.674449244515288,
          1.3178469595911038,
          -0.49255012966931755,
          -0.44810794334182213,
          -0.7725197627056002,
          1.2166371346851095,
          -1.1024257378148192,
          0.29468522897501254,
          -0.17146120964959644,
          0.3496038242258144,
          0.14809157834582365,
          -0.748077774440983,
          1.45827707078643,
          -0.09928752621004644,
          -0.4839929055643646,
          -0.15565823464625786,
          0.19530235551575784,
          -0.7980140531350256,
          0.13444759987307495,
          0.22118164958443864,
          1.4616957821951844,
          0.6671010315722775,
          0.5225410610499522,
          -0.276788602158649,
          -0.939623962839142,
          -0.6272075142834701,
          0.29046293292020675,
          0.6794206785823442,
          0.23193247197425712,
          1.2643201967925377,
          -0.9496289866829065,
          -1.1309935398469506,
          1.1691453813133879,
          0.30536283584432006,
          -1.86605627682016,
          -0.4581914049254,
          -1.01968113150098,
          -0.3670721304517326,
          0.1647520098516355,
          -1.4880426183796083,
          0.11789527226978264,
          -1.080570988178372,
          -0.5219449142618494,
          -0.8278083220296933,
          2.391449982303617,
          1.3194384354471438,
          -0.47775150946978956,
          0.3657773029540253,
          -0.023257568968075685,
          -0.637773142427531,
          1.3337092109565196
         ],
         "xaxis": "x13",
         "y": [
          -2.1345305898504296,
          1.7734448851674718,
          -1.1465118095554963,
          0.11759120989479181,
          0.36328854231497115,
          0.6385180725664439,
          -1.27129752098571,
          -1.8754469967261727,
          -2.4893664098182673,
          1.2209014557406137,
          0.15280552809327072,
          0.11180520225730305,
          -0.4255070576679444,
          0.5468980150588038,
          0.5432922523628259,
          2.2124331968128965,
          1.4179592817727524,
          0.2654601378480211,
          0.8696338302816027,
          -0.1138714382356956,
          -0.9377608794476695,
          -1.99819239067689,
          1.2457087006640792,
          0.49696102581226836,
          -0.07721587235711798,
          0.0014418021044631953,
          -0.16391392716105752,
          0.1906326132827655,
          -0.9668705478585707,
          -0.2832065433295299,
          0.772717237410352,
          -0.2590713335948201,
          -1.2868494163262247,
          -2.6708320600799555,
          -1.0856302573354464,
          -0.7903438761780187,
          0.12947236370807977,
          -0.9100904453086847,
          -0.5602410199442092,
          -0.47307957138351076,
          0.2047906069189072,
          -0.16866825940700347,
          0.5801335516254127,
          -0.7876055191769322,
          -1.549512519833829,
          0.9374402967683155,
          0.6047223040714953,
          -0.7055298191035871,
          -1.2729613599942236,
          -1.1361342466596693,
          0.18744690974233252,
          0.8009214150184927,
          1.7441787881900397,
          -0.5156424351480714,
          0.9748173142560881,
          -0.2467689154939164,
          0.47468930470635745,
          -0.8070531723628719,
          0.6409048093341578,
          0.5895818525001894,
          0.9097007007872293,
          0.7233152525939471,
          0.7258813949795868,
          1.3213400281259144,
          0.1868772991701476,
          1.638668157608344,
          -0.9114112626952258,
          -0.63097113888363,
          -2.38163294251653,
          0.3048485325925647,
          1.5606740764643618,
          2.6757294452788067,
          -0.08442837572203585,
          -0.8217142267722916,
          -0.6951897734329309,
          -0.0049015395418065925,
          -1.1119684498124651,
          -1.3106646431613729,
          1.046955933402326,
          0.05665999257373598,
          1.6597052380760566,
          0.3852891342256938,
          0.6168853653963737,
          1.0506418342148884,
          0.9326393449233574,
          -1.6410964561069383,
          1.3104369164824048,
          -0.7696274478340477,
          0.4611452709617647,
          1.9810227881978804,
          -0.9637071883270888,
          0.46603047812103326,
          -0.3108802949958328,
          0.48410374524818633,
          1.672165674958786,
          -0.038419502698554465,
          0.24327914766825515,
          -0.5081237931251442,
          -0.9964483804653474,
          -0.5204918617224896
         ],
         "yaxis": "y13"
        },
        {
         "line": {
          "color": "rgba(128, 128, 128, 1.0)",
          "dash": "solid",
          "shape": "linear",
          "width": 1.3
         },
         "marker": {
          "size": 2,
          "symbol": "circle"
         },
         "mode": "markers",
         "name": "D",
         "text": "",
         "type": "scatter",
         "x": [
          -1.8817698934664846,
          -0.41601507412818295,
          -0.41865515893087574,
          -0.9225350677652552,
          -1.1028031295219891,
          1.1367930199072076,
          1.47559016075696,
          -1.3933192692422862,
          1.643496617781722,
          -2.1977034296545708,
          0.5190358910198498,
          0.5085572547468106,
          0.39924364041183,
          0.4817334229582357,
          1.306887694381889,
          -0.1263873899794544,
          0.12168107592464891,
          0.1767629878223784,
          0.810138746647247,
          -0.5032826285239151,
          1.4228471870753228,
          0.6190272466894131,
          0.345655455076898,
          -0.5745618409104268,
          -0.2574833303309138,
          0.1323920235148288,
          -1.2116801640258033,
          -0.2174540535047162,
          0.35417960185050856,
          -1.075353732212383,
          -0.35950354800210216,
          0.5855780406441056,
          -0.3655935096070619,
          0.26017388595128876,
          1.355530661108527,
          -1.801275506406735,
          -0.9550148234221776,
          1.4187003484549692,
          1.9686975778208906,
          1.1280839220780199,
          0.42220221584518536,
          0.5546010421905413,
          -1.7883367376461996,
          0.044889639270693456,
          1.4756223969392088,
          -0.7219989710723888,
          0.8089588798503246,
          -1.0914627919449182,
          -0.7510755408974256,
          0.8727541308260071,
          -0.30013340596004245,
          -1.869958148168794,
          1.0198755039911107,
          -0.4110694988765867,
          -2.011238984285647,
          -2.712625632213704,
          1.1074631667461983,
          1.3647754659067781,
          0.263076767947983,
          -1.605605758817802,
          0.7486967420437597,
          0.1037340614037904,
          -0.19293491970395546,
          -0.4337513563876914,
          1.0363253191594493,
          1.7791614447603339,
          1.310972744426554,
          0.3009702460925462,
          0.022165851786293156,
          1.1796261885706272,
          1.044097523733219,
          -0.2114030074294949,
          -0.5411097321310678,
          0.1586119176717941,
          -0.8888204126700929,
          1.2660356417103062,
          -1.6395258521894895,
          2.5423114290998083,
          -1.0477633230147863,
          0.3009133939405517,
          0.9868792992622124,
          -1.4842364828593417,
          -0.38501240587723146,
          -1.3254638008288566,
          -0.768897654146365,
          -0.7226556866098427,
          0.6750529039066931,
          1.3061345090077965,
          0.8292823878549053,
          0.3541272981432661,
          -0.21079582581662296,
          -0.7674531621928081,
          -0.9043951097084993,
          0.41158294740326745,
          1.3252892866561277,
          0.2769469888816118,
          0.895972498268627,
          -0.020377624471322832,
          1.6225471051597193,
          -1.5448178817481184
         ],
         "xaxis": "x14",
         "y": [
          -2.1345305898504296,
          1.7734448851674718,
          -1.1465118095554963,
          0.11759120989479181,
          0.36328854231497115,
          0.6385180725664439,
          -1.27129752098571,
          -1.8754469967261727,
          -2.4893664098182673,
          1.2209014557406137,
          0.15280552809327072,
          0.11180520225730305,
          -0.4255070576679444,
          0.5468980150588038,
          0.5432922523628259,
          2.2124331968128965,
          1.4179592817727524,
          0.2654601378480211,
          0.8696338302816027,
          -0.1138714382356956,
          -0.9377608794476695,
          -1.99819239067689,
          1.2457087006640792,
          0.49696102581226836,
          -0.07721587235711798,
          0.0014418021044631953,
          -0.16391392716105752,
          0.1906326132827655,
          -0.9668705478585707,
          -0.2832065433295299,
          0.772717237410352,
          -0.2590713335948201,
          -1.2868494163262247,
          -2.6708320600799555,
          -1.0856302573354464,
          -0.7903438761780187,
          0.12947236370807977,
          -0.9100904453086847,
          -0.5602410199442092,
          -0.47307957138351076,
          0.2047906069189072,
          -0.16866825940700347,
          0.5801335516254127,
          -0.7876055191769322,
          -1.549512519833829,
          0.9374402967683155,
          0.6047223040714953,
          -0.7055298191035871,
          -1.2729613599942236,
          -1.1361342466596693,
          0.18744690974233252,
          0.8009214150184927,
          1.7441787881900397,
          -0.5156424351480714,
          0.9748173142560881,
          -0.2467689154939164,
          0.47468930470635745,
          -0.8070531723628719,
          0.6409048093341578,
          0.5895818525001894,
          0.9097007007872293,
          0.7233152525939471,
          0.7258813949795868,
          1.3213400281259144,
          0.1868772991701476,
          1.638668157608344,
          -0.9114112626952258,
          -0.63097113888363,
          -2.38163294251653,
          0.3048485325925647,
          1.5606740764643618,
          2.6757294452788067,
          -0.08442837572203585,
          -0.8217142267722916,
          -0.6951897734329309,
          -0.0049015395418065925,
          -1.1119684498124651,
          -1.3106646431613729,
          1.046955933402326,
          0.05665999257373598,
          1.6597052380760566,
          0.3852891342256938,
          0.6168853653963737,
          1.0506418342148884,
          0.9326393449233574,
          -1.6410964561069383,
          1.3104369164824048,
          -0.7696274478340477,
          0.4611452709617647,
          1.9810227881978804,
          -0.9637071883270888,
          0.46603047812103326,
          -0.3108802949958328,
          0.48410374524818633,
          1.672165674958786,
          -0.038419502698554465,
          0.24327914766825515,
          -0.5081237931251442,
          -0.9964483804653474,
          -0.5204918617224896
         ],
         "yaxis": "y14"
        },
        {
         "line": {
          "color": "rgba(128, 128, 128, 1.0)",
          "dash": "solid",
          "shape": "linear",
          "width": 1.3
         },
         "marker": {
          "size": 2,
          "symbol": "circle"
         },
         "mode": "markers",
         "name": "D",
         "text": "",
         "type": "scatter",
         "x": [
          0.07588965184443273,
          1.6337225242788382,
          -0.5517587666975918,
          0.23693526354967026,
          -0.3161335665694347,
          -0.3945514240734139,
          -0.23115378638688555,
          1.1193633393194438,
          -0.24047201363700618,
          0.3449381376854929,
          -0.2540781539293871,
          -1.8892310002380301,
          -0.7792781704425811,
          0.18373256552969644,
          -0.6414681338889499,
          1.526081503244031,
          0.735424756992496,
          1.1005511744842102,
          0.14400501993141104,
          -1.1419025245269188,
          -1.7062645490303712,
          0.6928125270347335,
          -1.5089853493840657,
          1.8713953412563047,
          0.3826988653737301,
          -0.529968987277912,
          -1.0991229359321544,
          -1.4623762198492154,
          -0.3073534069860917,
          -0.12881051843590713,
          -1.0422820789925573,
          1.2335447410746414,
          0.15125663416392315,
          1.1544875649099604,
          0.8524518660933998,
          0.23885106347644072,
          -1.4017042025645903,
          -0.4921554733761034,
          0.5830770396195847,
          0.4248007952338122,
          -0.3017237617177742,
          0.45254231491654506,
          -1.7014771710192271,
          0.7417740869406251,
          -0.01702157266091685,
          1.5452530109652016,
          0.41681566608319204,
          -1.5846049055227909,
          -1.00614730392024,
          -0.8840057177654506,
          0.573407399486601,
          -0.2996286307969495,
          0.21218017367709877,
          0.2032192362271669,
          -0.1238559530252078,
          -0.9931604223142387,
          -0.03639725850986806,
          -0.29939549646036234,
          -1.1632112371810754,
          -0.42930421003414765,
          -0.9720011050611674,
          1.511327998418596,
          -0.391490224507803,
          -1.0343707966665685,
          1.1614033345336137,
          0.25846172162952147,
          0.2673019161771905,
          0.09922358114518205,
          0.5779188635536173,
          1.7622423470771715,
          0.03621225927739738,
          -1.8781137609391736,
          -1.2414591730228457,
          0.7150763247961918,
          -1.3506088848947662,
          -0.2855259738117049,
          -0.5062330374561972,
          0.03905175100678615,
          1.0175553616380286,
          0.5733915540550347,
          1.3332566320752068,
          -1.805689450426716,
          -1.1699305910850024,
          1.384592202850575,
          0.975012672541676,
          -0.6100760904957481,
          -0.38976207795179446,
          -0.44029567681254084,
          -0.8785626293647731,
          0.5871018052516414,
          1.1311561656997875,
          2.4368295250969494,
          -0.18527263678620495,
          -1.5666750947610815,
          -1.9429639161909467,
          2.7479576016442677,
          -1.7445681757283464,
          2.733475734584614,
          0.5556093324445441,
          -0.47688033302026606
         ],
         "xaxis": "x15",
         "y": [
          -2.1345305898504296,
          1.7734448851674718,
          -1.1465118095554963,
          0.11759120989479181,
          0.36328854231497115,
          0.6385180725664439,
          -1.27129752098571,
          -1.8754469967261727,
          -2.4893664098182673,
          1.2209014557406137,
          0.15280552809327072,
          0.11180520225730305,
          -0.4255070576679444,
          0.5468980150588038,
          0.5432922523628259,
          2.2124331968128965,
          1.4179592817727524,
          0.2654601378480211,
          0.8696338302816027,
          -0.1138714382356956,
          -0.9377608794476695,
          -1.99819239067689,
          1.2457087006640792,
          0.49696102581226836,
          -0.07721587235711798,
          0.0014418021044631953,
          -0.16391392716105752,
          0.1906326132827655,
          -0.9668705478585707,
          -0.2832065433295299,
          0.772717237410352,
          -0.2590713335948201,
          -1.2868494163262247,
          -2.6708320600799555,
          -1.0856302573354464,
          -0.7903438761780187,
          0.12947236370807977,
          -0.9100904453086847,
          -0.5602410199442092,
          -0.47307957138351076,
          0.2047906069189072,
          -0.16866825940700347,
          0.5801335516254127,
          -0.7876055191769322,
          -1.549512519833829,
          0.9374402967683155,
          0.6047223040714953,
          -0.7055298191035871,
          -1.2729613599942236,
          -1.1361342466596693,
          0.18744690974233252,
          0.8009214150184927,
          1.7441787881900397,
          -0.5156424351480714,
          0.9748173142560881,
          -0.2467689154939164,
          0.47468930470635745,
          -0.8070531723628719,
          0.6409048093341578,
          0.5895818525001894,
          0.9097007007872293,
          0.7233152525939471,
          0.7258813949795868,
          1.3213400281259144,
          0.1868772991701476,
          1.638668157608344,
          -0.9114112626952258,
          -0.63097113888363,
          -2.38163294251653,
          0.3048485325925647,
          1.5606740764643618,
          2.6757294452788067,
          -0.08442837572203585,
          -0.8217142267722916,
          -0.6951897734329309,
          -0.0049015395418065925,
          -1.1119684498124651,
          -1.3106646431613729,
          1.046955933402326,
          0.05665999257373598,
          1.6597052380760566,
          0.3852891342256938,
          0.6168853653963737,
          1.0506418342148884,
          0.9326393449233574,
          -1.6410964561069383,
          1.3104369164824048,
          -0.7696274478340477,
          0.4611452709617647,
          1.9810227881978804,
          -0.9637071883270888,
          0.46603047812103326,
          -0.3108802949958328,
          0.48410374524818633,
          1.672165674958786,
          -0.038419502698554465,
          0.24327914766825515,
          -0.5081237931251442,
          -0.9964483804653474,
          -0.5204918617224896
         ],
         "yaxis": "y15"
        },
        {
         "histfunc": "count",
         "histnorm": "",
         "marker": {
          "color": "rgba(128, 0, 128, 1.0)",
          "line": {
           "color": "#4D5663",
           "width": 1.3
          }
         },
         "name": "D",
         "nbinsx": 10,
         "opacity": 0.8,
         "orientation": "v",
         "type": "histogram",
         "x": [
          -2.1345305898504296,
          1.7734448851674718,
          -1.1465118095554963,
          0.11759120989479181,
          0.36328854231497115,
          0.6385180725664439,
          -1.27129752098571,
          -1.8754469967261727,
          -2.4893664098182673,
          1.2209014557406137,
          0.15280552809327072,
          0.11180520225730305,
          -0.4255070576679444,
          0.5468980150588038,
          0.5432922523628259,
          2.2124331968128965,
          1.4179592817727524,
          0.2654601378480211,
          0.8696338302816027,
          -0.1138714382356956,
          -0.9377608794476695,
          -1.99819239067689,
          1.2457087006640792,
          0.49696102581226836,
          -0.07721587235711798,
          0.0014418021044631953,
          -0.16391392716105752,
          0.1906326132827655,
          -0.9668705478585707,
          -0.2832065433295299,
          0.772717237410352,
          -0.2590713335948201,
          -1.2868494163262247,
          -2.6708320600799555,
          -1.0856302573354464,
          -0.7903438761780187,
          0.12947236370807977,
          -0.9100904453086847,
          -0.5602410199442092,
          -0.47307957138351076,
          0.2047906069189072,
          -0.16866825940700347,
          0.5801335516254127,
          -0.7876055191769322,
          -1.549512519833829,
          0.9374402967683155,
          0.6047223040714953,
          -0.7055298191035871,
          -1.2729613599942236,
          -1.1361342466596693,
          0.18744690974233252,
          0.8009214150184927,
          1.7441787881900397,
          -0.5156424351480714,
          0.9748173142560881,
          -0.2467689154939164,
          0.47468930470635745,
          -0.8070531723628719,
          0.6409048093341578,
          0.5895818525001894,
          0.9097007007872293,
          0.7233152525939471,
          0.7258813949795868,
          1.3213400281259144,
          0.1868772991701476,
          1.638668157608344,
          -0.9114112626952258,
          -0.63097113888363,
          -2.38163294251653,
          0.3048485325925647,
          1.5606740764643618,
          2.6757294452788067,
          -0.08442837572203585,
          -0.8217142267722916,
          -0.6951897734329309,
          -0.0049015395418065925,
          -1.1119684498124651,
          -1.3106646431613729,
          1.046955933402326,
          0.05665999257373598,
          1.6597052380760566,
          0.3852891342256938,
          0.6168853653963737,
          1.0506418342148884,
          0.9326393449233574,
          -1.6410964561069383,
          1.3104369164824048,
          -0.7696274478340477,
          0.4611452709617647,
          1.9810227881978804,
          -0.9637071883270888,
          0.46603047812103326,
          -0.3108802949958328,
          0.48410374524818633,
          1.672165674958786,
          -0.038419502698554465,
          0.24327914766825515,
          -0.5081237931251442,
          -0.9964483804653474,
          -0.5204918617224896
         ],
         "xaxis": "x16",
         "yaxis": "y16"
        }
       ],
       "layout": {
        "bargap": 0.02,
        "legend": {
         "bgcolor": "#F5F6F9",
         "font": {
          "color": "#4D5663"
         }
        },
        "paper_bgcolor": "#F5F6F9",
        "plot_bgcolor": "#F5F6F9",
        "showlegend": false,
        "template": {
         "data": {
          "bar": [
           {
            "error_x": {
             "color": "#2a3f5f"
            },
            "error_y": {
             "color": "#2a3f5f"
            },
            "marker": {
             "line": {
              "color": "#E5ECF6",
              "width": 0.5
             },
             "pattern": {
              "fillmode": "overlay",
              "size": 10,
              "solidity": 0.2
             }
            },
            "type": "bar"
           }
          ],
          "barpolar": [
           {
            "marker": {
             "line": {
              "color": "#E5ECF6",
              "width": 0.5
             },
             "pattern": {
              "fillmode": "overlay",
              "size": 10,
              "solidity": 0.2
             }
            },
            "type": "barpolar"
           }
          ],
          "carpet": [
           {
            "aaxis": {
             "endlinecolor": "#2a3f5f",
             "gridcolor": "white",
             "linecolor": "white",
             "minorgridcolor": "white",
             "startlinecolor": "#2a3f5f"
            },
            "baxis": {
             "endlinecolor": "#2a3f5f",
             "gridcolor": "white",
             "linecolor": "white",
             "minorgridcolor": "white",
             "startlinecolor": "#2a3f5f"
            },
            "type": "carpet"
           }
          ],
          "choropleth": [
           {
            "colorbar": {
             "outlinewidth": 0,
             "ticks": ""
            },
            "type": "choropleth"
           }
          ],
          "contour": [
           {
            "colorbar": {
             "outlinewidth": 0,
             "ticks": ""
            },
            "colorscale": [
             [
              0,
              "#0d0887"
             ],
             [
              0.1111111111111111,
              "#46039f"
             ],
             [
              0.2222222222222222,
              "#7201a8"
             ],
             [
              0.3333333333333333,
              "#9c179e"
             ],
             [
              0.4444444444444444,
              "#bd3786"
             ],
             [
              0.5555555555555556,
              "#d8576b"
             ],
             [
              0.6666666666666666,
              "#ed7953"
             ],
             [
              0.7777777777777778,
              "#fb9f3a"
             ],
             [
              0.8888888888888888,
              "#fdca26"
             ],
             [
              1,
              "#f0f921"
             ]
            ],
            "type": "contour"
           }
          ],
          "contourcarpet": [
           {
            "colorbar": {
             "outlinewidth": 0,
             "ticks": ""
            },
            "type": "contourcarpet"
           }
          ],
          "heatmap": [
           {
            "colorbar": {
             "outlinewidth": 0,
             "ticks": ""
            },
            "colorscale": [
             [
              0,
              "#0d0887"
             ],
             [
              0.1111111111111111,
              "#46039f"
             ],
             [
              0.2222222222222222,
              "#7201a8"
             ],
             [
              0.3333333333333333,
              "#9c179e"
             ],
             [
              0.4444444444444444,
              "#bd3786"
             ],
             [
              0.5555555555555556,
              "#d8576b"
             ],
             [
              0.6666666666666666,
              "#ed7953"
             ],
             [
              0.7777777777777778,
              "#fb9f3a"
             ],
             [
              0.8888888888888888,
              "#fdca26"
             ],
             [
              1,
              "#f0f921"
             ]
            ],
            "type": "heatmap"
           }
          ],
          "heatmapgl": [
           {
            "colorbar": {
             "outlinewidth": 0,
             "ticks": ""
            },
            "colorscale": [
             [
              0,
              "#0d0887"
             ],
             [
              0.1111111111111111,
              "#46039f"
             ],
             [
              0.2222222222222222,
              "#7201a8"
             ],
             [
              0.3333333333333333,
              "#9c179e"
             ],
             [
              0.4444444444444444,
              "#bd3786"
             ],
             [
              0.5555555555555556,
              "#d8576b"
             ],
             [
              0.6666666666666666,
              "#ed7953"
             ],
             [
              0.7777777777777778,
              "#fb9f3a"
             ],
             [
              0.8888888888888888,
              "#fdca26"
             ],
             [
              1,
              "#f0f921"
             ]
            ],
            "type": "heatmapgl"
           }
          ],
          "histogram": [
           {
            "marker": {
             "pattern": {
              "fillmode": "overlay",
              "size": 10,
              "solidity": 0.2
             }
            },
            "type": "histogram"
           }
          ],
          "histogram2d": [
           {
            "colorbar": {
             "outlinewidth": 0,
             "ticks": ""
            },
            "colorscale": [
             [
              0,
              "#0d0887"
             ],
             [
              0.1111111111111111,
              "#46039f"
             ],
             [
              0.2222222222222222,
              "#7201a8"
             ],
             [
              0.3333333333333333,
              "#9c179e"
             ],
             [
              0.4444444444444444,
              "#bd3786"
             ],
             [
              0.5555555555555556,
              "#d8576b"
             ],
             [
              0.6666666666666666,
              "#ed7953"
             ],
             [
              0.7777777777777778,
              "#fb9f3a"
             ],
             [
              0.8888888888888888,
              "#fdca26"
             ],
             [
              1,
              "#f0f921"
             ]
            ],
            "type": "histogram2d"
           }
          ],
          "histogram2dcontour": [
           {
            "colorbar": {
             "outlinewidth": 0,
             "ticks": ""
            },
            "colorscale": [
             [
              0,
              "#0d0887"
             ],
             [
              0.1111111111111111,
              "#46039f"
             ],
             [
              0.2222222222222222,
              "#7201a8"
             ],
             [
              0.3333333333333333,
              "#9c179e"
             ],
             [
              0.4444444444444444,
              "#bd3786"
             ],
             [
              0.5555555555555556,
              "#d8576b"
             ],
             [
              0.6666666666666666,
              "#ed7953"
             ],
             [
              0.7777777777777778,
              "#fb9f3a"
             ],
             [
              0.8888888888888888,
              "#fdca26"
             ],
             [
              1,
              "#f0f921"
             ]
            ],
            "type": "histogram2dcontour"
           }
          ],
          "mesh3d": [
           {
            "colorbar": {
             "outlinewidth": 0,
             "ticks": ""
            },
            "type": "mesh3d"
           }
          ],
          "parcoords": [
           {
            "line": {
             "colorbar": {
              "outlinewidth": 0,
              "ticks": ""
             }
            },
            "type": "parcoords"
           }
          ],
          "pie": [
           {
            "automargin": true,
            "type": "pie"
           }
          ],
          "scatter": [
           {
            "marker": {
             "colorbar": {
              "outlinewidth": 0,
              "ticks": ""
             }
            },
            "type": "scatter"
           }
          ],
          "scatter3d": [
           {
            "line": {
             "colorbar": {
              "outlinewidth": 0,
              "ticks": ""
             }
            },
            "marker": {
             "colorbar": {
              "outlinewidth": 0,
              "ticks": ""
             }
            },
            "type": "scatter3d"
           }
          ],
          "scattercarpet": [
           {
            "marker": {
             "colorbar": {
              "outlinewidth": 0,
              "ticks": ""
             }
            },
            "type": "scattercarpet"
           }
          ],
          "scattergeo": [
           {
            "marker": {
             "colorbar": {
              "outlinewidth": 0,
              "ticks": ""
             }
            },
            "type": "scattergeo"
           }
          ],
          "scattergl": [
           {
            "marker": {
             "colorbar": {
              "outlinewidth": 0,
              "ticks": ""
             }
            },
            "type": "scattergl"
           }
          ],
          "scattermapbox": [
           {
            "marker": {
             "colorbar": {
              "outlinewidth": 0,
              "ticks": ""
             }
            },
            "type": "scattermapbox"
           }
          ],
          "scatterpolar": [
           {
            "marker": {
             "colorbar": {
              "outlinewidth": 0,
              "ticks": ""
             }
            },
            "type": "scatterpolar"
           }
          ],
          "scatterpolargl": [
           {
            "marker": {
             "colorbar": {
              "outlinewidth": 0,
              "ticks": ""
             }
            },
            "type": "scatterpolargl"
           }
          ],
          "scatterternary": [
           {
            "marker": {
             "colorbar": {
              "outlinewidth": 0,
              "ticks": ""
             }
            },
            "type": "scatterternary"
           }
          ],
          "surface": [
           {
            "colorbar": {
             "outlinewidth": 0,
             "ticks": ""
            },
            "colorscale": [
             [
              0,
              "#0d0887"
             ],
             [
              0.1111111111111111,
              "#46039f"
             ],
             [
              0.2222222222222222,
              "#7201a8"
             ],
             [
              0.3333333333333333,
              "#9c179e"
             ],
             [
              0.4444444444444444,
              "#bd3786"
             ],
             [
              0.5555555555555556,
              "#d8576b"
             ],
             [
              0.6666666666666666,
              "#ed7953"
             ],
             [
              0.7777777777777778,
              "#fb9f3a"
             ],
             [
              0.8888888888888888,
              "#fdca26"
             ],
             [
              1,
              "#f0f921"
             ]
            ],
            "type": "surface"
           }
          ],
          "table": [
           {
            "cells": {
             "fill": {
              "color": "#EBF0F8"
             },
             "line": {
              "color": "white"
             }
            },
            "header": {
             "fill": {
              "color": "#C8D4E3"
             },
             "line": {
              "color": "white"
             }
            },
            "type": "table"
           }
          ]
         },
         "layout": {
          "annotationdefaults": {
           "arrowcolor": "#2a3f5f",
           "arrowhead": 0,
           "arrowwidth": 1
          },
          "autotypenumbers": "strict",
          "coloraxis": {
           "colorbar": {
            "outlinewidth": 0,
            "ticks": ""
           }
          },
          "colorscale": {
           "diverging": [
            [
             0,
             "#8e0152"
            ],
            [
             0.1,
             "#c51b7d"
            ],
            [
             0.2,
             "#de77ae"
            ],
            [
             0.3,
             "#f1b6da"
            ],
            [
             0.4,
             "#fde0ef"
            ],
            [
             0.5,
             "#f7f7f7"
            ],
            [
             0.6,
             "#e6f5d0"
            ],
            [
             0.7,
             "#b8e186"
            ],
            [
             0.8,
             "#7fbc41"
            ],
            [
             0.9,
             "#4d9221"
            ],
            [
             1,
             "#276419"
            ]
           ],
           "sequential": [
            [
             0,
             "#0d0887"
            ],
            [
             0.1111111111111111,
             "#46039f"
            ],
            [
             0.2222222222222222,
             "#7201a8"
            ],
            [
             0.3333333333333333,
             "#9c179e"
            ],
            [
             0.4444444444444444,
             "#bd3786"
            ],
            [
             0.5555555555555556,
             "#d8576b"
            ],
            [
             0.6666666666666666,
             "#ed7953"
            ],
            [
             0.7777777777777778,
             "#fb9f3a"
            ],
            [
             0.8888888888888888,
             "#fdca26"
            ],
            [
             1,
             "#f0f921"
            ]
           ],
           "sequentialminus": [
            [
             0,
             "#0d0887"
            ],
            [
             0.1111111111111111,
             "#46039f"
            ],
            [
             0.2222222222222222,
             "#7201a8"
            ],
            [
             0.3333333333333333,
             "#9c179e"
            ],
            [
             0.4444444444444444,
             "#bd3786"
            ],
            [
             0.5555555555555556,
             "#d8576b"
            ],
            [
             0.6666666666666666,
             "#ed7953"
            ],
            [
             0.7777777777777778,
             "#fb9f3a"
            ],
            [
             0.8888888888888888,
             "#fdca26"
            ],
            [
             1,
             "#f0f921"
            ]
           ]
          },
          "colorway": [
           "#636efa",
           "#EF553B",
           "#00cc96",
           "#ab63fa",
           "#FFA15A",
           "#19d3f3",
           "#FF6692",
           "#B6E880",
           "#FF97FF",
           "#FECB52"
          ],
          "font": {
           "color": "#2a3f5f"
          },
          "geo": {
           "bgcolor": "white",
           "lakecolor": "white",
           "landcolor": "#E5ECF6",
           "showlakes": true,
           "showland": true,
           "subunitcolor": "white"
          },
          "hoverlabel": {
           "align": "left"
          },
          "hovermode": "closest",
          "mapbox": {
           "style": "light"
          },
          "paper_bgcolor": "white",
          "plot_bgcolor": "#E5ECF6",
          "polar": {
           "angularaxis": {
            "gridcolor": "white",
            "linecolor": "white",
            "ticks": ""
           },
           "bgcolor": "#E5ECF6",
           "radialaxis": {
            "gridcolor": "white",
            "linecolor": "white",
            "ticks": ""
           }
          },
          "scene": {
           "xaxis": {
            "backgroundcolor": "#E5ECF6",
            "gridcolor": "white",
            "gridwidth": 2,
            "linecolor": "white",
            "showbackground": true,
            "ticks": "",
            "zerolinecolor": "white"
           },
           "yaxis": {
            "backgroundcolor": "#E5ECF6",
            "gridcolor": "white",
            "gridwidth": 2,
            "linecolor": "white",
            "showbackground": true,
            "ticks": "",
            "zerolinecolor": "white"
           },
           "zaxis": {
            "backgroundcolor": "#E5ECF6",
            "gridcolor": "white",
            "gridwidth": 2,
            "linecolor": "white",
            "showbackground": true,
            "ticks": "",
            "zerolinecolor": "white"
           }
          },
          "shapedefaults": {
           "line": {
            "color": "#2a3f5f"
           }
          },
          "ternary": {
           "aaxis": {
            "gridcolor": "white",
            "linecolor": "white",
            "ticks": ""
           },
           "baxis": {
            "gridcolor": "white",
            "linecolor": "white",
            "ticks": ""
           },
           "bgcolor": "#E5ECF6",
           "caxis": {
            "gridcolor": "white",
            "linecolor": "white",
            "ticks": ""
           }
          },
          "title": {
           "x": 0.05
          },
          "xaxis": {
           "automargin": true,
           "gridcolor": "white",
           "linecolor": "white",
           "ticks": "",
           "title": {
            "standoff": 15
           },
           "zerolinecolor": "white",
           "zerolinewidth": 2
          },
          "yaxis": {
           "automargin": true,
           "gridcolor": "white",
           "linecolor": "white",
           "ticks": "",
           "title": {
            "standoff": 15
           },
           "zerolinecolor": "white",
           "zerolinewidth": 2
          }
         }
        },
        "title": {
         "font": {
          "color": "#4D5663"
         }
        },
        "xaxis": {
         "anchor": "y",
         "domain": [
          0,
          0.2125
         ],
         "gridcolor": "#E1E5ED",
         "showgrid": false,
         "tickfont": {
          "color": "#4D5663"
         },
         "title": {
          "font": {
           "color": "#4D5663"
          },
          "text": ""
         },
         "zerolinecolor": "#E1E5ED"
        },
        "xaxis10": {
         "anchor": "y10",
         "domain": [
          0.2625,
          0.475
         ],
         "gridcolor": "#E1E5ED",
         "showgrid": false,
         "tickfont": {
          "color": "#4D5663"
         },
         "title": {
          "font": {
           "color": "#4D5663"
          },
          "text": ""
         },
         "zerolinecolor": "#E1E5ED"
        },
        "xaxis11": {
         "anchor": "y11",
         "domain": [
          0.525,
          0.7375
         ],
         "gridcolor": "#E1E5ED",
         "showgrid": false,
         "tickfont": {
          "color": "#4D5663"
         },
         "title": {
          "font": {
           "color": "#4D5663"
          },
          "text": ""
         },
         "zerolinecolor": "#E1E5ED"
        },
        "xaxis12": {
         "anchor": "y12",
         "domain": [
          0.7875,
          1
         ],
         "gridcolor": "#E1E5ED",
         "showgrid": false,
         "tickfont": {
          "color": "#4D5663"
         },
         "title": {
          "font": {
           "color": "#4D5663"
          },
          "text": ""
         },
         "zerolinecolor": "#E1E5ED"
        },
        "xaxis13": {
         "anchor": "y13",
         "domain": [
          0,
          0.2125
         ],
         "gridcolor": "#E1E5ED",
         "showgrid": false,
         "tickfont": {
          "color": "#4D5663"
         },
         "title": {
          "font": {
           "color": "#4D5663"
          },
          "text": ""
         },
         "zerolinecolor": "#E1E5ED"
        },
        "xaxis14": {
         "anchor": "y14",
         "domain": [
          0.2625,
          0.475
         ],
         "gridcolor": "#E1E5ED",
         "showgrid": false,
         "tickfont": {
          "color": "#4D5663"
         },
         "title": {
          "font": {
           "color": "#4D5663"
          },
          "text": ""
         },
         "zerolinecolor": "#E1E5ED"
        },
        "xaxis15": {
         "anchor": "y15",
         "domain": [
          0.525,
          0.7375
         ],
         "gridcolor": "#E1E5ED",
         "showgrid": false,
         "tickfont": {
          "color": "#4D5663"
         },
         "title": {
          "font": {
           "color": "#4D5663"
          },
          "text": ""
         },
         "zerolinecolor": "#E1E5ED"
        },
        "xaxis16": {
         "anchor": "y16",
         "domain": [
          0.7875,
          1
         ],
         "gridcolor": "#E1E5ED",
         "showgrid": false,
         "tickfont": {
          "color": "#4D5663"
         },
         "title": {
          "font": {
           "color": "#4D5663"
          },
          "text": ""
         },
         "zerolinecolor": "#E1E5ED"
        },
        "xaxis2": {
         "anchor": "y2",
         "domain": [
          0.2625,
          0.475
         ],
         "gridcolor": "#E1E5ED",
         "showgrid": false,
         "tickfont": {
          "color": "#4D5663"
         },
         "title": {
          "font": {
           "color": "#4D5663"
          },
          "text": ""
         },
         "zerolinecolor": "#E1E5ED"
        },
        "xaxis3": {
         "anchor": "y3",
         "domain": [
          0.525,
          0.7375
         ],
         "gridcolor": "#E1E5ED",
         "showgrid": false,
         "tickfont": {
          "color": "#4D5663"
         },
         "title": {
          "font": {
           "color": "#4D5663"
          },
          "text": ""
         },
         "zerolinecolor": "#E1E5ED"
        },
        "xaxis4": {
         "anchor": "y4",
         "domain": [
          0.7875,
          1
         ],
         "gridcolor": "#E1E5ED",
         "showgrid": false,
         "tickfont": {
          "color": "#4D5663"
         },
         "title": {
          "font": {
           "color": "#4D5663"
          },
          "text": ""
         },
         "zerolinecolor": "#E1E5ED"
        },
        "xaxis5": {
         "anchor": "y5",
         "domain": [
          0,
          0.2125
         ],
         "gridcolor": "#E1E5ED",
         "showgrid": false,
         "tickfont": {
          "color": "#4D5663"
         },
         "title": {
          "font": {
           "color": "#4D5663"
          },
          "text": ""
         },
         "zerolinecolor": "#E1E5ED"
        },
        "xaxis6": {
         "anchor": "y6",
         "domain": [
          0.2625,
          0.475
         ],
         "gridcolor": "#E1E5ED",
         "showgrid": false,
         "tickfont": {
          "color": "#4D5663"
         },
         "title": {
          "font": {
           "color": "#4D5663"
          },
          "text": ""
         },
         "zerolinecolor": "#E1E5ED"
        },
        "xaxis7": {
         "anchor": "y7",
         "domain": [
          0.525,
          0.7375
         ],
         "gridcolor": "#E1E5ED",
         "showgrid": false,
         "tickfont": {
          "color": "#4D5663"
         },
         "title": {
          "font": {
           "color": "#4D5663"
          },
          "text": ""
         },
         "zerolinecolor": "#E1E5ED"
        },
        "xaxis8": {
         "anchor": "y8",
         "domain": [
          0.7875,
          1
         ],
         "gridcolor": "#E1E5ED",
         "showgrid": false,
         "tickfont": {
          "color": "#4D5663"
         },
         "title": {
          "font": {
           "color": "#4D5663"
          },
          "text": ""
         },
         "zerolinecolor": "#E1E5ED"
        },
        "xaxis9": {
         "anchor": "y9",
         "domain": [
          0,
          0.2125
         ],
         "gridcolor": "#E1E5ED",
         "showgrid": false,
         "tickfont": {
          "color": "#4D5663"
         },
         "title": {
          "font": {
           "color": "#4D5663"
          },
          "text": ""
         },
         "zerolinecolor": "#E1E5ED"
        },
        "yaxis": {
         "anchor": "x",
         "domain": [
          0.8025,
          1
         ],
         "gridcolor": "#E1E5ED",
         "showgrid": false,
         "tickfont": {
          "color": "#4D5663"
         },
         "title": {
          "font": {
           "color": "#4D5663"
          },
          "text": ""
         },
         "zerolinecolor": "#E1E5ED"
        },
        "yaxis10": {
         "anchor": "x10",
         "domain": [
          0.2675,
          0.465
         ],
         "gridcolor": "#E1E5ED",
         "showgrid": false,
         "tickfont": {
          "color": "#4D5663"
         },
         "title": {
          "font": {
           "color": "#4D5663"
          },
          "text": ""
         },
         "zerolinecolor": "#E1E5ED"
        },
        "yaxis11": {
         "anchor": "x11",
         "domain": [
          0.2675,
          0.465
         ],
         "gridcolor": "#E1E5ED",
         "showgrid": false,
         "tickfont": {
          "color": "#4D5663"
         },
         "title": {
          "font": {
           "color": "#4D5663"
          },
          "text": ""
         },
         "zerolinecolor": "#E1E5ED"
        },
        "yaxis12": {
         "anchor": "x12",
         "domain": [
          0.2675,
          0.465
         ],
         "gridcolor": "#E1E5ED",
         "showgrid": false,
         "tickfont": {
          "color": "#4D5663"
         },
         "title": {
          "font": {
           "color": "#4D5663"
          },
          "text": ""
         },
         "zerolinecolor": "#E1E5ED"
        },
        "yaxis13": {
         "anchor": "x13",
         "domain": [
          0,
          0.1975
         ],
         "gridcolor": "#E1E5ED",
         "showgrid": false,
         "tickfont": {
          "color": "#4D5663"
         },
         "title": {
          "font": {
           "color": "#4D5663"
          },
          "text": ""
         },
         "zerolinecolor": "#E1E5ED"
        },
        "yaxis14": {
         "anchor": "x14",
         "domain": [
          0,
          0.1975
         ],
         "gridcolor": "#E1E5ED",
         "showgrid": false,
         "tickfont": {
          "color": "#4D5663"
         },
         "title": {
          "font": {
           "color": "#4D5663"
          },
          "text": ""
         },
         "zerolinecolor": "#E1E5ED"
        },
        "yaxis15": {
         "anchor": "x15",
         "domain": [
          0,
          0.1975
         ],
         "gridcolor": "#E1E5ED",
         "showgrid": false,
         "tickfont": {
          "color": "#4D5663"
         },
         "title": {
          "font": {
           "color": "#4D5663"
          },
          "text": ""
         },
         "zerolinecolor": "#E1E5ED"
        },
        "yaxis16": {
         "anchor": "x16",
         "domain": [
          0,
          0.1975
         ],
         "gridcolor": "#E1E5ED",
         "showgrid": false,
         "tickfont": {
          "color": "#4D5663"
         },
         "title": {
          "font": {
           "color": "#4D5663"
          },
          "text": ""
         },
         "zerolinecolor": "#E1E5ED"
        },
        "yaxis2": {
         "anchor": "x2",
         "domain": [
          0.8025,
          1
         ],
         "gridcolor": "#E1E5ED",
         "showgrid": false,
         "tickfont": {
          "color": "#4D5663"
         },
         "title": {
          "font": {
           "color": "#4D5663"
          },
          "text": ""
         },
         "zerolinecolor": "#E1E5ED"
        },
        "yaxis3": {
         "anchor": "x3",
         "domain": [
          0.8025,
          1
         ],
         "gridcolor": "#E1E5ED",
         "showgrid": false,
         "tickfont": {
          "color": "#4D5663"
         },
         "title": {
          "font": {
           "color": "#4D5663"
          },
          "text": ""
         },
         "zerolinecolor": "#E1E5ED"
        },
        "yaxis4": {
         "anchor": "x4",
         "domain": [
          0.8025,
          1
         ],
         "gridcolor": "#E1E5ED",
         "showgrid": false,
         "tickfont": {
          "color": "#4D5663"
         },
         "title": {
          "font": {
           "color": "#4D5663"
          },
          "text": ""
         },
         "zerolinecolor": "#E1E5ED"
        },
        "yaxis5": {
         "anchor": "x5",
         "domain": [
          0.535,
          0.7325
         ],
         "gridcolor": "#E1E5ED",
         "showgrid": false,
         "tickfont": {
          "color": "#4D5663"
         },
         "title": {
          "font": {
           "color": "#4D5663"
          },
          "text": ""
         },
         "zerolinecolor": "#E1E5ED"
        },
        "yaxis6": {
         "anchor": "x6",
         "domain": [
          0.535,
          0.7325
         ],
         "gridcolor": "#E1E5ED",
         "showgrid": false,
         "tickfont": {
          "color": "#4D5663"
         },
         "title": {
          "font": {
           "color": "#4D5663"
          },
          "text": ""
         },
         "zerolinecolor": "#E1E5ED"
        },
        "yaxis7": {
         "anchor": "x7",
         "domain": [
          0.535,
          0.7325
         ],
         "gridcolor": "#E1E5ED",
         "showgrid": false,
         "tickfont": {
          "color": "#4D5663"
         },
         "title": {
          "font": {
           "color": "#4D5663"
          },
          "text": ""
         },
         "zerolinecolor": "#E1E5ED"
        },
        "yaxis8": {
         "anchor": "x8",
         "domain": [
          0.535,
          0.7325
         ],
         "gridcolor": "#E1E5ED",
         "showgrid": false,
         "tickfont": {
          "color": "#4D5663"
         },
         "title": {
          "font": {
           "color": "#4D5663"
          },
          "text": ""
         },
         "zerolinecolor": "#E1E5ED"
        },
        "yaxis9": {
         "anchor": "x9",
         "domain": [
          0.2675,
          0.465
         ],
         "gridcolor": "#E1E5ED",
         "showgrid": false,
         "tickfont": {
          "color": "#4D5663"
         },
         "title": {
          "font": {
           "color": "#4D5663"
          },
          "text": ""
         },
         "zerolinecolor": "#E1E5ED"
        }
       }
      },
      "text/html": [
       "<div>                            <div id=\"2cc12ba5-3d8c-4cbf-877d-22abf2042489\" class=\"plotly-graph-div\" style=\"height:525px; width:100%;\"></div>            <script type=\"text/javascript\">                require([\"plotly\"], function(Plotly) {                    window.PLOTLYENV=window.PLOTLYENV || {};\n",
       "                    window.PLOTLYENV.BASE_URL='https://plot.ly';                                    if (document.getElementById(\"2cc12ba5-3d8c-4cbf-877d-22abf2042489\")) {                    Plotly.newPlot(                        \"2cc12ba5-3d8c-4cbf-877d-22abf2042489\",                        [{\"histfunc\":\"count\",\"histnorm\":\"\",\"marker\":{\"color\":\"rgba(255, 153, 51, 1.0)\",\"line\":{\"color\":\"#4D5663\",\"width\":1.3}},\"name\":\"A\",\"nbinsx\":10,\"opacity\":0.8,\"orientation\":\"v\",\"type\":\"histogram\",\"x\":[-0.22992109036952604,0.05562905069623866,-0.6221448672758634,-1.2775273439321349,-0.6440569697000345,1.131706545613154,2.3269849129706297,-0.17691044485779936,-0.08839002936004192,0.019653683217731536,1.8022443151661145,-1.3701181105322455,1.3167363415927504,-0.8731175518357862,0.6630158042323278,-0.5939026786404201,-1.189565840100905,-0.12975458965208841,-0.504508358884414,0.457016756109502,-0.6814308754203008,0.7204908243254265,0.6821736359713191,0.37192801687488486,-0.555504810543227,0.7262270094658652,0.17322865228746825,0.6097466551673341,-1.5494078829354552,-0.5095497197037705,-0.9195335291133173,0.4175084396723642,-0.7741125605769356,1.4737973554835775,-0.8529729591274079,0.25811921887652617,0.33089826035966013,-0.6982967950296567,-0.12516702259257517,-1.0106053221572773,-0.649725111151501,0.02449680903689408,0.22859646494045405,0.9464170933770124,1.873143201110364,-0.6091693153755786,1.3265487423266915,0.3067897333091477,-0.5571057571497043,1.674449244515288,1.3178469595911038,-0.49255012966931755,-0.44810794334182213,-0.7725197627056002,1.2166371346851095,-1.1024257378148192,0.29468522897501254,-0.17146120964959644,0.3496038242258144,0.14809157834582365,-0.748077774440983,1.45827707078643,-0.09928752621004644,-0.4839929055643646,-0.15565823464625786,0.19530235551575784,-0.7980140531350256,0.13444759987307495,0.22118164958443864,1.4616957821951844,0.6671010315722775,0.5225410610499522,-0.276788602158649,-0.939623962839142,-0.6272075142834701,0.29046293292020675,0.6794206785823442,0.23193247197425712,1.2643201967925377,-0.9496289866829065,-1.1309935398469506,1.1691453813133879,0.30536283584432006,-1.86605627682016,-0.4581914049254,-1.01968113150098,-0.3670721304517326,0.1647520098516355,-1.4880426183796083,0.11789527226978264,-1.080570988178372,-0.5219449142618494,-0.8278083220296933,2.391449982303617,1.3194384354471438,-0.47775150946978956,0.3657773029540253,-0.023257568968075685,-0.637773142427531,1.3337092109565196],\"xaxis\":\"x\",\"yaxis\":\"y\"},{\"line\":{\"color\":\"rgba(128, 128, 128, 1.0)\",\"dash\":\"solid\",\"shape\":\"linear\",\"width\":1.3},\"marker\":{\"size\":2,\"symbol\":\"circle\"},\"mode\":\"markers\",\"name\":\"A\",\"text\":\"\",\"type\":\"scatter\",\"x\":[-1.8817698934664846,-0.41601507412818295,-0.41865515893087574,-0.9225350677652552,-1.1028031295219891,1.1367930199072076,1.47559016075696,-1.3933192692422862,1.643496617781722,-2.1977034296545708,0.5190358910198498,0.5085572547468106,0.39924364041183,0.4817334229582357,1.306887694381889,-0.1263873899794544,0.12168107592464891,0.1767629878223784,0.810138746647247,-0.5032826285239151,1.4228471870753228,0.6190272466894131,0.345655455076898,-0.5745618409104268,-0.2574833303309138,0.1323920235148288,-1.2116801640258033,-0.2174540535047162,0.35417960185050856,-1.075353732212383,-0.35950354800210216,0.5855780406441056,-0.3655935096070619,0.26017388595128876,1.355530661108527,-1.801275506406735,-0.9550148234221776,1.4187003484549692,1.9686975778208906,1.1280839220780199,0.42220221584518536,0.5546010421905413,-1.7883367376461996,0.044889639270693456,1.4756223969392088,-0.7219989710723888,0.8089588798503246,-1.0914627919449182,-0.7510755408974256,0.8727541308260071,-0.30013340596004245,-1.869958148168794,1.0198755039911107,-0.4110694988765867,-2.011238984285647,-2.712625632213704,1.1074631667461983,1.3647754659067781,0.263076767947983,-1.605605758817802,0.7486967420437597,0.1037340614037904,-0.19293491970395546,-0.4337513563876914,1.0363253191594493,1.7791614447603339,1.310972744426554,0.3009702460925462,0.022165851786293156,1.1796261885706272,1.044097523733219,-0.2114030074294949,-0.5411097321310678,0.1586119176717941,-0.8888204126700929,1.2660356417103062,-1.6395258521894895,2.5423114290998083,-1.0477633230147863,0.3009133939405517,0.9868792992622124,-1.4842364828593417,-0.38501240587723146,-1.3254638008288566,-0.768897654146365,-0.7226556866098427,0.6750529039066931,1.3061345090077965,0.8292823878549053,0.3541272981432661,-0.21079582581662296,-0.7674531621928081,-0.9043951097084993,0.41158294740326745,1.3252892866561277,0.2769469888816118,0.895972498268627,-0.020377624471322832,1.6225471051597193,-1.5448178817481184],\"xaxis\":\"x2\",\"y\":[-0.22992109036952604,0.05562905069623866,-0.6221448672758634,-1.2775273439321349,-0.6440569697000345,1.131706545613154,2.3269849129706297,-0.17691044485779936,-0.08839002936004192,0.019653683217731536,1.8022443151661145,-1.3701181105322455,1.3167363415927504,-0.8731175518357862,0.6630158042323278,-0.5939026786404201,-1.189565840100905,-0.12975458965208841,-0.504508358884414,0.457016756109502,-0.6814308754203008,0.7204908243254265,0.6821736359713191,0.37192801687488486,-0.555504810543227,0.7262270094658652,0.17322865228746825,0.6097466551673341,-1.5494078829354552,-0.5095497197037705,-0.9195335291133173,0.4175084396723642,-0.7741125605769356,1.4737973554835775,-0.8529729591274079,0.25811921887652617,0.33089826035966013,-0.6982967950296567,-0.12516702259257517,-1.0106053221572773,-0.649725111151501,0.02449680903689408,0.22859646494045405,0.9464170933770124,1.873143201110364,-0.6091693153755786,1.3265487423266915,0.3067897333091477,-0.5571057571497043,1.674449244515288,1.3178469595911038,-0.49255012966931755,-0.44810794334182213,-0.7725197627056002,1.2166371346851095,-1.1024257378148192,0.29468522897501254,-0.17146120964959644,0.3496038242258144,0.14809157834582365,-0.748077774440983,1.45827707078643,-0.09928752621004644,-0.4839929055643646,-0.15565823464625786,0.19530235551575784,-0.7980140531350256,0.13444759987307495,0.22118164958443864,1.4616957821951844,0.6671010315722775,0.5225410610499522,-0.276788602158649,-0.939623962839142,-0.6272075142834701,0.29046293292020675,0.6794206785823442,0.23193247197425712,1.2643201967925377,-0.9496289866829065,-1.1309935398469506,1.1691453813133879,0.30536283584432006,-1.86605627682016,-0.4581914049254,-1.01968113150098,-0.3670721304517326,0.1647520098516355,-1.4880426183796083,0.11789527226978264,-1.080570988178372,-0.5219449142618494,-0.8278083220296933,2.391449982303617,1.3194384354471438,-0.47775150946978956,0.3657773029540253,-0.023257568968075685,-0.637773142427531,1.3337092109565196],\"yaxis\":\"y2\"},{\"line\":{\"color\":\"rgba(128, 128, 128, 1.0)\",\"dash\":\"solid\",\"shape\":\"linear\",\"width\":1.3},\"marker\":{\"size\":2,\"symbol\":\"circle\"},\"mode\":\"markers\",\"name\":\"A\",\"text\":\"\",\"type\":\"scatter\",\"x\":[0.07588965184443273,1.6337225242788382,-0.5517587666975918,0.23693526354967026,-0.3161335665694347,-0.3945514240734139,-0.23115378638688555,1.1193633393194438,-0.24047201363700618,0.3449381376854929,-0.2540781539293871,-1.8892310002380301,-0.7792781704425811,0.18373256552969644,-0.6414681338889499,1.526081503244031,0.735424756992496,1.1005511744842102,0.14400501993141104,-1.1419025245269188,-1.7062645490303712,0.6928125270347335,-1.5089853493840657,1.8713953412563047,0.3826988653737301,-0.529968987277912,-1.0991229359321544,-1.4623762198492154,-0.3073534069860917,-0.12881051843590713,-1.0422820789925573,1.2335447410746414,0.15125663416392315,1.1544875649099604,0.8524518660933998,0.23885106347644072,-1.4017042025645903,-0.4921554733761034,0.5830770396195847,0.4248007952338122,-0.3017237617177742,0.45254231491654506,-1.7014771710192271,0.7417740869406251,-0.01702157266091685,1.5452530109652016,0.41681566608319204,-1.5846049055227909,-1.00614730392024,-0.8840057177654506,0.573407399486601,-0.2996286307969495,0.21218017367709877,0.2032192362271669,-0.1238559530252078,-0.9931604223142387,-0.03639725850986806,-0.29939549646036234,-1.1632112371810754,-0.42930421003414765,-0.9720011050611674,1.511327998418596,-0.391490224507803,-1.0343707966665685,1.1614033345336137,0.25846172162952147,0.2673019161771905,0.09922358114518205,0.5779188635536173,1.7622423470771715,0.03621225927739738,-1.8781137609391736,-1.2414591730228457,0.7150763247961918,-1.3506088848947662,-0.2855259738117049,-0.5062330374561972,0.03905175100678615,1.0175553616380286,0.5733915540550347,1.3332566320752068,-1.805689450426716,-1.1699305910850024,1.384592202850575,0.975012672541676,-0.6100760904957481,-0.38976207795179446,-0.44029567681254084,-0.8785626293647731,0.5871018052516414,1.1311561656997875,2.4368295250969494,-0.18527263678620495,-1.5666750947610815,-1.9429639161909467,2.7479576016442677,-1.7445681757283464,2.733475734584614,0.5556093324445441,-0.47688033302026606],\"xaxis\":\"x3\",\"y\":[-0.22992109036952604,0.05562905069623866,-0.6221448672758634,-1.2775273439321349,-0.6440569697000345,1.131706545613154,2.3269849129706297,-0.17691044485779936,-0.08839002936004192,0.019653683217731536,1.8022443151661145,-1.3701181105322455,1.3167363415927504,-0.8731175518357862,0.6630158042323278,-0.5939026786404201,-1.189565840100905,-0.12975458965208841,-0.504508358884414,0.457016756109502,-0.6814308754203008,0.7204908243254265,0.6821736359713191,0.37192801687488486,-0.555504810543227,0.7262270094658652,0.17322865228746825,0.6097466551673341,-1.5494078829354552,-0.5095497197037705,-0.9195335291133173,0.4175084396723642,-0.7741125605769356,1.4737973554835775,-0.8529729591274079,0.25811921887652617,0.33089826035966013,-0.6982967950296567,-0.12516702259257517,-1.0106053221572773,-0.649725111151501,0.02449680903689408,0.22859646494045405,0.9464170933770124,1.873143201110364,-0.6091693153755786,1.3265487423266915,0.3067897333091477,-0.5571057571497043,1.674449244515288,1.3178469595911038,-0.49255012966931755,-0.44810794334182213,-0.7725197627056002,1.2166371346851095,-1.1024257378148192,0.29468522897501254,-0.17146120964959644,0.3496038242258144,0.14809157834582365,-0.748077774440983,1.45827707078643,-0.09928752621004644,-0.4839929055643646,-0.15565823464625786,0.19530235551575784,-0.7980140531350256,0.13444759987307495,0.22118164958443864,1.4616957821951844,0.6671010315722775,0.5225410610499522,-0.276788602158649,-0.939623962839142,-0.6272075142834701,0.29046293292020675,0.6794206785823442,0.23193247197425712,1.2643201967925377,-0.9496289866829065,-1.1309935398469506,1.1691453813133879,0.30536283584432006,-1.86605627682016,-0.4581914049254,-1.01968113150098,-0.3670721304517326,0.1647520098516355,-1.4880426183796083,0.11789527226978264,-1.080570988178372,-0.5219449142618494,-0.8278083220296933,2.391449982303617,1.3194384354471438,-0.47775150946978956,0.3657773029540253,-0.023257568968075685,-0.637773142427531,1.3337092109565196],\"yaxis\":\"y3\"},{\"line\":{\"color\":\"rgba(128, 128, 128, 1.0)\",\"dash\":\"solid\",\"shape\":\"linear\",\"width\":1.3},\"marker\":{\"size\":2,\"symbol\":\"circle\"},\"mode\":\"markers\",\"name\":\"A\",\"text\":\"\",\"type\":\"scatter\",\"x\":[-2.1345305898504296,1.7734448851674718,-1.1465118095554963,0.11759120989479181,0.36328854231497115,0.6385180725664439,-1.27129752098571,-1.8754469967261727,-2.4893664098182673,1.2209014557406137,0.15280552809327072,0.11180520225730305,-0.4255070576679444,0.5468980150588038,0.5432922523628259,2.2124331968128965,1.4179592817727524,0.2654601378480211,0.8696338302816027,-0.1138714382356956,-0.9377608794476695,-1.99819239067689,1.2457087006640792,0.49696102581226836,-0.07721587235711798,0.0014418021044631953,-0.16391392716105752,0.1906326132827655,-0.9668705478585707,-0.2832065433295299,0.772717237410352,-0.2590713335948201,-1.2868494163262247,-2.6708320600799555,-1.0856302573354464,-0.7903438761780187,0.12947236370807977,-0.9100904453086847,-0.5602410199442092,-0.47307957138351076,0.2047906069189072,-0.16866825940700347,0.5801335516254127,-0.7876055191769322,-1.549512519833829,0.9374402967683155,0.6047223040714953,-0.7055298191035871,-1.2729613599942236,-1.1361342466596693,0.18744690974233252,0.8009214150184927,1.7441787881900397,-0.5156424351480714,0.9748173142560881,-0.2467689154939164,0.47468930470635745,-0.8070531723628719,0.6409048093341578,0.5895818525001894,0.9097007007872293,0.7233152525939471,0.7258813949795868,1.3213400281259144,0.1868772991701476,1.638668157608344,-0.9114112626952258,-0.63097113888363,-2.38163294251653,0.3048485325925647,1.5606740764643618,2.6757294452788067,-0.08442837572203585,-0.8217142267722916,-0.6951897734329309,-0.0049015395418065925,-1.1119684498124651,-1.3106646431613729,1.046955933402326,0.05665999257373598,1.6597052380760566,0.3852891342256938,0.6168853653963737,1.0506418342148884,0.9326393449233574,-1.6410964561069383,1.3104369164824048,-0.7696274478340477,0.4611452709617647,1.9810227881978804,-0.9637071883270888,0.46603047812103326,-0.3108802949958328,0.48410374524818633,1.672165674958786,-0.038419502698554465,0.24327914766825515,-0.5081237931251442,-0.9964483804653474,-0.5204918617224896],\"xaxis\":\"x4\",\"y\":[-0.22992109036952604,0.05562905069623866,-0.6221448672758634,-1.2775273439321349,-0.6440569697000345,1.131706545613154,2.3269849129706297,-0.17691044485779936,-0.08839002936004192,0.019653683217731536,1.8022443151661145,-1.3701181105322455,1.3167363415927504,-0.8731175518357862,0.6630158042323278,-0.5939026786404201,-1.189565840100905,-0.12975458965208841,-0.504508358884414,0.457016756109502,-0.6814308754203008,0.7204908243254265,0.6821736359713191,0.37192801687488486,-0.555504810543227,0.7262270094658652,0.17322865228746825,0.6097466551673341,-1.5494078829354552,-0.5095497197037705,-0.9195335291133173,0.4175084396723642,-0.7741125605769356,1.4737973554835775,-0.8529729591274079,0.25811921887652617,0.33089826035966013,-0.6982967950296567,-0.12516702259257517,-1.0106053221572773,-0.649725111151501,0.02449680903689408,0.22859646494045405,0.9464170933770124,1.873143201110364,-0.6091693153755786,1.3265487423266915,0.3067897333091477,-0.5571057571497043,1.674449244515288,1.3178469595911038,-0.49255012966931755,-0.44810794334182213,-0.7725197627056002,1.2166371346851095,-1.1024257378148192,0.29468522897501254,-0.17146120964959644,0.3496038242258144,0.14809157834582365,-0.748077774440983,1.45827707078643,-0.09928752621004644,-0.4839929055643646,-0.15565823464625786,0.19530235551575784,-0.7980140531350256,0.13444759987307495,0.22118164958443864,1.4616957821951844,0.6671010315722775,0.5225410610499522,-0.276788602158649,-0.939623962839142,-0.6272075142834701,0.29046293292020675,0.6794206785823442,0.23193247197425712,1.2643201967925377,-0.9496289866829065,-1.1309935398469506,1.1691453813133879,0.30536283584432006,-1.86605627682016,-0.4581914049254,-1.01968113150098,-0.3670721304517326,0.1647520098516355,-1.4880426183796083,0.11789527226978264,-1.080570988178372,-0.5219449142618494,-0.8278083220296933,2.391449982303617,1.3194384354471438,-0.47775150946978956,0.3657773029540253,-0.023257568968075685,-0.637773142427531,1.3337092109565196],\"yaxis\":\"y4\"},{\"line\":{\"color\":\"rgba(128, 128, 128, 1.0)\",\"dash\":\"solid\",\"shape\":\"linear\",\"width\":1.3},\"marker\":{\"size\":2,\"symbol\":\"circle\"},\"mode\":\"markers\",\"name\":\"B\",\"text\":\"\",\"type\":\"scatter\",\"x\":[-0.22992109036952604,0.05562905069623866,-0.6221448672758634,-1.2775273439321349,-0.6440569697000345,1.131706545613154,2.3269849129706297,-0.17691044485779936,-0.08839002936004192,0.019653683217731536,1.8022443151661145,-1.3701181105322455,1.3167363415927504,-0.8731175518357862,0.6630158042323278,-0.5939026786404201,-1.189565840100905,-0.12975458965208841,-0.504508358884414,0.457016756109502,-0.6814308754203008,0.7204908243254265,0.6821736359713191,0.37192801687488486,-0.555504810543227,0.7262270094658652,0.17322865228746825,0.6097466551673341,-1.5494078829354552,-0.5095497197037705,-0.9195335291133173,0.4175084396723642,-0.7741125605769356,1.4737973554835775,-0.8529729591274079,0.25811921887652617,0.33089826035966013,-0.6982967950296567,-0.12516702259257517,-1.0106053221572773,-0.649725111151501,0.02449680903689408,0.22859646494045405,0.9464170933770124,1.873143201110364,-0.6091693153755786,1.3265487423266915,0.3067897333091477,-0.5571057571497043,1.674449244515288,1.3178469595911038,-0.49255012966931755,-0.44810794334182213,-0.7725197627056002,1.2166371346851095,-1.1024257378148192,0.29468522897501254,-0.17146120964959644,0.3496038242258144,0.14809157834582365,-0.748077774440983,1.45827707078643,-0.09928752621004644,-0.4839929055643646,-0.15565823464625786,0.19530235551575784,-0.7980140531350256,0.13444759987307495,0.22118164958443864,1.4616957821951844,0.6671010315722775,0.5225410610499522,-0.276788602158649,-0.939623962839142,-0.6272075142834701,0.29046293292020675,0.6794206785823442,0.23193247197425712,1.2643201967925377,-0.9496289866829065,-1.1309935398469506,1.1691453813133879,0.30536283584432006,-1.86605627682016,-0.4581914049254,-1.01968113150098,-0.3670721304517326,0.1647520098516355,-1.4880426183796083,0.11789527226978264,-1.080570988178372,-0.5219449142618494,-0.8278083220296933,2.391449982303617,1.3194384354471438,-0.47775150946978956,0.3657773029540253,-0.023257568968075685,-0.637773142427531,1.3337092109565196],\"xaxis\":\"x5\",\"y\":[-1.8817698934664846,-0.41601507412818295,-0.41865515893087574,-0.9225350677652552,-1.1028031295219891,1.1367930199072076,1.47559016075696,-1.3933192692422862,1.643496617781722,-2.1977034296545708,0.5190358910198498,0.5085572547468106,0.39924364041183,0.4817334229582357,1.306887694381889,-0.1263873899794544,0.12168107592464891,0.1767629878223784,0.810138746647247,-0.5032826285239151,1.4228471870753228,0.6190272466894131,0.345655455076898,-0.5745618409104268,-0.2574833303309138,0.1323920235148288,-1.2116801640258033,-0.2174540535047162,0.35417960185050856,-1.075353732212383,-0.35950354800210216,0.5855780406441056,-0.3655935096070619,0.26017388595128876,1.355530661108527,-1.801275506406735,-0.9550148234221776,1.4187003484549692,1.9686975778208906,1.1280839220780199,0.42220221584518536,0.5546010421905413,-1.7883367376461996,0.044889639270693456,1.4756223969392088,-0.7219989710723888,0.8089588798503246,-1.0914627919449182,-0.7510755408974256,0.8727541308260071,-0.30013340596004245,-1.869958148168794,1.0198755039911107,-0.4110694988765867,-2.011238984285647,-2.712625632213704,1.1074631667461983,1.3647754659067781,0.263076767947983,-1.605605758817802,0.7486967420437597,0.1037340614037904,-0.19293491970395546,-0.4337513563876914,1.0363253191594493,1.7791614447603339,1.310972744426554,0.3009702460925462,0.022165851786293156,1.1796261885706272,1.044097523733219,-0.2114030074294949,-0.5411097321310678,0.1586119176717941,-0.8888204126700929,1.2660356417103062,-1.6395258521894895,2.5423114290998083,-1.0477633230147863,0.3009133939405517,0.9868792992622124,-1.4842364828593417,-0.38501240587723146,-1.3254638008288566,-0.768897654146365,-0.7226556866098427,0.6750529039066931,1.3061345090077965,0.8292823878549053,0.3541272981432661,-0.21079582581662296,-0.7674531621928081,-0.9043951097084993,0.41158294740326745,1.3252892866561277,0.2769469888816118,0.895972498268627,-0.020377624471322832,1.6225471051597193,-1.5448178817481184],\"yaxis\":\"y5\"},{\"histfunc\":\"count\",\"histnorm\":\"\",\"marker\":{\"color\":\"rgba(55, 128, 191, 1.0)\",\"line\":{\"color\":\"#4D5663\",\"width\":1.3}},\"name\":\"B\",\"nbinsx\":10,\"opacity\":0.8,\"orientation\":\"v\",\"type\":\"histogram\",\"x\":[-1.8817698934664846,-0.41601507412818295,-0.41865515893087574,-0.9225350677652552,-1.1028031295219891,1.1367930199072076,1.47559016075696,-1.3933192692422862,1.643496617781722,-2.1977034296545708,0.5190358910198498,0.5085572547468106,0.39924364041183,0.4817334229582357,1.306887694381889,-0.1263873899794544,0.12168107592464891,0.1767629878223784,0.810138746647247,-0.5032826285239151,1.4228471870753228,0.6190272466894131,0.345655455076898,-0.5745618409104268,-0.2574833303309138,0.1323920235148288,-1.2116801640258033,-0.2174540535047162,0.35417960185050856,-1.075353732212383,-0.35950354800210216,0.5855780406441056,-0.3655935096070619,0.26017388595128876,1.355530661108527,-1.801275506406735,-0.9550148234221776,1.4187003484549692,1.9686975778208906,1.1280839220780199,0.42220221584518536,0.5546010421905413,-1.7883367376461996,0.044889639270693456,1.4756223969392088,-0.7219989710723888,0.8089588798503246,-1.0914627919449182,-0.7510755408974256,0.8727541308260071,-0.30013340596004245,-1.869958148168794,1.0198755039911107,-0.4110694988765867,-2.011238984285647,-2.712625632213704,1.1074631667461983,1.3647754659067781,0.263076767947983,-1.605605758817802,0.7486967420437597,0.1037340614037904,-0.19293491970395546,-0.4337513563876914,1.0363253191594493,1.7791614447603339,1.310972744426554,0.3009702460925462,0.022165851786293156,1.1796261885706272,1.044097523733219,-0.2114030074294949,-0.5411097321310678,0.1586119176717941,-0.8888204126700929,1.2660356417103062,-1.6395258521894895,2.5423114290998083,-1.0477633230147863,0.3009133939405517,0.9868792992622124,-1.4842364828593417,-0.38501240587723146,-1.3254638008288566,-0.768897654146365,-0.7226556866098427,0.6750529039066931,1.3061345090077965,0.8292823878549053,0.3541272981432661,-0.21079582581662296,-0.7674531621928081,-0.9043951097084993,0.41158294740326745,1.3252892866561277,0.2769469888816118,0.895972498268627,-0.020377624471322832,1.6225471051597193,-1.5448178817481184],\"xaxis\":\"x6\",\"yaxis\":\"y6\"},{\"line\":{\"color\":\"rgba(128, 128, 128, 1.0)\",\"dash\":\"solid\",\"shape\":\"linear\",\"width\":1.3},\"marker\":{\"size\":2,\"symbol\":\"circle\"},\"mode\":\"markers\",\"name\":\"B\",\"text\":\"\",\"type\":\"scatter\",\"x\":[0.07588965184443273,1.6337225242788382,-0.5517587666975918,0.23693526354967026,-0.3161335665694347,-0.3945514240734139,-0.23115378638688555,1.1193633393194438,-0.24047201363700618,0.3449381376854929,-0.2540781539293871,-1.8892310002380301,-0.7792781704425811,0.18373256552969644,-0.6414681338889499,1.526081503244031,0.735424756992496,1.1005511744842102,0.14400501993141104,-1.1419025245269188,-1.7062645490303712,0.6928125270347335,-1.5089853493840657,1.8713953412563047,0.3826988653737301,-0.529968987277912,-1.0991229359321544,-1.4623762198492154,-0.3073534069860917,-0.12881051843590713,-1.0422820789925573,1.2335447410746414,0.15125663416392315,1.1544875649099604,0.8524518660933998,0.23885106347644072,-1.4017042025645903,-0.4921554733761034,0.5830770396195847,0.4248007952338122,-0.3017237617177742,0.45254231491654506,-1.7014771710192271,0.7417740869406251,-0.01702157266091685,1.5452530109652016,0.41681566608319204,-1.5846049055227909,-1.00614730392024,-0.8840057177654506,0.573407399486601,-0.2996286307969495,0.21218017367709877,0.2032192362271669,-0.1238559530252078,-0.9931604223142387,-0.03639725850986806,-0.29939549646036234,-1.1632112371810754,-0.42930421003414765,-0.9720011050611674,1.511327998418596,-0.391490224507803,-1.0343707966665685,1.1614033345336137,0.25846172162952147,0.2673019161771905,0.09922358114518205,0.5779188635536173,1.7622423470771715,0.03621225927739738,-1.8781137609391736,-1.2414591730228457,0.7150763247961918,-1.3506088848947662,-0.2855259738117049,-0.5062330374561972,0.03905175100678615,1.0175553616380286,0.5733915540550347,1.3332566320752068,-1.805689450426716,-1.1699305910850024,1.384592202850575,0.975012672541676,-0.6100760904957481,-0.38976207795179446,-0.44029567681254084,-0.8785626293647731,0.5871018052516414,1.1311561656997875,2.4368295250969494,-0.18527263678620495,-1.5666750947610815,-1.9429639161909467,2.7479576016442677,-1.7445681757283464,2.733475734584614,0.5556093324445441,-0.47688033302026606],\"xaxis\":\"x7\",\"y\":[-1.8817698934664846,-0.41601507412818295,-0.41865515893087574,-0.9225350677652552,-1.1028031295219891,1.1367930199072076,1.47559016075696,-1.3933192692422862,1.643496617781722,-2.1977034296545708,0.5190358910198498,0.5085572547468106,0.39924364041183,0.4817334229582357,1.306887694381889,-0.1263873899794544,0.12168107592464891,0.1767629878223784,0.810138746647247,-0.5032826285239151,1.4228471870753228,0.6190272466894131,0.345655455076898,-0.5745618409104268,-0.2574833303309138,0.1323920235148288,-1.2116801640258033,-0.2174540535047162,0.35417960185050856,-1.075353732212383,-0.35950354800210216,0.5855780406441056,-0.3655935096070619,0.26017388595128876,1.355530661108527,-1.801275506406735,-0.9550148234221776,1.4187003484549692,1.9686975778208906,1.1280839220780199,0.42220221584518536,0.5546010421905413,-1.7883367376461996,0.044889639270693456,1.4756223969392088,-0.7219989710723888,0.8089588798503246,-1.0914627919449182,-0.7510755408974256,0.8727541308260071,-0.30013340596004245,-1.869958148168794,1.0198755039911107,-0.4110694988765867,-2.011238984285647,-2.712625632213704,1.1074631667461983,1.3647754659067781,0.263076767947983,-1.605605758817802,0.7486967420437597,0.1037340614037904,-0.19293491970395546,-0.4337513563876914,1.0363253191594493,1.7791614447603339,1.310972744426554,0.3009702460925462,0.022165851786293156,1.1796261885706272,1.044097523733219,-0.2114030074294949,-0.5411097321310678,0.1586119176717941,-0.8888204126700929,1.2660356417103062,-1.6395258521894895,2.5423114290998083,-1.0477633230147863,0.3009133939405517,0.9868792992622124,-1.4842364828593417,-0.38501240587723146,-1.3254638008288566,-0.768897654146365,-0.7226556866098427,0.6750529039066931,1.3061345090077965,0.8292823878549053,0.3541272981432661,-0.21079582581662296,-0.7674531621928081,-0.9043951097084993,0.41158294740326745,1.3252892866561277,0.2769469888816118,0.895972498268627,-0.020377624471322832,1.6225471051597193,-1.5448178817481184],\"yaxis\":\"y7\"},{\"line\":{\"color\":\"rgba(128, 128, 128, 1.0)\",\"dash\":\"solid\",\"shape\":\"linear\",\"width\":1.3},\"marker\":{\"size\":2,\"symbol\":\"circle\"},\"mode\":\"markers\",\"name\":\"B\",\"text\":\"\",\"type\":\"scatter\",\"x\":[-2.1345305898504296,1.7734448851674718,-1.1465118095554963,0.11759120989479181,0.36328854231497115,0.6385180725664439,-1.27129752098571,-1.8754469967261727,-2.4893664098182673,1.2209014557406137,0.15280552809327072,0.11180520225730305,-0.4255070576679444,0.5468980150588038,0.5432922523628259,2.2124331968128965,1.4179592817727524,0.2654601378480211,0.8696338302816027,-0.1138714382356956,-0.9377608794476695,-1.99819239067689,1.2457087006640792,0.49696102581226836,-0.07721587235711798,0.0014418021044631953,-0.16391392716105752,0.1906326132827655,-0.9668705478585707,-0.2832065433295299,0.772717237410352,-0.2590713335948201,-1.2868494163262247,-2.6708320600799555,-1.0856302573354464,-0.7903438761780187,0.12947236370807977,-0.9100904453086847,-0.5602410199442092,-0.47307957138351076,0.2047906069189072,-0.16866825940700347,0.5801335516254127,-0.7876055191769322,-1.549512519833829,0.9374402967683155,0.6047223040714953,-0.7055298191035871,-1.2729613599942236,-1.1361342466596693,0.18744690974233252,0.8009214150184927,1.7441787881900397,-0.5156424351480714,0.9748173142560881,-0.2467689154939164,0.47468930470635745,-0.8070531723628719,0.6409048093341578,0.5895818525001894,0.9097007007872293,0.7233152525939471,0.7258813949795868,1.3213400281259144,0.1868772991701476,1.638668157608344,-0.9114112626952258,-0.63097113888363,-2.38163294251653,0.3048485325925647,1.5606740764643618,2.6757294452788067,-0.08442837572203585,-0.8217142267722916,-0.6951897734329309,-0.0049015395418065925,-1.1119684498124651,-1.3106646431613729,1.046955933402326,0.05665999257373598,1.6597052380760566,0.3852891342256938,0.6168853653963737,1.0506418342148884,0.9326393449233574,-1.6410964561069383,1.3104369164824048,-0.7696274478340477,0.4611452709617647,1.9810227881978804,-0.9637071883270888,0.46603047812103326,-0.3108802949958328,0.48410374524818633,1.672165674958786,-0.038419502698554465,0.24327914766825515,-0.5081237931251442,-0.9964483804653474,-0.5204918617224896],\"xaxis\":\"x8\",\"y\":[-1.8817698934664846,-0.41601507412818295,-0.41865515893087574,-0.9225350677652552,-1.1028031295219891,1.1367930199072076,1.47559016075696,-1.3933192692422862,1.643496617781722,-2.1977034296545708,0.5190358910198498,0.5085572547468106,0.39924364041183,0.4817334229582357,1.306887694381889,-0.1263873899794544,0.12168107592464891,0.1767629878223784,0.810138746647247,-0.5032826285239151,1.4228471870753228,0.6190272466894131,0.345655455076898,-0.5745618409104268,-0.2574833303309138,0.1323920235148288,-1.2116801640258033,-0.2174540535047162,0.35417960185050856,-1.075353732212383,-0.35950354800210216,0.5855780406441056,-0.3655935096070619,0.26017388595128876,1.355530661108527,-1.801275506406735,-0.9550148234221776,1.4187003484549692,1.9686975778208906,1.1280839220780199,0.42220221584518536,0.5546010421905413,-1.7883367376461996,0.044889639270693456,1.4756223969392088,-0.7219989710723888,0.8089588798503246,-1.0914627919449182,-0.7510755408974256,0.8727541308260071,-0.30013340596004245,-1.869958148168794,1.0198755039911107,-0.4110694988765867,-2.011238984285647,-2.712625632213704,1.1074631667461983,1.3647754659067781,0.263076767947983,-1.605605758817802,0.7486967420437597,0.1037340614037904,-0.19293491970395546,-0.4337513563876914,1.0363253191594493,1.7791614447603339,1.310972744426554,0.3009702460925462,0.022165851786293156,1.1796261885706272,1.044097523733219,-0.2114030074294949,-0.5411097321310678,0.1586119176717941,-0.8888204126700929,1.2660356417103062,-1.6395258521894895,2.5423114290998083,-1.0477633230147863,0.3009133939405517,0.9868792992622124,-1.4842364828593417,-0.38501240587723146,-1.3254638008288566,-0.768897654146365,-0.7226556866098427,0.6750529039066931,1.3061345090077965,0.8292823878549053,0.3541272981432661,-0.21079582581662296,-0.7674531621928081,-0.9043951097084993,0.41158294740326745,1.3252892866561277,0.2769469888816118,0.895972498268627,-0.020377624471322832,1.6225471051597193,-1.5448178817481184],\"yaxis\":\"y8\"},{\"line\":{\"color\":\"rgba(128, 128, 128, 1.0)\",\"dash\":\"solid\",\"shape\":\"linear\",\"width\":1.3},\"marker\":{\"size\":2,\"symbol\":\"circle\"},\"mode\":\"markers\",\"name\":\"C\",\"text\":\"\",\"type\":\"scatter\",\"x\":[-0.22992109036952604,0.05562905069623866,-0.6221448672758634,-1.2775273439321349,-0.6440569697000345,1.131706545613154,2.3269849129706297,-0.17691044485779936,-0.08839002936004192,0.019653683217731536,1.8022443151661145,-1.3701181105322455,1.3167363415927504,-0.8731175518357862,0.6630158042323278,-0.5939026786404201,-1.189565840100905,-0.12975458965208841,-0.504508358884414,0.457016756109502,-0.6814308754203008,0.7204908243254265,0.6821736359713191,0.37192801687488486,-0.555504810543227,0.7262270094658652,0.17322865228746825,0.6097466551673341,-1.5494078829354552,-0.5095497197037705,-0.9195335291133173,0.4175084396723642,-0.7741125605769356,1.4737973554835775,-0.8529729591274079,0.25811921887652617,0.33089826035966013,-0.6982967950296567,-0.12516702259257517,-1.0106053221572773,-0.649725111151501,0.02449680903689408,0.22859646494045405,0.9464170933770124,1.873143201110364,-0.6091693153755786,1.3265487423266915,0.3067897333091477,-0.5571057571497043,1.674449244515288,1.3178469595911038,-0.49255012966931755,-0.44810794334182213,-0.7725197627056002,1.2166371346851095,-1.1024257378148192,0.29468522897501254,-0.17146120964959644,0.3496038242258144,0.14809157834582365,-0.748077774440983,1.45827707078643,-0.09928752621004644,-0.4839929055643646,-0.15565823464625786,0.19530235551575784,-0.7980140531350256,0.13444759987307495,0.22118164958443864,1.4616957821951844,0.6671010315722775,0.5225410610499522,-0.276788602158649,-0.939623962839142,-0.6272075142834701,0.29046293292020675,0.6794206785823442,0.23193247197425712,1.2643201967925377,-0.9496289866829065,-1.1309935398469506,1.1691453813133879,0.30536283584432006,-1.86605627682016,-0.4581914049254,-1.01968113150098,-0.3670721304517326,0.1647520098516355,-1.4880426183796083,0.11789527226978264,-1.080570988178372,-0.5219449142618494,-0.8278083220296933,2.391449982303617,1.3194384354471438,-0.47775150946978956,0.3657773029540253,-0.023257568968075685,-0.637773142427531,1.3337092109565196],\"xaxis\":\"x9\",\"y\":[0.07588965184443273,1.6337225242788382,-0.5517587666975918,0.23693526354967026,-0.3161335665694347,-0.3945514240734139,-0.23115378638688555,1.1193633393194438,-0.24047201363700618,0.3449381376854929,-0.2540781539293871,-1.8892310002380301,-0.7792781704425811,0.18373256552969644,-0.6414681338889499,1.526081503244031,0.735424756992496,1.1005511744842102,0.14400501993141104,-1.1419025245269188,-1.7062645490303712,0.6928125270347335,-1.5089853493840657,1.8713953412563047,0.3826988653737301,-0.529968987277912,-1.0991229359321544,-1.4623762198492154,-0.3073534069860917,-0.12881051843590713,-1.0422820789925573,1.2335447410746414,0.15125663416392315,1.1544875649099604,0.8524518660933998,0.23885106347644072,-1.4017042025645903,-0.4921554733761034,0.5830770396195847,0.4248007952338122,-0.3017237617177742,0.45254231491654506,-1.7014771710192271,0.7417740869406251,-0.01702157266091685,1.5452530109652016,0.41681566608319204,-1.5846049055227909,-1.00614730392024,-0.8840057177654506,0.573407399486601,-0.2996286307969495,0.21218017367709877,0.2032192362271669,-0.1238559530252078,-0.9931604223142387,-0.03639725850986806,-0.29939549646036234,-1.1632112371810754,-0.42930421003414765,-0.9720011050611674,1.511327998418596,-0.391490224507803,-1.0343707966665685,1.1614033345336137,0.25846172162952147,0.2673019161771905,0.09922358114518205,0.5779188635536173,1.7622423470771715,0.03621225927739738,-1.8781137609391736,-1.2414591730228457,0.7150763247961918,-1.3506088848947662,-0.2855259738117049,-0.5062330374561972,0.03905175100678615,1.0175553616380286,0.5733915540550347,1.3332566320752068,-1.805689450426716,-1.1699305910850024,1.384592202850575,0.975012672541676,-0.6100760904957481,-0.38976207795179446,-0.44029567681254084,-0.8785626293647731,0.5871018052516414,1.1311561656997875,2.4368295250969494,-0.18527263678620495,-1.5666750947610815,-1.9429639161909467,2.7479576016442677,-1.7445681757283464,2.733475734584614,0.5556093324445441,-0.47688033302026606],\"yaxis\":\"y9\"},{\"line\":{\"color\":\"rgba(128, 128, 128, 1.0)\",\"dash\":\"solid\",\"shape\":\"linear\",\"width\":1.3},\"marker\":{\"size\":2,\"symbol\":\"circle\"},\"mode\":\"markers\",\"name\":\"C\",\"text\":\"\",\"type\":\"scatter\",\"x\":[-1.8817698934664846,-0.41601507412818295,-0.41865515893087574,-0.9225350677652552,-1.1028031295219891,1.1367930199072076,1.47559016075696,-1.3933192692422862,1.643496617781722,-2.1977034296545708,0.5190358910198498,0.5085572547468106,0.39924364041183,0.4817334229582357,1.306887694381889,-0.1263873899794544,0.12168107592464891,0.1767629878223784,0.810138746647247,-0.5032826285239151,1.4228471870753228,0.6190272466894131,0.345655455076898,-0.5745618409104268,-0.2574833303309138,0.1323920235148288,-1.2116801640258033,-0.2174540535047162,0.35417960185050856,-1.075353732212383,-0.35950354800210216,0.5855780406441056,-0.3655935096070619,0.26017388595128876,1.355530661108527,-1.801275506406735,-0.9550148234221776,1.4187003484549692,1.9686975778208906,1.1280839220780199,0.42220221584518536,0.5546010421905413,-1.7883367376461996,0.044889639270693456,1.4756223969392088,-0.7219989710723888,0.8089588798503246,-1.0914627919449182,-0.7510755408974256,0.8727541308260071,-0.30013340596004245,-1.869958148168794,1.0198755039911107,-0.4110694988765867,-2.011238984285647,-2.712625632213704,1.1074631667461983,1.3647754659067781,0.263076767947983,-1.605605758817802,0.7486967420437597,0.1037340614037904,-0.19293491970395546,-0.4337513563876914,1.0363253191594493,1.7791614447603339,1.310972744426554,0.3009702460925462,0.022165851786293156,1.1796261885706272,1.044097523733219,-0.2114030074294949,-0.5411097321310678,0.1586119176717941,-0.8888204126700929,1.2660356417103062,-1.6395258521894895,2.5423114290998083,-1.0477633230147863,0.3009133939405517,0.9868792992622124,-1.4842364828593417,-0.38501240587723146,-1.3254638008288566,-0.768897654146365,-0.7226556866098427,0.6750529039066931,1.3061345090077965,0.8292823878549053,0.3541272981432661,-0.21079582581662296,-0.7674531621928081,-0.9043951097084993,0.41158294740326745,1.3252892866561277,0.2769469888816118,0.895972498268627,-0.020377624471322832,1.6225471051597193,-1.5448178817481184],\"xaxis\":\"x10\",\"y\":[0.07588965184443273,1.6337225242788382,-0.5517587666975918,0.23693526354967026,-0.3161335665694347,-0.3945514240734139,-0.23115378638688555,1.1193633393194438,-0.24047201363700618,0.3449381376854929,-0.2540781539293871,-1.8892310002380301,-0.7792781704425811,0.18373256552969644,-0.6414681338889499,1.526081503244031,0.735424756992496,1.1005511744842102,0.14400501993141104,-1.1419025245269188,-1.7062645490303712,0.6928125270347335,-1.5089853493840657,1.8713953412563047,0.3826988653737301,-0.529968987277912,-1.0991229359321544,-1.4623762198492154,-0.3073534069860917,-0.12881051843590713,-1.0422820789925573,1.2335447410746414,0.15125663416392315,1.1544875649099604,0.8524518660933998,0.23885106347644072,-1.4017042025645903,-0.4921554733761034,0.5830770396195847,0.4248007952338122,-0.3017237617177742,0.45254231491654506,-1.7014771710192271,0.7417740869406251,-0.01702157266091685,1.5452530109652016,0.41681566608319204,-1.5846049055227909,-1.00614730392024,-0.8840057177654506,0.573407399486601,-0.2996286307969495,0.21218017367709877,0.2032192362271669,-0.1238559530252078,-0.9931604223142387,-0.03639725850986806,-0.29939549646036234,-1.1632112371810754,-0.42930421003414765,-0.9720011050611674,1.511327998418596,-0.391490224507803,-1.0343707966665685,1.1614033345336137,0.25846172162952147,0.2673019161771905,0.09922358114518205,0.5779188635536173,1.7622423470771715,0.03621225927739738,-1.8781137609391736,-1.2414591730228457,0.7150763247961918,-1.3506088848947662,-0.2855259738117049,-0.5062330374561972,0.03905175100678615,1.0175553616380286,0.5733915540550347,1.3332566320752068,-1.805689450426716,-1.1699305910850024,1.384592202850575,0.975012672541676,-0.6100760904957481,-0.38976207795179446,-0.44029567681254084,-0.8785626293647731,0.5871018052516414,1.1311561656997875,2.4368295250969494,-0.18527263678620495,-1.5666750947610815,-1.9429639161909467,2.7479576016442677,-1.7445681757283464,2.733475734584614,0.5556093324445441,-0.47688033302026606],\"yaxis\":\"y10\"},{\"histfunc\":\"count\",\"histnorm\":\"\",\"marker\":{\"color\":\"rgba(50, 171, 96, 1.0)\",\"line\":{\"color\":\"#4D5663\",\"width\":1.3}},\"name\":\"C\",\"nbinsx\":10,\"opacity\":0.8,\"orientation\":\"v\",\"type\":\"histogram\",\"x\":[0.07588965184443273,1.6337225242788382,-0.5517587666975918,0.23693526354967026,-0.3161335665694347,-0.3945514240734139,-0.23115378638688555,1.1193633393194438,-0.24047201363700618,0.3449381376854929,-0.2540781539293871,-1.8892310002380301,-0.7792781704425811,0.18373256552969644,-0.6414681338889499,1.526081503244031,0.735424756992496,1.1005511744842102,0.14400501993141104,-1.1419025245269188,-1.7062645490303712,0.6928125270347335,-1.5089853493840657,1.8713953412563047,0.3826988653737301,-0.529968987277912,-1.0991229359321544,-1.4623762198492154,-0.3073534069860917,-0.12881051843590713,-1.0422820789925573,1.2335447410746414,0.15125663416392315,1.1544875649099604,0.8524518660933998,0.23885106347644072,-1.4017042025645903,-0.4921554733761034,0.5830770396195847,0.4248007952338122,-0.3017237617177742,0.45254231491654506,-1.7014771710192271,0.7417740869406251,-0.01702157266091685,1.5452530109652016,0.41681566608319204,-1.5846049055227909,-1.00614730392024,-0.8840057177654506,0.573407399486601,-0.2996286307969495,0.21218017367709877,0.2032192362271669,-0.1238559530252078,-0.9931604223142387,-0.03639725850986806,-0.29939549646036234,-1.1632112371810754,-0.42930421003414765,-0.9720011050611674,1.511327998418596,-0.391490224507803,-1.0343707966665685,1.1614033345336137,0.25846172162952147,0.2673019161771905,0.09922358114518205,0.5779188635536173,1.7622423470771715,0.03621225927739738,-1.8781137609391736,-1.2414591730228457,0.7150763247961918,-1.3506088848947662,-0.2855259738117049,-0.5062330374561972,0.03905175100678615,1.0175553616380286,0.5733915540550347,1.3332566320752068,-1.805689450426716,-1.1699305910850024,1.384592202850575,0.975012672541676,-0.6100760904957481,-0.38976207795179446,-0.44029567681254084,-0.8785626293647731,0.5871018052516414,1.1311561656997875,2.4368295250969494,-0.18527263678620495,-1.5666750947610815,-1.9429639161909467,2.7479576016442677,-1.7445681757283464,2.733475734584614,0.5556093324445441,-0.47688033302026606],\"xaxis\":\"x11\",\"yaxis\":\"y11\"},{\"line\":{\"color\":\"rgba(128, 128, 128, 1.0)\",\"dash\":\"solid\",\"shape\":\"linear\",\"width\":1.3},\"marker\":{\"size\":2,\"symbol\":\"circle\"},\"mode\":\"markers\",\"name\":\"C\",\"text\":\"\",\"type\":\"scatter\",\"x\":[-2.1345305898504296,1.7734448851674718,-1.1465118095554963,0.11759120989479181,0.36328854231497115,0.6385180725664439,-1.27129752098571,-1.8754469967261727,-2.4893664098182673,1.2209014557406137,0.15280552809327072,0.11180520225730305,-0.4255070576679444,0.5468980150588038,0.5432922523628259,2.2124331968128965,1.4179592817727524,0.2654601378480211,0.8696338302816027,-0.1138714382356956,-0.9377608794476695,-1.99819239067689,1.2457087006640792,0.49696102581226836,-0.07721587235711798,0.0014418021044631953,-0.16391392716105752,0.1906326132827655,-0.9668705478585707,-0.2832065433295299,0.772717237410352,-0.2590713335948201,-1.2868494163262247,-2.6708320600799555,-1.0856302573354464,-0.7903438761780187,0.12947236370807977,-0.9100904453086847,-0.5602410199442092,-0.47307957138351076,0.2047906069189072,-0.16866825940700347,0.5801335516254127,-0.7876055191769322,-1.549512519833829,0.9374402967683155,0.6047223040714953,-0.7055298191035871,-1.2729613599942236,-1.1361342466596693,0.18744690974233252,0.8009214150184927,1.7441787881900397,-0.5156424351480714,0.9748173142560881,-0.2467689154939164,0.47468930470635745,-0.8070531723628719,0.6409048093341578,0.5895818525001894,0.9097007007872293,0.7233152525939471,0.7258813949795868,1.3213400281259144,0.1868772991701476,1.638668157608344,-0.9114112626952258,-0.63097113888363,-2.38163294251653,0.3048485325925647,1.5606740764643618,2.6757294452788067,-0.08442837572203585,-0.8217142267722916,-0.6951897734329309,-0.0049015395418065925,-1.1119684498124651,-1.3106646431613729,1.046955933402326,0.05665999257373598,1.6597052380760566,0.3852891342256938,0.6168853653963737,1.0506418342148884,0.9326393449233574,-1.6410964561069383,1.3104369164824048,-0.7696274478340477,0.4611452709617647,1.9810227881978804,-0.9637071883270888,0.46603047812103326,-0.3108802949958328,0.48410374524818633,1.672165674958786,-0.038419502698554465,0.24327914766825515,-0.5081237931251442,-0.9964483804653474,-0.5204918617224896],\"xaxis\":\"x12\",\"y\":[0.07588965184443273,1.6337225242788382,-0.5517587666975918,0.23693526354967026,-0.3161335665694347,-0.3945514240734139,-0.23115378638688555,1.1193633393194438,-0.24047201363700618,0.3449381376854929,-0.2540781539293871,-1.8892310002380301,-0.7792781704425811,0.18373256552969644,-0.6414681338889499,1.526081503244031,0.735424756992496,1.1005511744842102,0.14400501993141104,-1.1419025245269188,-1.7062645490303712,0.6928125270347335,-1.5089853493840657,1.8713953412563047,0.3826988653737301,-0.529968987277912,-1.0991229359321544,-1.4623762198492154,-0.3073534069860917,-0.12881051843590713,-1.0422820789925573,1.2335447410746414,0.15125663416392315,1.1544875649099604,0.8524518660933998,0.23885106347644072,-1.4017042025645903,-0.4921554733761034,0.5830770396195847,0.4248007952338122,-0.3017237617177742,0.45254231491654506,-1.7014771710192271,0.7417740869406251,-0.01702157266091685,1.5452530109652016,0.41681566608319204,-1.5846049055227909,-1.00614730392024,-0.8840057177654506,0.573407399486601,-0.2996286307969495,0.21218017367709877,0.2032192362271669,-0.1238559530252078,-0.9931604223142387,-0.03639725850986806,-0.29939549646036234,-1.1632112371810754,-0.42930421003414765,-0.9720011050611674,1.511327998418596,-0.391490224507803,-1.0343707966665685,1.1614033345336137,0.25846172162952147,0.2673019161771905,0.09922358114518205,0.5779188635536173,1.7622423470771715,0.03621225927739738,-1.8781137609391736,-1.2414591730228457,0.7150763247961918,-1.3506088848947662,-0.2855259738117049,-0.5062330374561972,0.03905175100678615,1.0175553616380286,0.5733915540550347,1.3332566320752068,-1.805689450426716,-1.1699305910850024,1.384592202850575,0.975012672541676,-0.6100760904957481,-0.38976207795179446,-0.44029567681254084,-0.8785626293647731,0.5871018052516414,1.1311561656997875,2.4368295250969494,-0.18527263678620495,-1.5666750947610815,-1.9429639161909467,2.7479576016442677,-1.7445681757283464,2.733475734584614,0.5556093324445441,-0.47688033302026606],\"yaxis\":\"y12\"},{\"line\":{\"color\":\"rgba(128, 128, 128, 1.0)\",\"dash\":\"solid\",\"shape\":\"linear\",\"width\":1.3},\"marker\":{\"size\":2,\"symbol\":\"circle\"},\"mode\":\"markers\",\"name\":\"D\",\"text\":\"\",\"type\":\"scatter\",\"x\":[-0.22992109036952604,0.05562905069623866,-0.6221448672758634,-1.2775273439321349,-0.6440569697000345,1.131706545613154,2.3269849129706297,-0.17691044485779936,-0.08839002936004192,0.019653683217731536,1.8022443151661145,-1.3701181105322455,1.3167363415927504,-0.8731175518357862,0.6630158042323278,-0.5939026786404201,-1.189565840100905,-0.12975458965208841,-0.504508358884414,0.457016756109502,-0.6814308754203008,0.7204908243254265,0.6821736359713191,0.37192801687488486,-0.555504810543227,0.7262270094658652,0.17322865228746825,0.6097466551673341,-1.5494078829354552,-0.5095497197037705,-0.9195335291133173,0.4175084396723642,-0.7741125605769356,1.4737973554835775,-0.8529729591274079,0.25811921887652617,0.33089826035966013,-0.6982967950296567,-0.12516702259257517,-1.0106053221572773,-0.649725111151501,0.02449680903689408,0.22859646494045405,0.9464170933770124,1.873143201110364,-0.6091693153755786,1.3265487423266915,0.3067897333091477,-0.5571057571497043,1.674449244515288,1.3178469595911038,-0.49255012966931755,-0.44810794334182213,-0.7725197627056002,1.2166371346851095,-1.1024257378148192,0.29468522897501254,-0.17146120964959644,0.3496038242258144,0.14809157834582365,-0.748077774440983,1.45827707078643,-0.09928752621004644,-0.4839929055643646,-0.15565823464625786,0.19530235551575784,-0.7980140531350256,0.13444759987307495,0.22118164958443864,1.4616957821951844,0.6671010315722775,0.5225410610499522,-0.276788602158649,-0.939623962839142,-0.6272075142834701,0.29046293292020675,0.6794206785823442,0.23193247197425712,1.2643201967925377,-0.9496289866829065,-1.1309935398469506,1.1691453813133879,0.30536283584432006,-1.86605627682016,-0.4581914049254,-1.01968113150098,-0.3670721304517326,0.1647520098516355,-1.4880426183796083,0.11789527226978264,-1.080570988178372,-0.5219449142618494,-0.8278083220296933,2.391449982303617,1.3194384354471438,-0.47775150946978956,0.3657773029540253,-0.023257568968075685,-0.637773142427531,1.3337092109565196],\"xaxis\":\"x13\",\"y\":[-2.1345305898504296,1.7734448851674718,-1.1465118095554963,0.11759120989479181,0.36328854231497115,0.6385180725664439,-1.27129752098571,-1.8754469967261727,-2.4893664098182673,1.2209014557406137,0.15280552809327072,0.11180520225730305,-0.4255070576679444,0.5468980150588038,0.5432922523628259,2.2124331968128965,1.4179592817727524,0.2654601378480211,0.8696338302816027,-0.1138714382356956,-0.9377608794476695,-1.99819239067689,1.2457087006640792,0.49696102581226836,-0.07721587235711798,0.0014418021044631953,-0.16391392716105752,0.1906326132827655,-0.9668705478585707,-0.2832065433295299,0.772717237410352,-0.2590713335948201,-1.2868494163262247,-2.6708320600799555,-1.0856302573354464,-0.7903438761780187,0.12947236370807977,-0.9100904453086847,-0.5602410199442092,-0.47307957138351076,0.2047906069189072,-0.16866825940700347,0.5801335516254127,-0.7876055191769322,-1.549512519833829,0.9374402967683155,0.6047223040714953,-0.7055298191035871,-1.2729613599942236,-1.1361342466596693,0.18744690974233252,0.8009214150184927,1.7441787881900397,-0.5156424351480714,0.9748173142560881,-0.2467689154939164,0.47468930470635745,-0.8070531723628719,0.6409048093341578,0.5895818525001894,0.9097007007872293,0.7233152525939471,0.7258813949795868,1.3213400281259144,0.1868772991701476,1.638668157608344,-0.9114112626952258,-0.63097113888363,-2.38163294251653,0.3048485325925647,1.5606740764643618,2.6757294452788067,-0.08442837572203585,-0.8217142267722916,-0.6951897734329309,-0.0049015395418065925,-1.1119684498124651,-1.3106646431613729,1.046955933402326,0.05665999257373598,1.6597052380760566,0.3852891342256938,0.6168853653963737,1.0506418342148884,0.9326393449233574,-1.6410964561069383,1.3104369164824048,-0.7696274478340477,0.4611452709617647,1.9810227881978804,-0.9637071883270888,0.46603047812103326,-0.3108802949958328,0.48410374524818633,1.672165674958786,-0.038419502698554465,0.24327914766825515,-0.5081237931251442,-0.9964483804653474,-0.5204918617224896],\"yaxis\":\"y13\"},{\"line\":{\"color\":\"rgba(128, 128, 128, 1.0)\",\"dash\":\"solid\",\"shape\":\"linear\",\"width\":1.3},\"marker\":{\"size\":2,\"symbol\":\"circle\"},\"mode\":\"markers\",\"name\":\"D\",\"text\":\"\",\"type\":\"scatter\",\"x\":[-1.8817698934664846,-0.41601507412818295,-0.41865515893087574,-0.9225350677652552,-1.1028031295219891,1.1367930199072076,1.47559016075696,-1.3933192692422862,1.643496617781722,-2.1977034296545708,0.5190358910198498,0.5085572547468106,0.39924364041183,0.4817334229582357,1.306887694381889,-0.1263873899794544,0.12168107592464891,0.1767629878223784,0.810138746647247,-0.5032826285239151,1.4228471870753228,0.6190272466894131,0.345655455076898,-0.5745618409104268,-0.2574833303309138,0.1323920235148288,-1.2116801640258033,-0.2174540535047162,0.35417960185050856,-1.075353732212383,-0.35950354800210216,0.5855780406441056,-0.3655935096070619,0.26017388595128876,1.355530661108527,-1.801275506406735,-0.9550148234221776,1.4187003484549692,1.9686975778208906,1.1280839220780199,0.42220221584518536,0.5546010421905413,-1.7883367376461996,0.044889639270693456,1.4756223969392088,-0.7219989710723888,0.8089588798503246,-1.0914627919449182,-0.7510755408974256,0.8727541308260071,-0.30013340596004245,-1.869958148168794,1.0198755039911107,-0.4110694988765867,-2.011238984285647,-2.712625632213704,1.1074631667461983,1.3647754659067781,0.263076767947983,-1.605605758817802,0.7486967420437597,0.1037340614037904,-0.19293491970395546,-0.4337513563876914,1.0363253191594493,1.7791614447603339,1.310972744426554,0.3009702460925462,0.022165851786293156,1.1796261885706272,1.044097523733219,-0.2114030074294949,-0.5411097321310678,0.1586119176717941,-0.8888204126700929,1.2660356417103062,-1.6395258521894895,2.5423114290998083,-1.0477633230147863,0.3009133939405517,0.9868792992622124,-1.4842364828593417,-0.38501240587723146,-1.3254638008288566,-0.768897654146365,-0.7226556866098427,0.6750529039066931,1.3061345090077965,0.8292823878549053,0.3541272981432661,-0.21079582581662296,-0.7674531621928081,-0.9043951097084993,0.41158294740326745,1.3252892866561277,0.2769469888816118,0.895972498268627,-0.020377624471322832,1.6225471051597193,-1.5448178817481184],\"xaxis\":\"x14\",\"y\":[-2.1345305898504296,1.7734448851674718,-1.1465118095554963,0.11759120989479181,0.36328854231497115,0.6385180725664439,-1.27129752098571,-1.8754469967261727,-2.4893664098182673,1.2209014557406137,0.15280552809327072,0.11180520225730305,-0.4255070576679444,0.5468980150588038,0.5432922523628259,2.2124331968128965,1.4179592817727524,0.2654601378480211,0.8696338302816027,-0.1138714382356956,-0.9377608794476695,-1.99819239067689,1.2457087006640792,0.49696102581226836,-0.07721587235711798,0.0014418021044631953,-0.16391392716105752,0.1906326132827655,-0.9668705478585707,-0.2832065433295299,0.772717237410352,-0.2590713335948201,-1.2868494163262247,-2.6708320600799555,-1.0856302573354464,-0.7903438761780187,0.12947236370807977,-0.9100904453086847,-0.5602410199442092,-0.47307957138351076,0.2047906069189072,-0.16866825940700347,0.5801335516254127,-0.7876055191769322,-1.549512519833829,0.9374402967683155,0.6047223040714953,-0.7055298191035871,-1.2729613599942236,-1.1361342466596693,0.18744690974233252,0.8009214150184927,1.7441787881900397,-0.5156424351480714,0.9748173142560881,-0.2467689154939164,0.47468930470635745,-0.8070531723628719,0.6409048093341578,0.5895818525001894,0.9097007007872293,0.7233152525939471,0.7258813949795868,1.3213400281259144,0.1868772991701476,1.638668157608344,-0.9114112626952258,-0.63097113888363,-2.38163294251653,0.3048485325925647,1.5606740764643618,2.6757294452788067,-0.08442837572203585,-0.8217142267722916,-0.6951897734329309,-0.0049015395418065925,-1.1119684498124651,-1.3106646431613729,1.046955933402326,0.05665999257373598,1.6597052380760566,0.3852891342256938,0.6168853653963737,1.0506418342148884,0.9326393449233574,-1.6410964561069383,1.3104369164824048,-0.7696274478340477,0.4611452709617647,1.9810227881978804,-0.9637071883270888,0.46603047812103326,-0.3108802949958328,0.48410374524818633,1.672165674958786,-0.038419502698554465,0.24327914766825515,-0.5081237931251442,-0.9964483804653474,-0.5204918617224896],\"yaxis\":\"y14\"},{\"line\":{\"color\":\"rgba(128, 128, 128, 1.0)\",\"dash\":\"solid\",\"shape\":\"linear\",\"width\":1.3},\"marker\":{\"size\":2,\"symbol\":\"circle\"},\"mode\":\"markers\",\"name\":\"D\",\"text\":\"\",\"type\":\"scatter\",\"x\":[0.07588965184443273,1.6337225242788382,-0.5517587666975918,0.23693526354967026,-0.3161335665694347,-0.3945514240734139,-0.23115378638688555,1.1193633393194438,-0.24047201363700618,0.3449381376854929,-0.2540781539293871,-1.8892310002380301,-0.7792781704425811,0.18373256552969644,-0.6414681338889499,1.526081503244031,0.735424756992496,1.1005511744842102,0.14400501993141104,-1.1419025245269188,-1.7062645490303712,0.6928125270347335,-1.5089853493840657,1.8713953412563047,0.3826988653737301,-0.529968987277912,-1.0991229359321544,-1.4623762198492154,-0.3073534069860917,-0.12881051843590713,-1.0422820789925573,1.2335447410746414,0.15125663416392315,1.1544875649099604,0.8524518660933998,0.23885106347644072,-1.4017042025645903,-0.4921554733761034,0.5830770396195847,0.4248007952338122,-0.3017237617177742,0.45254231491654506,-1.7014771710192271,0.7417740869406251,-0.01702157266091685,1.5452530109652016,0.41681566608319204,-1.5846049055227909,-1.00614730392024,-0.8840057177654506,0.573407399486601,-0.2996286307969495,0.21218017367709877,0.2032192362271669,-0.1238559530252078,-0.9931604223142387,-0.03639725850986806,-0.29939549646036234,-1.1632112371810754,-0.42930421003414765,-0.9720011050611674,1.511327998418596,-0.391490224507803,-1.0343707966665685,1.1614033345336137,0.25846172162952147,0.2673019161771905,0.09922358114518205,0.5779188635536173,1.7622423470771715,0.03621225927739738,-1.8781137609391736,-1.2414591730228457,0.7150763247961918,-1.3506088848947662,-0.2855259738117049,-0.5062330374561972,0.03905175100678615,1.0175553616380286,0.5733915540550347,1.3332566320752068,-1.805689450426716,-1.1699305910850024,1.384592202850575,0.975012672541676,-0.6100760904957481,-0.38976207795179446,-0.44029567681254084,-0.8785626293647731,0.5871018052516414,1.1311561656997875,2.4368295250969494,-0.18527263678620495,-1.5666750947610815,-1.9429639161909467,2.7479576016442677,-1.7445681757283464,2.733475734584614,0.5556093324445441,-0.47688033302026606],\"xaxis\":\"x15\",\"y\":[-2.1345305898504296,1.7734448851674718,-1.1465118095554963,0.11759120989479181,0.36328854231497115,0.6385180725664439,-1.27129752098571,-1.8754469967261727,-2.4893664098182673,1.2209014557406137,0.15280552809327072,0.11180520225730305,-0.4255070576679444,0.5468980150588038,0.5432922523628259,2.2124331968128965,1.4179592817727524,0.2654601378480211,0.8696338302816027,-0.1138714382356956,-0.9377608794476695,-1.99819239067689,1.2457087006640792,0.49696102581226836,-0.07721587235711798,0.0014418021044631953,-0.16391392716105752,0.1906326132827655,-0.9668705478585707,-0.2832065433295299,0.772717237410352,-0.2590713335948201,-1.2868494163262247,-2.6708320600799555,-1.0856302573354464,-0.7903438761780187,0.12947236370807977,-0.9100904453086847,-0.5602410199442092,-0.47307957138351076,0.2047906069189072,-0.16866825940700347,0.5801335516254127,-0.7876055191769322,-1.549512519833829,0.9374402967683155,0.6047223040714953,-0.7055298191035871,-1.2729613599942236,-1.1361342466596693,0.18744690974233252,0.8009214150184927,1.7441787881900397,-0.5156424351480714,0.9748173142560881,-0.2467689154939164,0.47468930470635745,-0.8070531723628719,0.6409048093341578,0.5895818525001894,0.9097007007872293,0.7233152525939471,0.7258813949795868,1.3213400281259144,0.1868772991701476,1.638668157608344,-0.9114112626952258,-0.63097113888363,-2.38163294251653,0.3048485325925647,1.5606740764643618,2.6757294452788067,-0.08442837572203585,-0.8217142267722916,-0.6951897734329309,-0.0049015395418065925,-1.1119684498124651,-1.3106646431613729,1.046955933402326,0.05665999257373598,1.6597052380760566,0.3852891342256938,0.6168853653963737,1.0506418342148884,0.9326393449233574,-1.6410964561069383,1.3104369164824048,-0.7696274478340477,0.4611452709617647,1.9810227881978804,-0.9637071883270888,0.46603047812103326,-0.3108802949958328,0.48410374524818633,1.672165674958786,-0.038419502698554465,0.24327914766825515,-0.5081237931251442,-0.9964483804653474,-0.5204918617224896],\"yaxis\":\"y15\"},{\"histfunc\":\"count\",\"histnorm\":\"\",\"marker\":{\"color\":\"rgba(128, 0, 128, 1.0)\",\"line\":{\"color\":\"#4D5663\",\"width\":1.3}},\"name\":\"D\",\"nbinsx\":10,\"opacity\":0.8,\"orientation\":\"v\",\"type\":\"histogram\",\"x\":[-2.1345305898504296,1.7734448851674718,-1.1465118095554963,0.11759120989479181,0.36328854231497115,0.6385180725664439,-1.27129752098571,-1.8754469967261727,-2.4893664098182673,1.2209014557406137,0.15280552809327072,0.11180520225730305,-0.4255070576679444,0.5468980150588038,0.5432922523628259,2.2124331968128965,1.4179592817727524,0.2654601378480211,0.8696338302816027,-0.1138714382356956,-0.9377608794476695,-1.99819239067689,1.2457087006640792,0.49696102581226836,-0.07721587235711798,0.0014418021044631953,-0.16391392716105752,0.1906326132827655,-0.9668705478585707,-0.2832065433295299,0.772717237410352,-0.2590713335948201,-1.2868494163262247,-2.6708320600799555,-1.0856302573354464,-0.7903438761780187,0.12947236370807977,-0.9100904453086847,-0.5602410199442092,-0.47307957138351076,0.2047906069189072,-0.16866825940700347,0.5801335516254127,-0.7876055191769322,-1.549512519833829,0.9374402967683155,0.6047223040714953,-0.7055298191035871,-1.2729613599942236,-1.1361342466596693,0.18744690974233252,0.8009214150184927,1.7441787881900397,-0.5156424351480714,0.9748173142560881,-0.2467689154939164,0.47468930470635745,-0.8070531723628719,0.6409048093341578,0.5895818525001894,0.9097007007872293,0.7233152525939471,0.7258813949795868,1.3213400281259144,0.1868772991701476,1.638668157608344,-0.9114112626952258,-0.63097113888363,-2.38163294251653,0.3048485325925647,1.5606740764643618,2.6757294452788067,-0.08442837572203585,-0.8217142267722916,-0.6951897734329309,-0.0049015395418065925,-1.1119684498124651,-1.3106646431613729,1.046955933402326,0.05665999257373598,1.6597052380760566,0.3852891342256938,0.6168853653963737,1.0506418342148884,0.9326393449233574,-1.6410964561069383,1.3104369164824048,-0.7696274478340477,0.4611452709617647,1.9810227881978804,-0.9637071883270888,0.46603047812103326,-0.3108802949958328,0.48410374524818633,1.672165674958786,-0.038419502698554465,0.24327914766825515,-0.5081237931251442,-0.9964483804653474,-0.5204918617224896],\"xaxis\":\"x16\",\"yaxis\":\"y16\"}],                        {\"bargap\":0.02,\"legend\":{\"bgcolor\":\"#F5F6F9\",\"font\":{\"color\":\"#4D5663\"}},\"paper_bgcolor\":\"#F5F6F9\",\"plot_bgcolor\":\"#F5F6F9\",\"showlegend\":false,\"template\":{\"data\":{\"bar\":[{\"error_x\":{\"color\":\"#2a3f5f\"},\"error_y\":{\"color\":\"#2a3f5f\"},\"marker\":{\"line\":{\"color\":\"#E5ECF6\",\"width\":0.5},\"pattern\":{\"fillmode\":\"overlay\",\"size\":10,\"solidity\":0.2}},\"type\":\"bar\"}],\"barpolar\":[{\"marker\":{\"line\":{\"color\":\"#E5ECF6\",\"width\":0.5},\"pattern\":{\"fillmode\":\"overlay\",\"size\":10,\"solidity\":0.2}},\"type\":\"barpolar\"}],\"carpet\":[{\"aaxis\":{\"endlinecolor\":\"#2a3f5f\",\"gridcolor\":\"white\",\"linecolor\":\"white\",\"minorgridcolor\":\"white\",\"startlinecolor\":\"#2a3f5f\"},\"baxis\":{\"endlinecolor\":\"#2a3f5f\",\"gridcolor\":\"white\",\"linecolor\":\"white\",\"minorgridcolor\":\"white\",\"startlinecolor\":\"#2a3f5f\"},\"type\":\"carpet\"}],\"choropleth\":[{\"colorbar\":{\"outlinewidth\":0,\"ticks\":\"\"},\"type\":\"choropleth\"}],\"contour\":[{\"colorbar\":{\"outlinewidth\":0,\"ticks\":\"\"},\"colorscale\":[[0.0,\"#0d0887\"],[0.1111111111111111,\"#46039f\"],[0.2222222222222222,\"#7201a8\"],[0.3333333333333333,\"#9c179e\"],[0.4444444444444444,\"#bd3786\"],[0.5555555555555556,\"#d8576b\"],[0.6666666666666666,\"#ed7953\"],[0.7777777777777778,\"#fb9f3a\"],[0.8888888888888888,\"#fdca26\"],[1.0,\"#f0f921\"]],\"type\":\"contour\"}],\"contourcarpet\":[{\"colorbar\":{\"outlinewidth\":0,\"ticks\":\"\"},\"type\":\"contourcarpet\"}],\"heatmap\":[{\"colorbar\":{\"outlinewidth\":0,\"ticks\":\"\"},\"colorscale\":[[0.0,\"#0d0887\"],[0.1111111111111111,\"#46039f\"],[0.2222222222222222,\"#7201a8\"],[0.3333333333333333,\"#9c179e\"],[0.4444444444444444,\"#bd3786\"],[0.5555555555555556,\"#d8576b\"],[0.6666666666666666,\"#ed7953\"],[0.7777777777777778,\"#fb9f3a\"],[0.8888888888888888,\"#fdca26\"],[1.0,\"#f0f921\"]],\"type\":\"heatmap\"}],\"heatmapgl\":[{\"colorbar\":{\"outlinewidth\":0,\"ticks\":\"\"},\"colorscale\":[[0.0,\"#0d0887\"],[0.1111111111111111,\"#46039f\"],[0.2222222222222222,\"#7201a8\"],[0.3333333333333333,\"#9c179e\"],[0.4444444444444444,\"#bd3786\"],[0.5555555555555556,\"#d8576b\"],[0.6666666666666666,\"#ed7953\"],[0.7777777777777778,\"#fb9f3a\"],[0.8888888888888888,\"#fdca26\"],[1.0,\"#f0f921\"]],\"type\":\"heatmapgl\"}],\"histogram\":[{\"marker\":{\"pattern\":{\"fillmode\":\"overlay\",\"size\":10,\"solidity\":0.2}},\"type\":\"histogram\"}],\"histogram2d\":[{\"colorbar\":{\"outlinewidth\":0,\"ticks\":\"\"},\"colorscale\":[[0.0,\"#0d0887\"],[0.1111111111111111,\"#46039f\"],[0.2222222222222222,\"#7201a8\"],[0.3333333333333333,\"#9c179e\"],[0.4444444444444444,\"#bd3786\"],[0.5555555555555556,\"#d8576b\"],[0.6666666666666666,\"#ed7953\"],[0.7777777777777778,\"#fb9f3a\"],[0.8888888888888888,\"#fdca26\"],[1.0,\"#f0f921\"]],\"type\":\"histogram2d\"}],\"histogram2dcontour\":[{\"colorbar\":{\"outlinewidth\":0,\"ticks\":\"\"},\"colorscale\":[[0.0,\"#0d0887\"],[0.1111111111111111,\"#46039f\"],[0.2222222222222222,\"#7201a8\"],[0.3333333333333333,\"#9c179e\"],[0.4444444444444444,\"#bd3786\"],[0.5555555555555556,\"#d8576b\"],[0.6666666666666666,\"#ed7953\"],[0.7777777777777778,\"#fb9f3a\"],[0.8888888888888888,\"#fdca26\"],[1.0,\"#f0f921\"]],\"type\":\"histogram2dcontour\"}],\"mesh3d\":[{\"colorbar\":{\"outlinewidth\":0,\"ticks\":\"\"},\"type\":\"mesh3d\"}],\"parcoords\":[{\"line\":{\"colorbar\":{\"outlinewidth\":0,\"ticks\":\"\"}},\"type\":\"parcoords\"}],\"pie\":[{\"automargin\":true,\"type\":\"pie\"}],\"scatter\":[{\"marker\":{\"colorbar\":{\"outlinewidth\":0,\"ticks\":\"\"}},\"type\":\"scatter\"}],\"scatter3d\":[{\"line\":{\"colorbar\":{\"outlinewidth\":0,\"ticks\":\"\"}},\"marker\":{\"colorbar\":{\"outlinewidth\":0,\"ticks\":\"\"}},\"type\":\"scatter3d\"}],\"scattercarpet\":[{\"marker\":{\"colorbar\":{\"outlinewidth\":0,\"ticks\":\"\"}},\"type\":\"scattercarpet\"}],\"scattergeo\":[{\"marker\":{\"colorbar\":{\"outlinewidth\":0,\"ticks\":\"\"}},\"type\":\"scattergeo\"}],\"scattergl\":[{\"marker\":{\"colorbar\":{\"outlinewidth\":0,\"ticks\":\"\"}},\"type\":\"scattergl\"}],\"scattermapbox\":[{\"marker\":{\"colorbar\":{\"outlinewidth\":0,\"ticks\":\"\"}},\"type\":\"scattermapbox\"}],\"scatterpolar\":[{\"marker\":{\"colorbar\":{\"outlinewidth\":0,\"ticks\":\"\"}},\"type\":\"scatterpolar\"}],\"scatterpolargl\":[{\"marker\":{\"colorbar\":{\"outlinewidth\":0,\"ticks\":\"\"}},\"type\":\"scatterpolargl\"}],\"scatterternary\":[{\"marker\":{\"colorbar\":{\"outlinewidth\":0,\"ticks\":\"\"}},\"type\":\"scatterternary\"}],\"surface\":[{\"colorbar\":{\"outlinewidth\":0,\"ticks\":\"\"},\"colorscale\":[[0.0,\"#0d0887\"],[0.1111111111111111,\"#46039f\"],[0.2222222222222222,\"#7201a8\"],[0.3333333333333333,\"#9c179e\"],[0.4444444444444444,\"#bd3786\"],[0.5555555555555556,\"#d8576b\"],[0.6666666666666666,\"#ed7953\"],[0.7777777777777778,\"#fb9f3a\"],[0.8888888888888888,\"#fdca26\"],[1.0,\"#f0f921\"]],\"type\":\"surface\"}],\"table\":[{\"cells\":{\"fill\":{\"color\":\"#EBF0F8\"},\"line\":{\"color\":\"white\"}},\"header\":{\"fill\":{\"color\":\"#C8D4E3\"},\"line\":{\"color\":\"white\"}},\"type\":\"table\"}]},\"layout\":{\"annotationdefaults\":{\"arrowcolor\":\"#2a3f5f\",\"arrowhead\":0,\"arrowwidth\":1},\"autotypenumbers\":\"strict\",\"coloraxis\":{\"colorbar\":{\"outlinewidth\":0,\"ticks\":\"\"}},\"colorscale\":{\"diverging\":[[0,\"#8e0152\"],[0.1,\"#c51b7d\"],[0.2,\"#de77ae\"],[0.3,\"#f1b6da\"],[0.4,\"#fde0ef\"],[0.5,\"#f7f7f7\"],[0.6,\"#e6f5d0\"],[0.7,\"#b8e186\"],[0.8,\"#7fbc41\"],[0.9,\"#4d9221\"],[1,\"#276419\"]],\"sequential\":[[0.0,\"#0d0887\"],[0.1111111111111111,\"#46039f\"],[0.2222222222222222,\"#7201a8\"],[0.3333333333333333,\"#9c179e\"],[0.4444444444444444,\"#bd3786\"],[0.5555555555555556,\"#d8576b\"],[0.6666666666666666,\"#ed7953\"],[0.7777777777777778,\"#fb9f3a\"],[0.8888888888888888,\"#fdca26\"],[1.0,\"#f0f921\"]],\"sequentialminus\":[[0.0,\"#0d0887\"],[0.1111111111111111,\"#46039f\"],[0.2222222222222222,\"#7201a8\"],[0.3333333333333333,\"#9c179e\"],[0.4444444444444444,\"#bd3786\"],[0.5555555555555556,\"#d8576b\"],[0.6666666666666666,\"#ed7953\"],[0.7777777777777778,\"#fb9f3a\"],[0.8888888888888888,\"#fdca26\"],[1.0,\"#f0f921\"]]},\"colorway\":[\"#636efa\",\"#EF553B\",\"#00cc96\",\"#ab63fa\",\"#FFA15A\",\"#19d3f3\",\"#FF6692\",\"#B6E880\",\"#FF97FF\",\"#FECB52\"],\"font\":{\"color\":\"#2a3f5f\"},\"geo\":{\"bgcolor\":\"white\",\"lakecolor\":\"white\",\"landcolor\":\"#E5ECF6\",\"showlakes\":true,\"showland\":true,\"subunitcolor\":\"white\"},\"hoverlabel\":{\"align\":\"left\"},\"hovermode\":\"closest\",\"mapbox\":{\"style\":\"light\"},\"paper_bgcolor\":\"white\",\"plot_bgcolor\":\"#E5ECF6\",\"polar\":{\"angularaxis\":{\"gridcolor\":\"white\",\"linecolor\":\"white\",\"ticks\":\"\"},\"bgcolor\":\"#E5ECF6\",\"radialaxis\":{\"gridcolor\":\"white\",\"linecolor\":\"white\",\"ticks\":\"\"}},\"scene\":{\"xaxis\":{\"backgroundcolor\":\"#E5ECF6\",\"gridcolor\":\"white\",\"gridwidth\":2,\"linecolor\":\"white\",\"showbackground\":true,\"ticks\":\"\",\"zerolinecolor\":\"white\"},\"yaxis\":{\"backgroundcolor\":\"#E5ECF6\",\"gridcolor\":\"white\",\"gridwidth\":2,\"linecolor\":\"white\",\"showbackground\":true,\"ticks\":\"\",\"zerolinecolor\":\"white\"},\"zaxis\":{\"backgroundcolor\":\"#E5ECF6\",\"gridcolor\":\"white\",\"gridwidth\":2,\"linecolor\":\"white\",\"showbackground\":true,\"ticks\":\"\",\"zerolinecolor\":\"white\"}},\"shapedefaults\":{\"line\":{\"color\":\"#2a3f5f\"}},\"ternary\":{\"aaxis\":{\"gridcolor\":\"white\",\"linecolor\":\"white\",\"ticks\":\"\"},\"baxis\":{\"gridcolor\":\"white\",\"linecolor\":\"white\",\"ticks\":\"\"},\"bgcolor\":\"#E5ECF6\",\"caxis\":{\"gridcolor\":\"white\",\"linecolor\":\"white\",\"ticks\":\"\"}},\"title\":{\"x\":0.05},\"xaxis\":{\"automargin\":true,\"gridcolor\":\"white\",\"linecolor\":\"white\",\"ticks\":\"\",\"title\":{\"standoff\":15},\"zerolinecolor\":\"white\",\"zerolinewidth\":2},\"yaxis\":{\"automargin\":true,\"gridcolor\":\"white\",\"linecolor\":\"white\",\"ticks\":\"\",\"title\":{\"standoff\":15},\"zerolinecolor\":\"white\",\"zerolinewidth\":2}}},\"title\":{\"font\":{\"color\":\"#4D5663\"}},\"xaxis\":{\"anchor\":\"y\",\"domain\":[0.0,0.2125],\"gridcolor\":\"#E1E5ED\",\"showgrid\":false,\"tickfont\":{\"color\":\"#4D5663\"},\"title\":{\"font\":{\"color\":\"#4D5663\"},\"text\":\"\"},\"zerolinecolor\":\"#E1E5ED\"},\"xaxis10\":{\"anchor\":\"y10\",\"domain\":[0.2625,0.475],\"gridcolor\":\"#E1E5ED\",\"showgrid\":false,\"tickfont\":{\"color\":\"#4D5663\"},\"title\":{\"font\":{\"color\":\"#4D5663\"},\"text\":\"\"},\"zerolinecolor\":\"#E1E5ED\"},\"xaxis11\":{\"anchor\":\"y11\",\"domain\":[0.525,0.7375],\"gridcolor\":\"#E1E5ED\",\"showgrid\":false,\"tickfont\":{\"color\":\"#4D5663\"},\"title\":{\"font\":{\"color\":\"#4D5663\"},\"text\":\"\"},\"zerolinecolor\":\"#E1E5ED\"},\"xaxis12\":{\"anchor\":\"y12\",\"domain\":[0.7875,1.0],\"gridcolor\":\"#E1E5ED\",\"showgrid\":false,\"tickfont\":{\"color\":\"#4D5663\"},\"title\":{\"font\":{\"color\":\"#4D5663\"},\"text\":\"\"},\"zerolinecolor\":\"#E1E5ED\"},\"xaxis13\":{\"anchor\":\"y13\",\"domain\":[0.0,0.2125],\"gridcolor\":\"#E1E5ED\",\"showgrid\":false,\"tickfont\":{\"color\":\"#4D5663\"},\"title\":{\"font\":{\"color\":\"#4D5663\"},\"text\":\"\"},\"zerolinecolor\":\"#E1E5ED\"},\"xaxis14\":{\"anchor\":\"y14\",\"domain\":[0.2625,0.475],\"gridcolor\":\"#E1E5ED\",\"showgrid\":false,\"tickfont\":{\"color\":\"#4D5663\"},\"title\":{\"font\":{\"color\":\"#4D5663\"},\"text\":\"\"},\"zerolinecolor\":\"#E1E5ED\"},\"xaxis15\":{\"anchor\":\"y15\",\"domain\":[0.525,0.7375],\"gridcolor\":\"#E1E5ED\",\"showgrid\":false,\"tickfont\":{\"color\":\"#4D5663\"},\"title\":{\"font\":{\"color\":\"#4D5663\"},\"text\":\"\"},\"zerolinecolor\":\"#E1E5ED\"},\"xaxis16\":{\"anchor\":\"y16\",\"domain\":[0.7875,1.0],\"gridcolor\":\"#E1E5ED\",\"showgrid\":false,\"tickfont\":{\"color\":\"#4D5663\"},\"title\":{\"font\":{\"color\":\"#4D5663\"},\"text\":\"\"},\"zerolinecolor\":\"#E1E5ED\"},\"xaxis2\":{\"anchor\":\"y2\",\"domain\":[0.2625,0.475],\"gridcolor\":\"#E1E5ED\",\"showgrid\":false,\"tickfont\":{\"color\":\"#4D5663\"},\"title\":{\"font\":{\"color\":\"#4D5663\"},\"text\":\"\"},\"zerolinecolor\":\"#E1E5ED\"},\"xaxis3\":{\"anchor\":\"y3\",\"domain\":[0.525,0.7375],\"gridcolor\":\"#E1E5ED\",\"showgrid\":false,\"tickfont\":{\"color\":\"#4D5663\"},\"title\":{\"font\":{\"color\":\"#4D5663\"},\"text\":\"\"},\"zerolinecolor\":\"#E1E5ED\"},\"xaxis4\":{\"anchor\":\"y4\",\"domain\":[0.7875,1.0],\"gridcolor\":\"#E1E5ED\",\"showgrid\":false,\"tickfont\":{\"color\":\"#4D5663\"},\"title\":{\"font\":{\"color\":\"#4D5663\"},\"text\":\"\"},\"zerolinecolor\":\"#E1E5ED\"},\"xaxis5\":{\"anchor\":\"y5\",\"domain\":[0.0,0.2125],\"gridcolor\":\"#E1E5ED\",\"showgrid\":false,\"tickfont\":{\"color\":\"#4D5663\"},\"title\":{\"font\":{\"color\":\"#4D5663\"},\"text\":\"\"},\"zerolinecolor\":\"#E1E5ED\"},\"xaxis6\":{\"anchor\":\"y6\",\"domain\":[0.2625,0.475],\"gridcolor\":\"#E1E5ED\",\"showgrid\":false,\"tickfont\":{\"color\":\"#4D5663\"},\"title\":{\"font\":{\"color\":\"#4D5663\"},\"text\":\"\"},\"zerolinecolor\":\"#E1E5ED\"},\"xaxis7\":{\"anchor\":\"y7\",\"domain\":[0.525,0.7375],\"gridcolor\":\"#E1E5ED\",\"showgrid\":false,\"tickfont\":{\"color\":\"#4D5663\"},\"title\":{\"font\":{\"color\":\"#4D5663\"},\"text\":\"\"},\"zerolinecolor\":\"#E1E5ED\"},\"xaxis8\":{\"anchor\":\"y8\",\"domain\":[0.7875,1.0],\"gridcolor\":\"#E1E5ED\",\"showgrid\":false,\"tickfont\":{\"color\":\"#4D5663\"},\"title\":{\"font\":{\"color\":\"#4D5663\"},\"text\":\"\"},\"zerolinecolor\":\"#E1E5ED\"},\"xaxis9\":{\"anchor\":\"y9\",\"domain\":[0.0,0.2125],\"gridcolor\":\"#E1E5ED\",\"showgrid\":false,\"tickfont\":{\"color\":\"#4D5663\"},\"title\":{\"font\":{\"color\":\"#4D5663\"},\"text\":\"\"},\"zerolinecolor\":\"#E1E5ED\"},\"yaxis\":{\"anchor\":\"x\",\"domain\":[0.8025,1.0],\"gridcolor\":\"#E1E5ED\",\"showgrid\":false,\"tickfont\":{\"color\":\"#4D5663\"},\"title\":{\"font\":{\"color\":\"#4D5663\"},\"text\":\"\"},\"zerolinecolor\":\"#E1E5ED\"},\"yaxis10\":{\"anchor\":\"x10\",\"domain\":[0.2675,0.465],\"gridcolor\":\"#E1E5ED\",\"showgrid\":false,\"tickfont\":{\"color\":\"#4D5663\"},\"title\":{\"font\":{\"color\":\"#4D5663\"},\"text\":\"\"},\"zerolinecolor\":\"#E1E5ED\"},\"yaxis11\":{\"anchor\":\"x11\",\"domain\":[0.2675,0.465],\"gridcolor\":\"#E1E5ED\",\"showgrid\":false,\"tickfont\":{\"color\":\"#4D5663\"},\"title\":{\"font\":{\"color\":\"#4D5663\"},\"text\":\"\"},\"zerolinecolor\":\"#E1E5ED\"},\"yaxis12\":{\"anchor\":\"x12\",\"domain\":[0.2675,0.465],\"gridcolor\":\"#E1E5ED\",\"showgrid\":false,\"tickfont\":{\"color\":\"#4D5663\"},\"title\":{\"font\":{\"color\":\"#4D5663\"},\"text\":\"\"},\"zerolinecolor\":\"#E1E5ED\"},\"yaxis13\":{\"anchor\":\"x13\",\"domain\":[0.0,0.1975],\"gridcolor\":\"#E1E5ED\",\"showgrid\":false,\"tickfont\":{\"color\":\"#4D5663\"},\"title\":{\"font\":{\"color\":\"#4D5663\"},\"text\":\"\"},\"zerolinecolor\":\"#E1E5ED\"},\"yaxis14\":{\"anchor\":\"x14\",\"domain\":[0.0,0.1975],\"gridcolor\":\"#E1E5ED\",\"showgrid\":false,\"tickfont\":{\"color\":\"#4D5663\"},\"title\":{\"font\":{\"color\":\"#4D5663\"},\"text\":\"\"},\"zerolinecolor\":\"#E1E5ED\"},\"yaxis15\":{\"anchor\":\"x15\",\"domain\":[0.0,0.1975],\"gridcolor\":\"#E1E5ED\",\"showgrid\":false,\"tickfont\":{\"color\":\"#4D5663\"},\"title\":{\"font\":{\"color\":\"#4D5663\"},\"text\":\"\"},\"zerolinecolor\":\"#E1E5ED\"},\"yaxis16\":{\"anchor\":\"x16\",\"domain\":[0.0,0.1975],\"gridcolor\":\"#E1E5ED\",\"showgrid\":false,\"tickfont\":{\"color\":\"#4D5663\"},\"title\":{\"font\":{\"color\":\"#4D5663\"},\"text\":\"\"},\"zerolinecolor\":\"#E1E5ED\"},\"yaxis2\":{\"anchor\":\"x2\",\"domain\":[0.8025,1.0],\"gridcolor\":\"#E1E5ED\",\"showgrid\":false,\"tickfont\":{\"color\":\"#4D5663\"},\"title\":{\"font\":{\"color\":\"#4D5663\"},\"text\":\"\"},\"zerolinecolor\":\"#E1E5ED\"},\"yaxis3\":{\"anchor\":\"x3\",\"domain\":[0.8025,1.0],\"gridcolor\":\"#E1E5ED\",\"showgrid\":false,\"tickfont\":{\"color\":\"#4D5663\"},\"title\":{\"font\":{\"color\":\"#4D5663\"},\"text\":\"\"},\"zerolinecolor\":\"#E1E5ED\"},\"yaxis4\":{\"anchor\":\"x4\",\"domain\":[0.8025,1.0],\"gridcolor\":\"#E1E5ED\",\"showgrid\":false,\"tickfont\":{\"color\":\"#4D5663\"},\"title\":{\"font\":{\"color\":\"#4D5663\"},\"text\":\"\"},\"zerolinecolor\":\"#E1E5ED\"},\"yaxis5\":{\"anchor\":\"x5\",\"domain\":[0.535,0.7325],\"gridcolor\":\"#E1E5ED\",\"showgrid\":false,\"tickfont\":{\"color\":\"#4D5663\"},\"title\":{\"font\":{\"color\":\"#4D5663\"},\"text\":\"\"},\"zerolinecolor\":\"#E1E5ED\"},\"yaxis6\":{\"anchor\":\"x6\",\"domain\":[0.535,0.7325],\"gridcolor\":\"#E1E5ED\",\"showgrid\":false,\"tickfont\":{\"color\":\"#4D5663\"},\"title\":{\"font\":{\"color\":\"#4D5663\"},\"text\":\"\"},\"zerolinecolor\":\"#E1E5ED\"},\"yaxis7\":{\"anchor\":\"x7\",\"domain\":[0.535,0.7325],\"gridcolor\":\"#E1E5ED\",\"showgrid\":false,\"tickfont\":{\"color\":\"#4D5663\"},\"title\":{\"font\":{\"color\":\"#4D5663\"},\"text\":\"\"},\"zerolinecolor\":\"#E1E5ED\"},\"yaxis8\":{\"anchor\":\"x8\",\"domain\":[0.535,0.7325],\"gridcolor\":\"#E1E5ED\",\"showgrid\":false,\"tickfont\":{\"color\":\"#4D5663\"},\"title\":{\"font\":{\"color\":\"#4D5663\"},\"text\":\"\"},\"zerolinecolor\":\"#E1E5ED\"},\"yaxis9\":{\"anchor\":\"x9\",\"domain\":[0.2675,0.465],\"gridcolor\":\"#E1E5ED\",\"showgrid\":false,\"tickfont\":{\"color\":\"#4D5663\"},\"title\":{\"font\":{\"color\":\"#4D5663\"},\"text\":\"\"},\"zerolinecolor\":\"#E1E5ED\"}},                        {\"showLink\": true, \"linkText\": \"Export to plot.ly\", \"plotlyServerURL\": \"https://plot.ly\", \"responsive\": true}                    ).then(function(){\n",
       "                            \n",
       "var gd = document.getElementById('2cc12ba5-3d8c-4cbf-877d-22abf2042489');\n",
       "var x = new MutationObserver(function (mutations, observer) {{\n",
       "        var display = window.getComputedStyle(gd).display;\n",
       "        if (!display || display === 'none') {{\n",
       "            console.log([gd, 'removed!']);\n",
       "            Plotly.purge(gd);\n",
       "            observer.disconnect();\n",
       "        }}\n",
       "}});\n",
       "\n",
       "// Listen for the removal of the full notebook cells\n",
       "var notebookContainer = gd.closest('#notebook-container');\n",
       "if (notebookContainer) {{\n",
       "    x.observe(notebookContainer, {childList: true});\n",
       "}}\n",
       "\n",
       "// Listen for the clearing of the current output cell\n",
       "var outputEl = gd.closest('.output');\n",
       "if (outputEl) {{\n",
       "    x.observe(outputEl, {childList: true});\n",
       "}}\n",
       "\n",
       "                        })                };                });            </script>        </div>"
      ]
     },
     "metadata": {},
     "output_type": "display_data"
    }
   ],
   "source": [
    "df.scatter_matrix()"
   ]
  },
  {
   "cell_type": "code",
   "execution_count": 22,
   "metadata": {},
   "outputs": [
    {
     "data": {
      "application/vnd.plotly.v1+json": {
       "config": {
        "linkText": "Export to plot.ly",
        "plotlyServerURL": "https://plot.ly",
        "showLink": true
       },
       "data": [
        {
         "marker": {
          "color": [
           "rgb(255, 153, 51)",
           "rgb(55, 128, 191)",
           "rgb(50, 171, 96)",
           "rgb(128, 0, 128)",
           "rgb(219, 64, 82)",
           "rgb(0, 128, 128)",
           "rgb(255, 255, 51)",
           "rgb(128, 128, 0)",
           "rgb(251, 128, 114)",
           "rgb(128, 177, 211)"
          ],
          "line": {
           "width": 1.3
          },
          "size": [
           55,
           88,
           41,
           58,
           46,
           45,
           48,
           77,
           48,
           60,
           48,
           13,
           36,
           57,
           39,
           85,
           69,
           76,
           56,
           29,
           17,
           68,
           21,
           93,
           61,
           42,
           29,
           22,
           46,
           50,
           31,
           79,
           56,
           78,
           71,
           58,
           23,
           42,
           65,
           62,
           46,
           63,
           17,
           69,
           53,
           86,
           62,
           19,
           31,
           34,
           65,
           47,
           57,
           57,
           50,
           32,
           52,
           47,
           28,
           44,
           32,
           85,
           45,
           31,
           78,
           58,
           59,
           55,
           65,
           90,
           54,
           13,
           26,
           68,
           24,
           47,
           42,
           54,
           75,
           65,
           81,
           14,
           28,
           82,
           74,
           40,
           45,
           44,
           34,
           65,
           77,
           105,
           49,
           20,
           12,
           112,
           16,
           111,
           65,
           43
          ],
          "symbol": "circle"
         },
         "mode": "markers",
         "text": "",
         "type": "scatter",
         "x": [
          -0.22992109036952604,
          0.05562905069623866,
          -0.6221448672758634,
          -1.2775273439321349,
          -0.6440569697000345,
          1.131706545613154,
          2.3269849129706297,
          -0.17691044485779936,
          -0.08839002936004192,
          0.019653683217731536,
          1.8022443151661145,
          -1.3701181105322455,
          1.3167363415927504,
          -0.8731175518357862,
          0.6630158042323278,
          -0.5939026786404201,
          -1.189565840100905,
          -0.12975458965208841,
          -0.504508358884414,
          0.457016756109502,
          -0.6814308754203008,
          0.7204908243254265,
          0.6821736359713191,
          0.37192801687488486,
          -0.555504810543227,
          0.7262270094658652,
          0.17322865228746825,
          0.6097466551673341,
          -1.5494078829354552,
          -0.5095497197037705,
          -0.9195335291133173,
          0.4175084396723642,
          -0.7741125605769356,
          1.4737973554835775,
          -0.8529729591274079,
          0.25811921887652617,
          0.33089826035966013,
          -0.6982967950296567,
          -0.12516702259257517,
          -1.0106053221572773,
          -0.649725111151501,
          0.02449680903689408,
          0.22859646494045405,
          0.9464170933770124,
          1.873143201110364,
          -0.6091693153755786,
          1.3265487423266915,
          0.3067897333091477,
          -0.5571057571497043,
          1.674449244515288,
          1.3178469595911038,
          -0.49255012966931755,
          -0.44810794334182213,
          -0.7725197627056002,
          1.2166371346851095,
          -1.1024257378148192,
          0.29468522897501254,
          -0.17146120964959644,
          0.3496038242258144,
          0.14809157834582365,
          -0.748077774440983,
          1.45827707078643,
          -0.09928752621004644,
          -0.4839929055643646,
          -0.15565823464625786,
          0.19530235551575784,
          -0.7980140531350256,
          0.13444759987307495,
          0.22118164958443864,
          1.4616957821951844,
          0.6671010315722775,
          0.5225410610499522,
          -0.276788602158649,
          -0.939623962839142,
          -0.6272075142834701,
          0.29046293292020675,
          0.6794206785823442,
          0.23193247197425712,
          1.2643201967925377,
          -0.9496289866829065,
          -1.1309935398469506,
          1.1691453813133879,
          0.30536283584432006,
          -1.86605627682016,
          -0.4581914049254,
          -1.01968113150098,
          -0.3670721304517326,
          0.1647520098516355,
          -1.4880426183796083,
          0.11789527226978264,
          -1.080570988178372,
          -0.5219449142618494,
          -0.8278083220296933,
          2.391449982303617,
          1.3194384354471438,
          -0.47775150946978956,
          0.3657773029540253,
          -0.023257568968075685,
          -0.637773142427531,
          1.3337092109565196
         ],
         "y": [
          -1.8817698934664846,
          -0.41601507412818295,
          -0.41865515893087574,
          -0.9225350677652552,
          -1.1028031295219891,
          1.1367930199072076,
          1.47559016075696,
          -1.3933192692422862,
          1.643496617781722,
          -2.1977034296545708,
          0.5190358910198498,
          0.5085572547468106,
          0.39924364041183,
          0.4817334229582357,
          1.306887694381889,
          -0.1263873899794544,
          0.12168107592464891,
          0.1767629878223784,
          0.810138746647247,
          -0.5032826285239151,
          1.4228471870753228,
          0.6190272466894131,
          0.345655455076898,
          -0.5745618409104268,
          -0.2574833303309138,
          0.1323920235148288,
          -1.2116801640258033,
          -0.2174540535047162,
          0.35417960185050856,
          -1.075353732212383,
          -0.35950354800210216,
          0.5855780406441056,
          -0.3655935096070619,
          0.26017388595128876,
          1.355530661108527,
          -1.801275506406735,
          -0.9550148234221776,
          1.4187003484549692,
          1.9686975778208906,
          1.1280839220780199,
          0.42220221584518536,
          0.5546010421905413,
          -1.7883367376461996,
          0.044889639270693456,
          1.4756223969392088,
          -0.7219989710723888,
          0.8089588798503246,
          -1.0914627919449182,
          -0.7510755408974256,
          0.8727541308260071,
          -0.30013340596004245,
          -1.869958148168794,
          1.0198755039911107,
          -0.4110694988765867,
          -2.011238984285647,
          -2.712625632213704,
          1.1074631667461983,
          1.3647754659067781,
          0.263076767947983,
          -1.605605758817802,
          0.7486967420437597,
          0.1037340614037904,
          -0.19293491970395546,
          -0.4337513563876914,
          1.0363253191594493,
          1.7791614447603339,
          1.310972744426554,
          0.3009702460925462,
          0.022165851786293156,
          1.1796261885706272,
          1.044097523733219,
          -0.2114030074294949,
          -0.5411097321310678,
          0.1586119176717941,
          -0.8888204126700929,
          1.2660356417103062,
          -1.6395258521894895,
          2.5423114290998083,
          -1.0477633230147863,
          0.3009133939405517,
          0.9868792992622124,
          -1.4842364828593417,
          -0.38501240587723146,
          -1.3254638008288566,
          -0.768897654146365,
          -0.7226556866098427,
          0.6750529039066931,
          1.3061345090077965,
          0.8292823878549053,
          0.3541272981432661,
          -0.21079582581662296,
          -0.7674531621928081,
          -0.9043951097084993,
          0.41158294740326745,
          1.3252892866561277,
          0.2769469888816118,
          0.895972498268627,
          -0.020377624471322832,
          1.6225471051597193,
          -1.5448178817481184
         ]
        }
       ],
       "layout": {
        "legend": {
         "bgcolor": "#F5F6F9",
         "font": {
          "color": "#4D5663"
         }
        },
        "paper_bgcolor": "#F5F6F9",
        "plot_bgcolor": "#F5F6F9",
        "template": {
         "data": {
          "bar": [
           {
            "error_x": {
             "color": "#2a3f5f"
            },
            "error_y": {
             "color": "#2a3f5f"
            },
            "marker": {
             "line": {
              "color": "#E5ECF6",
              "width": 0.5
             },
             "pattern": {
              "fillmode": "overlay",
              "size": 10,
              "solidity": 0.2
             }
            },
            "type": "bar"
           }
          ],
          "barpolar": [
           {
            "marker": {
             "line": {
              "color": "#E5ECF6",
              "width": 0.5
             },
             "pattern": {
              "fillmode": "overlay",
              "size": 10,
              "solidity": 0.2
             }
            },
            "type": "barpolar"
           }
          ],
          "carpet": [
           {
            "aaxis": {
             "endlinecolor": "#2a3f5f",
             "gridcolor": "white",
             "linecolor": "white",
             "minorgridcolor": "white",
             "startlinecolor": "#2a3f5f"
            },
            "baxis": {
             "endlinecolor": "#2a3f5f",
             "gridcolor": "white",
             "linecolor": "white",
             "minorgridcolor": "white",
             "startlinecolor": "#2a3f5f"
            },
            "type": "carpet"
           }
          ],
          "choropleth": [
           {
            "colorbar": {
             "outlinewidth": 0,
             "ticks": ""
            },
            "type": "choropleth"
           }
          ],
          "contour": [
           {
            "colorbar": {
             "outlinewidth": 0,
             "ticks": ""
            },
            "colorscale": [
             [
              0,
              "#0d0887"
             ],
             [
              0.1111111111111111,
              "#46039f"
             ],
             [
              0.2222222222222222,
              "#7201a8"
             ],
             [
              0.3333333333333333,
              "#9c179e"
             ],
             [
              0.4444444444444444,
              "#bd3786"
             ],
             [
              0.5555555555555556,
              "#d8576b"
             ],
             [
              0.6666666666666666,
              "#ed7953"
             ],
             [
              0.7777777777777778,
              "#fb9f3a"
             ],
             [
              0.8888888888888888,
              "#fdca26"
             ],
             [
              1,
              "#f0f921"
             ]
            ],
            "type": "contour"
           }
          ],
          "contourcarpet": [
           {
            "colorbar": {
             "outlinewidth": 0,
             "ticks": ""
            },
            "type": "contourcarpet"
           }
          ],
          "heatmap": [
           {
            "colorbar": {
             "outlinewidth": 0,
             "ticks": ""
            },
            "colorscale": [
             [
              0,
              "#0d0887"
             ],
             [
              0.1111111111111111,
              "#46039f"
             ],
             [
              0.2222222222222222,
              "#7201a8"
             ],
             [
              0.3333333333333333,
              "#9c179e"
             ],
             [
              0.4444444444444444,
              "#bd3786"
             ],
             [
              0.5555555555555556,
              "#d8576b"
             ],
             [
              0.6666666666666666,
              "#ed7953"
             ],
             [
              0.7777777777777778,
              "#fb9f3a"
             ],
             [
              0.8888888888888888,
              "#fdca26"
             ],
             [
              1,
              "#f0f921"
             ]
            ],
            "type": "heatmap"
           }
          ],
          "heatmapgl": [
           {
            "colorbar": {
             "outlinewidth": 0,
             "ticks": ""
            },
            "colorscale": [
             [
              0,
              "#0d0887"
             ],
             [
              0.1111111111111111,
              "#46039f"
             ],
             [
              0.2222222222222222,
              "#7201a8"
             ],
             [
              0.3333333333333333,
              "#9c179e"
             ],
             [
              0.4444444444444444,
              "#bd3786"
             ],
             [
              0.5555555555555556,
              "#d8576b"
             ],
             [
              0.6666666666666666,
              "#ed7953"
             ],
             [
              0.7777777777777778,
              "#fb9f3a"
             ],
             [
              0.8888888888888888,
              "#fdca26"
             ],
             [
              1,
              "#f0f921"
             ]
            ],
            "type": "heatmapgl"
           }
          ],
          "histogram": [
           {
            "marker": {
             "pattern": {
              "fillmode": "overlay",
              "size": 10,
              "solidity": 0.2
             }
            },
            "type": "histogram"
           }
          ],
          "histogram2d": [
           {
            "colorbar": {
             "outlinewidth": 0,
             "ticks": ""
            },
            "colorscale": [
             [
              0,
              "#0d0887"
             ],
             [
              0.1111111111111111,
              "#46039f"
             ],
             [
              0.2222222222222222,
              "#7201a8"
             ],
             [
              0.3333333333333333,
              "#9c179e"
             ],
             [
              0.4444444444444444,
              "#bd3786"
             ],
             [
              0.5555555555555556,
              "#d8576b"
             ],
             [
              0.6666666666666666,
              "#ed7953"
             ],
             [
              0.7777777777777778,
              "#fb9f3a"
             ],
             [
              0.8888888888888888,
              "#fdca26"
             ],
             [
              1,
              "#f0f921"
             ]
            ],
            "type": "histogram2d"
           }
          ],
          "histogram2dcontour": [
           {
            "colorbar": {
             "outlinewidth": 0,
             "ticks": ""
            },
            "colorscale": [
             [
              0,
              "#0d0887"
             ],
             [
              0.1111111111111111,
              "#46039f"
             ],
             [
              0.2222222222222222,
              "#7201a8"
             ],
             [
              0.3333333333333333,
              "#9c179e"
             ],
             [
              0.4444444444444444,
              "#bd3786"
             ],
             [
              0.5555555555555556,
              "#d8576b"
             ],
             [
              0.6666666666666666,
              "#ed7953"
             ],
             [
              0.7777777777777778,
              "#fb9f3a"
             ],
             [
              0.8888888888888888,
              "#fdca26"
             ],
             [
              1,
              "#f0f921"
             ]
            ],
            "type": "histogram2dcontour"
           }
          ],
          "mesh3d": [
           {
            "colorbar": {
             "outlinewidth": 0,
             "ticks": ""
            },
            "type": "mesh3d"
           }
          ],
          "parcoords": [
           {
            "line": {
             "colorbar": {
              "outlinewidth": 0,
              "ticks": ""
             }
            },
            "type": "parcoords"
           }
          ],
          "pie": [
           {
            "automargin": true,
            "type": "pie"
           }
          ],
          "scatter": [
           {
            "marker": {
             "colorbar": {
              "outlinewidth": 0,
              "ticks": ""
             }
            },
            "type": "scatter"
           }
          ],
          "scatter3d": [
           {
            "line": {
             "colorbar": {
              "outlinewidth": 0,
              "ticks": ""
             }
            },
            "marker": {
             "colorbar": {
              "outlinewidth": 0,
              "ticks": ""
             }
            },
            "type": "scatter3d"
           }
          ],
          "scattercarpet": [
           {
            "marker": {
             "colorbar": {
              "outlinewidth": 0,
              "ticks": ""
             }
            },
            "type": "scattercarpet"
           }
          ],
          "scattergeo": [
           {
            "marker": {
             "colorbar": {
              "outlinewidth": 0,
              "ticks": ""
             }
            },
            "type": "scattergeo"
           }
          ],
          "scattergl": [
           {
            "marker": {
             "colorbar": {
              "outlinewidth": 0,
              "ticks": ""
             }
            },
            "type": "scattergl"
           }
          ],
          "scattermapbox": [
           {
            "marker": {
             "colorbar": {
              "outlinewidth": 0,
              "ticks": ""
             }
            },
            "type": "scattermapbox"
           }
          ],
          "scatterpolar": [
           {
            "marker": {
             "colorbar": {
              "outlinewidth": 0,
              "ticks": ""
             }
            },
            "type": "scatterpolar"
           }
          ],
          "scatterpolargl": [
           {
            "marker": {
             "colorbar": {
              "outlinewidth": 0,
              "ticks": ""
             }
            },
            "type": "scatterpolargl"
           }
          ],
          "scatterternary": [
           {
            "marker": {
             "colorbar": {
              "outlinewidth": 0,
              "ticks": ""
             }
            },
            "type": "scatterternary"
           }
          ],
          "surface": [
           {
            "colorbar": {
             "outlinewidth": 0,
             "ticks": ""
            },
            "colorscale": [
             [
              0,
              "#0d0887"
             ],
             [
              0.1111111111111111,
              "#46039f"
             ],
             [
              0.2222222222222222,
              "#7201a8"
             ],
             [
              0.3333333333333333,
              "#9c179e"
             ],
             [
              0.4444444444444444,
              "#bd3786"
             ],
             [
              0.5555555555555556,
              "#d8576b"
             ],
             [
              0.6666666666666666,
              "#ed7953"
             ],
             [
              0.7777777777777778,
              "#fb9f3a"
             ],
             [
              0.8888888888888888,
              "#fdca26"
             ],
             [
              1,
              "#f0f921"
             ]
            ],
            "type": "surface"
           }
          ],
          "table": [
           {
            "cells": {
             "fill": {
              "color": "#EBF0F8"
             },
             "line": {
              "color": "white"
             }
            },
            "header": {
             "fill": {
              "color": "#C8D4E3"
             },
             "line": {
              "color": "white"
             }
            },
            "type": "table"
           }
          ]
         },
         "layout": {
          "annotationdefaults": {
           "arrowcolor": "#2a3f5f",
           "arrowhead": 0,
           "arrowwidth": 1
          },
          "autotypenumbers": "strict",
          "coloraxis": {
           "colorbar": {
            "outlinewidth": 0,
            "ticks": ""
           }
          },
          "colorscale": {
           "diverging": [
            [
             0,
             "#8e0152"
            ],
            [
             0.1,
             "#c51b7d"
            ],
            [
             0.2,
             "#de77ae"
            ],
            [
             0.3,
             "#f1b6da"
            ],
            [
             0.4,
             "#fde0ef"
            ],
            [
             0.5,
             "#f7f7f7"
            ],
            [
             0.6,
             "#e6f5d0"
            ],
            [
             0.7,
             "#b8e186"
            ],
            [
             0.8,
             "#7fbc41"
            ],
            [
             0.9,
             "#4d9221"
            ],
            [
             1,
             "#276419"
            ]
           ],
           "sequential": [
            [
             0,
             "#0d0887"
            ],
            [
             0.1111111111111111,
             "#46039f"
            ],
            [
             0.2222222222222222,
             "#7201a8"
            ],
            [
             0.3333333333333333,
             "#9c179e"
            ],
            [
             0.4444444444444444,
             "#bd3786"
            ],
            [
             0.5555555555555556,
             "#d8576b"
            ],
            [
             0.6666666666666666,
             "#ed7953"
            ],
            [
             0.7777777777777778,
             "#fb9f3a"
            ],
            [
             0.8888888888888888,
             "#fdca26"
            ],
            [
             1,
             "#f0f921"
            ]
           ],
           "sequentialminus": [
            [
             0,
             "#0d0887"
            ],
            [
             0.1111111111111111,
             "#46039f"
            ],
            [
             0.2222222222222222,
             "#7201a8"
            ],
            [
             0.3333333333333333,
             "#9c179e"
            ],
            [
             0.4444444444444444,
             "#bd3786"
            ],
            [
             0.5555555555555556,
             "#d8576b"
            ],
            [
             0.6666666666666666,
             "#ed7953"
            ],
            [
             0.7777777777777778,
             "#fb9f3a"
            ],
            [
             0.8888888888888888,
             "#fdca26"
            ],
            [
             1,
             "#f0f921"
            ]
           ]
          },
          "colorway": [
           "#636efa",
           "#EF553B",
           "#00cc96",
           "#ab63fa",
           "#FFA15A",
           "#19d3f3",
           "#FF6692",
           "#B6E880",
           "#FF97FF",
           "#FECB52"
          ],
          "font": {
           "color": "#2a3f5f"
          },
          "geo": {
           "bgcolor": "white",
           "lakecolor": "white",
           "landcolor": "#E5ECF6",
           "showlakes": true,
           "showland": true,
           "subunitcolor": "white"
          },
          "hoverlabel": {
           "align": "left"
          },
          "hovermode": "closest",
          "mapbox": {
           "style": "light"
          },
          "paper_bgcolor": "white",
          "plot_bgcolor": "#E5ECF6",
          "polar": {
           "angularaxis": {
            "gridcolor": "white",
            "linecolor": "white",
            "ticks": ""
           },
           "bgcolor": "#E5ECF6",
           "radialaxis": {
            "gridcolor": "white",
            "linecolor": "white",
            "ticks": ""
           }
          },
          "scene": {
           "xaxis": {
            "backgroundcolor": "#E5ECF6",
            "gridcolor": "white",
            "gridwidth": 2,
            "linecolor": "white",
            "showbackground": true,
            "ticks": "",
            "zerolinecolor": "white"
           },
           "yaxis": {
            "backgroundcolor": "#E5ECF6",
            "gridcolor": "white",
            "gridwidth": 2,
            "linecolor": "white",
            "showbackground": true,
            "ticks": "",
            "zerolinecolor": "white"
           },
           "zaxis": {
            "backgroundcolor": "#E5ECF6",
            "gridcolor": "white",
            "gridwidth": 2,
            "linecolor": "white",
            "showbackground": true,
            "ticks": "",
            "zerolinecolor": "white"
           }
          },
          "shapedefaults": {
           "line": {
            "color": "#2a3f5f"
           }
          },
          "ternary": {
           "aaxis": {
            "gridcolor": "white",
            "linecolor": "white",
            "ticks": ""
           },
           "baxis": {
            "gridcolor": "white",
            "linecolor": "white",
            "ticks": ""
           },
           "bgcolor": "#E5ECF6",
           "caxis": {
            "gridcolor": "white",
            "linecolor": "white",
            "ticks": ""
           }
          },
          "title": {
           "x": 0.05
          },
          "xaxis": {
           "automargin": true,
           "gridcolor": "white",
           "linecolor": "white",
           "ticks": "",
           "title": {
            "standoff": 15
           },
           "zerolinecolor": "white",
           "zerolinewidth": 2
          },
          "yaxis": {
           "automargin": true,
           "gridcolor": "white",
           "linecolor": "white",
           "ticks": "",
           "title": {
            "standoff": 15
           },
           "zerolinecolor": "white",
           "zerolinewidth": 2
          }
         }
        },
        "title": {
         "font": {
          "color": "#4D5663"
         }
        },
        "xaxis": {
         "gridcolor": "#E1E5ED",
         "showgrid": true,
         "tickfont": {
          "color": "#4D5663"
         },
         "title": {
          "font": {
           "color": "#4D5663"
          },
          "text": ""
         },
         "zerolinecolor": "#E1E5ED"
        },
        "yaxis": {
         "gridcolor": "#E1E5ED",
         "showgrid": true,
         "tickfont": {
          "color": "#4D5663"
         },
         "title": {
          "font": {
           "color": "#4D5663"
          },
          "text": ""
         },
         "zerolinecolor": "#E1E5ED"
        }
       }
      },
      "text/html": [
       "<div>                            <div id=\"d540c1b5-0cee-4f9a-8846-fd21ce2d3b67\" class=\"plotly-graph-div\" style=\"height:525px; width:100%;\"></div>            <script type=\"text/javascript\">                require([\"plotly\"], function(Plotly) {                    window.PLOTLYENV=window.PLOTLYENV || {};\n",
       "                    window.PLOTLYENV.BASE_URL='https://plot.ly';                                    if (document.getElementById(\"d540c1b5-0cee-4f9a-8846-fd21ce2d3b67\")) {                    Plotly.newPlot(                        \"d540c1b5-0cee-4f9a-8846-fd21ce2d3b67\",                        [{\"marker\":{\"color\":[\"rgb(255, 153, 51)\",\"rgb(55, 128, 191)\",\"rgb(50, 171, 96)\",\"rgb(128, 0, 128)\",\"rgb(219, 64, 82)\",\"rgb(0, 128, 128)\",\"rgb(255, 255, 51)\",\"rgb(128, 128, 0)\",\"rgb(251, 128, 114)\",\"rgb(128, 177, 211)\"],\"line\":{\"width\":1.3},\"size\":[55,88,41,58,46,45,48,77,48,60,48,13,36,57,39,85,69,76,56,29,17,68,21,93,61,42,29,22,46,50,31,79,56,78,71,58,23,42,65,62,46,63,17,69,53,86,62,19,31,34,65,47,57,57,50,32,52,47,28,44,32,85,45,31,78,58,59,55,65,90,54,13,26,68,24,47,42,54,75,65,81,14,28,82,74,40,45,44,34,65,77,105,49,20,12,112,16,111,65,43],\"symbol\":\"circle\"},\"mode\":\"markers\",\"text\":\"\",\"type\":\"scatter\",\"x\":[-0.22992109036952604,0.05562905069623866,-0.6221448672758634,-1.2775273439321349,-0.6440569697000345,1.131706545613154,2.3269849129706297,-0.17691044485779936,-0.08839002936004192,0.019653683217731536,1.8022443151661145,-1.3701181105322455,1.3167363415927504,-0.8731175518357862,0.6630158042323278,-0.5939026786404201,-1.189565840100905,-0.12975458965208841,-0.504508358884414,0.457016756109502,-0.6814308754203008,0.7204908243254265,0.6821736359713191,0.37192801687488486,-0.555504810543227,0.7262270094658652,0.17322865228746825,0.6097466551673341,-1.5494078829354552,-0.5095497197037705,-0.9195335291133173,0.4175084396723642,-0.7741125605769356,1.4737973554835775,-0.8529729591274079,0.25811921887652617,0.33089826035966013,-0.6982967950296567,-0.12516702259257517,-1.0106053221572773,-0.649725111151501,0.02449680903689408,0.22859646494045405,0.9464170933770124,1.873143201110364,-0.6091693153755786,1.3265487423266915,0.3067897333091477,-0.5571057571497043,1.674449244515288,1.3178469595911038,-0.49255012966931755,-0.44810794334182213,-0.7725197627056002,1.2166371346851095,-1.1024257378148192,0.29468522897501254,-0.17146120964959644,0.3496038242258144,0.14809157834582365,-0.748077774440983,1.45827707078643,-0.09928752621004644,-0.4839929055643646,-0.15565823464625786,0.19530235551575784,-0.7980140531350256,0.13444759987307495,0.22118164958443864,1.4616957821951844,0.6671010315722775,0.5225410610499522,-0.276788602158649,-0.939623962839142,-0.6272075142834701,0.29046293292020675,0.6794206785823442,0.23193247197425712,1.2643201967925377,-0.9496289866829065,-1.1309935398469506,1.1691453813133879,0.30536283584432006,-1.86605627682016,-0.4581914049254,-1.01968113150098,-0.3670721304517326,0.1647520098516355,-1.4880426183796083,0.11789527226978264,-1.080570988178372,-0.5219449142618494,-0.8278083220296933,2.391449982303617,1.3194384354471438,-0.47775150946978956,0.3657773029540253,-0.023257568968075685,-0.637773142427531,1.3337092109565196],\"y\":[-1.8817698934664846,-0.41601507412818295,-0.41865515893087574,-0.9225350677652552,-1.1028031295219891,1.1367930199072076,1.47559016075696,-1.3933192692422862,1.643496617781722,-2.1977034296545708,0.5190358910198498,0.5085572547468106,0.39924364041183,0.4817334229582357,1.306887694381889,-0.1263873899794544,0.12168107592464891,0.1767629878223784,0.810138746647247,-0.5032826285239151,1.4228471870753228,0.6190272466894131,0.345655455076898,-0.5745618409104268,-0.2574833303309138,0.1323920235148288,-1.2116801640258033,-0.2174540535047162,0.35417960185050856,-1.075353732212383,-0.35950354800210216,0.5855780406441056,-0.3655935096070619,0.26017388595128876,1.355530661108527,-1.801275506406735,-0.9550148234221776,1.4187003484549692,1.9686975778208906,1.1280839220780199,0.42220221584518536,0.5546010421905413,-1.7883367376461996,0.044889639270693456,1.4756223969392088,-0.7219989710723888,0.8089588798503246,-1.0914627919449182,-0.7510755408974256,0.8727541308260071,-0.30013340596004245,-1.869958148168794,1.0198755039911107,-0.4110694988765867,-2.011238984285647,-2.712625632213704,1.1074631667461983,1.3647754659067781,0.263076767947983,-1.605605758817802,0.7486967420437597,0.1037340614037904,-0.19293491970395546,-0.4337513563876914,1.0363253191594493,1.7791614447603339,1.310972744426554,0.3009702460925462,0.022165851786293156,1.1796261885706272,1.044097523733219,-0.2114030074294949,-0.5411097321310678,0.1586119176717941,-0.8888204126700929,1.2660356417103062,-1.6395258521894895,2.5423114290998083,-1.0477633230147863,0.3009133939405517,0.9868792992622124,-1.4842364828593417,-0.38501240587723146,-1.3254638008288566,-0.768897654146365,-0.7226556866098427,0.6750529039066931,1.3061345090077965,0.8292823878549053,0.3541272981432661,-0.21079582581662296,-0.7674531621928081,-0.9043951097084993,0.41158294740326745,1.3252892866561277,0.2769469888816118,0.895972498268627,-0.020377624471322832,1.6225471051597193,-1.5448178817481184]}],                        {\"legend\":{\"bgcolor\":\"#F5F6F9\",\"font\":{\"color\":\"#4D5663\"}},\"paper_bgcolor\":\"#F5F6F9\",\"plot_bgcolor\":\"#F5F6F9\",\"template\":{\"data\":{\"bar\":[{\"error_x\":{\"color\":\"#2a3f5f\"},\"error_y\":{\"color\":\"#2a3f5f\"},\"marker\":{\"line\":{\"color\":\"#E5ECF6\",\"width\":0.5},\"pattern\":{\"fillmode\":\"overlay\",\"size\":10,\"solidity\":0.2}},\"type\":\"bar\"}],\"barpolar\":[{\"marker\":{\"line\":{\"color\":\"#E5ECF6\",\"width\":0.5},\"pattern\":{\"fillmode\":\"overlay\",\"size\":10,\"solidity\":0.2}},\"type\":\"barpolar\"}],\"carpet\":[{\"aaxis\":{\"endlinecolor\":\"#2a3f5f\",\"gridcolor\":\"white\",\"linecolor\":\"white\",\"minorgridcolor\":\"white\",\"startlinecolor\":\"#2a3f5f\"},\"baxis\":{\"endlinecolor\":\"#2a3f5f\",\"gridcolor\":\"white\",\"linecolor\":\"white\",\"minorgridcolor\":\"white\",\"startlinecolor\":\"#2a3f5f\"},\"type\":\"carpet\"}],\"choropleth\":[{\"colorbar\":{\"outlinewidth\":0,\"ticks\":\"\"},\"type\":\"choropleth\"}],\"contour\":[{\"colorbar\":{\"outlinewidth\":0,\"ticks\":\"\"},\"colorscale\":[[0.0,\"#0d0887\"],[0.1111111111111111,\"#46039f\"],[0.2222222222222222,\"#7201a8\"],[0.3333333333333333,\"#9c179e\"],[0.4444444444444444,\"#bd3786\"],[0.5555555555555556,\"#d8576b\"],[0.6666666666666666,\"#ed7953\"],[0.7777777777777778,\"#fb9f3a\"],[0.8888888888888888,\"#fdca26\"],[1.0,\"#f0f921\"]],\"type\":\"contour\"}],\"contourcarpet\":[{\"colorbar\":{\"outlinewidth\":0,\"ticks\":\"\"},\"type\":\"contourcarpet\"}],\"heatmap\":[{\"colorbar\":{\"outlinewidth\":0,\"ticks\":\"\"},\"colorscale\":[[0.0,\"#0d0887\"],[0.1111111111111111,\"#46039f\"],[0.2222222222222222,\"#7201a8\"],[0.3333333333333333,\"#9c179e\"],[0.4444444444444444,\"#bd3786\"],[0.5555555555555556,\"#d8576b\"],[0.6666666666666666,\"#ed7953\"],[0.7777777777777778,\"#fb9f3a\"],[0.8888888888888888,\"#fdca26\"],[1.0,\"#f0f921\"]],\"type\":\"heatmap\"}],\"heatmapgl\":[{\"colorbar\":{\"outlinewidth\":0,\"ticks\":\"\"},\"colorscale\":[[0.0,\"#0d0887\"],[0.1111111111111111,\"#46039f\"],[0.2222222222222222,\"#7201a8\"],[0.3333333333333333,\"#9c179e\"],[0.4444444444444444,\"#bd3786\"],[0.5555555555555556,\"#d8576b\"],[0.6666666666666666,\"#ed7953\"],[0.7777777777777778,\"#fb9f3a\"],[0.8888888888888888,\"#fdca26\"],[1.0,\"#f0f921\"]],\"type\":\"heatmapgl\"}],\"histogram\":[{\"marker\":{\"pattern\":{\"fillmode\":\"overlay\",\"size\":10,\"solidity\":0.2}},\"type\":\"histogram\"}],\"histogram2d\":[{\"colorbar\":{\"outlinewidth\":0,\"ticks\":\"\"},\"colorscale\":[[0.0,\"#0d0887\"],[0.1111111111111111,\"#46039f\"],[0.2222222222222222,\"#7201a8\"],[0.3333333333333333,\"#9c179e\"],[0.4444444444444444,\"#bd3786\"],[0.5555555555555556,\"#d8576b\"],[0.6666666666666666,\"#ed7953\"],[0.7777777777777778,\"#fb9f3a\"],[0.8888888888888888,\"#fdca26\"],[1.0,\"#f0f921\"]],\"type\":\"histogram2d\"}],\"histogram2dcontour\":[{\"colorbar\":{\"outlinewidth\":0,\"ticks\":\"\"},\"colorscale\":[[0.0,\"#0d0887\"],[0.1111111111111111,\"#46039f\"],[0.2222222222222222,\"#7201a8\"],[0.3333333333333333,\"#9c179e\"],[0.4444444444444444,\"#bd3786\"],[0.5555555555555556,\"#d8576b\"],[0.6666666666666666,\"#ed7953\"],[0.7777777777777778,\"#fb9f3a\"],[0.8888888888888888,\"#fdca26\"],[1.0,\"#f0f921\"]],\"type\":\"histogram2dcontour\"}],\"mesh3d\":[{\"colorbar\":{\"outlinewidth\":0,\"ticks\":\"\"},\"type\":\"mesh3d\"}],\"parcoords\":[{\"line\":{\"colorbar\":{\"outlinewidth\":0,\"ticks\":\"\"}},\"type\":\"parcoords\"}],\"pie\":[{\"automargin\":true,\"type\":\"pie\"}],\"scatter\":[{\"marker\":{\"colorbar\":{\"outlinewidth\":0,\"ticks\":\"\"}},\"type\":\"scatter\"}],\"scatter3d\":[{\"line\":{\"colorbar\":{\"outlinewidth\":0,\"ticks\":\"\"}},\"marker\":{\"colorbar\":{\"outlinewidth\":0,\"ticks\":\"\"}},\"type\":\"scatter3d\"}],\"scattercarpet\":[{\"marker\":{\"colorbar\":{\"outlinewidth\":0,\"ticks\":\"\"}},\"type\":\"scattercarpet\"}],\"scattergeo\":[{\"marker\":{\"colorbar\":{\"outlinewidth\":0,\"ticks\":\"\"}},\"type\":\"scattergeo\"}],\"scattergl\":[{\"marker\":{\"colorbar\":{\"outlinewidth\":0,\"ticks\":\"\"}},\"type\":\"scattergl\"}],\"scattermapbox\":[{\"marker\":{\"colorbar\":{\"outlinewidth\":0,\"ticks\":\"\"}},\"type\":\"scattermapbox\"}],\"scatterpolar\":[{\"marker\":{\"colorbar\":{\"outlinewidth\":0,\"ticks\":\"\"}},\"type\":\"scatterpolar\"}],\"scatterpolargl\":[{\"marker\":{\"colorbar\":{\"outlinewidth\":0,\"ticks\":\"\"}},\"type\":\"scatterpolargl\"}],\"scatterternary\":[{\"marker\":{\"colorbar\":{\"outlinewidth\":0,\"ticks\":\"\"}},\"type\":\"scatterternary\"}],\"surface\":[{\"colorbar\":{\"outlinewidth\":0,\"ticks\":\"\"},\"colorscale\":[[0.0,\"#0d0887\"],[0.1111111111111111,\"#46039f\"],[0.2222222222222222,\"#7201a8\"],[0.3333333333333333,\"#9c179e\"],[0.4444444444444444,\"#bd3786\"],[0.5555555555555556,\"#d8576b\"],[0.6666666666666666,\"#ed7953\"],[0.7777777777777778,\"#fb9f3a\"],[0.8888888888888888,\"#fdca26\"],[1.0,\"#f0f921\"]],\"type\":\"surface\"}],\"table\":[{\"cells\":{\"fill\":{\"color\":\"#EBF0F8\"},\"line\":{\"color\":\"white\"}},\"header\":{\"fill\":{\"color\":\"#C8D4E3\"},\"line\":{\"color\":\"white\"}},\"type\":\"table\"}]},\"layout\":{\"annotationdefaults\":{\"arrowcolor\":\"#2a3f5f\",\"arrowhead\":0,\"arrowwidth\":1},\"autotypenumbers\":\"strict\",\"coloraxis\":{\"colorbar\":{\"outlinewidth\":0,\"ticks\":\"\"}},\"colorscale\":{\"diverging\":[[0,\"#8e0152\"],[0.1,\"#c51b7d\"],[0.2,\"#de77ae\"],[0.3,\"#f1b6da\"],[0.4,\"#fde0ef\"],[0.5,\"#f7f7f7\"],[0.6,\"#e6f5d0\"],[0.7,\"#b8e186\"],[0.8,\"#7fbc41\"],[0.9,\"#4d9221\"],[1,\"#276419\"]],\"sequential\":[[0.0,\"#0d0887\"],[0.1111111111111111,\"#46039f\"],[0.2222222222222222,\"#7201a8\"],[0.3333333333333333,\"#9c179e\"],[0.4444444444444444,\"#bd3786\"],[0.5555555555555556,\"#d8576b\"],[0.6666666666666666,\"#ed7953\"],[0.7777777777777778,\"#fb9f3a\"],[0.8888888888888888,\"#fdca26\"],[1.0,\"#f0f921\"]],\"sequentialminus\":[[0.0,\"#0d0887\"],[0.1111111111111111,\"#46039f\"],[0.2222222222222222,\"#7201a8\"],[0.3333333333333333,\"#9c179e\"],[0.4444444444444444,\"#bd3786\"],[0.5555555555555556,\"#d8576b\"],[0.6666666666666666,\"#ed7953\"],[0.7777777777777778,\"#fb9f3a\"],[0.8888888888888888,\"#fdca26\"],[1.0,\"#f0f921\"]]},\"colorway\":[\"#636efa\",\"#EF553B\",\"#00cc96\",\"#ab63fa\",\"#FFA15A\",\"#19d3f3\",\"#FF6692\",\"#B6E880\",\"#FF97FF\",\"#FECB52\"],\"font\":{\"color\":\"#2a3f5f\"},\"geo\":{\"bgcolor\":\"white\",\"lakecolor\":\"white\",\"landcolor\":\"#E5ECF6\",\"showlakes\":true,\"showland\":true,\"subunitcolor\":\"white\"},\"hoverlabel\":{\"align\":\"left\"},\"hovermode\":\"closest\",\"mapbox\":{\"style\":\"light\"},\"paper_bgcolor\":\"white\",\"plot_bgcolor\":\"#E5ECF6\",\"polar\":{\"angularaxis\":{\"gridcolor\":\"white\",\"linecolor\":\"white\",\"ticks\":\"\"},\"bgcolor\":\"#E5ECF6\",\"radialaxis\":{\"gridcolor\":\"white\",\"linecolor\":\"white\",\"ticks\":\"\"}},\"scene\":{\"xaxis\":{\"backgroundcolor\":\"#E5ECF6\",\"gridcolor\":\"white\",\"gridwidth\":2,\"linecolor\":\"white\",\"showbackground\":true,\"ticks\":\"\",\"zerolinecolor\":\"white\"},\"yaxis\":{\"backgroundcolor\":\"#E5ECF6\",\"gridcolor\":\"white\",\"gridwidth\":2,\"linecolor\":\"white\",\"showbackground\":true,\"ticks\":\"\",\"zerolinecolor\":\"white\"},\"zaxis\":{\"backgroundcolor\":\"#E5ECF6\",\"gridcolor\":\"white\",\"gridwidth\":2,\"linecolor\":\"white\",\"showbackground\":true,\"ticks\":\"\",\"zerolinecolor\":\"white\"}},\"shapedefaults\":{\"line\":{\"color\":\"#2a3f5f\"}},\"ternary\":{\"aaxis\":{\"gridcolor\":\"white\",\"linecolor\":\"white\",\"ticks\":\"\"},\"baxis\":{\"gridcolor\":\"white\",\"linecolor\":\"white\",\"ticks\":\"\"},\"bgcolor\":\"#E5ECF6\",\"caxis\":{\"gridcolor\":\"white\",\"linecolor\":\"white\",\"ticks\":\"\"}},\"title\":{\"x\":0.05},\"xaxis\":{\"automargin\":true,\"gridcolor\":\"white\",\"linecolor\":\"white\",\"ticks\":\"\",\"title\":{\"standoff\":15},\"zerolinecolor\":\"white\",\"zerolinewidth\":2},\"yaxis\":{\"automargin\":true,\"gridcolor\":\"white\",\"linecolor\":\"white\",\"ticks\":\"\",\"title\":{\"standoff\":15},\"zerolinecolor\":\"white\",\"zerolinewidth\":2}}},\"title\":{\"font\":{\"color\":\"#4D5663\"}},\"xaxis\":{\"gridcolor\":\"#E1E5ED\",\"showgrid\":true,\"tickfont\":{\"color\":\"#4D5663\"},\"title\":{\"font\":{\"color\":\"#4D5663\"},\"text\":\"\"},\"zerolinecolor\":\"#E1E5ED\"},\"yaxis\":{\"gridcolor\":\"#E1E5ED\",\"showgrid\":true,\"tickfont\":{\"color\":\"#4D5663\"},\"title\":{\"font\":{\"color\":\"#4D5663\"},\"text\":\"\"},\"zerolinecolor\":\"#E1E5ED\"}},                        {\"showLink\": true, \"linkText\": \"Export to plot.ly\", \"plotlyServerURL\": \"https://plot.ly\", \"responsive\": true}                    ).then(function(){\n",
       "                            \n",
       "var gd = document.getElementById('d540c1b5-0cee-4f9a-8846-fd21ce2d3b67');\n",
       "var x = new MutationObserver(function (mutations, observer) {{\n",
       "        var display = window.getComputedStyle(gd).display;\n",
       "        if (!display || display === 'none') {{\n",
       "            console.log([gd, 'removed!']);\n",
       "            Plotly.purge(gd);\n",
       "            observer.disconnect();\n",
       "        }}\n",
       "}});\n",
       "\n",
       "// Listen for the removal of the full notebook cells\n",
       "var notebookContainer = gd.closest('#notebook-container');\n",
       "if (notebookContainer) {{\n",
       "    x.observe(notebookContainer, {childList: true});\n",
       "}}\n",
       "\n",
       "// Listen for the clearing of the current output cell\n",
       "var outputEl = gd.closest('.output');\n",
       "if (outputEl) {{\n",
       "    x.observe(outputEl, {childList: true});\n",
       "}}\n",
       "\n",
       "                        })                };                });            </script>        </div>"
      ]
     },
     "metadata": {},
     "output_type": "display_data"
    }
   ],
   "source": [
    "df.iplot(kind='bubble',x='A',y='B',size='C')"
   ]
  },
  {
   "cell_type": "code",
   "execution_count": null,
   "metadata": {},
   "outputs": [],
   "source": []
  }
 ],
 "metadata": {
  "kernelspec": {
   "display_name": "Python 3",
   "language": "python",
   "name": "python3"
  },
  "language_info": {
   "codemirror_mode": {
    "name": "ipython",
    "version": 3
   },
   "file_extension": ".py",
   "mimetype": "text/x-python",
   "name": "python",
   "nbconvert_exporter": "python",
   "pygments_lexer": "ipython3",
   "version": "3.7.4"
  }
 },
 "nbformat": 4,
 "nbformat_minor": 2
}
