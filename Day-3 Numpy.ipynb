{
 "cells": [
  {
   "cell_type": "code",
   "execution_count": 3,
   "id": "87508004-8ba6-4a20-ac7f-9677dc58a827",
   "metadata": {},
   "outputs": [],
   "source": [
    "import numpy as np"
   ]
  },
  {
   "cell_type": "code",
   "execution_count": null,
   "id": "5586d54e-53ce-400c-94c3-5050d025beb9",
   "metadata": {},
   "outputs": [],
   "source": []
  },
  {
   "cell_type": "code",
   "execution_count": 6,
   "id": "027fc03a-9619-4fb8-a057-86f35189622f",
   "metadata": {},
   "outputs": [
    {
     "data": {
      "text/plain": [
       "array([1, 2, 3, 4, 5])"
      ]
     },
     "execution_count": 6,
     "metadata": {},
     "output_type": "execute_result"
    }
   ],
   "source": [
    "arr_1d = np.array([1,2,3,4,5])\n",
    "arr_1d"
   ]
  },
  {
   "cell_type": "code",
   "execution_count": 8,
   "id": "d65b0349-38c6-4d75-9d8d-ed89f2c4a43c",
   "metadata": {},
   "outputs": [
    {
     "data": {
      "text/plain": [
       "array([[1, 2, 3],\n",
       "       [4, 5, 6],\n",
       "       [7, 8, 9]])"
      ]
     },
     "execution_count": 8,
     "metadata": {},
     "output_type": "execute_result"
    }
   ],
   "source": [
    "arr_2d = np.array([[1,2,3],[4,5,6],[7,8,9]])\n",
    "arr_2d"
   ]
  },
  {
   "cell_type": "code",
   "execution_count": 10,
   "id": "e1966988-e253-44ea-874c-5b55a8c315aa",
   "metadata": {},
   "outputs": [
    {
     "data": {
      "text/plain": [
       "array([[0., 0., 0.],\n",
       "       [0., 0., 0.],\n",
       "       [0., 0., 0.]])"
      ]
     },
     "execution_count": 10,
     "metadata": {},
     "output_type": "execute_result"
    }
   ],
   "source": [
    "zeros_arr = np.zeros((3,3))\n",
    "zeros_arr"
   ]
  },
  {
   "cell_type": "code",
   "execution_count": 16,
   "id": "1cd74af2-9f22-44a2-99ca-585b7c7c86e7",
   "metadata": {},
   "outputs": [
    {
     "data": {
      "text/plain": [
       "array([[1., 1., 1.],\n",
       "       [1., 1., 1.]])"
      ]
     },
     "execution_count": 16,
     "metadata": {},
     "output_type": "execute_result"
    }
   ],
   "source": [
    "ones_arr = np.ones((2,3))\n",
    "ones_arr"
   ]
  },
  {
   "cell_type": "code",
   "execution_count": 17,
   "id": "5796a0a2-901d-4d4a-9f57-93c5caec9920",
   "metadata": {},
   "outputs": [
    {
     "data": {
      "text/plain": [
       "array([[1., 0., 0.],\n",
       "       [0., 1., 0.],\n",
       "       [0., 0., 1.]])"
      ]
     },
     "execution_count": 17,
     "metadata": {},
     "output_type": "execute_result"
    }
   ],
   "source": [
    "identity_mat = np.eye(3)\n",
    "identity_mat"
   ]
  },
  {
   "cell_type": "code",
   "execution_count": null,
   "id": "ab791246-4f93-411d-9eff-5491c0a69819",
   "metadata": {},
   "outputs": [],
   "source": []
  },
  {
   "cell_type": "markdown",
   "id": "86d6e8ef-18ca-409d-be5e-819acba0c161",
   "metadata": {},
   "source": [
    "## Arithmetic Operations in Numpy"
   ]
  },
  {
   "cell_type": "code",
   "execution_count": 21,
   "id": "6ba65b9d-69d3-4397-903f-55d54d93daf2",
   "metadata": {},
   "outputs": [],
   "source": [
    "array_a = np.array([1,2,3])\n",
    "array_b = np.array([4,5,6])"
   ]
  },
  {
   "cell_type": "code",
   "execution_count": 23,
   "id": "58cb2668-6f4a-45a1-bff2-8cd90f153b6e",
   "metadata": {},
   "outputs": [
    {
     "data": {
      "text/plain": [
       "array([5, 7, 9])"
      ]
     },
     "execution_count": 23,
     "metadata": {},
     "output_type": "execute_result"
    }
   ],
   "source": [
    "res_add = array_a + array_b\n",
    "res_mul = array_a * array_b\n",
    "res_add"
   ]
  },
  {
   "cell_type": "code",
   "execution_count": 24,
   "id": "77bc4dc5-5ab8-4610-8782-9181b99e8a60",
   "metadata": {},
   "outputs": [
    {
     "data": {
      "text/plain": [
       "array([ 4, 10, 18])"
      ]
     },
     "execution_count": 24,
     "metadata": {},
     "output_type": "execute_result"
    }
   ],
   "source": [
    "res_mul"
   ]
  },
  {
   "cell_type": "code",
   "execution_count": null,
   "id": "605532b1-d0dc-41d3-8284-91fe50b212da",
   "metadata": {},
   "outputs": [],
   "source": []
  },
  {
   "cell_type": "markdown",
   "id": "50df5b8d-d913-4af7-88c0-8ea6e534cea6",
   "metadata": {},
   "source": [
    "# MATRIX OPERATIONS"
   ]
  },
  {
   "cell_type": "code",
   "execution_count": 25,
   "id": "d98e80cd-3367-477f-90a1-8edc1e95e654",
   "metadata": {},
   "outputs": [],
   "source": [
    "mat_a = np.array([[1,2],[3,4]])\n",
    "mat_b = np.array([[5,6],[7,8]])"
   ]
  },
  {
   "cell_type": "code",
   "execution_count": 26,
   "id": "427cd4c3-0597-4e5a-8389-b72148bd7141",
   "metadata": {},
   "outputs": [
    {
     "data": {
      "text/plain": [
       "array([[19, 22],\n",
       "       [43, 50]])"
      ]
     },
     "execution_count": 26,
     "metadata": {},
     "output_type": "execute_result"
    }
   ],
   "source": [
    "result_mat = np.dot(mat_a, mat_b)\n",
    "result_mat"
   ]
  },
  {
   "cell_type": "code",
   "execution_count": 29,
   "id": "56e6b7e1-8935-4087-8526-c10605122678",
   "metadata": {},
   "outputs": [
    {
     "data": {
      "text/plain": [
       "array([[20, 22],\n",
       "       [43, 50]])"
      ]
     },
     "execution_count": 29,
     "metadata": {},
     "output_type": "execute_result"
    }
   ],
   "source": [
    "result_mat[0][0] = 20\n",
    "result_mat"
   ]
  },
  {
   "cell_type": "code",
   "execution_count": null,
   "id": "b6c40f9c-770d-49f5-ab3c-eba62a3dd734",
   "metadata": {},
   "outputs": [],
   "source": []
  },
  {
   "cell_type": "markdown",
   "id": "922ea1e7-59b0-49fd-931f-7c2313a9003b",
   "metadata": {},
   "source": [
    "# INDEXING & SLICING"
   ]
  },
  {
   "cell_type": "code",
   "execution_count": 30,
   "id": "0dfaa4d5-f5c5-4232-be4e-298e637b40dd",
   "metadata": {},
   "outputs": [],
   "source": [
    "arr = np.array([1, 2, 3, 4, 5])"
   ]
  },
  {
   "cell_type": "code",
   "execution_count": 31,
   "id": "6a0d51a9-8f7e-41dc-95f3-ff7ac1facc4e",
   "metadata": {},
   "outputs": [
    {
     "name": "stdout",
     "output_type": "stream",
     "text": [
      "3\n"
     ]
    }
   ],
   "source": [
    "print(arr[2])"
   ]
  },
  {
   "cell_type": "code",
   "execution_count": 34,
   "id": "1ca947f1-b2ce-4120-b24c-bc0a4abe17e1",
   "metadata": {},
   "outputs": [
    {
     "name": "stdout",
     "output_type": "stream",
     "text": [
      "5\n"
     ]
    }
   ],
   "source": [
    "print(arr[-1]) "
   ]
  },
  {
   "cell_type": "code",
   "execution_count": 35,
   "id": "fb1b18b0-f5ba-4344-b337-76a58a311035",
   "metadata": {},
   "outputs": [
    {
     "name": "stdout",
     "output_type": "stream",
     "text": [
      "[2 3 4 5]\n"
     ]
    }
   ],
   "source": [
    "print(arr[1:]) "
   ]
  },
  {
   "cell_type": "code",
   "execution_count": 36,
   "id": "186d6d9b-d0bd-4532-82f1-6e6fc3d4efd9",
   "metadata": {},
   "outputs": [
    {
     "name": "stdout",
     "output_type": "stream",
     "text": [
      "[1 2 3]\n"
     ]
    }
   ],
   "source": [
    "print(arr[:-2]) "
   ]
  },
  {
   "cell_type": "code",
   "execution_count": null,
   "id": "a7cd37cf-bfcd-4b5d-9756-7e622830e80b",
   "metadata": {},
   "outputs": [],
   "source": []
  },
  {
   "cell_type": "markdown",
   "id": "87753c0b-f2e6-469b-927f-d39235bfbc85",
   "metadata": {},
   "source": [
    "# STATISTICAL OPERATIONS"
   ]
  },
  {
   "cell_type": "code",
   "execution_count": 41,
   "id": "8e6c6b1e-73bd-483c-b171-7e270b6fa274",
   "metadata": {},
   "outputs": [
    {
     "data": {
      "text/plain": [
       "3.0"
      ]
     },
     "execution_count": 41,
     "metadata": {},
     "output_type": "execute_result"
    }
   ],
   "source": [
    "arr = np.array([1, 2, 3, 4, 5])\n",
    "mean_val = np.mean(arr)\n",
    "mean_val"
   ]
  },
  {
   "cell_type": "code",
   "execution_count": 43,
   "id": "748620d7-a556-42ad-a221-5b29f973120c",
   "metadata": {},
   "outputs": [
    {
     "data": {
      "text/plain": [
       "3.0"
      ]
     },
     "execution_count": 43,
     "metadata": {},
     "output_type": "execute_result"
    }
   ],
   "source": [
    "median_val = np.median(arr)\n",
    "median_val"
   ]
  },
  {
   "cell_type": "code",
   "execution_count": 44,
   "id": "33c71b13-dca6-4db1-b860-c132ef8023db",
   "metadata": {},
   "outputs": [
    {
     "data": {
      "text/plain": [
       "1.4142135623730951"
      ]
     },
     "execution_count": 44,
     "metadata": {},
     "output_type": "execute_result"
    }
   ],
   "source": [
    "std_dev = np.std(arr)\n",
    "std_dev"
   ]
  },
  {
   "cell_type": "code",
   "execution_count": null,
   "id": "eba37ce7-4211-4e38-8501-71dce2737af7",
   "metadata": {},
   "outputs": [],
   "source": []
  },
  {
   "cell_type": "markdown",
   "id": "463e0e6d-a82e-4bc9-9e28-c4f874da9fd0",
   "metadata": {},
   "source": [
    "## ARRAY RESHAPE"
   ]
  },
  {
   "cell_type": "code",
   "execution_count": 46,
   "id": "09cf25a2-4adf-4693-b1f8-7b3a34b3a3b7",
   "metadata": {},
   "outputs": [
    {
     "data": {
      "text/plain": [
       "(2, 3)"
      ]
     },
     "execution_count": 46,
     "metadata": {},
     "output_type": "execute_result"
    }
   ],
   "source": [
    "arr = np.array([[1, 2, 3], [4, 5, 6]])\n",
    "arr.shape"
   ]
  },
  {
   "cell_type": "markdown",
   "id": "1358e7db-23b4-4bd4-b673-6a64a95a032c",
   "metadata": {},
   "source": [
    "\n",
    "reshaoed_arr = arr.reshape(3,2)\n",
    "reshaoed_arr"
   ]
  },
  {
   "cell_type": "code",
   "execution_count": 17,
   "id": "af2a05d9-dc46-47bb-bda7-476b1d98a1af",
   "metadata": {},
   "outputs": [],
   "source": []
  },
  {
   "cell_type": "code",
   "execution_count": 47,
   "id": "45f9122f-ff37-4d21-b2bf-a6b451dc4451",
   "metadata": {},
   "outputs": [
    {
     "data": {
      "text/plain": [
       "array([ 1,  2,  3,  4,  5,  6,  7,  8,  9, 10, 11, 12, 13, 14, 15, 16, 17,\n",
       "       18, 19, 20, 21, 22, 23, 24, 25])"
      ]
     },
     "execution_count": 47,
     "metadata": {},
     "output_type": "execute_result"
    }
   ],
   "source": [
    "arr = np.arange(1,26)\n",
    "arr\n"
   ]
  },
  {
   "cell_type": "code",
   "execution_count": 27,
   "id": "a41c631c-e309-4f4a-b540-f1dee2eadfd5",
   "metadata": {},
   "outputs": [],
   "source": []
  },
  {
   "cell_type": "code",
   "execution_count": 49,
   "id": "6997a06a-e053-4b74-bdd0-4fc961a5c4e0",
   "metadata": {},
   "outputs": [
    {
     "data": {
      "text/plain": [
       "array([[ 1,  2,  3,  4,  5],\n",
       "       [ 6,  7,  8,  9, 10],\n",
       "       [11, 12, 13, 14, 15],\n",
       "       [16, 17, 18, 19, 20],\n",
       "       [21, 22, 23, 24, 25]])"
      ]
     },
     "execution_count": 49,
     "metadata": {},
     "output_type": "execute_result"
    }
   ],
   "source": [
    "arr = np.arange(1,26).reshape(5,5)\n",
    "arr"
   ]
  },
  {
   "cell_type": "code",
   "execution_count": 50,
   "id": "fa3fb23d-46e2-4b0f-864a-1c2600095950",
   "metadata": {},
   "outputs": [
    {
     "data": {
      "text/plain": [
       "325"
      ]
     },
     "execution_count": 50,
     "metadata": {},
     "output_type": "execute_result"
    }
   ],
   "source": [
    "arr.sum()"
   ]
  },
  {
   "cell_type": "code",
   "execution_count": 51,
   "id": "fa770c72-4dda-4632-b865-64e81f4eebb6",
   "metadata": {},
   "outputs": [
    {
     "data": {
      "text/plain": [
       "13.0"
      ]
     },
     "execution_count": 51,
     "metadata": {},
     "output_type": "execute_result"
    }
   ],
   "source": [
    "arr.mean()"
   ]
  },
  {
   "cell_type": "code",
   "execution_count": null,
   "id": "1d51ba7d-fa89-44f1-a751-7a803f358d91",
   "metadata": {},
   "outputs": [],
   "source": []
  },
  {
   "cell_type": "code",
   "execution_count": 52,
   "id": "38e31737-47a3-4a82-9c3c-183aa6a0cde6",
   "metadata": {},
   "outputs": [
    {
     "name": "stdout",
     "output_type": "stream",
     "text": [
      "PYTHON LIST EXECUTION TIME  0.44998860359191895\n",
      "PYTHON NUMPY  EXECUTION TIME  0.01202082633972168\n"
     ]
    }
   ],
   "source": [
    "import time\n",
    "\n",
    "# py list\n",
    "start_time = time.time()\n",
    "python_list = list(range(10**6))\n",
    "python_list = [x**2 for x in python_list]\n",
    "end_time = time.time()\n",
    "print(\"PYTHON LIST EXECUTION TIME \", end_time-start_time)\n",
    "\n",
    "# numoy list\n",
    "start_time = time.time()\n",
    "numpy_array = np.arange(10**6)\n",
    "numpy_array = numpy_array **2\n",
    "end_time = time.time()\n",
    "print(\"PYTHON NUMPY  EXECUTION TIME \", end_time-start_time)"
   ]
  },
  {
   "cell_type": "code",
   "execution_count": null,
   "id": "3fdb4b1c-d8d9-4fff-945d-276b28e3b1cb",
   "metadata": {},
   "outputs": [],
   "source": []
  },
  {
   "cell_type": "markdown",
   "id": "ccd62ff7-b33b-4bc4-b6ae-e3de3ca6bed6",
   "metadata": {},
   "source": [
    "# DEEP VS SHALLOW COPY"
   ]
  },
  {
   "cell_type": "code",
   "execution_count": null,
   "id": "cdfae2cf-6ae3-4e62-9a5f-d08e9f233df5",
   "metadata": {},
   "outputs": [],
   "source": []
  },
  {
   "cell_type": "code",
   "execution_count": 56,
   "id": "f4ba98db-de23-465d-b8c9-64d576a2785c",
   "metadata": {},
   "outputs": [
    {
     "data": {
      "text/plain": [
       "array([10,  2,  3])"
      ]
     },
     "execution_count": 56,
     "metadata": {},
     "output_type": "execute_result"
    }
   ],
   "source": [
    "original_array = np.array([1, 2, 3])\n",
    "shallow_copy = original_array\n",
    "shallow_copy[0] = 10\n",
    "shallow_copy"
   ]
  },
  {
   "cell_type": "code",
   "execution_count": 57,
   "id": "da088075-74dc-472c-ba80-a47ffde38eef",
   "metadata": {},
   "outputs": [
    {
     "data": {
      "text/plain": [
       "array([10,  2,  3])"
      ]
     },
     "execution_count": 57,
     "metadata": {},
     "output_type": "execute_result"
    }
   ],
   "source": [
    "original_array"
   ]
  },
  {
   "cell_type": "code",
   "execution_count": null,
   "id": "f2a46cb3-c6fb-45a7-b576-7df3e5afb215",
   "metadata": {},
   "outputs": [],
   "source": []
  },
  {
   "cell_type": "code",
   "execution_count": 61,
   "id": "677027c2-addc-4d2d-9780-8e810b7de9c3",
   "metadata": {},
   "outputs": [
    {
     "data": {
      "text/plain": [
       "array([100,   2,   3])"
      ]
     },
     "execution_count": 61,
     "metadata": {},
     "output_type": "execute_result"
    }
   ],
   "source": [
    "original_array = np.array([1, 2, 3])\n",
    "deep_copy = np.copy(original_array)\n",
    "deep_copy[0] = 100\n",
    "deep_copy"
   ]
  },
  {
   "cell_type": "code",
   "execution_count": 62,
   "id": "12a4df35-44bd-49d6-bfa7-380215b9bea6",
   "metadata": {},
   "outputs": [
    {
     "data": {
      "text/plain": [
       "array([1, 2, 3])"
      ]
     },
     "execution_count": 62,
     "metadata": {},
     "output_type": "execute_result"
    }
   ],
   "source": [
    "original_array"
   ]
  },
  {
   "cell_type": "code",
   "execution_count": 63,
   "id": "cf66c868-a054-4658-a457-6b394b7b6230",
   "metadata": {},
   "outputs": [
    {
     "data": {
      "text/plain": [
       "array([-1.79151192])"
      ]
     },
     "execution_count": 63,
     "metadata": {},
     "output_type": "execute_result"
    }
   ],
   "source": [
    "np.random.randn(1)"
   ]
  },
  {
   "cell_type": "code",
   "execution_count": null,
   "id": "496a9842-3a53-47c1-8302-762c322b8549",
   "metadata": {},
   "outputs": [],
   "source": []
  }
 ],
 "metadata": {
  "kernelspec": {
   "display_name": "Python 3 (ipykernel)",
   "language": "python",
   "name": "python3"
  },
  "language_info": {
   "codemirror_mode": {
    "name": "ipython",
    "version": 3
   },
   "file_extension": ".py",
   "mimetype": "text/x-python",
   "name": "python",
   "nbconvert_exporter": "python",
   "pygments_lexer": "ipython3",
   "version": "3.12.1"
  }
 },
 "nbformat": 4,
 "nbformat_minor": 5
}
