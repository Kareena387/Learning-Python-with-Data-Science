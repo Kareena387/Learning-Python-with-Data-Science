{
 "cells": [
  {
   "cell_type": "code",
   "execution_count": 10,
   "id": "8bfa97b0-cd88-477c-91eb-7814c5cfb08e",
   "metadata": {},
   "outputs": [],
   "source": [
    "numbers=[1,2,3,4,5,6]"
   ]
  },
  {
   "cell_type": "markdown",
   "id": "290b0c3b-c80d-475a-8605-e66f01d2b284",
   "metadata": {},
   "source": [
    "# List Comprehension\n",
    "They can be handy for tasks like data filtering, transformation, and extraction."
   ]
  },
  {
   "cell_type": "code",
   "execution_count": 1,
   "id": "b1b5eb10-a3f4-46b0-9a9f-6bec4916312d",
   "metadata": {},
   "outputs": [],
   "source": [
    "numbers = [1, 2, 3, 4, 5, 6, 7, 8, 9, 10]\n",
    "\n",
    "# squaring all numbers\n",
    "num_sqrs = [x**2 for x in numbers]\n",
    "\n",
    "pos_numb = [ x for x in numbers if x%2 == 0]"
   ]
  },
  {
   "cell_type": "code",
   "execution_count": 14,
   "id": "4de21d7f-de09-4cd5-a336-434394c8e70c",
   "metadata": {},
   "outputs": [],
   "source": [
    "even_squares =  [ x**2 for x in numbers if x % 2 == 0 ]"
   ]
  },
  {
   "cell_type": "code",
   "execution_count": 2,
   "id": "f821c10b-5e92-49b4-90ef-4b9cec164fe6",
   "metadata": {
    "scrolled": true
   },
   "outputs": [
    {
     "data": {
      "text/plain": [
       "[1, 4, 9, 16, 25, 36, 49, 64, 81, 100]"
      ]
     },
     "execution_count": 2,
     "metadata": {},
     "output_type": "execute_result"
    }
   ],
   "source": [
    "num_sqrs"
   ]
  },
  {
   "cell_type": "code",
   "execution_count": 6,
   "id": "c5ff1154-acbc-4d84-a128-842f0a069e5e",
   "metadata": {},
   "outputs": [],
   "source": [
    "squared_numbers = []\n",
    "for num in numbers:\n",
    "    squared_numbers.append(num**2)  "
   ]
  },
  {
   "cell_type": "code",
   "execution_count": 7,
   "id": "094c9559-e4fe-4bdc-b840-941439ed2372",
   "metadata": {
    "scrolled": true
   },
   "outputs": [
    {
     "data": {
      "text/plain": [
       "[1, 4, 9, 16, 25, 36, 49, 64, 81, 100]"
      ]
     },
     "execution_count": 7,
     "metadata": {},
     "output_type": "execute_result"
    }
   ],
   "source": [
    "squared_numbers"
   ]
  },
  {
   "cell_type": "code",
   "execution_count": 8,
   "id": "bb73b22c-9fdc-46a4-8152-c74f89234065",
   "metadata": {},
   "outputs": [
    {
     "data": {
      "text/plain": [
       "[2, 4, 6, 8, 10]"
      ]
     },
     "execution_count": 8,
     "metadata": {},
     "output_type": "execute_result"
    }
   ],
   "source": [
    "pos_numb"
   ]
  },
  {
   "cell_type": "code",
   "execution_count": null,
   "id": "a88abe68-c425-43ac-9f4e-265a926603cb",
   "metadata": {},
   "outputs": [],
   "source": []
  },
  {
   "cell_type": "markdown",
   "id": "e45dfe4d-fa25-498e-a22f-a3f220fa6b22",
   "metadata": {},
   "source": [
    "# Generators and Iterations\n",
    "##### useful for working with sequences of data."
   ]
  },
  {
   "cell_type": "markdown",
   "id": "91f9151b-80f6-4421-8df5-d67c7f04b0fe",
   "metadata": {},
   "source": [
    "# Iterators\n",
    "they can generate values one at a time, as needed, instead of having to produce them all up front. \n",
    "\n",
    "Contains __ next__ & __ iter__"
   ]
  },
  {
   "cell_type": "code",
   "execution_count": 13,
   "id": "a45858c5-e1d9-4c40-9adb-b1ee34c7c288",
   "metadata": {},
   "outputs": [
    {
     "name": "stdout",
     "output_type": "stream",
     "text": [
      "apple\n"
     ]
    }
   ],
   "source": [
    "mytuple = (\"apple\", \"banana\", \"cherry\")\n",
    "myit = iter(mytuple)\n",
    "\n",
    "print(next(myit))"
   ]
  },
  {
   "cell_type": "code",
   "execution_count": 14,
   "id": "6fbb54f4-110f-41f3-a71f-3e616a78e108",
   "metadata": {},
   "outputs": [
    {
     "name": "stdout",
     "output_type": "stream",
     "text": [
      "banana\n"
     ]
    }
   ],
   "source": [
    "print(next(myit))"
   ]
  },
  {
   "cell_type": "code",
   "execution_count": 15,
   "id": "b0a24c9a-65f4-406c-81f8-35cd0b380812",
   "metadata": {},
   "outputs": [],
   "source": [
    "class InfiniteSequence:\n",
    "    def __init__(self):\n",
    "        self.current = 0\n",
    "\n",
    "    def __iter__(self):\n",
    "        return self\n",
    "\n",
    "    def __next__(self):\n",
    "        result = self.current\n",
    "        self.current += 2\n",
    "        return result"
   ]
  },
  {
   "cell_type": "code",
   "execution_count": 16,
   "id": "48a79a80-8d31-40fa-8b01-0a2c23a56388",
   "metadata": {},
   "outputs": [
    {
     "name": "stdout",
     "output_type": "stream",
     "text": [
      "0\n",
      "2\n",
      "4\n",
      "6\n",
      "8\n",
      "10\n"
     ]
    }
   ],
   "source": [
    "# Using a custom iterator for lazy evaluation\n",
    "infinite_sequence = InfiniteSequence()\n",
    "for num in infinite_sequence:\n",
    "    print(num)\n",
    "    if num == 10:\n",
    "        break"
   ]
  },
  {
   "cell_type": "code",
   "execution_count": 17,
   "id": "eca2c760-4496-4592-8304-418ca7daa517",
   "metadata": {},
   "outputs": [
    {
     "name": "stdout",
     "output_type": "stream",
     "text": [
      "Object `do` not found.\n"
     ]
    }
   ],
   "source": [
    "Data Science: You need to iterate in data set for 20, 20 groups then how to do?"
   ]
  },
  {
   "cell_type": "markdown",
   "id": "28b3a295-ed12-4d91-9bce-1ad9a6268725",
   "metadata": {},
   "source": [
    "# Generator\n",
    "Special Kind of Iterator\n",
    "Contains yield\n",
    "\n",
    "Use generators for lazy evaluation, producing sequences on-the-fly, or when simplicity and readability are important.\n",
    "\n",
    "Custom iterators require explicit management of state using instance variables.\n",
    "\n",
    "Implementing your own iterator is a drawn-out process, and it is only sometimes necessary. A simpler alternative is to use a generator object.\n"
   ]
  },
  {
   "cell_type": "code",
   "execution_count": 19,
   "id": "a7a07bdf-b2b2-47d2-9397-919020b0a7cb",
   "metadata": {},
   "outputs": [],
   "source": [
    "def square_generator(numbers):\n",
    "    for num in numbers:\n",
    "        yield num ** 2"
   ]
  },
  {
   "cell_type": "code",
   "execution_count": 20,
   "id": "8e5e7577-b256-4ff0-bcbd-abff880a4844",
   "metadata": {},
   "outputs": [
    {
     "data": {
      "text/plain": [
       "1"
      ]
     },
     "execution_count": 20,
     "metadata": {},
     "output_type": "execute_result"
    }
   ],
   "source": [
    "# Using the generator\n",
    "squares = square_generator([1, 2, 3, 4, 5])\n",
    "next(squares)"
   ]
  },
  {
   "cell_type": "code",
   "execution_count": 21,
   "id": "e0b12844-e78a-4a0f-8f79-66768f40df40",
   "metadata": {},
   "outputs": [
    {
     "name": "stdout",
     "output_type": "stream",
     "text": [
      "1\n",
      "4\n",
      "9\n",
      "16\n",
      "25\n"
     ]
    }
   ],
   "source": [
    "# Using the generator in a for loop\n",
    "squares = square_generator([1, 2, 3, 4, 5])\n",
    "for square in squares:\n",
    "    print(square)"
   ]
  },
  {
   "cell_type": "markdown",
   "id": "0c3cd9d9-cf85-4b3d-bf9a-92c659182a9d",
   "metadata": {},
   "source": [
    "# Decorators:\n",
    "A decorator is a function that takes another function as input, extends the behavior of the latter function, and returns a new function."
   ]
  },
  {
   "cell_type": "code",
   "execution_count": 22,
   "id": "4914267d-eddc-4de0-8a2f-ec106e18ab04",
   "metadata": {},
   "outputs": [
    {
     "name": "stdout",
     "output_type": "stream",
     "text": [
      "Function multiply called with args (3, 4). Result: 12\n"
     ]
    }
   ],
   "source": [
    "def log_function_call(func):\n",
    "    def wrapper(*args):\n",
    "        result = func(*args)\n",
    "        print(f\"Function {func.__name__} called with args {args}. Result: {result}\")\n",
    "        return result\n",
    "    return wrapper\n",
    "\n",
    "@log_function_call\n",
    "def multiply(a, b):\n",
    "    return a * b\n",
    "\n",
    "result = multiply(3, 4)"
   ]
  },
  {
   "cell_type": "code",
   "execution_count": 23,
   "id": "db2784fe-4af3-49fa-b3d9-ece60ef7d441",
   "metadata": {},
   "outputs": [
    {
     "name": "stdout",
     "output_type": "stream",
     "text": [
      "__\n",
      "Execution time for time_consuming_function: 0.0 seconds\n",
      "Function wrapper called with args (). Result: None\n"
     ]
    }
   ],
   "source": [
    "import time\n",
    "\n",
    "def timing_decorator(func):\n",
    "    def wrapper(*args, **kwargs):\n",
    "        start_time = time.time()\n",
    "        result = func(*args, **kwargs)\n",
    "        end_time = time.time()\n",
    "        print(f\"Execution time for {func.__name__}: {end_time - start_time} seconds\")\n",
    "        return result\n",
    "    return wrapper\n",
    "\n",
    "@log_function_call\n",
    "@timing_decorator\n",
    "def time_consuming_function():\n",
    "    print(\"__\")\n",
    "\n",
    "result = time_consuming_function()"
   ]
  },
  {
   "cell_type": "markdown",
   "id": "a8e21952-5bbf-4182-85bf-cebc4a114602",
   "metadata": {},
   "source": [
    "# args, kwargs\n",
    "\n",
    "args and **kwargs are used in Python to allow a function to accept a variable number of arguments."
   ]
  },
  {
   "cell_type": "code",
   "execution_count": 24,
   "id": "f292589c-890a-499c-84ad-918fdfd3045c",
   "metadata": {},
   "outputs": [
    {
     "name": "stdout",
     "output_type": "stream",
     "text": [
      "1\n",
      "2\n",
      "hello\n",
      "[3, 4]\n"
     ]
    }
   ],
   "source": [
    "def print_args(*args):\n",
    "    for arg in args:\n",
    "        print(arg)\n",
    "\n",
    "print_args(1, 2, 'hello', [3, 4])"
   ]
  },
  {
   "cell_type": "code",
   "execution_count": 25,
   "id": "9e51a92a-bb2b-4bdc-8b47-ea08f2533d1b",
   "metadata": {},
   "outputs": [
    {
     "name": "stdout",
     "output_type": "stream",
     "text": [
      "name: John\n",
      "age: 25\n",
      "city: New York\n"
     ]
    }
   ],
   "source": [
    "def print_kwargs(**kwargs):\n",
    "    for key, value in kwargs.items():\n",
    "        print(f\"{key}: {value}\")\n",
    "\n",
    "print_kwargs(name='John', age=25, city='New York')"
   ]
  },
  {
   "cell_type": "code",
   "execution_count": 26,
   "id": "3927ebde-1253-4daf-80c3-68f6cbecc68a",
   "metadata": {},
   "outputs": [
    {
     "name": "stdout",
     "output_type": "stream",
     "text": [
      "1\n",
      "2\n",
      "hello\n",
      "name: John\n",
      "age: 25\n"
     ]
    }
   ],
   "source": [
    "def print_args_and_kwargs(*args, **kwargs):\n",
    "    for arg in args:\n",
    "        print(arg)\n",
    "    for key, value in kwargs.items():\n",
    "        print(f\"{key}: {value}\")\n",
    "\n",
    "print_args_and_kwargs(1, 2, 'hello', name='John', age=25)"
   ]
  },
  {
   "cell_type": "markdown",
   "id": "016b14cf-5bc5-4de5-aab0-bed4f1cc04dc",
   "metadata": {},
   "source": [
    "#  Context Managers \n",
    "\n",
    " convenient way to manage resources, such as opening and closing files, acquiring and releasing locks, or connecting and disconnecting from a database. "
   ]
  },
  {
   "cell_type": "code",
   "execution_count": 31,
   "id": "165c1d47-7b53-4b4c-843d-bcca7a861dee",
   "metadata": {},
   "outputs": [
    {
     "name": "stdout",
     "output_type": "stream",
     "text": [
      " Day 2 of Learning DataScience. \n",
      "Hello !\n"
     ]
    }
   ],
   "source": [
    "with open('context.txt', 'r') as file:\n",
    "    content = file.read()\n",
    "    print(content)"
   ]
  },
  {
   "cell_type": "markdown",
   "id": "02bf953c-a6ca-4556-90f5-d1e1c867d207",
   "metadata": {},
   "source": [
    "# Lamda Function"
   ]
  },
  {
   "cell_type": "code",
   "execution_count": 32,
   "id": "9e4cf230-4d9b-4697-af41-f71b7cee6014",
   "metadata": {},
   "outputs": [],
   "source": [
    "# Regular function\n",
    "def add(x, y):\n",
    "    return x + y\n",
    "\n",
    "# Equivalent lambda function\n",
    "add_lambda = lambda x, y: x + y"
   ]
  },
  {
   "cell_type": "code",
   "execution_count": 34,
   "id": "b4ce000c-6516-407d-8d68-3ee6b31a07db",
   "metadata": {},
   "outputs": [
    {
     "data": {
      "text/plain": [
       "8"
      ]
     },
     "execution_count": 34,
     "metadata": {},
     "output_type": "execute_result"
    }
   ],
   "source": [
    "result = add_lambda(3, 5)\n",
    "result"
   ]
  },
  {
   "cell_type": "markdown",
   "id": "da43fca4-f3ab-4d51-a514-d0b60c423b23",
   "metadata": {},
   "source": [
    "# Regular Expression"
   ]
  },
  {
   "cell_type": "code",
   "execution_count": 35,
   "id": "3b2eed8e-1dc2-47d2-9386-d03c3f9650ce",
   "metadata": {},
   "outputs": [
    {
     "name": "stdout",
     "output_type": "stream",
     "text": [
      "Found: 2022-02-24\n"
     ]
    }
   ],
   "source": [
    "import re\n",
    "\n",
    "text = \"The cat and the hat are on the mat. The 2022-02-24 is wonderful.\"\n",
    "pattern = r'\\d{4}-\\d{2}-\\d{2}'\n",
    "# pattern = r'\\w+ful'\n",
    "# pattern = r'c[a-z]*'\n",
    "# pattern = r'c[a-z]*'\n",
    "\n",
    "match = re.search(pattern, text)\n",
    "if match:\n",
    "    print(f\"Found: {match.group()}\")"
   ]
  },
  {
   "cell_type": "code",
   "execution_count": 36,
   "id": "058e7992-d47d-405a-9809-62dfb39a13ad",
   "metadata": {},
   "outputs": [
    {
     "data": {
      "text/plain": [
       "<re.Match object; span=(3, 6), match='123'>"
      ]
     },
     "execution_count": 36,
     "metadata": {},
     "output_type": "execute_result"
    }
   ],
   "source": [
    "s = \"ffo123sdshd\"\n",
    "re.search('123', s)"
   ]
  },
  {
   "cell_type": "code",
   "execution_count": 37,
   "id": "830c9cda-9a14-4353-bdf7-62807930e713",
   "metadata": {},
   "outputs": [],
   "source": [
    "html_text = \"\"\"<h1>Welcome to my website!</h1>\n",
    "<p>This is a paragraph.</p>\n",
    "<a href=\"https://example.com\">Click here</a>\"\"\""
   ]
  },
  {
   "cell_type": "code",
   "execution_count": 38,
   "id": "011f9cad-08a8-443e-90a2-af918e32639d",
   "metadata": {},
   "outputs": [
    {
     "data": {
      "text/plain": [
       "['https://example.com']"
      ]
     },
     "execution_count": 38,
     "metadata": {},
     "output_type": "execute_result"
    }
   ],
   "source": [
    "links = re.findall(r\"<a href=\\\"(.*)\\\">\", html_text)\n",
    "links"
   ]
  },
  {
   "cell_type": "code",
   "execution_count": 39,
   "id": "0f20e14a-7910-4a31-847f-b5d4cb4929c3",
   "metadata": {},
   "outputs": [],
   "source": [
    "class CustomIterator:\n",
    "    \n",
    "    def __init__(self, number):\n",
    "        self.numbers = number\n",
    "    \n",
    "    def __iter__(self):\n",
    "        return self\n",
    "    \n",
    "    def __next__(self):\n",
    "        result = []\n",
    "        for num in self.numbers:\n",
    "            result.append(num**2)\n",
    "        return result"
   ]
  },
  {
   "cell_type": "code",
   "execution_count": 40,
   "id": "a27d2096-b6c8-49cd-b0de-cd6dba656585",
   "metadata": {},
   "outputs": [
    {
     "data": {
      "text/plain": [
       "[1, 4, 9, 16]"
      ]
     },
     "execution_count": 40,
     "metadata": {},
     "output_type": "execute_result"
    }
   ],
   "source": [
    "infinite_sequence = CustomIterator([1,2,3,4])\n",
    "next(infinite_sequence)"
   ]
  },
  {
   "cell_type": "code",
   "execution_count": 42,
   "id": "746fd98b-1964-4afc-9f43-53e17b0e8c65",
   "metadata": {},
   "outputs": [
    {
     "data": {
      "text/plain": [
       "[1, 4, 9, 16]"
      ]
     },
     "execution_count": 42,
     "metadata": {},
     "output_type": "execute_result"
    }
   ],
   "source": [
    "next(infinite_sequence)"
   ]
  }
 ],
 "metadata": {
  "kernelspec": {
   "display_name": "Python 3 (ipykernel)",
   "language": "python",
   "name": "python3"
  },
  "language_info": {
   "codemirror_mode": {
    "name": "ipython",
    "version": 3
   },
   "file_extension": ".py",
   "mimetype": "text/x-python",
   "name": "python",
   "nbconvert_exporter": "python",
   "pygments_lexer": "ipython3",
   "version": "3.12.1"
  }
 },
 "nbformat": 4,
 "nbformat_minor": 5
}
